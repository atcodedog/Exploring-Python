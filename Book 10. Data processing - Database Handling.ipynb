{
 "cells": [
  {
   "cell_type": "markdown",
   "metadata": {},
   "source": [
    "<h1>Book 10. Data processing - Database Handling</h1><hr>"
   ]
  },
  {
   "cell_type": "markdown",
   "metadata": {},
   "source": [
    "Most of the data on numerous websites and applications are managed on database. Database are storage framework which can store structured data and unstructured data.\n",
    "\n",
    "<b>Structured data</b>: Data is stored and handled on tables<br>\n",
    "<b>Un-Structured data</b>: Data is stored and handled on typically text-heavy format files\n",
    "\n",
    "Initially only structured data format was used to handle data. But it failed to handle huge amount generic data. Hence as a way to handle it, unstructured data format was engineered.\n",
    "\n",
    "Lets start with <b>Structured data format</b>. A very specfic language <b>SQL</b>(Structured Query Language) is used to handle tables.\n",
    "\n",
    "Type of SQL statements\n",
    "<ul>\n",
    "    <li><b>DDL</b> (data definition language):<br>\n",
    "    Hanles creation, deletion, constraints and permissions for tables, database and others<br><br></li>\n",
    "    <li><b>DML</b> (data manipulation language):<br>\n",
    "    <ul>\n",
    "        <li><b>C</b>reate entries by INSERT</li>\n",
    "        <li><b>R</b>ead entries  by using SELECT</li>\n",
    "        <li><b>U</b>pdate entries  by using UPDATE</li>\n",
    "        <li><b>D</b>elete entries  by using DELETE</li>\n",
    "    </ul></li>\n",
    "</ul>\n",
    "\n",
    "<span style='color:green'>Lets start exploring Structured Database operations using Python :)</span>\n",
    "\n",
    "We will be using <b>SQLite</b> Database Management System package in our next steps. Download and install <b>DB Browser for SQLite</b> if you wish to follow the steps.\n",
    "\n",
    "<b>DB Browser for SQLite</b> download link: https://sqlitebrowser.org/\n",
    "\n",
    "After installing and running it you should get a starter window like below\n",
    "\n",
    "<img src=\"https://image.ibb.co/ee1as9/db_browser1.png\" alt=\"db browser1\" width=\"900\" border=\"0\" />\n",
    "\n",
    "Click on <b>New Database</b> to create a new database\n",
    "\n",
    "<img src=\"https://image.ibb.co/eeR8C9/db_browser2.png\" alt=\"db_browser2\" border=\"0\">\n",
    "\n",
    "It will prompt to choose a location to save your database. \n",
    "\n",
    "Like before, We will be creating a folder where books are present(refer below image). I am naming mine <b>database_handling</b> you are free to name yours by your choice. But please do use underscore(&#95;) in place of space, to reduce execution errors.\n",
    "\n",
    "<img src=\"https://image.ibb.co/jM075U/file_directory_db.png\" alt=\"file_directory_db\" border=\"0\">\n",
    "\n",
    "<span style='color:red'>Note: If you are using the same folder. Clear the folder before using it.</span>\n",
    "\n",
    "Lets name the database <b>my_db</b>\n",
    "\n",
    "Once the database is created it will prompt a window. Since we will be handling the database from python. Do not do anything and close all the windows. "
   ]
  },
  {
   "cell_type": "code",
   "execution_count": 5,
   "metadata": {},
   "outputs": [],
   "source": [
    "import sqlite3"
   ]
  },
  {
   "cell_type": "markdown",
   "metadata": {},
   "source": [
    "We need to import <b>sqlite3</b> package to work SQLite"
   ]
  },
  {
   "cell_type": "code",
   "execution_count": 22,
   "metadata": {},
   "outputs": [],
   "source": [
    "connection = sqlite3.connect('database_handling\\my_db.db')"
   ]
  },
  {
   "cell_type": "markdown",
   "metadata": {},
   "source": [
    "By using <b>sqlite3.connect(</b>target database<b>)</b> we can connect to a existing database"
   ]
  },
  {
   "cell_type": "code",
   "execution_count": 23,
   "metadata": {},
   "outputs": [],
   "source": [
    "database_cursor = connection.cursor()"
   ]
  },
  {
   "cell_type": "markdown",
   "metadata": {},
   "source": [
    "<b>connection.cursor()</b> sets a cursor object which can used to run SQL"
   ]
  },
  {
   "cell_type": "code",
   "execution_count": 24,
   "metadata": {},
   "outputs": [
    {
     "data": {
      "text/plain": [
       "<sqlite3.Cursor at 0x54ddc00>"
      ]
     },
     "execution_count": 24,
     "metadata": {},
     "output_type": "execute_result"
    }
   ],
   "source": [
    "database_cursor.execute('''CREATE TABLE PhoneBook (Id INT PRIMARY KEY, Name VARCHAR(20), PhoneNumber VARCHAR(20))''')"
   ]
  },
  {
   "cell_type": "markdown",
   "metadata": {},
   "source": [
    "Query can be executed by using <b>cursor.execute(</b>\"'query\"'<b>)</b>\n",
    "\n",
    "<b>CREATE TABLE</b> table_name<b>(</b>attribute_name type, attribute_name type,... <b>)</b> is used to create a new table in the database.\n",
    "\n",
    "SQL is not case sensitive"
   ]
  },
  {
   "cell_type": "code",
   "execution_count": 30,
   "metadata": {},
   "outputs": [
    {
     "data": {
      "text/plain": [
       "<sqlite3.Cursor at 0x54ddc00>"
      ]
     },
     "execution_count": 30,
     "metadata": {},
     "output_type": "execute_result"
    }
   ],
   "source": [
    "database_cursor.execute('''INSERT  INTO PhoneBook VALUES (1,\"Tony\",9876543210)''')"
   ]
  },
  {
   "cell_type": "markdown",
   "metadata": {},
   "source": [
    "<b>INSERT  INTO</b> table_name <b>VALUES (</b>Values<b>)</b> is used to insert an entry into the table. The values passed should match the columns of the table."
   ]
  },
  {
   "cell_type": "code",
   "execution_count": 32,
   "metadata": {},
   "outputs": [
    {
     "data": {
      "text/plain": [
       "<sqlite3.Cursor at 0x54ddc00>"
      ]
     },
     "execution_count": 32,
     "metadata": {},
     "output_type": "execute_result"
    }
   ],
   "source": [
    "database_cursor.execute('''INSERT  INTO PhoneBook VALUES (2,\"Max\",9876543333)''')"
   ]
  },
  {
   "cell_type": "code",
   "execution_count": 33,
   "metadata": {},
   "outputs": [
    {
     "data": {
      "text/plain": [
       "<sqlite3.Cursor at 0x54ddc00>"
      ]
     },
     "execution_count": 33,
     "metadata": {},
     "output_type": "execute_result"
    }
   ],
   "source": [
    "ins = 'INSERT INTO PhoneBook(Id, Name, PhoneNumber) VALUES(?, ?, ?)' # inserting data using place holders\n",
    "database_cursor.execute(ins, (3,'Sal',999876543))"
   ]
  },
  {
   "cell_type": "code",
   "execution_count": 42,
   "metadata": {},
   "outputs": [
    {
     "data": {
      "text/plain": [
       "<sqlite3.Cursor at 0x54ddc00>"
      ]
     },
     "execution_count": 42,
     "metadata": {},
     "output_type": "execute_result"
    }
   ],
   "source": [
    "database_cursor.execute('''SELECT * FROM PhoneBook''')"
   ]
  },
  {
   "cell_type": "markdown",
   "metadata": {},
   "source": [
    "<b>SELECT * FROM</b> table_name\n",
    "\n",
    "gets all the existing entries from entry "
   ]
  },
  {
   "cell_type": "code",
   "execution_count": 43,
   "metadata": {},
   "outputs": [],
   "source": [
    "rows = database_cursor.fetchall()"
   ]
  },
  {
   "cell_type": "markdown",
   "metadata": {},
   "source": [
    "<b>database_cursor.fetchall()</b> fetchs all the entries and stores in var <b>rows</b>\n",
    "\n",
    "Now lets print it"
   ]
  },
  {
   "cell_type": "code",
   "execution_count": 44,
   "metadata": {},
   "outputs": [
    {
     "name": "stdout",
     "output_type": "stream",
     "text": [
      "[(1, 'Tony', '9876543210'), (2, 'Max', '9876543333'), (3, 'Sal', '999876543')]\n"
     ]
    }
   ],
   "source": [
    "print(rows)"
   ]
  },
  {
   "cell_type": "code",
   "execution_count": 46,
   "metadata": {},
   "outputs": [
    {
     "data": {
      "text/plain": [
       "[(2, 'Max', '9876543333'), (3, 'Sal', '999876543'), (1, 'Tony', '9876543210')]"
      ]
     },
     "execution_count": 46,
     "metadata": {},
     "output_type": "execute_result"
    }
   ],
   "source": [
    "database_cursor.execute('''SELECT * FROM PhoneBook ORDER BY Name''') # fetch by descending order of count\n",
    "database_cursor.fetchall()"
   ]
  },
  {
   "cell_type": "markdown",
   "metadata": {},
   "source": [
    "<b>ORDER BY</b> sorts the entries in ascending order. In the above its sorted in alphabet ascending order of Name."
   ]
  },
  {
   "cell_type": "code",
   "execution_count": 47,
   "metadata": {},
   "outputs": [],
   "source": [
    "database_cursor.close()"
   ]
  },
  {
   "cell_type": "markdown",
   "metadata": {},
   "source": [
    "Use <b>.close()</b> to close the cursor created for database\n",
    "\n",
    "Once the cursor is closed. Lets close the database connection."
   ]
  },
  {
   "cell_type": "code",
   "execution_count": 48,
   "metadata": {},
   "outputs": [],
   "source": [
    "connection.close() # closing the db connection"
   ]
  },
  {
   "cell_type": "markdown",
   "metadata": {},
   "source": [
    "<hr>\n",
    "<b>Other SQL flavours and its modules</b>\n",
    "\n",
    "<ul>\n",
    "    <li><b>MySQL</b><br>https://dev.mysql.com/doc/connector-python/en/connector-python-example-connecting.html<br><br></li>\n",
    "    <li><b>PostgreSQL</b><br>http://initd.org/psycopg/docs/usage.html#passing-parameters-to-sql-queries</li>\n",
    "</ul>"
   ]
  },
  {
   "cell_type": "markdown",
   "metadata": {},
   "source": [
    "<hr>\n",
    "<b>Other Database Format</b>"
   ]
  },
  {
   "cell_type": "markdown",
   "metadata": {},
   "source": [
    "<center><h3>NoSQL</h3></center>\n",
    "<table>\n",
    "    <tr>\n",
    "        <th>Flavour</th>\n",
    "        <th>Python API</th>\n",
    "    </tr>\n",
    "    <tr>\n",
    "        <td>Cassanda</td>\n",
    "        <td>pycassa</td>\n",
    "    </tr>\n",
    "     <tr>\n",
    "        <td>CouchDB</td>\n",
    "        <td>couchdb-python</td>\n",
    "    </tr>\n",
    "     <tr>\n",
    "        <td>HBase</td>\n",
    "        <td>happybase</td>\n",
    "    </tr>\n",
    "     <tr>\n",
    "        <td>Kyoto Cabinet</td>\n",
    "        <td>kyotocabinet</td>\n",
    "    </tr>\n",
    "     <tr>\n",
    "        <td>MongoDB</td>\n",
    "        <td>mongodb</td>\n",
    "    </tr>\n",
    "     <tr>\n",
    "        <td>Riak</td>\n",
    "        <td>riak-python-client</td>\n",
    "    </tr>\n",
    "</table><br><br>"
   ]
  },
  {
   "cell_type": "markdown",
   "metadata": {},
   "source": [
    "<hr>\n",
    "<center><h3>Full-Text Databases</h3></center>\n",
    "<table>\n",
    "    <tr>\n",
    "        <th>Lucene</th>\n",
    "        <th>pylucene</th>\n",
    "    </tr>\n",
    "    <tr>\n",
    "        <td>Solr</td>\n",
    "        <td>SolPython</td>\n",
    "    </tr>\n",
    "     <tr>\n",
    "        <td>ElasticSearch</td>\n",
    "        <td>pyes</td>\n",
    "    </tr>\n",
    "     <tr>\n",
    "        <td>Sphinx</td>\n",
    "        <td>sphinxapi</td>\n",
    "    </tr>\n",
    "     <tr>\n",
    "        <td>Xapian</td>\n",
    "        <td>xappy</td>\n",
    "    </tr>\n",
    "     <tr>\n",
    "        <td>Whoosh</td>\n",
    "        <td>(written in Python, includes an API)</td>\n",
    "    </tr>\n",
    "</table>"
   ]
  },
  {
   "cell_type": "markdown",
   "metadata": {},
   "source": [
    "<br><br>\n",
    "<center><h2>End of Book</h2></center>"
   ]
  },
  {
   "cell_type": "markdown",
   "metadata": {},
   "source": [
    "<hr>\n",
    "<h3><b>Next book :</b> Book 0.1. Zen of Python</h3>\n",
    "\n",
    "https://github.com/atcodedog \n",
    "\n",
    "<b><a href='index.html'>Back Home</a></b>\n",
    "<hr>"
   ]
  },
  {
   "cell_type": "markdown",
   "metadata": {},
   "source": [
    "Source from atcodedog git repo\n",
    "\n",
    "Find more on\n",
    "\n",
    "https://github.com/atcodedog\n",
    "\n",
    "http://www.atcodedog.com\n",
    "\n",
    "Follow us on\n",
    "\n",
    "https://twitter.com/atcodedog"
   ]
  }
 ],
 "metadata": {
  "kernelspec": {
   "display_name": "Python [default]",
   "language": "python",
   "name": "python3"
  },
  "language_info": {
   "codemirror_mode": {
    "name": "ipython",
    "version": 3
   },
   "file_extension": ".py",
   "mimetype": "text/x-python",
   "name": "python",
   "nbconvert_exporter": "python",
   "pygments_lexer": "ipython3",
   "version": "3.5.5"
  }
 },
 "nbformat": 4,
 "nbformat_minor": 2
}
