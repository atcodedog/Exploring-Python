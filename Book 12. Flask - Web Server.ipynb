{
 "cells": [
  {
   "cell_type": "markdown",
   "metadata": {},
   "source": [
    "<h1>Book 12. Flask - Web Server</h1><hr>"
   ]
  },
  {
   "cell_type": "markdown",
   "metadata": {},
   "source": [
    "Web Servers are programs that renders dynamic web pages.\n",
    "\n",
    "And <b>Flask</b> is one of the well known web server framework\n",
    "\n",
    "Now lets go ahead and create a web server\n",
    "\n",
    "Install <b>Flask</b> package by\n",
    "    \n",
    "$ <b>pip install flask</b> (python installer)\n",
    "\n",
    "$ <b>conda install flask</b> (anaconda)\n",
    "\n",
    "Now lets start by importing <b>Flask</b>"
   ]
  },
  {
   "cell_type": "code",
   "execution_count": 1,
   "metadata": {},
   "outputs": [
    {
     "name": "stderr",
     "output_type": "stream",
     "text": [
      " * Running on http://127.0.0.1:5000/ (Press CTRL+C to quit)\n",
      "127.0.0.1 - - [08/Sep/2018 23:23:46] \"GET / HTTP/1.1\" 200 -\n",
      "127.0.0.1 - - [08/Sep/2018 23:23:51] \"GET /name/atcodedog HTTP/1.1\" 200 -\n"
     ]
    }
   ],
   "source": [
    "from flask import Flask\n",
    "app = Flask(__name__) # initializing a Flask app\n",
    "\n",
    "\n",
    "@app.route('/') # ouptut at root path\n",
    "def hello():\n",
    "    return \"Hello there I am Flask\"\n",
    "\n",
    "\n",
    "@app.route('/name/<name>') # ouptut at name path\n",
    "def hello_name(name):\n",
    "    return \"Hello {}, I am Flask !\".format(name)\n",
    "\n",
    "if __name__ == '__main__':\n",
    "    app.run()"
   ]
  },
  {
   "cell_type": "markdown",
   "metadata": {},
   "source": [
    "Running the code runs a server on http://127.0.0.1:5000 (Note: ip address might change). The piece of code stays in execution and keeps the server running.\n",
    "\n",
    "<b>root path</b>: http://127.0.0.1:5000 renders the page with content \"Hello there I am Flask\"\n",
    "\n",
    "<b>name path</b>: http://127.0.0.1:5000/name/atcodedog takes the data <b>name</b> and passes into the function. And renders \"Hello {name}, I am Flask !\" as the content.\n",
    "\n",
    "Since the piece of code stays in execution you might have to manually interupt the kernel for futher use. Hence Visual Studio Code is best suitable to run the code and keep each server running. "
   ]
  },
  {
   "cell_type": "markdown",
   "metadata": {},
   "source": [
    "<hr>\n",
    "Web servers are a huge domain on itself. We have just touched the surface.\n",
    "\n",
    "<b>Other most used web server frameworks</b>\n",
    "\n",
    "<ul>\n",
    "    <li>django</li>\n",
    "    <li>web2py</li>\n",
    "    <li>pyramid</li>\n",
    "    <li>turbogears</li>\n",
    "    <li>wheezy.web</li>\n",
    "</ul>"
   ]
  },
  {
   "cell_type": "markdown",
   "metadata": {},
   "source": [
    "<br><br>\n",
    "<span style='color:green'>Thats the end of this journey.</span>\n",
    "    \n",
    "<span style='color:green'>Congrats to you guys for completing this jounery with us.</span>\n",
    "    \n",
    "<span style='color:green'>Thank you guys for staying with us, cya catch ya later on another exiting exploration journey :)</span>"
   ]
  },
  {
   "cell_type": "markdown",
   "metadata": {},
   "source": [
    "<br><br>\n",
    "<center><h2>End of Book</h2></center>"
   ]
  },
  {
   "cell_type": "markdown",
   "metadata": {},
   "source": [
    "<hr>\n",
    "<h3>End of Journey</h3>\n",
    "\n",
    "<b><a href='index.html'>Back Home</a></b>\n",
    "<hr>"
   ]
  },
  {
   "cell_type": "markdown",
   "metadata": {},
   "source": [
    "Source from atcodedog git repo\n",
    "\n",
    "Find more on\n",
    "\n",
    "https://github.com/atcodedog\n",
    "\n",
    "http://www.atcodedog.com\n",
    "\n",
    "Follow us on\n",
    "\n",
    "https://twitter.com/atcodedog"
   ]
  }
 ],
 "metadata": {
  "kernelspec": {
   "display_name": "Python 3",
   "language": "python",
   "name": "python3"
  },
  "language_info": {
   "codemirror_mode": {
    "name": "ipython",
    "version": 3
   },
   "file_extension": ".py",
   "mimetype": "text/x-python",
   "name": "python",
   "nbconvert_exporter": "python",
   "pygments_lexer": "ipython3",
   "version": "3.6.4"
  }
 },
 "nbformat": 4,
 "nbformat_minor": 2
}
