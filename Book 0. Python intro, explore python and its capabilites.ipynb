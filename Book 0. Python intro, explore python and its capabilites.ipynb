{
 "cells": [
  {
   "cell_type": "markdown",
   "metadata": {},
   "source": [
    "<h1>Book 0. Python intro, explore python and its capabilites</h1><hr>"
   ]
  },
  {
   "cell_type": "markdown",
   "metadata": {},
   "source": [
    "Hi guys, we are <b>atcodedog</b> your host.\n",
    "\n",
    "<span style='color:red'>Internet connection highly recommended for exploring the books effectively</span>\n",
    "\n",
    "<span style='color:green'>Hmm, before staring with python. And throwing ourselves into action. Let's warm up a little bit !!</span>\n",
    "\n",
    "Okay, here goes!"
   ]
  },
  {
   "cell_type": "markdown",
   "metadata": {},
   "source": [
    "<b>Chatbots are leading the digitalization of the human interaction!</b>\n",
    "\n",
    "It is near to impossible to without hearing about <b>Alexa</b>, <b>Siri</b> and <b>Google assistant</b>.Yes, these are your voice assistants, how can we not know about them.Have you ever wondered on what technology they work on? Yes, some of you might have an answer as NLP(natural language process) or something similar.All chatbots are easy to write in Python with the use of AIML — Artificial Intelligence Markup Language. AIML is actually a form of XML(eXtensible  Markup Language) for creating natural language software agents.\n",
    "\n",
    "Know more about chatbot: https://en.wikipedia.org/wiki/Chatbot\n",
    "\n",
    "Want to explore some more on AIML? :https://en.wikipedia.org/wiki/AIML\n",
    "\n",
    "Know more about XML : https://en.wikipedia.org/wiki/XML\n",
    "\n",
    "<b>Python is recognized as an official language at Google!!!</b>\n",
    "\n",
    "And true, it is really hard not to have been noticed that Google claiming all its new applications/new version of applications uses machine learning/artificial intelligence for something.\n",
    "\n",
    "And Google had announced that their <b>Google Photos</b> application can group photos according to scenery, occasion or even people in it by use of Image recognition.\n",
    "\n",
    "Since Android is an OS by Google. We would have heard these things a lot :) !!\n",
    "\n",
    "A source to explore more on google and python relationship: https://quintagroup.com/cms/python/google\n",
    "\n",
    "If we speak about different fascinating things in the industry which <b>Data Science</b> has made it possible. We can speak for hours :) !!\n",
    "\n",
    "Hence enough of that, we will jump into the next segment! Ready for it?"
   ]
  },
  {
   "cell_type": "markdown",
   "metadata": {},
   "source": [
    "<hr>"
   ]
  },
  {
   "cell_type": "markdown",
   "metadata": {},
   "source": [
    "Let me put down some very commonly heard buzzwords!\n",
    "\n",
    "<b>With current high popularity</b>: Artifical Intelligence, Voice assistants, Chat Bots, Self Driving cars, Machine learning, Deep learning etc....\n",
    "\n",
    "<b>With high popularity previously</b>: Big Data, Hadoop, Cloud etc....\n",
    "\n",
    "Okay, When you hear the above buzzwords with current high popularity. And if you have some technical background knowledge about it. I am sure you would have heard of programming language <b>Python</b> & <b>R</b>!\n",
    "\n",
    "Yes your hunch is correct, we will be covering python in this set of books:)\n",
    "\n",
    "Buzzwords with current high popularity can be grouped together under <b>Data Science</b>\n",
    "\n",
    "So, what is <b>Data Science</b>?\n",
    "\n",
    "<b>Data science</b> is an interdisciplinary field that uses scientific methods, processes, algorithms and systems to extract knowledge and insights from data in various forms, both structured and unstructured, similar to data mining.\n",
    "\n",
    "A source from wiki: https://en.wikipedia.org/wiki/Data_science\n",
    "\n",
    "So why were <b>R</b> and <b>Python</b> chosen for Data Science among all other languages?\n",
    "\n",
    "<b>R</b> is a programming language and free software environment for statistical computing and graphics that is supported by the R Foundation for Statistical Computing. The R language is widely used among statisticians and data miners for developing statistical software and data analysis.\n",
    "\n",
    "A source from wiki: https://en.wikipedia.org/wiki/R_%28programming_language%29\n",
    "\n",
    "If Data Science workly majorly with Statistics and Computer science. Is'nt <b>R</b> a perfect fit ?!However, why is python gaining more popularity ?!\n",
    "\n",
    "<b>Python</b> was never designed as a statistical significant language, how is it gaining more popularity ?!\n",
    "\n",
    "<span style='color:green'>Let's learn more about python, before trying to answer that question!:)</span>\n",
    "\n",
    "<b>Python</b> is an interpreted high-level programming language for general-purpose programming. Created by <b>Guido van Rossum</b> and first released in 1991, Python has a design philosophy that emphasizes code readability, notably using significant whitespace. It provides constructs that enable clear programming on both small and large scales.\n",
    "\n",
    "<span style='color:green'>In general terms, python is a simple, flexible and general purpose language.</span>\n",
    "\n",
    "Initially(before data science came into picture) Python had support for \n",
    "<ul>\n",
    "    <li>Graphical User Interface</li>\n",
    "    <li>Web Scraping</li>\n",
    "    <li>Image processing</li>\n",
    "    <li>Web servers</li>\n",
    "    Much more...\n",
    "</ul>\n",
    "\n",
    "Even though <b>R</b> has a higher statistical significance compared to other languages. It is a bit hard to catch up with, for beginners. And had limitation while extending to general purposes.\n",
    "\n",
    "<span style='color:green'>On the other hand, python is relatively easy to learn compared to any other languages.</span>\n",
    "\n",
    "<span style='color:green'>Python is simple, flexible and supports multiple general purposes.</span>\n",
    "\n",
    "Even though python did not have the capability to support high statistical significance and efficiency, Because of its simple code style, People started writing Packages/Libraries that can support statistics at high significance and efficiency.\n",
    "\n",
    "<span style='color:green'>Upon this growth of python, people started writing Packages/Libraries that can support different significant platforms!</span>\n",
    "\n",
    "Read about article \"The Incredible Growth of Python\" : https://stackoverflow.blog/2017/09/06/incredible-growth-python/\n",
    "\n",
    "<b>Big Data</b> is one of them. <b>Java</b> was the previously prefered language for Big Data. But now <b>Python</b> is becoming more prefered by developers. <b>Hadoop</b> is supported by python. And even <b>Apache Spark</b> has a python flavour <b>PySpark</b>\n",
    "\n",
    "Know more about Big Data and python relationship: https://www.newgenapps.com/blog/python-for-big-data-science-projects-benefit-uses \n",
    "\n",
    "Even in the place of <b>Web Servers</b> where <b>NodeJS</b> is in a hot spot right now. <b>Python</b> also has it's own webservers framework Flask, Django etc. Which also has a pretty good popularity and preference.\n",
    "\n",
    "<span style='color:green'>There is lot more. We have just scratched the surface.</span>\n",
    "\n",
    "<span style='color:green'>Hmm, Yup by now you would have a grasp that python is something very simple and flexible. And at the same time has a lot of capabilities.</span>\n",
    "\n",
    "As of March 2018, the Python Package Index (PyPI), the official repository for third-party Python software, contains over 130,000 packages with a wide range of functionality, including:\n",
    "\n",
    "<pre>\n",
    "Graphical user interfaces\n",
    "Web frameworks\n",
    "Multimedia\n",
    "Databases\n",
    "Networking\n",
    "Test frameworks\n",
    "Automation\n",
    "Web scraping\n",
    "Documentation\n",
    "System administration\n",
    "Scientific computing\n",
    "Text processing\n",
    "Image processing\n",
    "</pre>\n",
    "\n",
    "Source from wiki : https://en.wikipedia.org/wiki/Python_%28programming_language%29\n",
    "\n",
    "<span style='color:green'>Let’s take a look at major features of python programming language that give you reasons why you should learn Python</span>\n",
    "\n",
    "<pre>\n",
    "Easy-to-learn\n",
    "Easy-to-read \n",
    "Easy-to-maintain \n",
    "A broad standard library \n",
    "Interactive Mode\n",
    "Portable \n",
    "Extendable \n",
    "Databases\n",
    "GUI Programming \n",
    "Scalable\n",
    "</pre>\n",
    "Explore more on python's features:https://wiki.python.org/moin/BeginnersGuide/Overview"
   ]
  },
  {
   "cell_type": "markdown",
   "metadata": {},
   "source": [
    "<hr>"
   ]
  },
  {
   "cell_type": "markdown",
   "metadata": {},
   "source": [
    "Would you expect to be good at basketball if you’ve never learned how to shoot properly? Would you expect to know how to perform a Grade 4 piece of music if you didn’t know the music notes on your instrument? \n",
    "\n",
    "What I'm trying to convince you guys is, <b>Learning the fundamentals/basics</b> to any activity is expected, and the only way to improve is to isolate yourself, your action, and your mind on one thing before combining it with something else. "
   ]
  },
  {
   "cell_type": "markdown",
   "metadata": {},
   "source": [
    "So guys, are you all curious to explore more about python fundamentals? yo! here we go;)\n"
   ]
  },
  {
   "cell_type": "markdown",
   "metadata": {},
   "source": [
    "<b>Python</b> is a high-level, interpreted, interactive and object-oriented scripting language. Python is designed to be highly readable. It uses English keywords frequently where as other languages use punctuation, and it has fewer syntactical constructions than other languages."
   ]
  },
  {
   "cell_type": "markdown",
   "metadata": {},
   "source": [
    "\"A people without the knowledge of their past history, origin and culture is like a tree without roots\", Do you guys agree with this quote? Then let's not delay to know about python's history!\n",
    "\n",
    "Python was conceived in the late 1980s, and its implementation began in December 1989 by Guido van Rossum at Centrum Wiskunde & Informatica (CWI) in the Netherlands as a successor to the ABC language (itself inspired by SETL) capable of exception handling and interfacing with the Amoeba operating system. Van Rossum remains Python's principal author. His continuing central role in Python's development is reflected in the title given to him by the Python community: Benevolent Dictator For Life (BDFL) – a post from which he gave himself permanent vacation on July 12, 2018.\n",
    "Python is derived from many other languages, including ABC, Modula-3, C, C++, Algol-68, SmallTalk, and Unix shell and other scripting languages.\n",
    "\n",
    "Explore more on python's history:https://en.wikipedia.org/wiki/History_of_Python"
   ]
  },
  {
   "cell_type": "markdown",
   "metadata": {},
   "source": [
    "Read an Article \"6 Reasons Why Python Is Suddenly Super Popular\" : https://www.kdnuggets.com/2017/07/6-reasons-python-suddenly-super-popular.html"
   ]
  },
  {
   "cell_type": "markdown",
   "metadata": {},
   "source": [
    "<span style='color:red'>Ok with all that. But why is python called Python? Is it somewhere related to snakes ?</span>\n",
    "\n",
    "Here is what <b>python.org</b> has to say\n",
    "    \n",
    "<span style='color:green'>\"When he began implementing Python, Guido van Rossum was also reading the published scripts from “Monty Python’s Flying Circus”, a BBC comedy series from the 1970s. Van Rossum thought he needed a name that was short, unique, and slightly mysterious, so he decided to call the language Python.\"</span>\n",
    "\n",
    "Know more about Monty Python : https://en.wikipedia.org/wiki/Monty_Python\n",
    "\n",
    "Know more about Monty Python's Flying Circus : https://en.wikipedia.org/wiki/Monty_Python%27s_Flying_Circus\n",
    "\n",
    "Monty Python's Flying Circus is available on YouTube find the link below for the series\n",
    "\n",
    "https://www.youtube.com/watch?v=qXd3Sy7BY90"
   ]
  },
  {
   "cell_type": "markdown",
   "metadata": {},
   "source": [
    "Why was python created in the first place? (check out few questions answered by python.org)\n",
    "https://docs.python.org/2/faq/general.html#why-was-python-created-in-the-first-place\n",
    "\n",
    "Check the same page for more Q & A's answered by python.org"
   ]
  },
  {
   "cell_type": "markdown",
   "metadata": {},
   "source": [
    "<hr>"
   ]
  },
  {
   "cell_type": "markdown",
   "metadata": {},
   "source": [
    "<span style='color:green'><b>Python varies from few programming language concepts compared to other languages to maintain it's flexibility</b></span>"
   ]
  },
  {
   "cell_type": "markdown",
   "metadata": {},
   "source": [
    "<span style='color:green'>Good Luck, and Happy exploring :)</span>"
   ]
  },
  {
   "cell_type": "markdown",
   "metadata": {},
   "source": [
    "<br><br>\n",
    "<center><h2>End of Book</h2></center>"
   ]
  },
  {
   "cell_type": "markdown",
   "metadata": {},
   "source": [
    "<hr>\n",
    "<h3><b>Next book :</b> Book 0.1. Zen of Python</h3>\n",
    "\n",
    "https://github.com/atcodedog \n",
    "\n",
    "<b><a href='index.html'>Back Home</a></b>\n",
    "<hr>"
   ]
  },
  {
   "cell_type": "markdown",
   "metadata": {},
   "source": [
    "Source from atcodedog git repo\n",
    "\n",
    "Find more on\n",
    "\n",
    "https://github.com/atcodedog\n",
    "\n",
    "http://www.atcodedog.com\n",
    "\n",
    "Follow us on\n",
    "\n",
    "https://twitter.com/atcodedog"
   ]
  }
 ],
 "metadata": {
  "kernelspec": {
   "display_name": "Python 3",
   "language": "python",
   "name": "python3"
  },
  "language_info": {
   "codemirror_mode": {
    "name": "ipython",
    "version": 3
   },
   "file_extension": ".py",
   "mimetype": "text/x-python",
   "name": "python",
   "nbconvert_exporter": "python",
   "pygments_lexer": "ipython3",
   "version": "3.5.5"
  }
 },
 "nbformat": 4,
 "nbformat_minor": 2
}
