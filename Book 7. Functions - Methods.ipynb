{
 "cells": [
  {
   "cell_type": "markdown",
   "metadata": {},
   "source": [
    "<h1>Book 7. Functions - Methods</h1><hr>"
   ]
  },
  {
   "cell_type": "markdown",
   "metadata": {},
   "source": [
    "Sometimes it happens that you might want to reuse a piece of code which was previously used.\n",
    "\n",
    "<span style='color:green'>So generally what you would do is copy and paste the code in the specific place each time, which is very time consuming both on coding time and computation time.</span> \n",
    "\n",
    "An advantage of using functions is that both coding and computation time time is reduced. \n",
    "\n",
    "<span style='color:green'>To reduce this burden. Programming languages generally have a concepts called <b>Function/Methods</b>.</span>\n",
    "\n",
    "What is<b> Function/Methods</b>?\n",
    "\n",
    "<b>Functions/Methods</b> is a block of organized, reusable code that is used to perform a single, related action. Functions provide better modularity for your application and a high degree of code reusing.\n",
    "\n",
    "All programming functions have input and output. The function contains instructions used to create the output from its input.\n",
    "\n",
    "Explore more about functions: https://en.wikipedia.org/wiki/Function_%28mathematics%29\n",
    " \n",
    " https://en.wikipedia.org/wiki/Function_%28computer_science%29\n",
    "\n",
    "\n",
    "                            \n",
    "Let's see how it is used in <b>Python</b>.\n",
    "\n"
   ]
  },
  {
   "cell_type": "markdown",
   "metadata": {},
   "source": [
    "Python gives you many built-in functions like print(), etc. but you can also create your own functions. These functions are called <b>user-defined functions</b>.\n",
    "\n",
    "Explore more on built-in functions : https://docs.python.org/3/library/functions.html\n",
    "\n"
   ]
  },
  {
   "cell_type": "markdown",
   "metadata": {},
   "source": [
    "\n",
    "<b>Defining a function</b>\n",
    "\n",
    "\n",
    "You can define functions to provide the required functionality. Here are simple rules to define a function in Python.\n",
    "\n",
    "* Function blocks begin with the keyword <b>def</b> followed by the function name and parentheses <b>( )</b> .\n",
    "\n",
    "* Any input parameters or arguments should be placed within these parentheses. You can also define parameters inside these parentheses.\n",
    "\n",
    "* The first statement of a function can be an optional statement - the documentation string of the function or docstring.\n",
    "\n",
    "* The code block within every function starts with a colon <b>:</b> and is <b>indented</b>.\n",
    "\n",
    "* The statement return [expression] exits a function, optionally passing back an expression to the caller. A return statement with no arguments is the same as return None."
   ]
  },
  {
   "cell_type": "code",
   "execution_count": 1,
   "metadata": {},
   "outputs": [],
   "source": [
    "def greet_me(): # basic function with no passing parameters and no return values\n",
    "    print('Hi Hello There!! I am Python a really simple, flexible and general purpose language. Enjoy learning more about me through atcodedog:)')"
   ]
  },
  {
   "cell_type": "code",
   "execution_count": 2,
   "metadata": {},
   "outputs": [
    {
     "name": "stdout",
     "output_type": "stream",
     "text": [
      "Hi Hello There!! I am Python a really simple, flexible and general purpose language. Enjoy learning more about me through atcodedog:)\n"
     ]
    }
   ],
   "source": [
    "# now lets call the function we just created\n",
    "greet_me()"
   ]
  },
  {
   "cell_type": "markdown",
   "metadata": {},
   "source": [
    "Here <b>greet_me()</b> is the method defined by using keyword <b>def</b>"
   ]
  },
  {
   "cell_type": "markdown",
   "metadata": {},
   "source": [
    "<div style='background-color:WhiteSmoke;padding:15px'>\n",
    "<b><u>Format</u></b>\n",
    "<br><br>\n",
    "    <b>def</b> method_name():<br>\n",
    "    &emsp;block that gets executed when the method is called\n",
    "</div>"
   ]
  },
  {
   "cell_type": "markdown",
   "metadata": {},
   "source": [
    "<span style='color:red'>Note: Python is a highly indentation sensitive language. Where other languages used brackets { } to denote body python uses <b>indentation</b></span>\n",
    "\n",
    "Lets try some senarios"
   ]
  },
  {
   "cell_type": "code",
   "execution_count": 5,
   "metadata": {},
   "outputs": [
    {
     "name": "stdout",
     "output_type": "stream",
     "text": [
      "True\n"
     ]
    }
   ],
   "source": [
    "def i_always_agree(): # function with return value\n",
    "    return True\n",
    "print(i_always_agree())"
   ]
  },
  {
   "cell_type": "markdown",
   "metadata": {},
   "source": [
    "Methods have the capability of return value when called. Here <b>i_always_agree()</b> is a method will returns True(type:boolean)"
   ]
  },
  {
   "cell_type": "markdown",
   "metadata": {},
   "source": [
    "<div style='background-color:WhiteSmoke;padding:15px'>\n",
    "<b><u>Format</u></b>\n",
    "<br><br>\n",
    "    <b>def</b> method_name():<br>\n",
    "    &emsp;block that gets executed when the method is called<br>\n",
    "    &emsp;<b>return</b> values that needs to be returned [expression]\n",
    "</div>"
   ]
  },
  {
   "cell_type": "markdown",
   "metadata": {},
   "source": [
    "Let's go ahead and use it in a senario."
   ]
  },
  {
   "cell_type": "code",
   "execution_count": 6,
   "metadata": {},
   "outputs": [
    {
     "name": "stdout",
     "output_type": "stream",
     "text": [
      "Splendid\n"
     ]
    }
   ],
   "source": [
    "if i_always_agree(): # using agree function in if  else block\n",
    "    print('Splendid')\n",
    "else:\n",
    "    print('That was unexpected')"
   ]
  },
  {
   "cell_type": "markdown",
   "metadata": {},
   "source": [
    "Thats great :)\n",
    "\n",
    "Let's go ahead and create a method with more return statements and values. "
   ]
  },
  {
   "cell_type": "markdown",
   "metadata": {},
   "source": [
    "<b>Calling a function</b>\n",
    "\n",
    "Defining a function gives it a name, specifies the parameters that are to be included in the function (i,e ones that needs to passed and also ones that needs to be returned) and structures the blocks of code.\n",
    "\n",
    "Once the basic structure of a function is finalized, you can execute it by calling it from another function or directly from the Python prompt."
   ]
  },
  {
   "cell_type": "code",
   "execution_count": 7,
   "metadata": {},
   "outputs": [],
   "source": [
    "def commentary(title): # passing arguments\n",
    "    if title == 'Pokemon':\n",
    "        return (title,\"Got to catch em all\")\n",
    "    elif title == 'Digimon':\n",
    "        return (title,\"Digion, digital monsters\")\n",
    "    elif title == 'BeyBlade':\n",
    "        return (title,\"Let it rip\")\n",
    "    else:\n",
    "        return (title,\"I have no data about it\")"
   ]
  },
  {
   "cell_type": "markdown",
   "metadata": {},
   "source": [
    "<span style='color:red'>All parameters (arguments) in the Python language are passed by reference. It means if you change what a parameter refers to within a function, the change also reflects back in the calling function.</span>"
   ]
  },
  {
   "cell_type": "markdown",
   "metadata": {},
   "source": [
    "Above method is designed to return two string values title and specific string when its condition is satisfied."
   ]
  },
  {
   "cell_type": "code",
   "execution_count": 9,
   "metadata": {},
   "outputs": [
    {
     "name": "stdout",
     "output_type": "stream",
     "text": [
      "Pokemon  :  Got to catch em all \n",
      "\n",
      "Digimon  :  Digion, digital monsters \n",
      "\n",
      "BeyBlade  :  Let it rip \n",
      "\n",
      "Mix Master  :  I have no data about it \n",
      "\n"
     ]
    }
   ],
   "source": [
    "title, comment = commentary('Pokemon')\n",
    "print(title,\" : \",comment,\"\\n\")\n",
    "title, comment = commentary('Digimon')\n",
    "print(title,\" : \",comment,\"\\n\")\n",
    "title, comment= commentary('BeyBlade')\n",
    "print(title,\" : \",comment,\"\\n\")\n",
    "title, comment = commentary('Mix Master')\n",
    "print(title,\" : \",comment,\"\\n\")"
   ]
  },
  {
   "cell_type": "markdown",
   "metadata": {},
   "source": [
    "<span style='color:red'>Two return values should be unpacked by two receiveing variables</span>\n",
    "\n",
    "<span style='color:green'>Similar way n return values should be unpacked by n receiveing variables</span>"
   ]
  },
  {
   "cell_type": "markdown",
   "metadata": {},
   "source": [
    "Pokemon, Digimon, BeyBlade and Mix Master were very famous childhood cartoon series.\n",
    "\n",
    "<b>Know more</b><br>\n",
    "Pokemon : https://en.wikipedia.org/wiki/Pok%C3%A9mon<br>\n",
    "Digimon : https://en.wikipedia.org/wiki/Digimon<br>\n",
    "BeyBlade : https://en.wikipedia.org/wiki/Beyblade<br>\n",
    "Mix Master : https://en.wikipedia.org/wiki/Mix_Master<br>"
   ]
  },
  {
   "cell_type": "code",
   "execution_count": 10,
   "metadata": {},
   "outputs": [
    {
     "name": "stdout",
     "output_type": "stream",
     "text": [
      "Hi I am Python, having fun ?\n"
     ]
    }
   ],
   "source": [
    "def intro(me): \n",
    "    return \"Hi I am \"+ me + \", having fun ?\"\n",
    "print(intro('Python'))"
   ]
  },
  {
   "cell_type": "markdown",
   "metadata": {},
   "source": [
    "Input can be passed to methods as arguments. The method <b>intro()</b> is taking me as an argument(input)."
   ]
  },
  {
   "cell_type": "markdown",
   "metadata": {},
   "source": [
    "<div style='background-color:WhiteSmoke;padding:15px'>\n",
    "<b><u>Format</u></b>\n",
    "<br><br>\n",
    "    <b>def</b> method_name(aurguments):<br>\n",
    "    &emsp;block that gets executed when the method is called<br>\n",
    "    &emsp;<b>return</b> values that needs to be returned\n",
    "</div>"
   ]
  },
  {
   "cell_type": "markdown",
   "metadata": {},
   "source": [
    "<b>Function Arguments</b>\n",
    "\n",
    "You can call a function by using the following types of formal arguments −\n",
    "\n",
    "* Required arguments\n",
    "* Keyword arguments\n",
    "* Default arguments\n",
    "* Variable-length arguments"
   ]
  },
  {
   "cell_type": "markdown",
   "metadata": {},
   "source": [
    "Let's try one with more then one aurguments"
   ]
  },
  {
   "cell_type": "code",
   "execution_count": 11,
   "metadata": {},
   "outputs": [
    {
     "name": "stdout",
     "output_type": "stream",
     "text": [
      "10\n",
      "yes no maybe maybe not \n"
     ]
    }
   ],
   "source": [
    "def i_add_thing(a,b,c,d):\n",
    "    return a+b+c+d\n",
    "\n",
    "print(i_add_thing(1,2,3,4))\n",
    "print(i_add_thing(\"yes \",\"no \",\"maybe \",\"maybe not \"))"
   ]
  },
  {
   "cell_type": "code",
   "execution_count": 12,
   "metadata": {},
   "outputs": [
    {
     "ename": "TypeError",
     "evalue": "unsupported operand type(s) for +: 'int' and 'str'",
     "output_type": "error",
     "traceback": [
      "\u001b[1;31m---------------------------------------------------------------------------\u001b[0m",
      "\u001b[1;31mTypeError\u001b[0m                                 Traceback (most recent call last)",
      "\u001b[1;32m<ipython-input-12-579a913b7afd>\u001b[0m in \u001b[0;36m<module>\u001b[1;34m()\u001b[0m\n\u001b[1;32m----> 1\u001b[1;33m \u001b[0mprint\u001b[0m\u001b[1;33m(\u001b[0m\u001b[0mi_add_thing\u001b[0m\u001b[1;33m(\u001b[0m\u001b[1;36m1\u001b[0m\u001b[1;33m,\u001b[0m\u001b[1;36m2\u001b[0m\u001b[1;33m,\u001b[0m\u001b[1;36m3\u001b[0m\u001b[1;33m,\u001b[0m\u001b[1;34m'i am a string'\u001b[0m\u001b[1;33m)\u001b[0m\u001b[1;33m)\u001b[0m\u001b[1;33m\u001b[0m\u001b[0m\n\u001b[0m",
      "\u001b[1;32m<ipython-input-11-cd9bb2e94264>\u001b[0m in \u001b[0;36mi_add_thing\u001b[1;34m(a, b, c, d)\u001b[0m\n\u001b[0;32m      1\u001b[0m \u001b[1;32mdef\u001b[0m \u001b[0mi_add_thing\u001b[0m\u001b[1;33m(\u001b[0m\u001b[0ma\u001b[0m\u001b[1;33m,\u001b[0m\u001b[0mb\u001b[0m\u001b[1;33m,\u001b[0m\u001b[0mc\u001b[0m\u001b[1;33m,\u001b[0m\u001b[0md\u001b[0m\u001b[1;33m)\u001b[0m\u001b[1;33m:\u001b[0m\u001b[1;33m\u001b[0m\u001b[0m\n\u001b[1;32m----> 2\u001b[1;33m     \u001b[1;32mreturn\u001b[0m \u001b[0ma\u001b[0m\u001b[1;33m+\u001b[0m\u001b[0mb\u001b[0m\u001b[1;33m+\u001b[0m\u001b[0mc\u001b[0m\u001b[1;33m+\u001b[0m\u001b[0md\u001b[0m\u001b[1;33m\u001b[0m\u001b[0m\n\u001b[0m\u001b[0;32m      3\u001b[0m \u001b[1;33m\u001b[0m\u001b[0m\n\u001b[0;32m      4\u001b[0m \u001b[0mprint\u001b[0m\u001b[1;33m(\u001b[0m\u001b[0mi_add_thing\u001b[0m\u001b[1;33m(\u001b[0m\u001b[1;36m1\u001b[0m\u001b[1;33m,\u001b[0m\u001b[1;36m2\u001b[0m\u001b[1;33m,\u001b[0m\u001b[1;36m3\u001b[0m\u001b[1;33m,\u001b[0m\u001b[1;36m4\u001b[0m\u001b[1;33m)\u001b[0m\u001b[1;33m)\u001b[0m\u001b[1;33m\u001b[0m\u001b[0m\n\u001b[0;32m      5\u001b[0m \u001b[0mprint\u001b[0m\u001b[1;33m(\u001b[0m\u001b[0mi_add_thing\u001b[0m\u001b[1;33m(\u001b[0m\u001b[1;34m\"yes \"\u001b[0m\u001b[1;33m,\u001b[0m\u001b[1;34m\"no \"\u001b[0m\u001b[1;33m,\u001b[0m\u001b[1;34m\"maybe \"\u001b[0m\u001b[1;33m,\u001b[0m\u001b[1;34m\"maybe not \"\u001b[0m\u001b[1;33m)\u001b[0m\u001b[1;33m)\u001b[0m\u001b[1;33m\u001b[0m\u001b[0m\n",
      "\u001b[1;31mTypeError\u001b[0m: unsupported operand type(s) for +: 'int' and 'str'"
     ]
    }
   ],
   "source": [
    "print(i_add_thing(1,2,3,'i am a string'))"
   ]
  },
  {
   "cell_type": "markdown",
   "metadata": {},
   "source": [
    "<span style='color:red'>Adding different datatypes throws error</span>"
   ]
  },
  {
   "cell_type": "code",
   "execution_count": 15,
   "metadata": {},
   "outputs": [],
   "source": [
    "def menu(soup,maincourse,dessert):\n",
    "    return {'soup': soup, 'maincourse':maincourse, 'dessert':dessert}"
   ]
  },
  {
   "cell_type": "code",
   "execution_count": 17,
   "metadata": {},
   "outputs": [
    {
     "data": {
      "text/plain": [
       "{'dessert': 'Pastries', 'maincourse': 'Chicken Feast', 'soup': 'Man Chow'}"
      ]
     },
     "execution_count": 17,
     "metadata": {},
     "output_type": "execute_result"
    }
   ],
   "source": [
    "menu('Man Chow','Chicken Feast','Pastries')  "
   ]
  },
  {
   "cell_type": "markdown",
   "metadata": {},
   "source": [
    "A <b>default argument </b>is an argument that assumes a default value if a value is not provided in the function call for that argument, default arguments passed to the method, follows the position in which they are passed\n"
   ]
  },
  {
   "cell_type": "code",
   "execution_count": 18,
   "metadata": {},
   "outputs": [
    {
     "data": {
      "text/plain": [
       "{'dessert': 'Donuts', 'maincourse': 'Paneer delight', 'soup': 'Sweet corn'}"
      ]
     },
     "execution_count": 18,
     "metadata": {},
     "output_type": "execute_result"
    }
   ],
   "source": [
    "menu(maincourse='Paneer delight',dessert='Donuts',soup='Sweet corn') "
   ]
  },
  {
   "cell_type": "markdown",
   "metadata": {},
   "source": [
    "<b>Keyword arguments</b> are related to the function calls. When you use keyword arguments in a function call, the caller identifies the arguments by the parameter name.\n",
    "\n",
    "This allows you to skip arguments or place them out of order because the Python interpreter is able to use the keywords provided to match the values with parameters."
   ]
  },
  {
   "cell_type": "code",
   "execution_count": 19,
   "metadata": {},
   "outputs": [
    {
     "data": {
      "text/plain": [
       "{'dessert': 'Chocolate icecream',\n",
       " 'maincourse': 'Fish Platter',\n",
       " 'soup': 'Cream of chicken'}"
      ]
     },
     "execution_count": 19,
     "metadata": {},
     "output_type": "execute_result"
    }
   ],
   "source": [
    "menu('Cream of chicken',dessert='Chocolate icecream',maincourse='Fish Platter')"
   ]
  },
  {
   "cell_type": "markdown",
   "metadata": {},
   "source": [
    "Arguments are passed in mix positional and keyword."
   ]
  },
  {
   "cell_type": "code",
   "execution_count": 20,
   "metadata": {},
   "outputs": [],
   "source": [
    "def intro_with_comment(comment,me='python'):\n",
    "    print('Hi i am',me,',',comment)"
   ]
  },
  {
   "cell_type": "markdown",
   "metadata": {},
   "source": [
    "Arguments can be set to have a default value, but arguments which have a default value should be placed at the last."
   ]
  },
  {
   "cell_type": "code",
   "execution_count": 14,
   "metadata": {},
   "outputs": [
    {
     "name": "stdout",
     "output_type": "stream",
     "text": [
      "Hi i am python , Enjoy exploring\n"
     ]
    }
   ],
   "source": [
    "intro_with_comment('Enjoy exploring')"
   ]
  },
  {
   "cell_type": "markdown",
   "metadata": {},
   "source": [
    "As you can see in the above case, argument <b>me</b> is not passed. Hence its taking the default value."
   ]
  },
  {
   "cell_type": "code",
   "execution_count": 15,
   "metadata": {},
   "outputs": [
    {
     "name": "stdout",
     "output_type": "stream",
     "text": [
      "Hi i am atcodedog , Enjoy exploring\n"
     ]
    }
   ],
   "source": [
    "intro_with_comment('Enjoy exploring','atcodedog')"
   ]
  },
  {
   "cell_type": "markdown",
   "metadata": {},
   "source": [
    "In this case, we are passing both arguments to the method"
   ]
  },
  {
   "cell_type": "code",
   "execution_count": 16,
   "metadata": {},
   "outputs": [],
   "source": [
    "def i_add_up_things(arg, result=[]): \n",
    "    result.append(arg)\n",
    "    print(result)"
   ]
  },
  {
   "cell_type": "markdown",
   "metadata": {},
   "source": [
    "Here is a trick which comes handy"
   ]
  },
  {
   "cell_type": "code",
   "execution_count": 17,
   "metadata": {},
   "outputs": [
    {
     "name": "stdout",
     "output_type": "stream",
     "text": [
      "['a']\n"
     ]
    }
   ],
   "source": [
    "i_add_up_things('a')"
   ]
  },
  {
   "cell_type": "code",
   "execution_count": 18,
   "metadata": {},
   "outputs": [
    {
     "name": "stdout",
     "output_type": "stream",
     "text": [
      "['a', 'b']\n"
     ]
    }
   ],
   "source": [
    "i_add_up_things('b')"
   ]
  },
  {
   "cell_type": "code",
   "execution_count": 19,
   "metadata": {},
   "outputs": [
    {
     "name": "stdout",
     "output_type": "stream",
     "text": [
      "['a', 'b', 'add me too']\n"
     ]
    }
   ],
   "source": [
    "i_add_up_things('add me too')"
   ]
  },
  {
   "cell_type": "markdown",
   "metadata": {},
   "source": [
    "Lets see what happens if result is not passed as a default argument and is defined in the method."
   ]
  },
  {
   "cell_type": "code",
   "execution_count": 20,
   "metadata": {},
   "outputs": [],
   "source": [
    "def i_have_result_inside(arg):\n",
    "    result=[]\n",
    "    result.append(arg)\n",
    "    return result"
   ]
  },
  {
   "cell_type": "code",
   "execution_count": 21,
   "metadata": {},
   "outputs": [
    {
     "data": {
      "text/plain": [
       "['a']"
      ]
     },
     "execution_count": 21,
     "metadata": {},
     "output_type": "execute_result"
    }
   ],
   "source": [
    "i_have_result_inside('a')"
   ]
  },
  {
   "cell_type": "code",
   "execution_count": 22,
   "metadata": {},
   "outputs": [
    {
     "data": {
      "text/plain": [
       "['b']"
      ]
     },
     "execution_count": 22,
     "metadata": {},
     "output_type": "execute_result"
    }
   ],
   "source": [
    "i_have_result_inside('b')"
   ]
  },
  {
   "cell_type": "markdown",
   "metadata": {},
   "source": [
    "As you can see <b>result</b> defined inside doesnt add up\n",
    "\n",
    "Because result is defined as a local variable inside the method. And it lives in the lifetime of method. It is created each time method is called and destroyed after execution.\n",
    "\n",
    "Check the below example to understand better"
   ]
  },
  {
   "cell_type": "code",
   "execution_count": 23,
   "metadata": {},
   "outputs": [],
   "source": [
    "def i_have_result_inside(arg):\n",
    "    result=[]\n",
    "    print(id(result))\n",
    "    result.append(arg)\n",
    "    return result"
   ]
  },
  {
   "cell_type": "code",
   "execution_count": 24,
   "metadata": {},
   "outputs": [
    {
     "name": "stdout",
     "output_type": "stream",
     "text": [
      "90559048\n"
     ]
    },
    {
     "data": {
      "text/plain": [
       "['a']"
      ]
     },
     "execution_count": 24,
     "metadata": {},
     "output_type": "execute_result"
    }
   ],
   "source": [
    "i_have_result_inside('a')"
   ]
  },
  {
   "cell_type": "code",
   "execution_count": 25,
   "metadata": {},
   "outputs": [
    {
     "name": "stdout",
     "output_type": "stream",
     "text": [
      "98794184\n"
     ]
    },
    {
     "data": {
      "text/plain": [
       "['b']"
      ]
     },
     "execution_count": 25,
     "metadata": {},
     "output_type": "execute_result"
    }
   ],
   "source": [
    "i_have_result_inside('b')"
   ]
  },
  {
   "cell_type": "markdown",
   "metadata": {},
   "source": [
    "<hr>"
   ]
  },
  {
   "cell_type": "markdown",
   "metadata": {},
   "source": [
    "<b>Variable-length arguments</b>\n",
    "You may need to process a function for more arguments than you specified while defining the function. These arguments are called variable-length arguments and are not named in the function definition, unlike required and default arguments.\n",
    "\n",
    "An asterisk (*) is placed before the variable name that holds the values of all nonkeyword variable arguments. This tuple remains empty if no additional arguments are specified during the function call."
   ]
  },
  {
   "cell_type": "code",
   "execution_count": 26,
   "metadata": {},
   "outputs": [],
   "source": [
    "def print_args(*args):\n",
    "    print('Positional argument tuple:', args)"
   ]
  },
  {
   "cell_type": "markdown",
   "metadata": {},
   "source": [
    "Passing <b>*args</b> lets you to gather up all the positonal arguments."
   ]
  },
  {
   "cell_type": "code",
   "execution_count": 27,
   "metadata": {},
   "outputs": [
    {
     "name": "stdout",
     "output_type": "stream",
     "text": [
      "Positional argument tuple: ()\n"
     ]
    }
   ],
   "source": [
    "print_args()"
   ]
  },
  {
   "cell_type": "code",
   "execution_count": 28,
   "metadata": {},
   "outputs": [
    {
     "name": "stdout",
     "output_type": "stream",
     "text": [
      "Positional argument tuple: (3, 2, 1, 'wait', 'uh...')\n"
     ]
    }
   ],
   "source": [
    "print_args(3,2,1,'wait','uh...')"
   ]
  },
  {
   "cell_type": "code",
   "execution_count": 29,
   "metadata": {},
   "outputs": [],
   "source": [
    "def print_more(req1, req2, *args):\n",
    "    print('Need this one:',req1)\n",
    "    print('Need this too:',req2)\n",
    "    print('All the rest:',args)"
   ]
  },
  {
   "cell_type": "code",
   "execution_count": 30,
   "metadata": {},
   "outputs": [
    {
     "name": "stdout",
     "output_type": "stream",
     "text": [
      "Need this one: cap\n",
      "Need this too: gloves\n",
      "All the rest: ('knee pads', 'helmet')\n"
     ]
    }
   ],
   "source": [
    "print_more('cap','gloves','knee pads','helmet')"
   ]
  },
  {
   "cell_type": "code",
   "execution_count": 31,
   "metadata": {},
   "outputs": [],
   "source": [
    "def print_kwargs(**kwargs):\n",
    "    print('Keyword argumnets : ',kwargs)"
   ]
  },
  {
   "cell_type": "markdown",
   "metadata": {},
   "source": [
    "Passing <b>**kargs</b> lets you to gather up all the keyword arguments."
   ]
  },
  {
   "cell_type": "code",
   "execution_count": 32,
   "metadata": {},
   "outputs": [
    {
     "name": "stdout",
     "output_type": "stream",
     "text": [
      "Keyword argumnets :  {'green': 'Hulk', 'blue': 'Captain America', 'red': 'Iron Man'}\n"
     ]
    }
   ],
   "source": [
    "print_kwargs(green='Hulk',blue='Captain America',red='Iron Man')"
   ]
  },
  {
   "cell_type": "code",
   "execution_count": 33,
   "metadata": {},
   "outputs": [
    {
     "data": {
      "text/plain": [
       "11"
      ]
     },
     "execution_count": 33,
     "metadata": {},
     "output_type": "execute_result"
    }
   ],
   "source": [
    "def outer(a,b):\n",
    "    def inner(c,d): # defining fucntion inside a fucntion\n",
    "        return c + d\n",
    "    return inner(a,b)\n",
    "outer(4, 7)"
   ]
  },
  {
   "cell_type": "markdown",
   "metadata": {},
   "source": [
    "The above code shows the is demostration of <b>Nested Functions</b>/<b>Inner Functions</b>. Similar to nested conditional blocks."
   ]
  },
  {
   "cell_type": "code",
   "execution_count": 34,
   "metadata": {},
   "outputs": [
    {
     "data": {
      "text/plain": [
       "\"We are the knights who say: 'Ni!'\""
      ]
     },
     "execution_count": 34,
     "metadata": {},
     "output_type": "execute_result"
    }
   ],
   "source": [
    "def knights(saying):\n",
    "    def inner(quote):\n",
    "        return \"We are the knights who say: '%s'\"%quote\n",
    "    return inner(saying)\n",
    "knights('Ni!')"
   ]
  },
  {
   "cell_type": "code",
   "execution_count": 35,
   "metadata": {},
   "outputs": [
    {
     "data": {
      "text/plain": [
       "\"We are the knights who say: 'Ne!'\""
      ]
     },
     "execution_count": 35,
     "metadata": {},
     "output_type": "execute_result"
    }
   ],
   "source": [
    "def knights2(saying):\n",
    "    def inner2():\n",
    "        return \"We are the knights who say: '%s'\"%saying\n",
    "    return inner2\n",
    "knights('Ne!')"
   ]
  },
  {
   "cell_type": "markdown",
   "metadata": {},
   "source": [
    "<b>Anonymous function</b>\n",
    "\n",
    "Python allows you to create anonymous function i.e function having no names using a facility called <b>lambda function</b>.\n",
    "\n",
    "lambda functions are small functions usually not more than a line. It can have any number of arguments just like a normal function. The body of lambda functions is very small and consists of only one expression. The result of the expression is the value when the lambda is applied to an argument. Also there is no need for any return statement in lambda function.\n",
    "\n",
    "To create a lambda function first write keyword lambda followed by one of more arguments separated by comma, followed by colon sign ( : ), followed by a single line expression."
   ]
  },
  {
   "cell_type": "code",
   "execution_count": 21,
   "metadata": {},
   "outputs": [
    {
     "data": {
      "text/plain": [
       "36"
      ]
     },
     "execution_count": 21,
     "metadata": {},
     "output_type": "execute_result"
    }
   ],
   "source": [
    "r = lambda x, y: x * y\n",
    "r(12, 3)   # call the lambda function"
   ]
  },
  {
   "cell_type": "markdown",
   "metadata": {},
   "source": [
    "<hr>"
   ]
  },
  {
   "cell_type": "markdown",
   "metadata": {},
   "source": [
    "<b>Exception Block</b>"
   ]
  },
  {
   "cell_type": "code",
   "execution_count": 37,
   "metadata": {},
   "outputs": [
    {
     "ename": "IndexError",
     "evalue": "list index out of range",
     "output_type": "error",
     "traceback": [
      "\u001b[1;31m---------------------------------------------------------------------------\u001b[0m",
      "\u001b[1;31mIndexError\u001b[0m                                Traceback (most recent call last)",
      "\u001b[1;32m<ipython-input-37-b3bcec5d5077>\u001b[0m in \u001b[0;36m<module>\u001b[1;34m()\u001b[0m\n\u001b[0;32m      1\u001b[0m \u001b[0mshort_list\u001b[0m\u001b[1;33m=\u001b[0m\u001b[1;33m[\u001b[0m\u001b[1;36m1\u001b[0m\u001b[1;33m,\u001b[0m\u001b[1;36m2\u001b[0m\u001b[1;33m,\u001b[0m\u001b[1;36m3\u001b[0m\u001b[1;33m]\u001b[0m\u001b[1;33m\u001b[0m\u001b[0m\n\u001b[0;32m      2\u001b[0m \u001b[0mposition\u001b[0m\u001b[1;33m=\u001b[0m\u001b[1;36m5\u001b[0m\u001b[1;33m\u001b[0m\u001b[0m\n\u001b[1;32m----> 3\u001b[1;33m \u001b[0mshort_list\u001b[0m\u001b[1;33m[\u001b[0m\u001b[0mposition\u001b[0m\u001b[1;33m]\u001b[0m\u001b[1;33m\u001b[0m\u001b[0m\n\u001b[0m",
      "\u001b[1;31mIndexError\u001b[0m: list index out of range"
     ]
    }
   ],
   "source": [
    "short_list=[1,2,3]\n",
    "position=5\n",
    "short_list[position]"
   ]
  },
  {
   "cell_type": "markdown",
   "metadata": {},
   "source": [
    "<span style='color:red'>Above is throwing an <b>index out of range</b> error becuase element of offset 5 is not present</span>"
   ]
  },
  {
   "cell_type": "markdown",
   "metadata": {},
   "source": [
    "When error is thrown code might stop execution. \n",
    "\n",
    "<b>exception handling</b> lets you to handle errors and prevent it from stopping execution.\n",
    "\n",
    "Lets see how it works."
   ]
  },
  {
   "cell_type": "code",
   "execution_count": 38,
   "metadata": {},
   "outputs": [
    {
     "name": "stdout",
     "output_type": "stream",
     "text": [
      "I have value in offset 1  :  2\n"
     ]
    }
   ],
   "source": [
    "short_list=[1,2,3]\n",
    "position=1\n",
    "try:\n",
    "    short_list[position]\n",
    "    print('I have value in offset',position,' : ',short_list[position])\n",
    "except:\n",
    "    print('Need a position between 0 and',len(short_list)-1,'but got',position)"
   ]
  },
  {
   "cell_type": "code",
   "execution_count": 39,
   "metadata": {},
   "outputs": [
    {
     "name": "stdout",
     "output_type": "stream",
     "text": [
      "Need a position between 0 and 2 but 5 was passed\n"
     ]
    }
   ],
   "source": [
    "short_list=[1,2,3]\n",
    "position=5\n",
    "try:\n",
    "    short_list[position]\n",
    "except:\n",
    "    print('Need a position between 0 and',len(short_list)-1,'but',position,'was passed')"
   ]
  },
  {
   "cell_type": "markdown",
   "metadata": {},
   "source": [
    "<div style='background-color:WhiteSmoke;padding:15px'>\n",
    "<b><u>Format</u></b>\n",
    "<br><br>\n",
    "<b>try </b>:<br>\n",
    "&emsp;try executing this block, if i throw error go to except block\n",
    "<br>\n",
    "<b>except </b>:<br>\n",
    "&emsp;the code you tried throwed error\n",
    "</div>"
   ]
  },
  {
   "cell_type": "markdown",
   "metadata": {},
   "source": [
    "Lets see more senarios."
   ]
  },
  {
   "cell_type": "code",
   "execution_count": 40,
   "metadata": {},
   "outputs": [
    {
     "name": "stdout",
     "output_type": "stream",
     "text": [
      "Bad index :  5\n"
     ]
    }
   ],
   "source": [
    "short_list=[1,2,3]\n",
    "position=5\n",
    "try:\n",
    "    short_list[position]\n",
    "except IndexError as err:\n",
    "    print('Bad index : ',position)\n",
    "except Exception as other:\n",
    "    print('Something else broke : ',other)"
   ]
  },
  {
   "cell_type": "code",
   "execution_count": 41,
   "metadata": {},
   "outputs": [
    {
     "name": "stdout",
     "output_type": "stream",
     "text": [
      "Something else broke :  list indices must be integers or slices, not str\n"
     ]
    }
   ],
   "source": [
    "short_list=[1,2,3]\n",
    "position='two'\n",
    "try:\n",
    "    short_list[position]\n",
    "except IndexError as err:\n",
    "    print('Bad index : ',position)\n",
    "except Exception as other:\n",
    "    print('Something else broke : ',other)"
   ]
  },
  {
   "cell_type": "markdown",
   "metadata": {},
   "source": [
    "Check more on exceptions in python docs : https://docs.python.org/3/tutorial/errors.html"
   ]
  },
  {
   "cell_type": "markdown",
   "metadata": {},
   "source": [
    "<br><br>\n",
    "<center><h2>End of Book</h2></center>"
   ]
  },
  {
   "cell_type": "markdown",
   "metadata": {},
   "source": [
    "<hr>\n",
    "<h3><b>Next book :</b> Book 0.1. Zen of Python</h3>\n",
    "\n",
    "https://github.com/atcodedog \n",
    "\n",
    "<b><a href='index.html'>Back Home</a></b>\n",
    "<hr>"
   ]
  },
  {
   "cell_type": "markdown",
   "metadata": {},
   "source": [
    "Source from atcodedog git repo\n",
    "\n",
    "Find more on\n",
    "\n",
    "https://github.com/atcodedog\n",
    "\n",
    "http://www.atcodedog.com\n",
    "\n",
    "Follow us on\n",
    "\n",
    "https://twitter.com/atcodedog"
   ]
  }
 ],
 "metadata": {
  "kernelspec": {
   "display_name": "Python 3",
   "language": "python",
   "name": "python3"
  },
  "language_info": {
   "codemirror_mode": {
    "name": "ipython",
    "version": 3
   },
   "file_extension": ".py",
   "mimetype": "text/x-python",
   "name": "python",
   "nbconvert_exporter": "python",
   "pygments_lexer": "ipython3",
   "version": "3.6.4"
  }
 },
 "nbformat": 4,
 "nbformat_minor": 2
}
