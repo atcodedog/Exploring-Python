{
 "cells": [
  {
   "cell_type": "markdown",
   "metadata": {},
   "source": [
    "<h1>Book 6. Control Blocks - Conditional Blocks and Iterative Blocks</h1><hr>"
   ]
  },
  {
   "cell_type": "markdown",
   "metadata": {},
   "source": [
    "Since we have done with covering Data types. Lets go ahead!!\n",
    "\n",
    "And explore <b>Control Blocks</b> in python."
   ]
  },
  {
   "cell_type": "markdown",
   "metadata": {},
   "source": [
    "So, what is control blocks?\n",
    "\n",
    "Control blocks are block/set ( A block is a piece of Python program text that is executed as a unit. The following are blocks: a module, a function body, and a class definition. Each command typed interactively is a block) of blocks of code, which has a certain ability of having control over sequence of execution.\n",
    "\n",
    "it has 2 types:\n",
    "<ul>\n",
    "    <li><u>Conditional Blocks</u> : are set of blocks which have the ability to choose which block in them need to be executed</li>\n",
    "    <li><u>Interative Blocks</u> : is single block which have the ability to execute itself multiple times</li>\n",
    "</ul>"
   ]
  },
  {
   "cell_type": "markdown",
   "metadata": {},
   "source": [
    "<span style='color:green'>Let's start with <b>Conditional Blocks</b></span>"
   ]
  },
  {
   "cell_type": "code",
   "execution_count": 1,
   "metadata": {},
   "outputs": [
    {
     "name": "stdout",
     "output_type": "stream",
     "text": [
      "I am in If, i want to be executed\n"
     ]
    }
   ],
   "source": [
    "if True:\n",
    "    print('I am in If, i want to be executed')"
   ]
  },
  {
   "cell_type": "markdown",
   "metadata": {},
   "source": [
    "<b>If</b> is the first type of Conditional Block"
   ]
  },
  {
   "cell_type": "markdown",
   "metadata": {},
   "source": [
    "<div style='background-color:WhiteSmoke;padding:15px'>\n",
    "<b><u>Format</u></b>\n",
    "<br><br>\n",
    "<b>if </b>(condition):<br>\n",
    "&emsp;block that gets executed if condition turns out true\n",
    "</div>"
   ]
  },
  {
   "cell_type": "markdown",
   "metadata": {},
   "source": [
    "<span style='color:red'>Note: Python is a highly indentation sensitive language. Where other languages used brackets {} to denote body, python uses indentation</span>\n",
    "\n",
    "The code after the tab is always considered as part of the child block.\n",
    "\n",
    "When tab is removed it will be considered under parent block\n",
    "<br><br>\n",
    "<div style='background-color:WhiteSmoke;padding:15px'>\n",
    "<b><u>Parent block</u></b>\n",
    "<br><br>\n",
    "if (condition):\n",
    "    <div style='background-color:lightgrey;padding:15px;'>\n",
    "    <b><u>Child block</u></b>\n",
    "    <br><br>\n",
    "    block that gets executed if condition turns out true \n",
    "    </div>\n",
    "    <br><br>\n",
    "    block out of <b>child block</b> and back to <b>parent block</b>\n",
    "</div>\n",
    "\n",
    "Will be more clear when we write the code!:)"
   ]
  },
  {
   "cell_type": "code",
   "execution_count": 2,
   "metadata": {},
   "outputs": [
    {
     "name": "stdout",
     "output_type": "stream",
     "text": [
      "I am in If, i want to executed\n"
     ]
    }
   ],
   "source": [
    "flag = True\n",
    "if flag:\n",
    "    print('I am in If, i want to executed')"
   ]
  },
  {
   "cell_type": "code",
   "execution_count": 3,
   "metadata": {},
   "outputs": [],
   "source": [
    "flag = False\n",
    "if flag:\n",
    "    print('I am in If, i want to executed')"
   ]
  },
  {
   "cell_type": "markdown",
   "metadata": {},
   "source": [
    "Since the condition turned out be False. print() was not executed."
   ]
  },
  {
   "cell_type": "code",
   "execution_count": 4,
   "metadata": {},
   "outputs": [
    {
     "name": "stdout",
     "output_type": "stream",
     "text": [
      "I am in If, i want to executed\n"
     ]
    }
   ],
   "source": [
    "number_flag = 2\n",
    "if number_flag > 1:\n",
    "    print('I am in If, i want to executed')"
   ]
  },
  {
   "cell_type": "code",
   "execution_count": 5,
   "metadata": {},
   "outputs": [],
   "source": [
    "if number_flag < 1:\n",
    "    print('I am in If, i want to executed')"
   ]
  },
  {
   "cell_type": "markdown",
   "metadata": {},
   "source": [
    "Since the condition(2<1) turned out be False. <b>print()</b> was not executed."
   ]
  },
  {
   "cell_type": "code",
   "execution_count": 11,
   "metadata": {
    "scrolled": true
   },
   "outputs": [
    {
     "name": "stdout",
     "output_type": "stream",
     "text": [
      "yay! the variable is truly 100\n"
     ]
    }
   ],
   "source": [
    "var = 100\n",
    "if var == 100:\n",
    "     print(\"yay! the variable is truly 100\")"
   ]
  },
  {
   "attachments": {
    "image.png": {
     "image/png": "[encoded data removed]"
    }
   },
   "cell_type": "markdown",
   "metadata": {},
   "source": [
    " ![image.png](attachment:image.png)\n",
    "\n"
   ]
  },
  {
   "cell_type": "code",
   "execution_count": 19,
   "metadata": {},
   "outputs": [
    {
     "name": "stdout",
     "output_type": "stream",
     "text": [
      "I will be executed, if your condition turns out True\n"
     ]
    }
   ],
   "source": [
    "if True: \n",
    "    print('I will be executed, if your condition turns out True')\n",
    "else : \n",
    "    print('I will be executed, if your condition turns out False')"
   ]
  },
  {
   "cell_type": "markdown",
   "metadata": {},
   "source": [
    "<b>If-Else</b> is the second type of Conditional Block"
   ]
  },
  {
   "cell_type": "code",
   "execution_count": 20,
   "metadata": {},
   "outputs": [
    {
     "name": "stdout",
     "output_type": "stream",
     "text": [
      "yay! the variable is truly 100\n"
     ]
    }
   ],
   "source": [
    "\n",
    "var = 100\n",
    "if var == 100:\n",
    "    print(\"yay! the variable is truly 100\")\n",
    "else:\n",
    "    print(\"Nope! Better luck next time!!!!\")  #Since var==100 turned out to be true, it prints \"yay! the variable is truly 100\"\n"
   ]
  },
  {
   "cell_type": "code",
   "execution_count": 21,
   "metadata": {},
   "outputs": [
    {
     "name": "stdout",
     "output_type": "stream",
     "text": [
      "Nope! Better luck next time!!!!\n"
     ]
    }
   ],
   "source": [
    "var=10\n",
    "if var == 100:\n",
    "    print(\"yay! the variable is truly 100\")\n",
    "else:\n",
    "    print (\"Nope! Better luck next time!!!!\")  #Since var==100 turned out to be false, it prints \"Nope! Better luck next time!!!!\"\n",
    "  "
   ]
  },
  {
   "cell_type": "markdown",
   "metadata": {},
   "source": [
    "<div style='background-color:WhiteSmoke;padding:15px'>\n",
    "<b><u>Format</u></b>\n",
    "<br><br>\n",
    "<b>if </b>(condition):<br>\n",
    "&emsp;block that gets executed if condition turns out true\n",
    "<br>\n",
    "<b>else </b>:<br>\n",
    "&emsp;block that gets executed if condition turns out false\n",
    "</div>"
   ]
  },
  {
   "cell_type": "markdown",
   "metadata": {},
   "source": [
    "Else is the block which gets executed if <b>if block</b> condition turns out false"
   ]
  },
  {
   "cell_type": "code",
   "execution_count": 22,
   "metadata": {},
   "outputs": [
    {
     "name": "stdout",
     "output_type": "stream",
     "text": [
      "I will be executed, if your condition turns out False\n"
     ]
    }
   ],
   "source": [
    "if False: \n",
    "    print('I will be executed, if your condition turns out True')\n",
    "else : \n",
    "    print('I will be executed, if your condition turns out False')"
   ]
  },
  {
   "cell_type": "code",
   "execution_count": 23,
   "metadata": {},
   "outputs": [
    {
     "name": "stdout",
     "output_type": "stream",
     "text": [
      "I will be executed, if your condition turns out True\n"
     ]
    }
   ],
   "source": [
    "flag = True\n",
    "if flag: \n",
    "    print('I will be executed, if your condition turns out True')\n",
    "else : \n",
    "    print('I will be executed, if your condition turns out False')"
   ]
  },
  {
   "cell_type": "code",
   "execution_count": 24,
   "metadata": {},
   "outputs": [
    {
     "name": "stdout",
     "output_type": "stream",
     "text": [
      "I will be executed, if your condition turns out False\n"
     ]
    }
   ],
   "source": [
    "flag = False\n",
    "if flag: \n",
    "    print('I will be executed, if your condition turns out True')\n",
    "else : \n",
    "    print('I will be executed, if your condition turns out False')"
   ]
  },
  {
   "cell_type": "code",
   "execution_count": 25,
   "metadata": {},
   "outputs": [
    {
     "name": "stdout",
     "output_type": "stream",
     "text": [
      "I will be executed, if your condition turns out True\n"
     ]
    }
   ],
   "source": [
    "number_flag = 2\n",
    "if number_flag > 1:\n",
    "    print('I will be executed, if your condition turns out True')\n",
    "else : \n",
    "    print('I will be executed, if your condition turns out False')"
   ]
  },
  {
   "cell_type": "code",
   "execution_count": 26,
   "metadata": {},
   "outputs": [
    {
     "name": "stdout",
     "output_type": "stream",
     "text": [
      "I will be executed, if your condition turns out False\n"
     ]
    }
   ],
   "source": [
    "number_flag = 2\n",
    "if number_flag < 1:\n",
    "     print('I will be executed, if your condition turns out True')\n",
    "else : \n",
    "    print('I will be executed, if your condition turns out False')"
   ]
  },
  {
   "cell_type": "markdown",
   "metadata": {},
   "source": [
    "Since the condition(2<1) turned out be False. <b>print()</b> in <b>else block</b> was executed."
   ]
  },
  {
   "attachments": {
    "image.png": {
     "image/png": "[encoded data removed]"
    }
   },
   "cell_type": "markdown",
   "metadata": {},
   "source": [
    "![image.png](attachment:image.png)"
   ]
  },
  {
   "cell_type": "code",
   "execution_count": 27,
   "metadata": {},
   "outputs": [
    {
     "name": "stdout",
     "output_type": "stream",
     "text": [
      "I will be executed, if your condition turns out True and your nested condition also turns True\n"
     ]
    }
   ],
   "source": [
    "if True:\n",
    "    if True: # nested if else\n",
    "        print('I will be executed, if your condition turns out True and your nested condition also turns True')\n",
    "    else:\n",
    "        print('I will be executed, if your condition turns out True and your nested condition also turns False')\n",
    "else : \n",
    "    print('I will be executed, if your condition turns out False')"
   ]
  },
  {
   "cell_type": "markdown",
   "metadata": {},
   "source": [
    "If / If-Else can be nested with another If / If-Else block"
   ]
  },
  {
   "cell_type": "code",
   "execution_count": 28,
   "metadata": {},
   "outputs": [
    {
     "name": "stdout",
     "output_type": "stream",
     "text": [
      "I will be executed, if your condition turns out True and your nested condition also turns False\n"
     ]
    }
   ],
   "source": [
    "if True:\n",
    "    if False:\n",
    "        print('I will be executed, if your condition turns out True and your nested condition also turns True')\n",
    "    else:\n",
    "        print('I will be executed, if your condition turns out True and your nested condition also turns False')\n",
    "else : \n",
    "    print('I will be executed, if your condition turns out False')"
   ]
  },
  {
   "cell_type": "code",
   "execution_count": 29,
   "metadata": {},
   "outputs": [
    {
     "name": "stdout",
     "output_type": "stream",
     "text": [
      "I will be executed, if your condition turns out False\n"
     ]
    }
   ],
   "source": [
    "if False:\n",
    "    if False:\n",
    "        print('I will be executed, if your condition turns out True and your nested condition also turns True')\n",
    "    else:\n",
    "        print('I will be executed, if your condition turns out True and your nested condition also turns False')\n",
    "else : \n",
    "    print('I will be executed, if your condition turns out False')"
   ]
  },
  {
   "cell_type": "code",
   "execution_count": 30,
   "metadata": {},
   "outputs": [
    {
     "name": "stdout",
     "output_type": "stream",
     "text": [
      "I am Margo, How are you today?\n"
     ]
    }
   ],
   "source": [
    "girl = 'eldest'\n",
    "if girl == 'youngest':\n",
    "    print('I am Agnes, I want an Unicorn !!!')\n",
    "elif girl == 'second eldest':\n",
    "    print('I am Edith, Wanna play baseball ?!')\n",
    "else:\n",
    "    print('I am Margo, How are you today?')"
   ]
  },
  {
   "cell_type": "markdown",
   "metadata": {},
   "source": [
    "<b>Else-If Ladder</b> is the third type of Conditional Block"
   ]
  },
  {
   "cell_type": "markdown",
   "metadata": {},
   "source": [
    "<div style='background-color:WhiteSmoke;padding:15px'>\n",
    "<b><u>Format</u></b>\n",
    "<br><br>\n",
    "<b>if </b>(condition):<br>\n",
    "&emsp;block that gets executed if condition turns out true\n",
    "<br>\n",
    "<b>elif </b>(condition):<br>\n",
    "&emsp;block that gets executed elif condition turns out false\n",
    "<br>\n",
    "<b>else </b>:<br>\n",
    "&emsp;block that gets executed if condition turns out false\n",
    "</div>"
   ]
  },
  {
   "cell_type": "markdown",
   "metadata": {},
   "source": [
    "Will check conditions one by one and executes its respective block"
   ]
  },
  {
   "cell_type": "code",
   "execution_count": 31,
   "metadata": {},
   "outputs": [
    {
     "name": "stdout",
     "output_type": "stream",
     "text": [
      "I am Edith, Wanna play baseball ?!\n"
     ]
    }
   ],
   "source": [
    "girl = 'second eldest'\n",
    "if girl == 'youngest':\n",
    "    print('I am Agnes, I want an Unicorn !!!')\n",
    "elif girl == 'second eldest':\n",
    "    print('I am Edith, Wanna play baseball ?!')\n",
    "else:\n",
    "    print('I am Margo, How are you today?')"
   ]
  },
  {
   "cell_type": "code",
   "execution_count": 32,
   "metadata": {},
   "outputs": [
    {
     "name": "stdout",
     "output_type": "stream",
     "text": [
      "I am Agnes, I want an Unicorn :) !!!\n"
     ]
    }
   ],
   "source": [
    "girl = 'youngest'\n",
    "if girl == 'youngest':\n",
    "    print('I am Agnes, I want an Unicorn :) !!!')\n",
    "elif girl == 'second eldest':\n",
    "    print('I am Edith, Wanna play baseball ?!')\n",
    "else:\n",
    "    print('I am Margo, How are you today?')"
   ]
  },
  {
   "cell_type": "markdown",
   "metadata": {},
   "source": [
    "Agnes, Edith and Margo are characters from movie \"Despicable me\"\n",
    "\n",
    "Movie: https://en.wikipedia.org/wiki/Despicable_Me<br>\n",
    "Agnes: http://despicableme.wikia.com/wiki/Agnes_Gru<br>\n",
    "Edith: http://despicableme.wikia.com/wiki/Edith_Gru<br>\n",
    "Margo: http://despicableme.wikia.com/wiki/Margo_Gru"
   ]
  },
  {
   "cell_type": "code",
   "execution_count": 18,
   "metadata": {},
   "outputs": [
    {
     "name": "stdout",
     "output_type": "stream",
     "text": [
      "I am 1\n"
     ]
    }
   ],
   "source": [
    "# here is a long Else-If ladder which you can play around with\n",
    "# enter a number from 0-9 and it will print its relevant statement \n",
    "my_number = 1\n",
    "if my_number == 0:\n",
    "    print('I am 0')\n",
    "elif my_number == 1:\n",
    "    print('I am 1')\n",
    "elif my_number == 2:\n",
    "    print('I am 2')\n",
    "elif my_number == 3:\n",
    "    print('I am 3')\n",
    "elif my_number == 4:\n",
    "    print('I am 4')\n",
    "elif my_number == 5:\n",
    "    print('I am 5')\n",
    "elif my_number == 6:\n",
    "    print('I am 6')\n",
    "elif my_number == 7:\n",
    "    print('I am 7')\n",
    "elif my_number == 8:\n",
    "    print('I am 8')\n",
    "elif my_number == 9:\n",
    "    print('I am 9')\n",
    "else:\n",
    "    print('I dont know which number')"
   ]
  },
  {
   "attachments": {
    "image.png": {
     "image/png": "[encoded data removed]"
    }
   },
   "cell_type": "markdown",
   "metadata": {},
   "source": [
    "![image.png](attachment:image.png)"
   ]
  },
  {
   "cell_type": "markdown",
   "metadata": {},
   "source": [
    "<center>\n",
    "    <h2>Logical Operator</h2>\n",
    "    <table>\n",
    "       <tr>\n",
    "        <th>Meaning</th>\n",
    "            <th>Operator</th>\n",
    "    </tr>\n",
    "    <tr>\n",
    "        <td>Equality</td>\n",
    "            <td>==</td>\n",
    "    </tr>\n",
    "      <tr>\n",
    "        <td>Inequality</td>\n",
    "            <td>!=</td>\n",
    "     </tr>\n",
    "      <tr>\n",
    "        <td>Less than</td>\n",
    "            <td>&lt;</td>\n",
    "    </tr>\n",
    "      <tr>\n",
    "        <td>Less than or equal</td>\n",
    "            <td>&lt;=</td>\n",
    "     </tr>\n",
    "     <tr>\n",
    "        <td>Greater than</td>\n",
    "            <td>></td>\n",
    "     </tr>\n",
    "      <tr>\n",
    "        <td>Greater than or equal</td>\n",
    "            <td>>=</td>\n",
    "     </tr>\n",
    "     <tr>\n",
    "        <td>Membership</td>\n",
    "            <td>in</td>\n",
    "     </tr>\n",
    "    </table>\n",
    "</center>"
   ]
  },
  {
   "cell_type": "code",
   "execution_count": 33,
   "metadata": {},
   "outputs": [
    {
     "data": {
      "text/plain": [
       "False"
      ]
     },
     "execution_count": 33,
     "metadata": {},
     "output_type": "execute_result"
    }
   ],
   "source": [
    "5==6"
   ]
  },
  {
   "cell_type": "code",
   "execution_count": 34,
   "metadata": {},
   "outputs": [
    {
     "data": {
      "text/plain": [
       "True"
      ]
     },
     "execution_count": 34,
     "metadata": {},
     "output_type": "execute_result"
    }
   ],
   "source": [
    "5!=6"
   ]
  },
  {
   "cell_type": "code",
   "execution_count": 35,
   "metadata": {},
   "outputs": [
    {
     "data": {
      "text/plain": [
       "True"
      ]
     },
     "execution_count": 35,
     "metadata": {},
     "output_type": "execute_result"
    }
   ],
   "source": [
    "5<6"
   ]
  },
  {
   "cell_type": "code",
   "execution_count": 36,
   "metadata": {},
   "outputs": [
    {
     "data": {
      "text/plain": [
       "True"
      ]
     },
     "execution_count": 36,
     "metadata": {},
     "output_type": "execute_result"
    }
   ],
   "source": [
    "5<=6"
   ]
  },
  {
   "cell_type": "code",
   "execution_count": 37,
   "metadata": {},
   "outputs": [
    {
     "data": {
      "text/plain": [
       "False"
      ]
     },
     "execution_count": 37,
     "metadata": {},
     "output_type": "execute_result"
    }
   ],
   "source": [
    "5>6"
   ]
  },
  {
   "cell_type": "code",
   "execution_count": 38,
   "metadata": {},
   "outputs": [
    {
     "data": {
      "text/plain": [
       "False"
      ]
     },
     "execution_count": 38,
     "metadata": {},
     "output_type": "execute_result"
    }
   ],
   "source": [
    "5>=6"
   ]
  },
  {
   "cell_type": "code",
   "execution_count": 39,
   "metadata": {},
   "outputs": [
    {
     "data": {
      "text/plain": [
       "True"
      ]
     },
     "execution_count": 39,
     "metadata": {},
     "output_type": "execute_result"
    }
   ],
   "source": [
    "my_list = ['a','b','c']\n",
    "'a' in my_list"
   ]
  },
  {
   "cell_type": "code",
   "execution_count": 40,
   "metadata": {},
   "outputs": [
    {
     "data": {
      "text/plain": [
       "False"
      ]
     },
     "execution_count": 40,
     "metadata": {},
     "output_type": "execute_result"
    }
   ],
   "source": [
    "'d' in my_list"
   ]
  },
  {
   "cell_type": "markdown",
   "metadata": {},
   "source": [
    "<center>\n",
    "    <b>What are also considered as False</b>\n",
    "    <table>\n",
    "       <tr>\n",
    "        <th>Meaning</th>\n",
    "            <th>Notation</th>\n",
    "    </tr>\n",
    "    <tr>\n",
    "        <td>boolean</td>\n",
    "            <td>False</td>\n",
    "    </tr>\n",
    "     <tr>\n",
    "         <td>null</td>\n",
    "            <td>None</td>\n",
    "    </tr>\n",
    "     <tr>\n",
    "        <td>zero integer</td>\n",
    "            <td>0</td>\n",
    "    </tr>\n",
    "      <tr>\n",
    "        <td>zero float</td>\n",
    "            <td>0.0</td>\n",
    "    </tr>\n",
    "     <tr>\n",
    "        <td>empty string</td>\n",
    "            <td>''</td>\n",
    "    </tr>\n",
    "     <tr>\n",
    "        <td>empty list</td>\n",
    "            <td>[]</td>\n",
    "    </tr>\n",
    "      <tr>\n",
    "        <td>empty tuple</td>\n",
    "            <td>()</td>\n",
    "    </tr>\n",
    "      <tr>\n",
    "        <td>empty dict</td>\n",
    "            <td>{}</td>\n",
    "    </tr>\n",
    "     <tr>\n",
    "        <td>empty set</td>\n",
    "            <td>set()</td>\n",
    "    </tr>\n",
    "    </table>\n",
    "</center>"
   ]
  },
  {
   "cell_type": "markdown",
   "metadata": {},
   "source": [
    "That's the end of conditional blocks."
   ]
  },
  {
   "cell_type": "markdown",
   "metadata": {},
   "source": [
    "Now, lets move on to <b>Iterative Blocks</b> also called <b>Loops</b>"
   ]
  },
  {
   "cell_type": "markdown",
   "metadata": {},
   "source": [
    "<span style='color:green'>Lets start with <b>Iterative Blocks</b></span>"
   ]
  },
  {
   "cell_type": "code",
   "execution_count": 41,
   "metadata": {},
   "outputs": [
    {
     "name": "stdout",
     "output_type": "stream",
     "text": [
      "This is the count right now 1\n",
      "Count is still less then 5, count < 5 \n",
      "\n",
      "This is the count right now 2\n",
      "Count is still less then 5, count < 5 \n",
      "\n",
      "This is the count right now 3\n",
      "Count is still less then 5, count < 5 \n",
      "\n",
      "This is the count right now 4\n",
      "Count is still less then 5, count < 5 \n",
      "\n",
      "This is the count right now 5\n",
      "-----Count is not less then 5, i am out-----\n"
     ]
    }
   ],
   "source": [
    "count = 1\n",
    "while count < 5:\n",
    "    print(\"This is the count right now\",count)\n",
    "    print(\"Count is still less then 5, count < 5 \\n\")\n",
    "    count += 1\n",
    "print(\"This is the count right now\",count)\n",
    "print(\"-----Count is not less then 5, i am out-----\")"
   ]
  },
  {
   "cell_type": "markdown",
   "metadata": {},
   "source": [
    "<b>while</b> is the first type of iterative block\n",
    "\n",
    "<b>while</b> executes the block repeated till the condition is met, once the condition is not met the block stops executing "
   ]
  },
  {
   "cell_type": "markdown",
   "metadata": {},
   "source": [
    "<div style='background-color:WhiteSmoke;padding:15px'>\n",
    "<b><u>Format</u></b>\n",
    "<br><br>\n",
    "<b>while </b>(condition):<br>\n",
    "&emsp;block that gets executed until condition turns out true\n",
    "</div>"
   ]
  },
  {
   "attachments": {
    "image.png": {
     "image/png": "[encoded data removed]"
    }
   },
   "cell_type": "markdown",
   "metadata": {},
   "source": [
    "![image.png](attachment:image.png)"
   ]
  },
  {
   "cell_type": "code",
   "execution_count": 28,
   "metadata": {},
   "outputs": [
    {
     "name": "stdout",
     "output_type": "stream",
     "text": [
      "String to capitalize [type q to quit]: \n",
      "\n",
      "String to capitalize [type q to quit]: Hi\n",
      "Hi\n",
      "String to capitalize [type q to quit]: Hello\n",
      "Hello\n",
      "String to capitalize [type q to quit]: I didnt press q yet\n",
      "I didnt press q yet\n",
      "String to capitalize [type q to quit]: i will hit q next\n",
      "I will hit q next\n",
      "String to capitalize [type q to quit]: q\n"
     ]
    }
   ],
   "source": [
    "while True: # infinte loop, is a loop where condition is True. Hence will execute continously/infinitely.\n",
    "    my_str = input(\"String to capitalize [type q to quit]: \")\n",
    "    if my_str == 'q': \n",
    "        break # loop can be exited using break\n",
    "    print(my_str.capitalize())"
   ]
  },
  {
   "cell_type": "markdown",
   "metadata": {},
   "source": [
    "<span style='color:red'>infinite loops without an exit statement will execute the code infintely until execution is manually stopped. Hence inifinite loops can sometimes turn harmful.</span>"
   ]
  },
  {
   "cell_type": "markdown",
   "metadata": {},
   "source": [
    "<span style='color:green'>infinite loops with break statement can be used as executor programs like the above. Which comes handy :)</span>"
   ]
  },
  {
   "cell_type": "markdown",
   "metadata": {},
   "source": [
    "<b>break</b> statement can help you to exit a loop"
   ]
  },
  {
   "cell_type": "code",
   "execution_count": 42,
   "metadata": {},
   "outputs": [
    {
     "name": "stdout",
     "output_type": "stream",
     "text": [
      "Integer, please [q to quit]: 1\n",
      "Integer, please [q to quit]: 2\n",
      "You are even number  2\n",
      "Integer, please [q to quit]: 3\n",
      "Integer, please [q to quit]: 4\n",
      "You are even number  4\n",
      "Integer, please [q to quit]: q\n"
     ]
    }
   ],
   "source": [
    "while True:\n",
    "    value = input('Integer, please [q to quit]: ')\n",
    "    if value == 'q':\n",
    "        break\n",
    "    number = int(value)\n",
    "    if number % 2 == 1:\n",
    "        continue # control goes to the next iteration with continue, in the current case it goes to iteration when the enter number is even\n",
    "    print(\"You are even number \",number)"
   ]
  },
  {
   "cell_type": "markdown",
   "metadata": {},
   "source": [
    "<b>continue</b> statement can help you to jump to the next iteration of the loop"
   ]
  },
  {
   "cell_type": "code",
   "execution_count": 43,
   "metadata": {},
   "outputs": [
    {
     "name": "stdout",
     "output_type": "stream",
     "text": [
      "Found even number 6\n"
     ]
    }
   ],
   "source": [
    "# checking break in while with If-Else block\n",
    "numbers = [1, 3, 5, 6, 7]\n",
    "position = 0\n",
    "while position < len(numbers):\n",
    "    number = numbers[position]\n",
    "    if number % 2 == 0:\n",
    "        print('Found even number',number)\n",
    "        break\n",
    "    position += 1 \n",
    "else:\n",
    "    print('No even number found')"
   ]
  },
  {
   "cell_type": "markdown",
   "metadata": {},
   "source": [
    "Whenever it encounters an even number it prints and exits out of the loop"
   ]
  },
  {
   "cell_type": "code",
   "execution_count": 44,
   "metadata": {},
   "outputs": [
    {
     "name": "stdout",
     "output_type": "stream",
     "text": [
      "1\n",
      "3\n",
      "5\n",
      "6\n",
      "7\n"
     ]
    }
   ],
   "source": [
    "numbers = [1, 3, 5, 6, 7] # list\n",
    "for number in numbers: # accessing members of a object using for\n",
    "    print(number)"
   ]
  },
  {
   "cell_type": "markdown",
   "metadata": {},
   "source": [
    "<b>for</b> is the second type of iterative block\n",
    "\n",
    "<b>for</b> is used to access members of <b>sequence</b> data type\n",
    "\n",
    "Here <b>for</b> is used to access members of <b>List object</b> "
   ]
  },
  {
   "cell_type": "markdown",
   "metadata": {},
   "source": [
    "<div style='background-color:WhiteSmoke;padding:15px'>\n",
    "<b><u>Format</u></b>\n",
    "<br><br>\n",
    "    <b>for </b><u>member</u> in <u>sequence object</u>:<br>\n",
    "    &emsp;block that gets executed until it can access a new member in the <b>sequence object</b>\n",
    "</div>"
   ]
  },
  {
   "attachments": {
    "image.png": {
     "image/png": "[encoded data removed]"
    }
   },
   "cell_type": "markdown",
   "metadata": {},
   "source": [
    "![image.png](attachment:image.png)"
   ]
  },
  {
   "cell_type": "markdown",
   "metadata": {},
   "source": [
    "<span style='color:red'>Note : unlike other languages similar to C/C++ . Python doesnt allow condition on <b>for</b> loop</span>"
   ]
  },
  {
   "cell_type": "code",
   "execution_count": 45,
   "metadata": {},
   "outputs": [
    {
     "name": "stdout",
     "output_type": "stream",
     "text": [
      "c\n",
      "a\n",
      "t\n"
     ]
    }
   ],
   "source": [
    "word = 'cat' # string\n",
    "for letter in word:\n",
    "    print(letter)"
   ]
  },
  {
   "cell_type": "markdown",
   "metadata": {},
   "source": [
    "Here <b>for</b> is used to access members of <b>String object</b> "
   ]
  },
  {
   "cell_type": "code",
   "execution_count": 46,
   "metadata": {},
   "outputs": [
    {
     "name": "stdout",
     "output_type": "stream",
     "text": [
      "person\n",
      "weapon\n",
      "room\n"
     ]
    }
   ],
   "source": [
    "accusation = {'room': 'ballroom', 'weapon': 'lead pie', 'person':'Col. Mustard'}\n",
    "for card in accusation:\n",
    "    print(card)"
   ]
  },
  {
   "cell_type": "markdown",
   "metadata": {},
   "source": [
    "Here <b>for</b> is used to access members keys of <b>Dictionary object</b> "
   ]
  },
  {
   "cell_type": "code",
   "execution_count": 47,
   "metadata": {},
   "outputs": [
    {
     "name": "stdout",
     "output_type": "stream",
     "text": [
      "Col. Mustard\n",
      "lead pie\n",
      "ballroom\n"
     ]
    }
   ],
   "source": [
    "for card in accusation.values():\n",
    "    print(card)"
   ]
  },
  {
   "cell_type": "markdown",
   "metadata": {},
   "source": [
    "Here <b>for</b> is used to access members values of <b>Dictionary object</b> "
   ]
  },
  {
   "cell_type": "code",
   "execution_count": 48,
   "metadata": {},
   "outputs": [
    {
     "name": "stdout",
     "output_type": "stream",
     "text": [
      "('person', 'Col. Mustard')\n",
      "('weapon', 'lead pie')\n",
      "('room', 'ballroom')\n"
     ]
    }
   ],
   "source": [
    "for card in accusation.items():\n",
    "    print(card)"
   ]
  },
  {
   "cell_type": "markdown",
   "metadata": {},
   "source": [
    "Here <b>for</b> is used to access members (key,values) of <b>Dictionary object</b> "
   ]
  },
  {
   "cell_type": "code",
   "execution_count": 49,
   "metadata": {},
   "outputs": [
    {
     "name": "stdout",
     "output_type": "stream",
     "text": [
      "Card person has the contents Col. Mustard\n",
      "Card weapon has the contents lead pie\n",
      "Card room has the contents ballroom\n"
     ]
    }
   ],
   "source": [
    "for card, contents in accusation.items():\n",
    "    print('Card',card,'has the contents',contents)"
   ]
  },
  {
   "cell_type": "markdown",
   "metadata": {},
   "source": [
    "two variables can be used to access key and value seperately"
   ]
  },
  {
   "cell_type": "markdown",
   "metadata": {},
   "source": [
    "<b style='color:red'>break and continue doesnt work in for</b><br>But it can used within a nested If/If-Else/Else-If block"
   ]
  },
  {
   "cell_type": "code",
   "execution_count": 50,
   "metadata": {},
   "outputs": [
    {
     "name": "stdout",
     "output_type": "stream",
     "text": [
      "This shop has some lovely ab\n",
      "This shop has some lovely bc\n",
      "This shop has some lovely cd\n",
      "No Not this  xy\n"
     ]
    }
   ],
   "source": [
    "cheeses = ['ab','bc','cd','xy']\n",
    "for cheese in cheeses:\n",
    "    if cheese == 'xy':\n",
    "        print('No Not this ', cheese)\n",
    "        break\n",
    "    print('This shop has some lovely', cheese)\n",
    "else:\n",
    "    print('This is not much of cheese shop, is it ?')"
   ]
  },
  {
   "cell_type": "markdown",
   "metadata": {},
   "source": [
    "If the above code format is used. If <b>break</b> statement is executed <b>else</b> block wont be executed."
   ]
  },
  {
   "cell_type": "code",
   "execution_count": 51,
   "metadata": {},
   "outputs": [
    {
     "name": "stdout",
     "output_type": "stream",
     "text": [
      "This shop has some lovely ab\n",
      "This shop has some lovely bc\n",
      "This shop has some lovely cd\n",
      "This is not much of cheese shop, is it ?\n"
     ]
    }
   ],
   "source": [
    "cheeses = ['ab','bc','cd']\n",
    "for cheese in cheeses:\n",
    "    if cheese == 'xy': # break not executed\n",
    "        print('No Not this ', cheese)\n",
    "        break\n",
    "    print('This shop has some lovely', cheese)\n",
    "else:\n",
    "    print('This is not much of cheese shop, is it ?')"
   ]
  },
  {
   "cell_type": "code",
   "execution_count": 52,
   "metadata": {},
   "outputs": [
    {
     "name": "stdout",
     "output_type": "stream",
     "text": [
      "Monday : drink coffee -eat banana -enjoy chocolate\n",
      "Tuesday : drink tea -eat orange -enjoy vanila\n",
      "Wednesday : drink beer -eat peach -enjoy leechy\n"
     ]
    }
   ],
   "source": [
    "days = ['Monday','Tuesday','Wednesday']\n",
    "fruits = ['banana','orange','peach']\n",
    "drinks = ['coffee','tea','beer']\n",
    "desserts = ['chocolate','vanila','leechy']\n",
    "\n",
    "for day, fruit, drink, dessert in zip (days, fruits, drinks, desserts):\n",
    "    print(day, ': drink',drink,'-eat',fruit,'-enjoy',dessert)"
   ]
  },
  {
   "cell_type": "markdown",
   "metadata": {},
   "source": [
    "<b>zip()</b> can be used to iterate among multiple <b>sequence objects</b>"
   ]
  },
  {
   "cell_type": "code",
   "execution_count": 1,
   "metadata": {},
   "outputs": [
    {
     "name": "stdout",
     "output_type": "stream",
     "text": [
      "0\n",
      "1\n",
      "2\n"
     ]
    }
   ],
   "source": [
    "for x in range(0,3):\n",
    "    print(x)"
   ]
  },
  {
   "cell_type": "markdown",
   "metadata": {},
   "source": [
    "<b>range(a,z)</b> generates sequence of Integers between a to z. \n",
    "\n",
    "generates n, a<=n<=z. \n",
    "\n",
    "range(0,3) <br>\n",
    "0 1 2\n",
    "\n",
    "Find more on range : https://docs.python.org/3/library/functions.html#func-range"
   ]
  },
  {
   "cell_type": "code",
   "execution_count": 41,
   "metadata": {},
   "outputs": [
    {
     "name": "stdout",
     "output_type": "stream",
     "text": [
      "2\n",
      "1\n",
      "0\n"
     ]
    }
   ],
   "source": [
    "for x in range(2,-1,-1): # here 3rd aurgument passed is step. i,e -1 each time.\n",
    "    print(x)"
   ]
  },
  {
   "cell_type": "code",
   "execution_count": 42,
   "metadata": {},
   "outputs": [
    {
     "data": {
      "text/plain": [
       "[2, 1, 0]"
      ]
     },
     "execution_count": 42,
     "metadata": {},
     "output_type": "execute_result"
    }
   ],
   "source": [
    "list(range(2,-1,-1)) # convert the values generated by range to list"
   ]
  },
  {
   "cell_type": "code",
   "execution_count": 43,
   "metadata": {},
   "outputs": [
    {
     "data": {
      "text/plain": [
       "[0, 2, 4, 6, 8, 10]"
      ]
     },
     "execution_count": 43,
     "metadata": {},
     "output_type": "execute_result"
    }
   ],
   "source": [
    "list(range(0,11,2))"
   ]
  },
  {
   "cell_type": "markdown",
   "metadata": {},
   "source": [
    "<hr>\n",
    "<b>List Comprehensions</b>\n",
    "\n",
    "Comprehensions is a feature in Python. Which lets you do use for loop to create a List object.\n",
    "\n",
    "[<i>item</i> <b>for</b> <i>item</i> <b>in</b> <i>iterable</i> <b>if</b> <i>condition</i>]\n",
    "\n",
    "<span style='color:green'>** Use of <b>List Comprehension</b> instead of <b>for</b> loop in List object is highly suggestable. Because List Comprehension is more efficient</span>\n",
    "\n",
    "More on List Comprehension : https://docs.python.org/3/tutorial/datastructures.html#list-comprehensions"
   ]
  },
  {
   "cell_type": "code",
   "execution_count": 53,
   "metadata": {},
   "outputs": [
    {
     "data": {
      "text/plain": [
       "[0, 2, 4, 6, 8]"
      ]
     },
     "execution_count": 53,
     "metadata": {},
     "output_type": "execute_result"
    }
   ],
   "source": [
    "even_list = [i for i in range(0,10) if i%2 == 0]\n",
    "even_list"
   ]
  },
  {
   "cell_type": "code",
   "execution_count": 54,
   "metadata": {},
   "outputs": [
    {
     "data": {
      "text/plain": [
       "[1, 3, 5, 7, 9]"
      ]
     },
     "execution_count": 54,
     "metadata": {},
     "output_type": "execute_result"
    }
   ],
   "source": [
    "odd_list = [i for i in range(0,10) if i%2 == 1]\n",
    "odd_list"
   ]
  },
  {
   "cell_type": "code",
   "execution_count": 55,
   "metadata": {},
   "outputs": [
    {
     "data": {
      "text/plain": [
       "[0, 1, 2, 3, 4, 5, 6, 7, 8, 9]"
      ]
     },
     "execution_count": 55,
     "metadata": {},
     "output_type": "execute_result"
    }
   ],
   "source": [
    "all_list = [i for i in range(0,10)] # no condition\n",
    "all_list"
   ]
  },
  {
   "cell_type": "code",
   "execution_count": 56,
   "metadata": {},
   "outputs": [
    {
     "data": {
      "text/plain": [
       "[(1, 1), (1, 2), (2, 1), (2, 2), (3, 1), (3, 2)]"
      ]
     },
     "execution_count": 56,
     "metadata": {},
     "output_type": "execute_result"
    }
   ],
   "source": [
    "cells = [(row,col) for row in range(1,4) for col in range(1,3)] # generating tuples in a list\n",
    "cells"
   ]
  },
  {
   "cell_type": "code",
   "execution_count": 57,
   "metadata": {},
   "outputs": [
    {
     "data": {
      "text/plain": [
       "[[1, 1], [1, 2], [2, 1], [2, 2], [3, 1], [3, 2]]"
      ]
     },
     "execution_count": 57,
     "metadata": {},
     "output_type": "execute_result"
    }
   ],
   "source": [
    "cells_a = [[row,col] for row in range(1,4) for col in range(1,3)] # generating lists in a list\n",
    "cells_a"
   ]
  },
  {
   "cell_type": "markdown",
   "metadata": {},
   "source": [
    "<hr>"
   ]
  },
  {
   "cell_type": "markdown",
   "metadata": {},
   "source": [
    "<b>Dictionaries Comprehensions</b>\n",
    "\n",
    "[<i>key_expression</i> : <i>value_expression</i> <b>for</b> <i>expression</i> <b>in</b> <i>iterable</i>]"
   ]
  },
  {
   "cell_type": "code",
   "execution_count": 58,
   "metadata": {},
   "outputs": [
    {
     "data": {
      "text/plain": [
       "{'e': 2, 'l': 1, 'r': 1, 's': 1, 't': 2}"
      ]
     },
     "execution_count": 58,
     "metadata": {},
     "output_type": "execute_result"
    }
   ],
   "source": [
    "\n",
    "word = 'letters'\n",
    "letter_counts = {letter: word.count(letter) for letter in word}\n",
    "letter_counts"
   ]
  },
  {
   "cell_type": "markdown",
   "metadata": {},
   "source": [
    "<hr>"
   ]
  },
  {
   "cell_type": "markdown",
   "metadata": {},
   "source": [
    "<b>Set Comprehensions</b>\n",
    "\n",
    "[<i>expression</i> <b>for</b> <i>expression</i> <b>in</b> <i>iterable</i>]"
   ]
  },
  {
   "cell_type": "code",
   "execution_count": 59,
   "metadata": {},
   "outputs": [
    {
     "data": {
      "text/plain": [
       "{1, 4, 7}"
      ]
     },
     "execution_count": 59,
     "metadata": {},
     "output_type": "execute_result"
    }
   ],
   "source": [
    "a_set = {number for number in range(1,10) if number % 3 == 1}\n",
    "a_set"
   ]
  },
  {
   "cell_type": "markdown",
   "metadata": {},
   "source": [
    "<hr>"
   ]
  },
  {
   "cell_type": "markdown",
   "metadata": {},
   "source": [
    "<b>Generator Comprehensions</b>"
   ]
  },
  {
   "cell_type": "code",
   "execution_count": 60,
   "metadata": {},
   "outputs": [
    {
     "data": {
      "text/plain": [
       "<generator object <genexpr> at 0x000000000484FF10>"
      ]
     },
     "execution_count": 60,
     "metadata": {},
     "output_type": "execute_result"
    }
   ],
   "source": [
    "number_thing = (number for number in range(1,6))\n",
    "number_thing"
   ]
  },
  {
   "cell_type": "code",
   "execution_count": 61,
   "metadata": {},
   "outputs": [
    {
     "name": "stdout",
     "output_type": "stream",
     "text": [
      "1\n",
      "2\n",
      "3\n",
      "4\n",
      "5\n"
     ]
    }
   ],
   "source": [
    "for number in number_thing:\n",
    "    print(number)"
   ]
  },
  {
   "cell_type": "markdown",
   "metadata": {},
   "source": [
    "<br><br>\n",
    "<center><h2>End of Book</h2></center>"
   ]
  },
  {
   "cell_type": "markdown",
   "metadata": {},
   "source": [
    "<hr>\n",
    "<h3><b>Next book :</b> Book 2. Lists, Tuples, Dictionaries and Sets</h3>\n",
    "\n",
    "<b><a href='index.html'>Back Home</a></b>\n",
    "<hr>"
   ]
  },
  {
   "cell_type": "markdown",
   "metadata": {},
   "source": [
    "Source from atcodedog git repo\n",
    "\n",
    "Find more on\n",
    "\n",
    "https://github.com/atcodedog\n",
    "\n",
    "http://www.atcodedog.com\n",
    "\n",
    "Follow us on\n",
    "\n",
    "https://twitter.com/atcodedog"
   ]
  }
 ],
 "metadata": {
  "kernelspec": {
   "display_name": "Python [default]",
   "language": "python",
   "name": "python3"
  },
  "language_info": {
   "codemirror_mode": {
    "name": "ipython",
    "version": 3
   },
   "file_extension": ".py",
   "mimetype": "text/x-python",
   "name": "python",
   "nbconvert_exporter": "python",
   "pygments_lexer": "ipython3",
   "version": "3.5.5"
  }
 },
 "nbformat": 4,
 "nbformat_minor": 2
}
