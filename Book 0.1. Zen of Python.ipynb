{
 "cells": [
  {
   "cell_type": "markdown",
   "metadata": {},
   "source": [
    "<h1> Book 0.1. Zen of Python, Python philosophy(an easter egg)</h1><hr>"
   ]
  },
  {
   "cell_type": "markdown",
   "metadata": {},
   "source": [
    "<b>PHILOSOPHY</b> is a study that seeks to understand the mysteries of existence and reality. It tries to discover the nature of truth and knowledge and to find what is of basic value and importance in life.\n",
    "\n",
    "Sounds facsinating right? hmm..<span style='color:green'> Why don't we know about python's philosophy too?<span>"
   ]
  },
  {
   "cell_type": "markdown",
   "metadata": {},
   "source": [
    "Zen of Python, is popularly known as \"Philosophy of python\" among the pythoneers community"
   ]
  },
  {
   "cell_type": "markdown",
   "metadata": {},
   "source": [
    "<span style='color:green'>The Zen of Python is a collection of 20 software principles that influences the design of Python Programming Language,—only 19 of which were written down—around June 1999 by Tim Peters. The principal text is released into public domain.<span>\n",
    "    \n",
    "Source from wiki https://en.wikipedia.org/wiki/Zen_of_Python"
   ]
  },
  {
   "cell_type": "markdown",
   "metadata": {},
   "source": [
    "Whats an <b>easter egg</b> ?\n",
    "\n",
    "In computer software and media, an Easter egg is an intentional inside joke, hidden message or image, or secret feature of a work. It is usually found in a computer program, video game, or DVD/Blu-ray Disc menu screen. The name is used to evoke the idea of a traditional Easter egg hunt. \n",
    "\n",
    "The term was coined to describe a hidden message in the Atari video game Adventure that encouraged the player to find further hidden messages in later games, leading them on a 'hunt'.\n",
    "\n",
    "Source from wiki https://en.wikipedia.org/wiki/Easter_egg_(media)"
   ]
  },
  {
   "cell_type": "markdown",
   "metadata": {},
   "source": [
    "\"Zen of python\" is included as an easter egg in Python language.\n",
    "\n",
    "\"Zen of python\" easter egg can be found by running"
   ]
  },
  {
   "cell_type": "markdown",
   "metadata": {},
   "source": [
    "<div style='background-color:WhiteSmoke;padding:15px'>\n",
    "    <b>import</b> this\n",
    "</div>"
   ]
  },
  {
   "cell_type": "markdown",
   "metadata": {},
   "source": [
    "like below in the execution block"
   ]
  },
  {
   "cell_type": "code",
   "execution_count": 1,
   "metadata": {},
   "outputs": [
    {
     "name": "stdout",
     "output_type": "stream",
     "text": [
      "The Zen of Python, by Tim Peters\n",
      "\n",
      "Beautiful is better than ugly.\n",
      "Explicit is better than implicit.\n",
      "Simple is better than complex.\n",
      "Complex is better than complicated.\n",
      "Flat is better than nested.\n",
      "Sparse is better than dense.\n",
      "Readability counts.\n",
      "Special cases aren't special enough to break the rules.\n",
      "Although practicality beats purity.\n",
      "Errors should never pass silently.\n",
      "Unless explicitly silenced.\n",
      "In the face of ambiguity, refuse the temptation to guess.\n",
      "There should be one-- and preferably only one --obvious way to do it.\n",
      "Although that way may not be obvious at first unless you're Dutch.\n",
      "Now is better than never.\n",
      "Although never is often better than *right* now.\n",
      "If the implementation is hard to explain, it's a bad idea.\n",
      "If the implementation is easy to explain, it may be a good idea.\n",
      "Namespaces are one honking great idea -- let's do more of those!\n"
     ]
    }
   ],
   "source": [
    "import this # we will be running this code after covering the next book  'Book 0.5 Installation'."
   ]
  },
  {
   "cell_type": "markdown",
   "metadata": {},
   "source": [
    "<span style='color:red'>This code displays output only one time in the life time of kernal.</span>\n",
    "\n",
    "<span style='color:red'>Restart the kernal to execute and see the output again</span>"
   ]
  },
  {
   "cell_type": "markdown",
   "metadata": {},
   "source": [
    "<hr>\n",
    "Refer the links below to understand more\n",
    "\n",
    "https://www.slideshare.net/doughellmann/an-introduction-to-the-zen-of-python \n",
    "\n",
    "https://medium.com/@Pythonidaer/a-brief-analysis-of-the-zen-of-python-2bfd3b76edbf"
   ]
  },
  {
   "cell_type": "markdown",
   "metadata": {},
   "source": [
    "<br><br>\n",
    "<center><h2>End of Book</h2></center>"
   ]
  },
  {
   "cell_type": "markdown",
   "metadata": {},
   "source": [
    "<hr>\n",
    "<h3><b>Next book :</b> Book 0.5. Installation</h3>\n",
    "\n",
    "<b><a href='index.html'>Back Home</a></b>\n",
    "<hr>"
   ]
  },
  {
   "cell_type": "markdown",
   "metadata": {},
   "source": [
    "Source from atcodedog git repo\n",
    "\n",
    "Find more on\n",
    "\n",
    "https://github.com/atcodedog\n",
    "\n",
    "http://www.atcodedog.com\n",
    "\n",
    "Follow us on\n",
    "\n",
    "https://twitter.com/atcodedog"
   ]
  }
 ],
 "metadata": {
  "kernelspec": {
   "display_name": "Python 3",
   "language": "python",
   "name": "python3"
  },
  "language_info": {
   "codemirror_mode": {
    "name": "ipython",
    "version": 3
   },
   "file_extension": ".py",
   "mimetype": "text/x-python",
   "name": "python",
   "nbconvert_exporter": "python",
   "pygments_lexer": "ipython3",
   "version": "3.6.4"
  }
 },
 "nbformat": 4,
 "nbformat_minor": 2
}
