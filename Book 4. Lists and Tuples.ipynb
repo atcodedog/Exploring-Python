{
 "cells": [
  {
   "cell_type": "markdown",
   "metadata": {},
   "source": [
    "<h1>Book 4. Lists, Tuples, Dictionaries and Sets</h1>\n",
    "<hr>"
   ]
  },
  {
   "cell_type": "markdown",
   "metadata": {},
   "source": [
    "<b>Lists</b>\n",
    "\n",
    "Lists are mutable(modifiable) sequence structures of same data type/different data type."
   ]
  },
  {
   "cell_type": "markdown",
   "metadata": {},
   "source": [
    "The index operator <b>[ ]</b> represents a list object \n",
    "Python knows a number of compound data types, used to group together other values. The most versatile is the list, which can be written as a list of comma-separated values (items) between square brackets <b>[ ]</b>. \n",
    "\n",
    "* An ordered collection of objects (components).\n",
    "\n",
    "* List are analogus to array\n",
    "\n",
    "* A list allows you to gather a variety of (possibly unrelated) objects under one name.\n",
    "\n",
    "* You can create lists that consists of mixed data types\n",
    "\n",
    "* You can create a list of `int, float, string, logical` and `complex` data types together in a single list.\n"
   ]
  },
  {
   "cell_type": "markdown",
   "metadata": {},
   "source": [
    "<span style='color:green'>Lets go ahead with creating a <b>List</b> object</span>"
   ]
  },
  {
   "cell_type": "code",
   "execution_count": 1,
   "metadata": {},
   "outputs": [
    {
     "name": "stdout",
     "output_type": "stream",
     "text": [
      "[1, 2, 3, 4, 5]\n"
     ]
    }
   ],
   "source": [
    "integer_list = [1,2,3,4,5] # integer list\n",
    "print(integer_list)"
   ]
  },
  {
   "cell_type": "code",
   "execution_count": 2,
   "metadata": {},
   "outputs": [
    {
     "name": "stdout",
     "output_type": "stream",
     "text": [
      "[1.0, 2.0, 3.0]\n"
     ]
    }
   ],
   "source": [
    "floating_list = [1.0,2.0,3.0] # floating list\n",
    "print(floating_list)"
   ]
  },
  {
   "cell_type": "code",
   "execution_count": 3,
   "metadata": {},
   "outputs": [
    {
     "name": "stdout",
     "output_type": "stream",
     "text": [
      "[True, True, False]\n"
     ]
    }
   ],
   "source": [
    "boolean_list = [True,True,False] # boolean list\n",
    "print(boolean_list)"
   ]
  },
  {
   "cell_type": "code",
   "execution_count": 4,
   "metadata": {},
   "outputs": [
    {
     "name": "stdout",
     "output_type": "stream",
     "text": [
      "['apple', 'bannana', 'carrot']\n"
     ]
    }
   ],
   "source": [
    "string_list = ['apple','bannana','carrot'] # string list\n",
    "print(string_list)"
   ]
  },
  {
   "cell_type": "markdown",
   "metadata": {},
   "source": [
    "<span style='color:green'>Lets go ahead and create a <b>List</b> object with collection of <b>different data type</b></span>"
   ]
  },
  {
   "cell_type": "code",
   "execution_count": 5,
   "metadata": {},
   "outputs": [
    {
     "name": "stdout",
     "output_type": "stream",
     "text": [
      "[1, 2.0, 'carrots']\n"
     ]
    }
   ],
   "source": [
    "mixed_list = [1,2.0,'carrots'] # mixed list\n",
    "print(mixed_list)"
   ]
  },
  {
   "cell_type": "code",
   "execution_count": 6,
   "metadata": {},
   "outputs": [
    {
     "name": "stdout",
     "output_type": "stream",
     "text": [
      "1 <class 'int'>\n",
      "2.0 <class 'float'>\n",
      "carrots <class 'str'>\n",
      "[1, 2.0, 'carrots'] <class 'list'>\n"
     ]
    }
   ],
   "source": [
    "print(mixed_list[0],type(mixed_list[0])) # 1st element is 1 of type Int\n",
    "print(mixed_list[1],type(mixed_list[1])) # 2nd element is 2.0 of type Float\n",
    "print(mixed_list[2],type(mixed_list[2])) # 3rd element is 'carrots' of type String\n",
    "print(mixed_list,type(mixed_list))"
   ]
  },
  {
   "cell_type": "markdown",
   "metadata": {},
   "source": [
    "<span style='color:green'>Lets wrap up everything and go ahead with creating a <b>List</b> object of <b>Lists</b></span>"
   ]
  },
  {
   "cell_type": "code",
   "execution_count": 7,
   "metadata": {},
   "outputs": [
    {
     "name": "stdout",
     "output_type": "stream",
     "text": [
      "[[1, 2, 3, 4, 5], [1.0, 2.0, 3.0], ['apple', 'bannana', 'carrot'], [1, 2.0, 'carrots']]\n"
     ]
    }
   ],
   "source": [
    "list_of_lists = [integer_list, floating_list, string_list, mixed_list] # list of lists\n",
    "print(list_of_lists )"
   ]
  },
  {
   "cell_type": "markdown",
   "metadata": {},
   "source": [
    "<span style='color:green'>Thats great!! We  were able to create <b>List object of Lists</b>. This is something exiting :)</span>\n",
    "\n",
    "<span style='color:red'>Note: For people who have familarity with other languages which uses Sequence Structure with only same datatype. This feels like a really new thing. </span>\n",
    "\n",
    "<span style='color:green'><b>This capability of python will wield a new kind of distinguising power in your hand.</b></span>"
   ]
  },
  {
   "cell_type": "markdown",
   "metadata": {},
   "source": [
    "Lets go ahead and look into more things in List objects and capabilites allowed on them"
   ]
  },
  {
   "cell_type": "code",
   "execution_count": 8,
   "metadata": {},
   "outputs": [
    {
     "name": "stdout",
     "output_type": "stream",
     "text": [
      "empty_list :  []\n",
      "another_empty_list :  []\n"
     ]
    }
   ],
   "source": [
    "empty_list = [] # creating an empty list object\n",
    "another_empty_list = list() # another way of creating empty list\n",
    "print('empty_list : ',empty_list)\n",
    "print('another_empty_list : ',another_empty_list)"
   ]
  },
  {
   "cell_type": "code",
   "execution_count": 9,
   "metadata": {},
   "outputs": [
    {
     "name": "stdout",
     "output_type": "stream",
     "text": [
      "string_converted_to_list :  ['I', ' ', 'a', 'm', ' ', 'a', ' ', 's', 't', 'r', 'i', 'n', 'g']\n"
     ]
    }
   ],
   "source": [
    "string_converted_to_list = list('I am a string') # converts string of character to list object\n",
    "print('string_converted_to_list : ', string_converted_to_list)"
   ]
  },
  {
   "cell_type": "code",
   "execution_count": 10,
   "metadata": {},
   "outputs": [
    {
     "data": {
      "text/plain": [
       "['a', 'b', 'c', '', 'd', 'e', '', 'f']"
      ]
     },
     "execution_count": 10,
     "metadata": {},
     "output_type": "execute_result"
    }
   ],
   "source": [
    "splitme = 'a/b/c//d/e//f' \n",
    "splitme.split('/') # using split() method on string to convert string to list"
   ]
  },
  {
   "cell_type": "markdown",
   "metadata": {},
   "source": [
    "Using <b>split()</b> method on string. Lets you to convert string into list. The string is divided by the character in the bracket.\n",
    "\n",
    "In the above case string is divided into element each time it encounters '/' character."
   ]
  },
  {
   "cell_type": "code",
   "execution_count": 11,
   "metadata": {},
   "outputs": [
    {
     "name": "stdout",
     "output_type": "stream",
     "text": [
      "['Apple', 'Bannana', 'Cherry', 'Dragonfruit ', 'Fig', 'Grape', 'Guava', 'Kiwifruit']\n",
      "length/count :  8\n"
     ]
    }
   ],
   "source": [
    "list_of_fruits = ['Apple','Bannana','Cherry','Dragonfruit ','Fig','Grape','Guava','Kiwifruit'] \n",
    "print(list_of_fruits )\n",
    "print(\"length/count : \",len(list_of_fruits ))"
   ]
  },
  {
   "cell_type": "markdown",
   "metadata": {},
   "source": [
    "<b>len()</b> gives us the size of the list"
   ]
  },
  {
   "cell_type": "markdown",
   "metadata": {},
   "source": [
    "Lets access the elements in them. \n",
    "\n",
    "Elements are accessed by passing index in them. Similar to what was used in strings.\n",
    "\n",
    "The actions performed are similar."
   ]
  },
  {
   "cell_type": "code",
   "execution_count": 12,
   "metadata": {},
   "outputs": [
    {
     "name": "stdout",
     "output_type": "stream",
     "text": [
      "Bannana\n"
     ]
    }
   ],
   "source": [
    "print(list_of_fruits[1])"
   ]
  },
  {
   "cell_type": "markdown",
   "metadata": {},
   "source": [
    "The elements are accessed by using offsets position. \n",
    "\n",
    "Offset always starts from 0."
   ]
  },
  {
   "cell_type": "code",
   "execution_count": 13,
   "metadata": {},
   "outputs": [
    {
     "name": "stdout",
     "output_type": "stream",
     "text": [
      "Kiwifruit\n"
     ]
    }
   ],
   "source": [
    "print(list_of_fruits[-1])"
   ]
  },
  {
   "cell_type": "markdown",
   "metadata": {},
   "source": [
    "&#45; (minus) offset starts counting from the end. Starts from -1"
   ]
  },
  {
   "cell_type": "code",
   "execution_count": 14,
   "metadata": {},
   "outputs": [
    {
     "ename": "IndexError",
     "evalue": "list index out of range",
     "output_type": "error",
     "traceback": [
      "\u001b[1;31m---------------------------------------------------------------------------\u001b[0m",
      "\u001b[1;31mIndexError\u001b[0m                                Traceback (most recent call last)",
      "\u001b[1;32m<ipython-input-14-904458b8dd67>\u001b[0m in \u001b[0;36m<module>\u001b[1;34m()\u001b[0m\n\u001b[1;32m----> 1\u001b[1;33m \u001b[0mprint\u001b[0m\u001b[1;33m(\u001b[0m\u001b[0mlist_of_fruits\u001b[0m\u001b[1;33m[\u001b[0m\u001b[1;36m9\u001b[0m\u001b[1;33m]\u001b[0m\u001b[1;33m)\u001b[0m\u001b[1;33m\u001b[0m\u001b[0m\n\u001b[0m",
      "\u001b[1;31mIndexError\u001b[0m: list index out of range"
     ]
    }
   ],
   "source": [
    "print(list_of_fruits[9])"
   ]
  },
  {
   "cell_type": "markdown",
   "metadata": {},
   "source": [
    "<b>index out of range</b> error thrown when the element in the index is not present"
   ]
  },
  {
   "cell_type": "code",
   "execution_count": 15,
   "metadata": {},
   "outputs": [
    {
     "name": "stdout",
     "output_type": "stream",
     "text": [
      "['Watermelon', 'Bannana', 'Cherry', 'Dragonfruit ', 'Fig', 'Grape', 'Guava', 'Kiwifruit']\n"
     ]
    }
   ],
   "source": [
    "list_of_fruits[0]='Watermelon' # changing 1st element of the list\n",
    "print(list_of_fruits)"
   ]
  },
  {
   "cell_type": "markdown",
   "metadata": {},
   "source": [
    "A value in a position can be changed by accessing element by its offset and changing it value."
   ]
  },
  {
   "cell_type": "code",
   "execution_count": 16,
   "metadata": {},
   "outputs": [
    {
     "name": "stdout",
     "output_type": "stream",
     "text": [
      "['Watermelon', 'Bannana', 'Cherry', 'Dragonfruit ', 'Fig', 'Grape', 'Guava', 'Apple']\n"
     ]
    }
   ],
   "source": [
    "list_of_fruits[-1]='Apple' # changing last element of the list\n",
    "print(list_of_fruits)"
   ]
  },
  {
   "cell_type": "code",
   "execution_count": 17,
   "metadata": {},
   "outputs": [
    {
     "name": "stdout",
     "output_type": "stream",
     "text": [
      "['Watermelon', 'Bannana', 'Cherry', 'Dragonfruit ', 'Fig', 'Grape', 'Guava', 'Apple', 'Pine Apple']\n"
     ]
    }
   ],
   "source": [
    "list_of_fruits.append('Pine Apple')\n",
    "print(list_of_fruits)"
   ]
  },
  {
   "cell_type": "markdown",
   "metadata": {},
   "source": [
    "Elements can be added to an existing list by using <b>append()</b> with List object.\n",
    "\n",
    "<span style='color:green'>Lets create another list of fruits</span>"
   ]
  },
  {
   "cell_type": "code",
   "execution_count": 18,
   "metadata": {},
   "outputs": [
    {
     "name": "stdout",
     "output_type": "stream",
     "text": [
      "['Watermelon', 'Bannana', 'Cherry', 'Dragonfruit ', 'Fig', 'Grape', 'Guava', 'Apple', 'Pine Apple']\n",
      "['Mango', 'Orange']\n"
     ]
    }
   ],
   "source": [
    "another_list_of_fruits = ['Mango','Orange']\n",
    "print(list_of_fruits)\n",
    "print(another_list_of_fruits )"
   ]
  },
  {
   "cell_type": "code",
   "execution_count": 19,
   "metadata": {},
   "outputs": [
    {
     "name": "stdout",
     "output_type": "stream",
     "text": [
      "['Watermelon', 'Bannana', 'Cherry', 'Dragonfruit ', 'Fig', 'Grape', 'Guava', 'Apple', 'Pine Apple', 'Mango', 'Orange']\n"
     ]
    }
   ],
   "source": [
    "updated_list_of_fruits = list_of_fruits + another_list_of_fruits\n",
    "print(updated_list_of_fruits)"
   ]
  },
  {
   "cell_type": "markdown",
   "metadata": {},
   "source": [
    "A List objects can be added/appended together by using <b>+</b> and stored in another variable."
   ]
  },
  {
   "cell_type": "code",
   "execution_count": 20,
   "metadata": {},
   "outputs": [
    {
     "name": "stdout",
     "output_type": "stream",
     "text": [
      "['Pomegranate', 'Strawberry']\n",
      "['Watermelon', 'Bannana', 'Cherry', 'Dragonfruit ', 'Fig', 'Grape', 'Guava', 'Apple', 'Pine Apple', 'Mango', 'Orange']\n"
     ]
    }
   ],
   "source": [
    "more_fruits = ['Pomegranate','Strawberry']\n",
    "print(more_fruits)\n",
    "print(updated_list_of_fruits)"
   ]
  },
  {
   "cell_type": "code",
   "execution_count": 21,
   "metadata": {},
   "outputs": [
    {
     "name": "stdout",
     "output_type": "stream",
     "text": [
      "None\n",
      "['Watermelon', 'Bannana', 'Cherry', 'Dragonfruit ', 'Fig', 'Grape', 'Guava', 'Apple', 'Pine Apple', 'Mango', 'Orange', 'Pomegranate', 'Strawberry']\n"
     ]
    }
   ],
   "source": [
    "updated_with_more = updated_list_of_fruits.extend(more_fruits)\n",
    "print(updated_with_more)\n",
    "print(updated_list_of_fruits)"
   ]
  },
  {
   "cell_type": "markdown",
   "metadata": {},
   "source": [
    "List objects can be added/appended together by using <b>.extend()</b> and stored in the same variable."
   ]
  },
  {
   "cell_type": "code",
   "execution_count": 22,
   "metadata": {},
   "outputs": [
    {
     "name": "stdout",
     "output_type": "stream",
     "text": [
      "['Watermelon', 'Bannana', 'Cherry', 'Dragonfruit ', 'Fig', 'Grape', 'Guava', 'Apple', 'Pine Apple', 'Mango', 'Orange', 'Pomegranate', 'Strawberry']\n",
      "['Tomato']\n"
     ]
    }
   ],
   "source": [
    "i_am_also_a_fruit = ['Tomato']\n",
    "print(updated_list_of_fruits)\n",
    "print(i_am_also_a_fruit)"
   ]
  },
  {
   "cell_type": "code",
   "execution_count": 23,
   "metadata": {},
   "outputs": [
    {
     "name": "stdout",
     "output_type": "stream",
     "text": [
      "['Watermelon', 'Bannana', 'Cherry', 'Dragonfruit ', 'Fig', 'Grape', 'Guava', 'Apple', 'Pine Apple', 'Mango', 'Orange', 'Pomegranate', 'Strawberry', 'Tomato']\n"
     ]
    }
   ],
   "source": [
    "updated_list_of_fruits += i_am_also_a_fruit\n",
    "print(updated_list_of_fruits)"
   ]
  },
  {
   "cell_type": "markdown",
   "metadata": {},
   "source": [
    "List objects can be added/appended together by using <b>+=</b> and stored in the same variable."
   ]
  },
  {
   "cell_type": "code",
   "execution_count": 24,
   "metadata": {},
   "outputs": [
    {
     "name": "stdout",
     "output_type": "stream",
     "text": [
      "['Watermelon', 'Bannana', 'Cherry', 'Peach', 'Dragonfruit ', 'Fig', 'Grape', 'Guava', 'Apple', 'Pine Apple', 'Mango', 'Orange', 'Pomegranate', 'Strawberry', 'Tomato']\n"
     ]
    }
   ],
   "source": [
    "updated_list_of_fruits.insert(3,'Peach') # inserting with use of offset 3rd offset 4th position\n",
    "print(updated_list_of_fruits)"
   ]
  },
  {
   "cell_type": "markdown",
   "metadata": {},
   "source": [
    "An element can be inserted in a particular position using offset address using <b>.insert(position, element)</b>"
   ]
  },
  {
   "cell_type": "code",
   "execution_count": 25,
   "metadata": {},
   "outputs": [
    {
     "name": "stdout",
     "output_type": "stream",
     "text": [
      "['Watermelon', 'Bannana', 'Cherry', 'Peach', 'Dragonfruit ', 'Fig', 'Grape', 'Guava', 'Apple', 'Pine Apple', 'Mango', 'Orange', 'Pomegranate', 'Strawberry', 'Tomato']\n",
      "['Raspberry', 'Star Fruit']\n"
     ]
    }
   ],
   "source": [
    "two_more_fruits = ['Raspberry','Star Fruit']\n",
    "print(updated_list_of_fruits)\n",
    "print(two_more_fruits)"
   ]
  },
  {
   "cell_type": "code",
   "execution_count": 26,
   "metadata": {},
   "outputs": [
    {
     "name": "stdout",
     "output_type": "stream",
     "text": [
      "['Watermelon', 'Bannana', 'Cherry', 'Peach', 'Dragonfruit ', 'Fig', 'Grape', 'Guava', 'Apple', 'Pine Apple', 'Mango', 'Orange', 'Pomegranate', 'Strawberry', 'Tomato', ['Raspberry', 'Star Fruit']]\n"
     ]
    }
   ],
   "source": [
    "updated_list_of_fruits.append(two_more_fruits)\n",
    "print(updated_list_of_fruits)"
   ]
  },
  {
   "cell_type": "code",
   "execution_count": 27,
   "metadata": {
    "scrolled": true
   },
   "outputs": [
    {
     "name": "stdout",
     "output_type": "stream",
     "text": [
      "['Watermelon', 'Bannana', 'Cherry', 'Peach', 'Dragonfruit ', 'Fig', 'Grape', 'Guava', 'Apple', 'Pine Apple', 'Mango', 'Orange', 'Pomegranate', 'Strawberry', 'Tomato', ['Raspberry', 'Star Fruit'], 'Raspberry', 'Star Fruit']\n"
     ]
    }
   ],
   "source": [
    "updated_list_of_fruits.extend(two_more_fruits) #concatenating updated_list_of_fruits with two_more_fruits\n",
    "print(updated_list_of_fruits)"
   ]
  },
  {
   "cell_type": "markdown",
   "metadata": {},
   "source": [
    "<span style='color:red'>Note : <b>.append()</b> cannot be used like <b>.extend()</b></span>\n",
    "\n",
    "<b>.append()</b> adds an element to a list, and <b>.extend()</b> concatenates the first list with another list (or another iterable, not necessarily a list.)"
   ]
  },
  {
   "cell_type": "code",
   "execution_count": 28,
   "metadata": {},
   "outputs": [
    {
     "name": "stdout",
     "output_type": "stream",
     "text": [
      "['Bannana', 'Cherry', 'Peach', 'Dragonfruit ', 'Fig', 'Grape', 'Guava', 'Apple', 'Pine Apple', 'Mango', 'Orange', 'Pomegranate', 'Strawberry', 'Tomato', ['Raspberry', 'Star Fruit'], 'Raspberry', 'Star Fruit']\n"
     ]
    }
   ],
   "source": [
    "del updated_list_of_fruits[0]\n",
    "print(updated_list_of_fruits)"
   ]
  },
  {
   "cell_type": "markdown",
   "metadata": {},
   "source": [
    "Certain elements can be deleted by using <b>del</b> along with <b>List element</b>"
   ]
  },
  {
   "cell_type": "code",
   "execution_count": 29,
   "metadata": {},
   "outputs": [
    {
     "name": "stdout",
     "output_type": "stream",
     "text": [
      "['Bannana', 'Cherry', 'Peach', 'Dragonfruit ', 'Fig', 'Grape', 'Guava', 'Apple', 'Pine Apple', 'Mango', 'Orange', 'Pomegranate', 'Strawberry', 'Tomato', ['Raspberry', 'Star Fruit'], 'Raspberry']\n"
     ]
    }
   ],
   "source": [
    "del updated_list_of_fruits[-1]\n",
    "print(updated_list_of_fruits)"
   ]
  },
  {
   "cell_type": "code",
   "execution_count": 30,
   "metadata": {},
   "outputs": [
    {
     "name": "stdout",
     "output_type": "stream",
     "text": [
      "['Bannana', 'Cherry', 'Peach', 'Fig', 'Grape', 'Guava', 'Apple', 'Pine Apple', 'Mango', 'Orange', 'Pomegranate', 'Strawberry', 'Tomato', ['Raspberry', 'Star Fruit'], 'Raspberry']\n"
     ]
    }
   ],
   "source": [
    "del updated_list_of_fruits[3]\n",
    "print(updated_list_of_fruits)"
   ]
  },
  {
   "cell_type": "code",
   "execution_count": 31,
   "metadata": {},
   "outputs": [
    {
     "name": "stdout",
     "output_type": "stream",
     "text": [
      "['Bannana', 'Cherry', 'Peach', 'Fig', 'Guava', 'Apple', 'Pine Apple', 'Mango', 'Orange', 'Pomegranate', 'Strawberry', 'Tomato', ['Raspberry', 'Star Fruit'], 'Raspberry']\n"
     ]
    }
   ],
   "source": [
    "updated_list_of_fruits.remove('Grape')\n",
    "print(updated_list_of_fruits)"
   ]
  },
  {
   "cell_type": "markdown",
   "metadata": {},
   "source": [
    "Elements can also be deleted by using <b>.remove()</b> by specifying element in them"
   ]
  },
  {
   "cell_type": "code",
   "execution_count": 32,
   "metadata": {},
   "outputs": [
    {
     "name": "stdout",
     "output_type": "stream",
     "text": [
      "['Bannana', 'Cherry', 'Peach', 'Fig', 'Guava', 'Apple', 'Pine Apple', 'Mango', 'Orange', 'Pomegranate', 'Strawberry', 'Tomato', ['Raspberry', 'Star Fruit']]\n"
     ]
    }
   ],
   "source": [
    "updated_list_of_fruits.pop()\n",
    "print(updated_list_of_fruits)"
   ]
  },
  {
   "cell_type": "markdown",
   "metadata": {},
   "source": [
    "<b>.pop()</b> can be used remove an element from the end"
   ]
  },
  {
   "cell_type": "code",
   "execution_count": 33,
   "metadata": {},
   "outputs": [
    {
     "name": "stdout",
     "output_type": "stream",
     "text": [
      "['Bannana', 'Cherry', 'Fig', 'Guava', 'Apple', 'Pine Apple', 'Mango', 'Orange', 'Pomegranate', 'Strawberry', 'Tomato', ['Raspberry', 'Star Fruit']]\n"
     ]
    }
   ],
   "source": [
    "updated_list_of_fruits.pop(2) #Peach is removed\n",
    "print(updated_list_of_fruits)"
   ]
  },
  {
   "cell_type": "markdown",
   "metadata": {},
   "source": [
    "<b>.pop()</b> can be used remove a specific element, by specifying its offset"
   ]
  },
  {
   "cell_type": "code",
   "execution_count": 34,
   "metadata": {},
   "outputs": [
    {
     "name": "stdout",
     "output_type": "stream",
     "text": [
      "True\n"
     ]
    }
   ],
   "source": [
    "is_apple_present ='Apple' in updated_list_of_fruits\n",
    "print(is_apple_present )"
   ]
  },
  {
   "cell_type": "markdown",
   "metadata": {},
   "source": [
    "<b>in</b> lets you to check whether an element is present in the list"
   ]
  },
  {
   "cell_type": "code",
   "execution_count": 35,
   "metadata": {},
   "outputs": [
    {
     "name": "stdout",
     "output_type": "stream",
     "text": [
      "True\n"
     ]
    }
   ],
   "source": [
    "is_grape_present ='Grape' in updated_list_of_fruits\n",
    "print(is_apple_present )"
   ]
  },
  {
   "cell_type": "code",
   "execution_count": 36,
   "metadata": {},
   "outputs": [
    {
     "name": "stdout",
     "output_type": "stream",
     "text": [
      "1\n"
     ]
    }
   ],
   "source": [
    "count_of_apples = updated_list_of_fruits.count('Apple')\n",
    "print(count_of_apples)"
   ]
  },
  {
   "cell_type": "markdown",
   "metadata": {},
   "source": [
    "<b>.count()</b> lets you to count occurance of a specific element."
   ]
  },
  {
   "cell_type": "code",
   "execution_count": 37,
   "metadata": {},
   "outputs": [
    {
     "name": "stdout",
     "output_type": "stream",
     "text": [
      "['Bannana', 'Cherry', 'Fig', 'Guava', 'Apple', 'Pine Apple', 'Mango', 'Orange', 'Pomegranate', 'Strawberry', 'Tomato', ['Raspberry', 'Star Fruit'], 'Apple']\n"
     ]
    }
   ],
   "source": [
    "updated_list_of_fruits.append('Apple') # lets add one more apple\n",
    "print(updated_list_of_fruits)"
   ]
  },
  {
   "cell_type": "code",
   "execution_count": 38,
   "metadata": {},
   "outputs": [
    {
     "name": "stdout",
     "output_type": "stream",
     "text": [
      "2\n"
     ]
    }
   ],
   "source": [
    "count_of_apples = updated_list_of_fruits.count('Apple')\n",
    "print(count_of_apples)"
   ]
  },
  {
   "cell_type": "code",
   "execution_count": 39,
   "metadata": {},
   "outputs": [
    {
     "name": "stdout",
     "output_type": "stream",
     "text": [
      "0\n"
     ]
    }
   ],
   "source": [
    "count_of_grape = updated_list_of_fruits.count('Grape')\n",
    "print(count_of_grape)"
   ]
  },
  {
   "cell_type": "code",
   "execution_count": 40,
   "metadata": {},
   "outputs": [
    {
     "name": "stdout",
     "output_type": "stream",
     "text": [
      "Bannana, Cherry, Fig, Guava, Apple, Pine Apple, Mango, Orange, Pomegranate, Strawberry, Tomato\n"
     ]
    }
   ],
   "source": [
    "list_of_fruits = ['Bannana', 'Cherry', 'Fig', 'Guava', 'Apple', 'Pine Apple', 'Mango', 'Orange', 'Pomegranate', 'Strawberry', 'Tomato']\n",
    "lets_list_them_out_in_a_sentence = ', '.join(list_of_fruits)\n",
    "print(lets_list_them_out_in_a_sentence)"
   ]
  },
  {
   "cell_type": "markdown",
   "metadata": {},
   "source": [
    " The<b>.join()</b> method returns a string concatenated with the elements of iterable."
   ]
  },
  {
   "cell_type": "code",
   "execution_count": 41,
   "metadata": {},
   "outputs": [
    {
     "ename": "TypeError",
     "evalue": "sequence item 0: expected str instance, int found",
     "output_type": "error",
     "traceback": [
      "\u001b[1;31m---------------------------------------------------------------------------\u001b[0m",
      "\u001b[1;31mTypeError\u001b[0m                                 Traceback (most recent call last)",
      "\u001b[1;32m<ipython-input-41-3b230c205378>\u001b[0m in \u001b[0;36m<module>\u001b[1;34m()\u001b[0m\n\u001b[0;32m      1\u001b[0m \u001b[0mlist_of_numbers\u001b[0m\u001b[1;33m=\u001b[0m\u001b[1;33m[\u001b[0m\u001b[1;36m1\u001b[0m\u001b[1;33m,\u001b[0m\u001b[1;36m2\u001b[0m\u001b[1;33m,\u001b[0m\u001b[1;36m3\u001b[0m\u001b[1;33m,\u001b[0m\u001b[1;36m4\u001b[0m\u001b[1;33m,\u001b[0m\u001b[1;36m5\u001b[0m\u001b[1;33m,\u001b[0m\u001b[1;36m6\u001b[0m\u001b[1;33m]\u001b[0m\u001b[1;33m\u001b[0m\u001b[0m\n\u001b[1;32m----> 2\u001b[1;33m \u001b[0mlets_list_them_out_in_a_sentence\u001b[0m \u001b[1;33m=\u001b[0m \u001b[1;34m', '\u001b[0m\u001b[1;33m.\u001b[0m\u001b[0mjoin\u001b[0m\u001b[1;33m(\u001b[0m\u001b[0mlist_of_numbers\u001b[0m\u001b[1;33m)\u001b[0m\u001b[1;33m\u001b[0m\u001b[0m\n\u001b[0m\u001b[0;32m      3\u001b[0m \u001b[0mprint\u001b[0m\u001b[1;33m(\u001b[0m\u001b[0mlets_list_them_out_in_a_sentence\u001b[0m\u001b[1;33m)\u001b[0m\u001b[1;33m\u001b[0m\u001b[0m\n",
      "\u001b[1;31mTypeError\u001b[0m: sequence item 0: expected str instance, int found"
     ]
    }
   ],
   "source": [
    "list_of_numbers=[1,2,3,4,5,6]\n",
    "lets_list_them_out_in_a_sentence = ', '.join(list_of_numbers)\n",
    "print(lets_list_them_out_in_a_sentence)"
   ]
  },
  {
   "cell_type": "markdown",
   "metadata": {},
   "source": [
    " <span style='color:red'><b>Type Error:</b> The join function only supports type string</span>\n",
    " \n",
    " Above the example for type <b>int</b>. Feel free to try out for other data types too."
   ]
  },
  {
   "cell_type": "code",
   "execution_count": 42,
   "metadata": {},
   "outputs": [
    {
     "name": "stdout",
     "output_type": "stream",
     "text": [
      "atcodedog\n"
     ]
    }
   ],
   "source": [
    "list1 = ['a','t','c','o', 'd','e','d','o','g'] #to demonstrate the use of join function to join listelements without any separator.\n",
    "print(\"\".join(list1))    #Joining with empty separator    "
   ]
  },
  {
   "cell_type": "code",
   "execution_count": 43,
   "metadata": {},
   "outputs": [
    {
     "name": "stdout",
     "output_type": "stream",
     "text": [
      "a_t_c_o_d_e_d_o_g\n"
     ]
    }
   ],
   "source": [
    "list1 =['a','t','c','o','d','e','d','o','g']\n",
    "s=('_'.join(list1)) #to demonstrate the use of join function to join listelements with a character.\n",
    "print(s)    "
   ]
  },
  {
   "cell_type": "markdown",
   "metadata": {},
   "source": [
    "In the above case '_ ' was a seperator\n",
    "\n",
    "seperator can also be defined from a variable"
   ]
  },
  {
   "cell_type": "code",
   "execution_count": 44,
   "metadata": {},
   "outputs": [
    {
     "name": "stdout",
     "output_type": "stream",
     "text": [
      "Bannana * Cherry * Fig * Guava * Apple * Pine Apple * Mango * Orange * Pomegranate * Strawberry * Tomato\n"
     ]
    }
   ],
   "source": [
    "seperator = ' * '\n",
    "lets_list_them_out_in_a_sentence_with_star = seperator.join(list_of_fruits)\n",
    "print(lets_list_them_out_in_a_sentence_with_star)"
   ]
  },
  {
   "cell_type": "code",
   "execution_count": 45,
   "metadata": {},
   "outputs": [
    {
     "name": "stdout",
     "output_type": "stream",
     "text": [
      "['Bannana', 'Cherry', 'Fig', 'Guava', 'Apple', 'Pine Apple', 'Mango', 'Orange', 'Pomegranate', 'Strawberry', 'Tomato']\n"
     ]
    }
   ],
   "source": [
    "seperator = ' * '\n",
    "list_me_back = lets_list_them_out_in_a_sentence_with_star.split(seperator)\n",
    "print(list_me_back)"
   ]
  },
  {
   "cell_type": "markdown",
   "metadata": {},
   "source": [
    "Similar way <b>.split()</b> lets you to convert string to list.\n",
    "\n",
    "This was also covered in <b>Book 1.</b> under strings"
   ]
  },
  {
   "cell_type": "code",
   "execution_count": 46,
   "metadata": {},
   "outputs": [
    {
     "name": "stdout",
     "output_type": "stream",
     "text": [
      "['f', 'e', 'd', 'c', 'b', 'a']\n"
     ]
    }
   ],
   "source": [
    "fresh_list = ['a','b','c','d','e','f']\n",
    "fresh_list = fresh_list[-1::-1] # reverses the list, similar to string reverse\n",
    "print(fresh_list)"
   ]
  },
  {
   "cell_type": "code",
   "execution_count": 47,
   "metadata": {},
   "outputs": [
    {
     "name": "stdout",
     "output_type": "stream",
     "text": [
      "['a', 'b', 'c', 'd', 'e', 'f']\n"
     ]
    }
   ],
   "source": [
    "sorted_list = sorted(fresh_list) \n",
    "print(sorted_list)"
   ]
  },
  {
   "cell_type": "markdown",
   "metadata": {},
   "source": [
    "<b>sorted()</b> returns an object copy of sorted list but does not sort the actual list\n",
    "\n",
    "This list is sorted alphabetically"
   ]
  },
  {
   "cell_type": "code",
   "execution_count": 48,
   "metadata": {},
   "outputs": [
    {
     "name": "stdout",
     "output_type": "stream",
     "text": [
      "['Apple', 'Bannana', 'Cherry', 'Fig', 'Guava', 'Mango', 'Orange', 'Pine Apple', 'Pomegranate', 'Strawberry', 'Tomato']\n"
     ]
    }
   ],
   "source": [
    "sorted_fruits = sorted(list_of_fruits)\n",
    "print(sorted_fruits)"
   ]
  },
  {
   "cell_type": "code",
   "execution_count": 49,
   "metadata": {},
   "outputs": [
    {
     "name": "stdout",
     "output_type": "stream",
     "text": [
      "['f', 'e', 'd', 'c', 'b', 'a']\n"
     ]
    }
   ],
   "source": [
    "fresh_list.sort(reverse=True)\n",
    "print(fresh_list)"
   ]
  },
  {
   "cell_type": "markdown",
   "metadata": {},
   "source": [
    "<b>sort()</b> lets you to sort in reverse order. It doesnt return any value."
   ]
  },
  {
   "cell_type": "code",
   "execution_count": 50,
   "metadata": {},
   "outputs": [
    {
     "name": "stdout",
     "output_type": "stream",
     "text": [
      "['a', 'b', 'c', 'd', 'e', 'f']\n"
     ]
    }
   ],
   "source": [
    "fresh_list.sort(reverse=False)\n",
    "print(fresh_list)"
   ]
  },
  {
   "cell_type": "markdown",
   "metadata": {},
   "source": [
    "setting it to <b>False</b> will sort it in ascending order and not reverse it"
   ]
  },
  {
   "cell_type": "markdown",
   "metadata": {},
   "source": [
    "<h6> Assigning with = and copy with copy()</h6>"
   ]
  },
  {
   "cell_type": "code",
   "execution_count": 51,
   "metadata": {},
   "outputs": [
    {
     "name": "stdout",
     "output_type": "stream",
     "text": [
      "['1', '2', '3']\n"
     ]
    }
   ],
   "source": [
    "a = ['1','2','3']\n",
    "print(a)"
   ]
  },
  {
   "cell_type": "code",
   "execution_count": 52,
   "metadata": {},
   "outputs": [
    {
     "name": "stdout",
     "output_type": "stream",
     "text": [
      "['1', '2', '3']\n",
      "['1', '2', '3']\n"
     ]
    }
   ],
   "source": [
    "b = a\n",
    "print(a)\n",
    "print(b)"
   ]
  },
  {
   "cell_type": "code",
   "execution_count": 53,
   "metadata": {},
   "outputs": [
    {
     "name": "stdout",
     "output_type": "stream",
     "text": [
      "['suprise', '2', '3']\n",
      "['suprise', '2', '3']\n"
     ]
    }
   ],
   "source": [
    "a[0]='suprise'\n",
    "print(a)\n",
    "print(b)"
   ]
  },
  {
   "cell_type": "code",
   "execution_count": 54,
   "metadata": {},
   "outputs": [
    {
     "name": "stdout",
     "output_type": "stream",
     "text": [
      "['I hate suprise', '2', '3']\n",
      "['I hate suprise', '2', '3']\n"
     ]
    }
   ],
   "source": [
    "b[0] = 'I hate suprise'\n",
    "print(a)\n",
    "print(b)"
   ]
  },
  {
   "cell_type": "markdown",
   "metadata": {},
   "source": [
    "In above case both labels are pointing to the same List object.\n",
    "\n",
    "Hence they share the same values and are affected by each others assignments.\n",
    "\n",
    "<span style='color:red'>Note : This concept has been covered in <b>Book 1.</b> while explaining \"Python mutable variable concept\" refer back more grip on the concept</span>"
   ]
  },
  {
   "cell_type": "markdown",
   "metadata": {},
   "source": [
    "<span style='color:green'>Lets see how we can create a <b>Copy of List objects</b></span>\n",
    "\n",
    "<span style='color:green'>Copy can be created by 3 ways</span>"
   ]
  },
  {
   "cell_type": "code",
   "execution_count": 55,
   "metadata": {},
   "outputs": [
    {
     "name": "stdout",
     "output_type": "stream",
     "text": [
      "['1', '2', '3']\n",
      "['1', '2', '3']\n",
      "['1', '2', '3']\n",
      "['1', '2', '3']\n"
     ]
    }
   ],
   "source": [
    "a = ['1','2','3']\n",
    "b = a.copy()\n",
    "c = list(a)\n",
    "d = a[:]\n",
    "\n",
    "print(a)\n",
    "print(b)\n",
    "print(c)\n",
    "print(d)"
   ]
  },
  {
   "cell_type": "code",
   "execution_count": 56,
   "metadata": {},
   "outputs": [
    {
     "name": "stdout",
     "output_type": "stream",
     "text": [
      "['1', '2', '3']\n",
      "['this is b', '2', '3']\n",
      "['this is c', '2', '3']\n",
      "['this is d', '2', '3']\n"
     ]
    }
   ],
   "source": [
    "b[0]='this is b'\n",
    "c[0]='this is c'\n",
    "d[0]='this is d'\n",
    "\n",
    "print(a)\n",
    "print(b)\n",
    "print(c)\n",
    "print(d)"
   ]
  },
  {
   "cell_type": "markdown",
   "metadata": {},
   "source": [
    "<span style='color:green'>As we see can copy of list <b>a</b> is made in 3 ways. And all 3 are copies and are not interlinked</span>"
   ]
  },
  {
   "cell_type": "markdown",
   "metadata": {},
   "source": [
    "Since we are speaking about copies lets cover one more important advanced concept."
   ]
  },
  {
   "cell_type": "code",
   "execution_count": 57,
   "metadata": {},
   "outputs": [
    {
     "name": "stdout",
     "output_type": "stream",
     "text": [
      "[1, 2, 3, ['f', 'o', 'u', 'r'], 5]\n"
     ]
    }
   ],
   "source": [
    "this_is_a = [1,2,3,['f','o','u','r'],5]\n",
    "print(this_is_a)"
   ]
  },
  {
   "cell_type": "markdown",
   "metadata": {},
   "source": [
    "As you can see <b>this_is_a</b> is a List object with another List object as its element.\n",
    "\n",
    "Now lets create a copy of it."
   ]
  },
  {
   "cell_type": "code",
   "execution_count": 58,
   "metadata": {},
   "outputs": [
    {
     "name": "stdout",
     "output_type": "stream",
     "text": [
      "[1, 2, 3, ['f', 'o', 'u', 'r'], 5]\n",
      "[1, 2, 3, ['f', 'o', 'u', 'r'], 5]\n"
     ]
    }
   ],
   "source": [
    "copy_of_a = this_is_a .copy()\n",
    "print(this_is_a)\n",
    "print(copy_of_a)"
   ]
  },
  {
   "cell_type": "markdown",
   "metadata": {},
   "source": [
    "Lets make some changes"
   ]
  },
  {
   "cell_type": "code",
   "execution_count": 59,
   "metadata": {},
   "outputs": [
    {
     "name": "stdout",
     "output_type": "stream",
     "text": [
      "[1, 2, 3, ['f', 'o', 'u', 'r'], 5]\n",
      "[1, 10, 3, ['f', 'o', 'u', 'r'], 5]\n"
     ]
    }
   ],
   "source": [
    "copy_of_a[1]=10\n",
    "print(this_is_a)\n",
    "print(copy_of_a)"
   ]
  },
  {
   "cell_type": "markdown",
   "metadata": {},
   "source": [
    "Ok, as expected\n",
    "\n",
    "They both are not reflecting on each other.\n",
    "\n",
    "Now lets change an element in inner List object"
   ]
  },
  {
   "cell_type": "code",
   "execution_count": 60,
   "metadata": {},
   "outputs": [
    {
     "name": "stdout",
     "output_type": "stream",
     "text": [
      "[1, 2, 3, ['s', 'o', 'u', 'r'], 5]\n",
      "[1, 10, 3, ['s', 'o', 'u', 'r'], 5]\n"
     ]
    }
   ],
   "source": [
    "copy_of_a[3][0]='s'\n",
    "print(this_is_a)\n",
    "print(copy_of_a)"
   ]
  },
  {
   "cell_type": "markdown",
   "metadata": {},
   "source": [
    "<span style='color:red'>Why is it mirroring in the inner List ?! :(  </span>\n",
    "\n",
    "<span style='color:red'>Glad we faced this now when learning instead of facing it while developing</span>\n",
    "\n",
    "So whats happening ?\n",
    "\n",
    "<b>.copy()</b> is creating a shallow copy of the List object <b>this_is_a</b>. Now what does it mean ?\n",
    "\n",
    "Shallow copy creates a copy of elements only in the surface level. But in case on nested list, they both still point to the same list.\n",
    "\n",
    "So how can we make a list which doesnt even mirror the inner list. \n",
    "\n",
    "Here is how it can be done!"
   ]
  },
  {
   "cell_type": "code",
   "execution_count": 61,
   "metadata": {},
   "outputs": [
    {
     "name": "stdout",
     "output_type": "stream",
     "text": [
      "[1, 2, 3, ['s', 'o', 'u', 'r'], 5]\n",
      "[1, 10, 3, ['s', 'o', 'u', 'r'], 5]\n",
      "[1, 2, 3, ['s', 'o', 'u', 'r'], 5]\n"
     ]
    }
   ],
   "source": [
    "import copy # copy package should be imported\n",
    "\n",
    "deepcopy_of_a = copy.deepcopy(this_is_a)\n",
    "print(this_is_a)\n",
    "print(copy_of_a)\n",
    "print(deepcopy_of_a)"
   ]
  },
  {
   "cell_type": "code",
   "execution_count": 62,
   "metadata": {},
   "outputs": [
    {
     "name": "stdout",
     "output_type": "stream",
     "text": [
      "[1, 2, 3, ['s', 'o', 'u', 'r'], 5]\n",
      "[1, 10, 3, ['s', 'o', 'u', 'r'], 5]\n",
      "[1, 2, 3, ['f', 'o', 'u', 'r'], 5]\n"
     ]
    }
   ],
   "source": [
    "deepcopy_of_a[3][0]='f'\n",
    "print(this_is_a)\n",
    "print(copy_of_a)\n",
    "print(deepcopy_of_a)"
   ]
  },
  {
   "cell_type": "markdown",
   "metadata": {},
   "source": [
    "By seeing the above code, you might have guessed it by now, how it can be done?\n",
    "\n",
    "Yes, you have guessed it right?!:). The list which doesnt mirror inner list can be created by doing a deep copy.\n",
    "\n",
    "Deep copy creates a two distinct copy which is not inter linked."
   ]
  },
  {
   "cell_type": "markdown",
   "metadata": {},
   "source": [
    "Check here for more explaination : https://www.geeksforgeeks.org/copy-python-deep-copy-shallow-copy/"
   ]
  },
  {
   "cell_type": "markdown",
   "metadata": {},
   "source": [
    "Now, you might have the below questions\n",
    "\n",
    "Why does python have this shallow copy and deep copy ?<br>\n",
    "Why two different copies ?<br>\n",
    "Why not just deepcopy?<br>\n",
    "I could have simulated a shallow copy by using code like below"
   ]
  },
  {
   "cell_type": "code",
   "execution_count": 63,
   "metadata": {},
   "outputs": [
    {
     "name": "stdout",
     "output_type": "stream",
     "text": [
      "before changing\n",
      "[1, 2, 3, ['f', 'o', 'u', 'r'], 5]\n",
      "[1, 2, 3, ['f', 'o', 'u', 'r'], 5]\n",
      "after changing\n",
      "[1, 2, 3, ['s', 'o', 'u', 'r'], 5]\n",
      "[1, 2, 3, ['s', 'o', 'u', 'r'], 5]\n"
     ]
    }
   ],
   "source": [
    "inner_list = ['f','o','u','r']\n",
    "this_is_b = [1,2,3,inner_list,5]\n",
    "copy_of_b = this_is_b.copy()\n",
    "print(\"before changing\")\n",
    "print(this_is_b)\n",
    "print(copy_of_b)\n",
    "copy_of_b[3][0]='s'\n",
    "print(\"after changing\")\n",
    "print(this_is_b)\n",
    "print(copy_of_b)"
   ]
  },
  {
   "cell_type": "markdown",
   "metadata": {},
   "source": [
    "What is the significance of shallow copy?\n",
    "\n",
    "The main reason for it, is to save up space. By not creating multiple copies.\n",
    "\n",
    "Here is the justification for it from <b>python.org</b> docs<br>\n",
    "https://docs.python.org/2/library/copy.html\n",
    "\n",
    "<span style='color:red'><b>Desclaimer</b> : python.org is an standardised developer reference space. Without prior knowledge, it is sometimes hard to understand few concepts in it. Hence in these <b>Books</b> we always sumarize before asking you to checkout docs</span><br>"
   ]
  },
  {
   "cell_type": "markdown",
   "metadata": {},
   "source": [
    "<span style='color:green'>Uff, that was bit tough. But glad thats cleared out now itself. Lets jump into next section :)</span>"
   ]
  },
  {
   "cell_type": "markdown",
   "metadata": {},
   "source": [
    "<hr>"
   ]
  },
  {
   "cell_type": "markdown",
   "metadata": {},
   "source": [
    "<b>Tuples</b>\n",
    "\n",
    "Tuples are immutable(not modifiable) sequence structures of same data type/different data type.\n",
    "\n",
    "<b>()</b> represents a tuple object otherwise we can also just \n",
    "\n",
    "<span style='color:green'>Lets go ahead with creating a <b>Tuple</b> object</span>"
   ]
  },
  {
   "cell_type": "code",
   "execution_count": 1,
   "metadata": {},
   "outputs": [
    {
     "name": "stdout",
     "output_type": "stream",
     "text": [
      "(12345, 54321, 'hello!')\n"
     ]
    }
   ],
   "source": [
    "t = 12345, 54321, 'hello!'\n",
    "print(t)"
   ]
  },
  {
   "cell_type": "code",
   "execution_count": 64,
   "metadata": {},
   "outputs": [
    {
     "name": "stdout",
     "output_type": "stream",
     "text": [
      "(1, 2, 3, 4, 5)\n"
     ]
    }
   ],
   "source": [
    "integer_tuple = (1,2,3,4,5)# integer tuple\n",
    "print(integer_tuple)"
   ]
  },
  {
   "cell_type": "code",
   "execution_count": 65,
   "metadata": {},
   "outputs": [
    {
     "name": "stdout",
     "output_type": "stream",
     "text": [
      "(1.0, 2.0, 3.0)\n"
     ]
    }
   ],
   "source": [
    "floating_tuple = (1.0,2.0,3.0) # floating tuple\n",
    "print(floating_tuple)"
   ]
  },
  {
   "cell_type": "code",
   "execution_count": 66,
   "metadata": {},
   "outputs": [
    {
     "name": "stdout",
     "output_type": "stream",
     "text": [
      "(1.0, 2.0, 3.0)\n"
     ]
    }
   ],
   "source": [
    "boolean_tuple = (True,True,False) # boolean tuple\n",
    "print(floating_tuple)"
   ]
  },
  {
   "cell_type": "code",
   "execution_count": 67,
   "metadata": {},
   "outputs": [
    {
     "name": "stdout",
     "output_type": "stream",
     "text": [
      "('apple', 'bannana', 'carrot')\n"
     ]
    }
   ],
   "source": [
    "string_tuple = ('apple','bannana','carrot') # string tuple\n",
    "print(string_tuple)"
   ]
  },
  {
   "cell_type": "markdown",
   "metadata": {},
   "source": [
    "<span style='color:green'>Lets go ahead and create a <b>Tuple</b> object with collection of <b>different data type</b></span>"
   ]
  },
  {
   "cell_type": "code",
   "execution_count": 68,
   "metadata": {},
   "outputs": [
    {
     "name": "stdout",
     "output_type": "stream",
     "text": [
      "(1, 2.0, 'carrots')\n"
     ]
    }
   ],
   "source": [
    "mixed_tuple = (1,2.0,'carrots') #  mixed tuple\n",
    "print(mixed_tuple)"
   ]
  },
  {
   "cell_type": "code",
   "execution_count": 69,
   "metadata": {},
   "outputs": [
    {
     "name": "stdout",
     "output_type": "stream",
     "text": [
      "1 <class 'int'>\n",
      "2.0 <class 'float'>\n",
      "carrots <class 'str'>\n",
      "(1, 2.0, 'carrots') <class 'tuple'>\n"
     ]
    }
   ],
   "source": [
    "print(mixed_tuple[0],type(mixed_tuple[0])) # 1st element is 1 of type Int\n",
    "print(mixed_tuple[1],type(mixed_tuple[1])) # 2nd element is 2.0 of type Float\n",
    "print(mixed_tuple[2],type(mixed_tuple[2])) # 3rd element is 'carrots' of type String\n",
    "print(mixed_tuple,type(mixed_tuple))"
   ]
  },
  {
   "cell_type": "markdown",
   "metadata": {},
   "source": [
    "<span style='color:green'>Lets wrap up everything and go ahead with creating a <b>Tuple</b> object of <b>Tuples</b></span>"
   ]
  },
  {
   "cell_type": "code",
   "execution_count": 70,
   "metadata": {},
   "outputs": [
    {
     "name": "stdout",
     "output_type": "stream",
     "text": [
      "((1, 2, 3, 4, 5), (1.0, 2.0, 3.0), ('apple', 'bannana', 'carrot'), (1, 2.0, 'carrots'))\n"
     ]
    }
   ],
   "source": [
    "tuple_of_tuples = (integer_tuple, floating_tuple, string_tuple, mixed_tuple) # tuple of tuples\n",
    "print(tuple_of_tuples)"
   ]
  },
  {
   "cell_type": "markdown",
   "metadata": {},
   "source": [
    "<span style='color:green'>Lets go ahead and <b>\"Mix &#38; Match\"</b> List and Tuple objects</span>"
   ]
  },
  {
   "cell_type": "code",
   "execution_count": 71,
   "metadata": {},
   "outputs": [
    {
     "name": "stdout",
     "output_type": "stream",
     "text": [
      "([1, 2, 3, 4, 5], [1.0, 2.0, 3.0], ['apple', 'bannana', 'carrot'], [1, 2.0, 'carrots'])\n"
     ]
    }
   ],
   "source": [
    "tuple_of_lists = (integer_list, floating_list, string_list, mixed_list) # tuple of lists\n",
    "print(tuple_of_lists)"
   ]
  },
  {
   "cell_type": "code",
   "execution_count": 72,
   "metadata": {},
   "outputs": [
    {
     "name": "stdout",
     "output_type": "stream",
     "text": [
      "type :  <class 'tuple'>\n",
      "value :  ('get', 'set', 'go')\n"
     ]
    }
   ],
   "source": [
    "i_am_a_tuple = ('get','set','go') \n",
    "print('type : ',type(i_am_a_tuple))\n",
    "print('value : ',i_am_a_tuple)"
   ]
  },
  {
   "cell_type": "code",
   "execution_count": 73,
   "metadata": {},
   "outputs": [
    {
     "name": "stdout",
     "output_type": "stream",
     "text": [
      "type :  <class 'list'>\n",
      "value :  ['get', 'set', 'go']\n"
     ]
    }
   ],
   "source": [
    "tuple_converted_to_list = list(i_am_a_tuple) \n",
    "print('type : ',type(tuple_converted_to_list))\n",
    "print('value : ',tuple_converted_to_list)"
   ]
  },
  {
   "cell_type": "markdown",
   "metadata": {},
   "source": [
    "Passing Tuple in <b>list()</b> lets you to convert it into a list"
   ]
  },
  {
   "cell_type": "code",
   "execution_count": 74,
   "metadata": {},
   "outputs": [
    {
     "name": "stdout",
     "output_type": "stream",
     "text": [
      "type :  <class 'list'>\n",
      "value :  ['hey', 'hi', 'hello']\n"
     ]
    }
   ],
   "source": [
    "i_am_a_list = ['hey','hi','hello']\n",
    "print('type : ',type(i_am_a_list ))\n",
    "print('value : ',i_am_a_list )"
   ]
  },
  {
   "cell_type": "code",
   "execution_count": 75,
   "metadata": {},
   "outputs": [
    {
     "name": "stdout",
     "output_type": "stream",
     "text": [
      "type :  <class 'tuple'>\n",
      "value :  ('hey', 'hi', 'hello')\n"
     ]
    }
   ],
   "source": [
    "list_converted_to_tuple = tuple(i_am_a_list) \n",
    "print('type : ',type(list_converted_to_tuple))\n",
    "print('value : ',list_converted_to_tuple)"
   ]
  },
  {
   "cell_type": "markdown",
   "metadata": {},
   "source": [
    "Passing List in <b>tuple()</b> lets you to convert it into a tuple"
   ]
  },
  {
   "cell_type": "code",
   "execution_count": 76,
   "metadata": {},
   "outputs": [
    {
     "name": "stdout",
     "output_type": "stream",
     "text": [
      "('Mercury', 'Venus', 'Earth', 'Mars', 'Jupiter', 'Saturn', 'Uranus', 'Neptune')\n",
      "length/count :  8\n"
     ]
    }
   ],
   "source": [
    "tuple_of_planets = ('Mercury','Venus','Earth','Mars','Jupiter','Saturn','Uranus','Neptune')\n",
    "print(tuple_of_planets)\n",
    "print(\"length/count : \",len(tuple_of_planets))"
   ]
  },
  {
   "cell_type": "markdown",
   "metadata": {},
   "source": [
    "<b>len()</b> works in the similar to list and strings. It returns the size of the tuple."
   ]
  },
  {
   "cell_type": "code",
   "execution_count": 77,
   "metadata": {},
   "outputs": [
    {
     "name": "stdout",
     "output_type": "stream",
     "text": [
      "Venus\n"
     ]
    }
   ],
   "source": [
    "print(tuple_of_planets [1])"
   ]
  },
  {
   "cell_type": "markdown",
   "metadata": {},
   "source": [
    "The elements are accessed by using offsets position. \n",
    "\n",
    "Offset always starts from 0."
   ]
  },
  {
   "cell_type": "code",
   "execution_count": 78,
   "metadata": {},
   "outputs": [
    {
     "name": "stdout",
     "output_type": "stream",
     "text": [
      "Neptune\n"
     ]
    }
   ],
   "source": [
    "print(tuple_of_planets [-1])"
   ]
  },
  {
   "cell_type": "markdown",
   "metadata": {},
   "source": [
    "-1 returns the last element "
   ]
  },
  {
   "cell_type": "code",
   "execution_count": 79,
   "metadata": {},
   "outputs": [
    {
     "ename": "IndexError",
     "evalue": "tuple index out of range",
     "output_type": "error",
     "traceback": [
      "\u001b[1;31m---------------------------------------------------------------------------\u001b[0m",
      "\u001b[1;31mIndexError\u001b[0m                                Traceback (most recent call last)",
      "\u001b[1;32m<ipython-input-79-795685c347df>\u001b[0m in \u001b[0;36m<module>\u001b[1;34m()\u001b[0m\n\u001b[1;32m----> 1\u001b[1;33m \u001b[0mprint\u001b[0m\u001b[1;33m(\u001b[0m\u001b[0mtuple_of_planets\u001b[0m \u001b[1;33m[\u001b[0m\u001b[1;36m9\u001b[0m\u001b[1;33m]\u001b[0m\u001b[1;33m)\u001b[0m\u001b[1;33m\u001b[0m\u001b[0m\n\u001b[0m",
      "\u001b[1;31mIndexError\u001b[0m: tuple index out of range"
     ]
    }
   ],
   "source": [
    "print(tuple_of_planets [9])"
   ]
  },
  {
   "cell_type": "markdown",
   "metadata": {},
   "source": [
    "<b>index out of range</b> error thrown when the element in the index is not present"
   ]
  },
  {
   "cell_type": "code",
   "execution_count": 80,
   "metadata": {},
   "outputs": [
    {
     "ename": "TypeError",
     "evalue": "'tuple' object does not support item assignment",
     "output_type": "error",
     "traceback": [
      "\u001b[1;31m---------------------------------------------------------------------------\u001b[0m",
      "\u001b[1;31mTypeError\u001b[0m                                 Traceback (most recent call last)",
      "\u001b[1;32m<ipython-input-80-1b12ed2beb0f>\u001b[0m in \u001b[0;36m<module>\u001b[1;34m()\u001b[0m\n\u001b[1;32m----> 1\u001b[1;33m \u001b[0mtuple_of_planets\u001b[0m\u001b[1;33m[\u001b[0m\u001b[1;36m0\u001b[0m\u001b[1;33m]\u001b[0m\u001b[1;33m=\u001b[0m\u001b[1;34m'Pluto'\u001b[0m \u001b[1;31m# changing 1st element of the tuple\u001b[0m\u001b[1;33m\u001b[0m\u001b[0m\n\u001b[0m\u001b[0;32m      2\u001b[0m \u001b[0mprint\u001b[0m\u001b[1;33m(\u001b[0m\u001b[0mtuple_of_planets\u001b[0m\u001b[1;33m)\u001b[0m\u001b[1;33m\u001b[0m\u001b[0m\n",
      "\u001b[1;31mTypeError\u001b[0m: 'tuple' object does not support item assignment"
     ]
    }
   ],
   "source": [
    "tuple_of_planets[0]='Pluto' # changing 1st element of the tuple\n",
    "print(tuple_of_planets)"
   ]
  },
  {
   "cell_type": "markdown",
   "metadata": {},
   "source": [
    "<span style='color:red'>The error is thrown because <b>Tuple</b> is an immutable datatype and it doesnt allow modification and assignment.</span>\n",
    "\n",
    "<span style='color:green'>If you want to change element in a tuple. It must be changed to list to change the value. Later again change to tuple.</span>"
   ]
  },
  {
   "cell_type": "code",
   "execution_count": 81,
   "metadata": {},
   "outputs": [
    {
     "name": "stdout",
     "output_type": "stream",
     "text": [
      "('Pluto', 'Venus', 'Earth', 'Mars', 'Jupiter', 'Saturn', 'Uranus', 'Neptune')\n"
     ]
    }
   ],
   "source": [
    "list_of_planets = list(tuple_of_planets)\n",
    "list_of_planets[0]='Pluto' \n",
    "tuple_of_planets = tuple(list_of_planets)\n",
    "print(tuple_of_planets)"
   ]
  },
  {
   "cell_type": "markdown",
   "metadata": {},
   "source": [
    "We can see that 1st element(offset 0) has its value changed from 'Mercury' to 'Pluto'\n",
    "\n",
    "This is the only possible way of modifying tuple.\n",
    "\n",
    "Hey, folks!\n",
    "\n",
    "I would recommend you folks to know about main differences between <b>Lists</b> & <b>Tuples</b>!\n",
    "\n",
    "Cool! Here you go!:http://wiki.schoolcoders.com/coding-in-python/python-for-teachers/list-vs-tuples/"
   ]
  },
  {
   "cell_type": "markdown",
   "metadata": {},
   "source": [
    "Just to add one more stuff, Let's see what is <b>Tuple unpacking</b> or <b>Multiple assignment</b> ? "
   ]
  },
  {
   "cell_type": "markdown",
   "metadata": {},
   "source": [
    "\"Tuple unpacking requires that the list of variables on the left has the same number of elements as the length of the tuple.\"\n"
   ]
  },
  {
   "cell_type": "code",
   "execution_count": 82,
   "metadata": {},
   "outputs": [
    {
     "name": "stdout",
     "output_type": "stream",
     "text": [
      "1\n",
      "2\n",
      "3\n",
      "4\n"
     ]
    }
   ],
   "source": [
    "(a,b,c,d)=(1,2,3,4)\n",
    "print(a)\n",
    "print(b)\n",
    "print(c)\n",
    "print(d)"
   ]
  },
  {
   "cell_type": "code",
   "execution_count": 83,
   "metadata": {},
   "outputs": [
    {
     "ename": "ValueError",
     "evalue": "not enough values to unpack (expected 4, got 2)",
     "output_type": "error",
     "traceback": [
      "\u001b[1;31m---------------------------------------------------------------------------\u001b[0m",
      "\u001b[1;31mValueError\u001b[0m                                Traceback (most recent call last)",
      "\u001b[1;32m<ipython-input-83-d75b2c5e1110>\u001b[0m in \u001b[0;36m<module>\u001b[1;34m()\u001b[0m\n\u001b[1;32m----> 1\u001b[1;33m \u001b[1;33m(\u001b[0m\u001b[0ma\u001b[0m\u001b[1;33m,\u001b[0m\u001b[0mb\u001b[0m\u001b[1;33m,\u001b[0m\u001b[0mc\u001b[0m\u001b[1;33m,\u001b[0m\u001b[0md\u001b[0m\u001b[1;33m)\u001b[0m\u001b[1;33m=\u001b[0m\u001b[1;33m(\u001b[0m\u001b[1;36m1\u001b[0m\u001b[1;33m,\u001b[0m\u001b[1;36m2\u001b[0m\u001b[1;33m)\u001b[0m \u001b[1;31m#throws an error\u001b[0m\u001b[1;33m\u001b[0m\u001b[0m\n\u001b[0m\u001b[0;32m      2\u001b[0m \u001b[0mprint\u001b[0m\u001b[1;33m(\u001b[0m\u001b[0ma\u001b[0m\u001b[1;33m)\u001b[0m\u001b[1;33m\u001b[0m\u001b[0m\n\u001b[0;32m      3\u001b[0m \u001b[0mprint\u001b[0m\u001b[1;33m(\u001b[0m\u001b[0mb\u001b[0m\u001b[1;33m)\u001b[0m\u001b[1;33m\u001b[0m\u001b[0m\n\u001b[0;32m      4\u001b[0m \u001b[0mprint\u001b[0m\u001b[1;33m(\u001b[0m\u001b[0mc\u001b[0m\u001b[1;33m)\u001b[0m\u001b[1;33m\u001b[0m\u001b[0m\n\u001b[0;32m      5\u001b[0m \u001b[0mprint\u001b[0m\u001b[1;33m(\u001b[0m\u001b[0md\u001b[0m\u001b[1;33m)\u001b[0m\u001b[1;33m\u001b[0m\u001b[0m\n",
      "\u001b[1;31mValueError\u001b[0m: not enough values to unpack (expected 4, got 2)"
     ]
    }
   ],
   "source": [
    "(a,b,c,d)=(1,2) #throws an error\n",
    "print(a)\n",
    "print(b)\n",
    "print(c)\n",
    "print(d)"
   ]
  },
  {
   "cell_type": "markdown",
   "metadata": {},
   "source": [
    "Multiple assignment is often called “tuple unpacking” because it’s frequently used with tuples. But we can use multiple assignment with any iterable, not just tuples\n",
    "\n",
    "\n",
    "go ahead and explore more about tuple unpacking here:http://treyhunner.com/2018/03/tuple-unpacking-improves-python-code-readability/"
   ]
  },
  {
   "cell_type": "markdown",
   "metadata": {},
   "source": [
    "<br><br>\n",
    "<center><h2>End of Book</h2></center>"
   ]
  },
  {
   "cell_type": "markdown",
   "metadata": {},
   "source": [
    "<hr>\n",
    "<h3><b>Next book :</b> Book 2. Lists, Tuples, Dictionaries and Sets</h3>\n",
    "\n",
    "<b><a href='index.html'>Back Home</a></b>\n",
    "<hr>"
   ]
  },
  {
   "cell_type": "markdown",
   "metadata": {},
   "source": [
    "Source from atcodedog git repo\n",
    "\n",
    "Find more on\n",
    "\n",
    "https://github.com/atcodedog\n",
    "\n",
    "http://www.atcodedog.com\n",
    "\n",
    "Follow us on\n",
    "\n",
    "https://twitter.com/atcodedog"
   ]
  }
 ],
 "metadata": {
  "kernelspec": {
   "display_name": "Python 3",
   "language": "python",
   "name": "python3"
  },
  "language_info": {
   "codemirror_mode": {
    "name": "ipython",
    "version": 3
   },
   "file_extension": ".py",
   "mimetype": "text/x-python",
   "name": "python",
   "nbconvert_exporter": "python",
   "pygments_lexer": "ipython3",
   "version": "3.5.5"
  }
 },
 "nbformat": 4,
 "nbformat_minor": 2
}
