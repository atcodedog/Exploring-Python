{
 "cells": [
  {
   "cell_type": "markdown",
   "metadata": {},
   "source": [
    "<h1>Book 7. Classes and Objects</h1><hr>"
   ]
  },
  {
   "cell_type": "markdown",
   "metadata": {},
   "source": [
    "Before we start with explaination. Lets revisit some code from previous book, which will give you some understanding."
   ]
  },
  {
   "cell_type": "code",
   "execution_count": 1,
   "metadata": {},
   "outputs": [
    {
     "name": "stdout",
     "output_type": "stream",
     "text": [
      "True <class 'bool'>\n",
      "<class 'bool'>\n",
      "58 <class 'int'>\n",
      "<class 'int'>\n",
      "99.9 <class 'float'>\n",
      "<class 'float'>\n",
      "abc <class 'str'>\n",
      "<class 'str'>\n"
     ]
    }
   ],
   "source": [
    "a= True #Label 'a' is assigned to Bool type, contains only true or false\n",
    "print(a,type(a))\n",
    "print(type(True))\n",
    "a= 58 #Label 'a' is assigned to Integer type, Integer ignores decimal\n",
    "print(a,type(a))\n",
    "print(type(58))\n",
    "a= 99.9 #Label 'a' is assigned to Floating type, Float always inculdes decimals\n",
    "print(a,type(a))\n",
    "print(type(99.9))\n",
    "a= 'abc' #Label 'a' is assigned to String type\n",
    "print(a,type(a))\n",
    "print(type('abc'))"
   ]
  },
  {
   "cell_type": "markdown",
   "metadata": {},
   "source": [
    "Yes your hunch is right, all our datatypes in python are classes. \n",
    "\n",
    "<span style='color:red'><b>Note</b> : other languages generally doesnt consider/use classes for datatypes</span>\n",
    "\n",
    "And when a variable is created, an object of a class is created.\n",
    "\n",
    "i,e when <b>a = 58</b> is executed, object 58 of class <b>int</b> is created\n",
    "\n",
    "So whats is a class ? Classes provide a means of bundling data and functionality together. Creating a new class creates a new type of object, allowing new instances of that type to be made. Each class instance can have attributes attached to it for maintaining its state. Class instances can also have methods (defined by its class) for modifying its state.\n",
    "\n",
    "Reference : https://docs.python.org/3/tutorial/classes.html#classes\n",
    " \n",
    "The explaination might be bit sketchy. But dont worry it will be more clear as we explore.\n",
    "\n",
    "<span style='color:green'>Lets jump into action and create some classes :)</span>"
   ]
  },
  {
   "cell_type": "code",
   "execution_count": 6,
   "metadata": {},
   "outputs": [],
   "source": [
    "class MyFirstClass:\n",
    "    content_in_it = \"Hi there, i am the content in class 'MyFirstClass'\""
   ]
  },
  {
   "cell_type": "markdown",
   "metadata": {},
   "source": [
    "Class can be created by using keyword <b>class</b>. And <b>MyFirstClass</b> is the class name.\n",
    "\n",
    "<b>content_in_it</b> is a string object variable, which is an attribute of class <b>MyFirstClass</b>."
   ]
  },
  {
   "cell_type": "markdown",
   "metadata": {},
   "source": [
    "<div style='background-color:WhiteSmoke;padding:15px'>\n",
    "    <b><u>Format</u></b><br><br>\n",
    "<b>class</b> class_name:\n",
    "    <div style='background-color:lightgrey;padding:15px;'>\n",
    "    class template(attributes and methods)\n",
    "    </div>\n",
    "</div>"
   ]
  },
  {
   "cell_type": "code",
   "execution_count": 8,
   "metadata": {},
   "outputs": [],
   "source": [
    "my_var = MyFirstClass()"
   ]
  },
  {
   "cell_type": "markdown",
   "metadata": {},
   "source": [
    "An instance/object of the class can be created by the below format "
   ]
  },
  {
   "cell_type": "markdown",
   "metadata": {},
   "source": [
    "<div style='background-color:WhiteSmoke;padding:15px'>\n",
    "    <b><u>Format</u></b><br><br>\n",
    "my_variable_name = MyClassName()\n",
    "</div>"
   ]
  },
  {
   "cell_type": "code",
   "execution_count": 9,
   "metadata": {},
   "outputs": [
    {
     "name": "stdout",
     "output_type": "stream",
     "text": [
      "Hi there, i am the content in class 'MyFirstClass'\n"
     ]
    }
   ],
   "source": [
    "print(my_var.content_in_it)"
   ]
  },
  {
   "cell_type": "markdown",
   "metadata": {},
   "source": [
    "Attribute of an object can be accessed by the below format"
   ]
  },
  {
   "cell_type": "markdown",
   "metadata": {},
   "source": [
    "<div style='background-color:WhiteSmoke;padding:15px'>\n",
    "    <b><u>Format</u></b><br><br>\n",
    "       <b>my_object_variable_name.</b> <i>my_object_attribute</i>\n",
    "</div>"
   ]
  },
  {
   "cell_type": "markdown",
   "metadata": {},
   "source": [
    "<span style='color:red'>Note : Unlike other languages, the default permission in python is not private.</span>"
   ]
  },
  {
   "cell_type": "code",
   "execution_count": 16,
   "metadata": {},
   "outputs": [],
   "source": [
    "class Code(): \n",
    "    def setme(self, name):\n",
    "        self.name = name"
   ]
  },
  {
   "cell_type": "markdown",
   "metadata": {},
   "source": [
    "Method can be set on the class to set/modify the object."
   ]
  },
  {
   "cell_type": "code",
   "execution_count": 21,
   "metadata": {},
   "outputs": [],
   "source": [
    "simple_language = Code()\n",
    "simple_language.setme('Python')"
   ]
  },
  {
   "cell_type": "markdown",
   "metadata": {},
   "source": [
    "Methods can be accessed in a similar way to attribute. Below is the format."
   ]
  },
  {
   "cell_type": "markdown",
   "metadata": {},
   "source": [
    "<div style='background-color:WhiteSmoke;padding:15px'>\n",
    "    <b><u>Format</u></b><br><br>\n",
    "    <b>my_object_variable_name.</b>my_object_method()\n",
    "</div>"
   ]
  },
  {
   "cell_type": "markdown",
   "metadata": {},
   "source": [
    "The method is setting attribute <b>name</b> to <b>'Python'</b>"
   ]
  },
  {
   "cell_type": "code",
   "execution_count": 20,
   "metadata": {},
   "outputs": [
    {
     "name": "stdout",
     "output_type": "stream",
     "text": [
      "Hi i am, Python\n"
     ]
    }
   ],
   "source": [
    "print(\"Hi i am,\",simple_language.name)"
   ]
  },
  {
   "cell_type": "markdown",
   "metadata": {},
   "source": [
    "<hr>"
   ]
  },
  {
   "cell_type": "markdown",
   "metadata": {},
   "source": [
    "<b>Inheritance</b>\n",
    "\n",
    "Inheritance in biology stands for acquisition of traits(looks and behaviour) from a parent.\n",
    "\n",
    "In programming language terms, inheritence means acquiring the attributes and methods of the parent class."
   ]
  },
  {
   "cell_type": "code",
   "execution_count": 25,
   "metadata": {},
   "outputs": [],
   "source": [
    "class ParentClass(): # parent class/defination of parent custom-object\n",
    "    def exclaim(self):\n",
    "        print(\"I'm a method in parent\")\n",
    "        \n",
    "class ChildClass(ParentClass): # child class inheriting parent class ParentClass()\n",
    "    pass"
   ]
  },
  {
   "cell_type": "code",
   "execution_count": 26,
   "metadata": {},
   "outputs": [],
   "source": [
    "var_a = ParentClass()\n",
    "var_b = ChildClass()"
   ]
  },
  {
   "cell_type": "code",
   "execution_count": 27,
   "metadata": {},
   "outputs": [
    {
     "name": "stdout",
     "output_type": "stream",
     "text": [
      "I'm a method in parent\n"
     ]
    }
   ],
   "source": [
    "var_a .exclaim() "
   ]
  },
  {
   "cell_type": "code",
   "execution_count": 28,
   "metadata": {},
   "outputs": [
    {
     "name": "stdout",
     "output_type": "stream",
     "text": [
      "I'm a method in parent\n"
     ]
    }
   ],
   "source": [
    "var_b.exclaim() # child class can inherit and use attributes and methods of parent class"
   ]
  },
  {
   "cell_type": "code",
   "execution_count": 31,
   "metadata": {},
   "outputs": [],
   "source": [
    "class ProgrammingLanguage(): \n",
    "    def exclaim(self): # method of parent class\n",
    "        print(\"I generally use semicolon ';'\")\n",
    "        \n",
    "class Python(ProgrammingLanguage): \n",
    "    def exclaim(self): # method in child overriding a method of parent class\n",
    "        print(\"I am Python, i dont need a semicolon :)\")"
   ]
  },
  {
   "cell_type": "markdown",
   "metadata": {},
   "source": [
    "Child class can always override(redefine) a method defined in Parent class"
   ]
  },
  {
   "cell_type": "code",
   "execution_count": 32,
   "metadata": {},
   "outputs": [],
   "source": [
    "i_am_C = ProgrammingLanguage()\n",
    "i_am_Python = Python()"
   ]
  },
  {
   "cell_type": "code",
   "execution_count": 34,
   "metadata": {},
   "outputs": [
    {
     "name": "stdout",
     "output_type": "stream",
     "text": [
      "I generally use semicolon ':'\n"
     ]
    }
   ],
   "source": [
    "i_am_C.exclaim() "
   ]
  },
  {
   "cell_type": "code",
   "execution_count": 49,
   "metadata": {},
   "outputs": [
    {
     "name": "stdout",
     "output_type": "stream",
     "text": [
      "I am Python, i dont need a semicolon :)\n"
     ]
    }
   ],
   "source": [
    "i_am_Python.exclaim()"
   ]
  },
  {
   "cell_type": "markdown",
   "metadata": {},
   "source": [
    "<span style='color:green'>Lets go ahead and write two classes which inherit the same class.</span>"
   ]
  },
  {
   "cell_type": "code",
   "execution_count": 53,
   "metadata": {},
   "outputs": [],
   "source": [
    "class ProgrammingLanguage():\n",
    "    def __init__(self, name):\n",
    "        self.name =  name\n",
    "        self.exclaim = 'I need semicolon'\n",
    "\n",
    "class MarkUpLanguage(ProgrammingLanguage):\n",
    "    def __init__(self, name):\n",
    "        self.name = name\n",
    "        self.exclaim = 'I dont use semicolon, i am use tags'\n",
    "\n",
    "class DataLanguage(ProgrammingLanguage):\n",
    "    def __init__(self, name):\n",
    "        self.name = name\n",
    "        self.exclaim = 'I need semicolons, but i use it only for assignment'"
   ]
  },
  {
   "cell_type": "markdown",
   "metadata": {},
   "source": [
    "Both class <b>MarkUpLanguage</b> and <b>DataLanguage</b> inherits class <b>ProgrammingLanguage</b>"
   ]
  },
  {
   "cell_type": "code",
   "execution_count": 51,
   "metadata": {},
   "outputs": [],
   "source": [
    "i_am_C = ProgrammingLanguage('C')\n",
    "i_am_HTML = MarkUpLanguage('HTML')\n",
    "i_am_JSON = DataLanguage('JSON')"
   ]
  },
  {
   "cell_type": "code",
   "execution_count": 52,
   "metadata": {},
   "outputs": [
    {
     "name": "stdout",
     "output_type": "stream",
     "text": [
      "I am, C . I need semicolon\n"
     ]
    }
   ],
   "source": [
    "print(\"I am,\",i_am_C.name,\".\",i_am_C.exclaim)"
   ]
  },
  {
   "cell_type": "code",
   "execution_count": 47,
   "metadata": {},
   "outputs": [
    {
     "name": "stdout",
     "output_type": "stream",
     "text": [
      "I am, HTML . I dont use semicolon, i am use tags\n"
     ]
    }
   ],
   "source": [
    "print(\"I am,\",i_am_HTML.name,\".\",i_am_HTML.exclaim)"
   ]
  },
  {
   "cell_type": "code",
   "execution_count": 48,
   "metadata": {},
   "outputs": [
    {
     "name": "stdout",
     "output_type": "stream",
     "text": [
      "I am, JSON . I need semicolons, but i use it for assignment only\n"
     ]
    }
   ],
   "source": [
    "print(\"I am,\",i_am_JSON.name,\".\",i_am_JSON.exclaim)"
   ]
  },
  {
   "cell_type": "markdown",
   "metadata": {},
   "source": [
    "Ok lets check something out. Method in Parent class can be used in Child class object. Can a method in child class be used by Parent class object."
   ]
  },
  {
   "cell_type": "code",
   "execution_count": 61,
   "metadata": {},
   "outputs": [],
   "source": [
    "class ProgrammingLanguage(): \n",
    "    def exclaim(self): # method of parent class\n",
    "        print(\"I generally use semicolon ';'\")\n",
    "        \n",
    "class Python(ProgrammingLanguage): \n",
    "    def exclaim(self): # method in child overriding a method of parent class\n",
    "        print(\"I am Python, i dont need a semicolon :)\")\n",
    "    def what_about_brackets_for_blocks(self): # method in child overriding a method of parent class\n",
    "        print(\"No, i use indentation\")"
   ]
  },
  {
   "cell_type": "code",
   "execution_count": 62,
   "metadata": {},
   "outputs": [],
   "source": [
    "i_am_C = ProgrammingLanguage()\n",
    "i_am_Python = Python()"
   ]
  },
  {
   "cell_type": "code",
   "execution_count": 63,
   "metadata": {},
   "outputs": [
    {
     "name": "stdout",
     "output_type": "stream",
     "text": [
      "No, i use indentation\n"
     ]
    }
   ],
   "source": [
    "i_am_Python.what_about_brackets_for_blocks()"
   ]
  },
  {
   "cell_type": "code",
   "execution_count": 65,
   "metadata": {},
   "outputs": [
    {
     "ename": "AttributeError",
     "evalue": "'ProgrammingLanguage' object has no attribute 'what_about_brackets_for_blocks'",
     "output_type": "error",
     "traceback": [
      "\u001b[1;31m---------------------------------------------------------------------------\u001b[0m",
      "\u001b[1;31mAttributeError\u001b[0m                            Traceback (most recent call last)",
      "\u001b[1;32m<ipython-input-65-f176714a19ac>\u001b[0m in \u001b[0;36m<module>\u001b[1;34m()\u001b[0m\n\u001b[1;32m----> 1\u001b[1;33m \u001b[0mi_am_C\u001b[0m\u001b[1;33m.\u001b[0m\u001b[0mwhat_about_brackets_for_blocks\u001b[0m\u001b[1;33m(\u001b[0m\u001b[1;33m)\u001b[0m\u001b[1;31m# a method of child class cannot be called with parent object\u001b[0m\u001b[1;33m\u001b[0m\u001b[0m\n\u001b[0m",
      "\u001b[1;31mAttributeError\u001b[0m: 'ProgrammingLanguage' object has no attribute 'what_about_brackets_for_blocks'"
     ]
    }
   ],
   "source": [
    "i_am_C.what_about_brackets_for_blocks()"
   ]
  },
  {
   "cell_type": "markdown",
   "metadata": {},
   "source": [
    "<span style='color:red'>A method of child class cannot be called with parent class object.</span>"
   ]
  },
  {
   "cell_type": "code",
   "execution_count": 73,
   "metadata": {},
   "outputs": [],
   "source": [
    "class Code():\n",
    "    def __init__(self,name):\n",
    "        self.name = name\n",
    "    \n",
    "class CodeWithComment(Code):\n",
    "    def __init__(self, name, comment):\n",
    "        super().__init__(name) \n",
    "        self.comment = comment"
   ]
  },
  {
   "cell_type": "markdown",
   "metadata": {},
   "source": [
    "<b>super()</b> keyword lets you to call Parent class method in Child class."
   ]
  },
  {
   "cell_type": "code",
   "execution_count": 74,
   "metadata": {},
   "outputs": [],
   "source": [
    "i_am_c = Code('C')\n",
    "i_am_python = CodeWithComment('Python','Hi i am Python. I am simple and super flexible')"
   ]
  },
  {
   "cell_type": "code",
   "execution_count": 75,
   "metadata": {},
   "outputs": [
    {
     "name": "stdout",
     "output_type": "stream",
     "text": [
      "Python\n",
      "Hi i am Python. I am simple and super flexible\n"
     ]
    }
   ],
   "source": [
    "print(i_am_python.name)\n",
    "print(i_am_python.comment)"
   ]
  },
  {
   "cell_type": "markdown",
   "metadata": {},
   "source": [
    "<hr>"
   ]
  },
  {
   "cell_type": "markdown",
   "metadata": {},
   "source": [
    "<b>Get and Set Attribute Values with Properties</b>"
   ]
  },
  {
   "cell_type": "code",
   "execution_count": 85,
   "metadata": {},
   "outputs": [],
   "source": [
    "class Code():\n",
    "    def __init__(self,input_name):\n",
    "        self.hidden_name=input_name\n",
    "    def get_name(self):\n",
    "        print('inside the getter')\n",
    "        return self.hidden_name\n",
    "    def set_name(self, input_name):\n",
    "        print('inside the setter')\n",
    "        self.hidden_name = input_name\n",
    "    name = property(get_name,set_name)"
   ]
  },
  {
   "cell_type": "code",
   "execution_count": 88,
   "metadata": {},
   "outputs": [
    {
     "name": "stdout",
     "output_type": "stream",
     "text": [
      "inside the getter\n",
      "Python\n"
     ]
    }
   ],
   "source": [
    "i_am_python = Code('Python')\n",
    "print(i_am_python.name) # executes what is in the 'get_name' methods instead of just printing the element"
   ]
  },
  {
   "cell_type": "code",
   "execution_count": 87,
   "metadata": {},
   "outputs": [
    {
     "name": "stdout",
     "output_type": "stream",
     "text": [
      "inside the getter\n"
     ]
    },
    {
     "data": {
      "text/plain": [
       "'Python'"
      ]
     },
     "execution_count": 87,
     "metadata": {},
     "output_type": "execute_result"
    }
   ],
   "source": [
    "i_am_python.get_name() # checking what 'get_name' executes"
   ]
  },
  {
   "cell_type": "code",
   "execution_count": 45,
   "metadata": {},
   "outputs": [
    {
     "name": "stdout",
     "output_type": "stream",
     "text": [
      "inside the setter\n"
     ]
    }
   ],
   "source": [
    "i_am_python.name = 'Python the simpleton' # executes what is in the 'set_name' methods instead of just setting a attribute"
   ]
  },
  {
   "cell_type": "code",
   "execution_count": 1,
   "metadata": {},
   "outputs": [
    {
     "ename": "NameError",
     "evalue": "name 'i_am_python' is not defined",
     "output_type": "error",
     "traceback": [
      "\u001b[1;31m---------------------------------------------------------------------------\u001b[0m",
      "\u001b[1;31mNameError\u001b[0m                                 Traceback (most recent call last)",
      "\u001b[1;32m<ipython-input-1-41864c58522d>\u001b[0m in \u001b[0;36m<module>\u001b[1;34m()\u001b[0m\n\u001b[1;32m----> 1\u001b[1;33m \u001b[0mi_am_python\u001b[0m\u001b[1;33m.\u001b[0m\u001b[0mset_name\u001b[0m\u001b[1;33m(\u001b[0m\u001b[1;34m'Python the simpleton'\u001b[0m\u001b[1;33m)\u001b[0m\u001b[1;33m\u001b[0m\u001b[0m\n\u001b[0m",
      "\u001b[1;31mNameError\u001b[0m: name 'i_am_python' is not defined"
     ]
    }
   ],
   "source": [
    "i_am_python.set_name('Python the simpleton') # checking what 'set_name' executes"
   ]
  },
  {
   "cell_type": "markdown",
   "metadata": {},
   "source": [
    "Lets see another way of using getter and setter"
   ]
  },
  {
   "cell_type": "code",
   "execution_count": 2,
   "metadata": {},
   "outputs": [],
   "source": [
    "class Code():\n",
    "    def __init__(self,input_name):\n",
    "        self.hidden_name=input_name\n",
    "    @property # makes it a getter\n",
    "    def name(self): \n",
    "        print('inside the getter')\n",
    "        return self.hidden_name\n",
    "    @name.setter # makes it a setter\n",
    "    def name(self, input_name):\n",
    "        print('inside the setter')\n",
    "        self.hidden_name = input_name"
   ]
  },
  {
   "cell_type": "code",
   "execution_count": 3,
   "metadata": {},
   "outputs": [
    {
     "name": "stdout",
     "output_type": "stream",
     "text": [
      "inside the getter\n",
      "Python\n"
     ]
    }
   ],
   "source": [
    "i_am_python = Code('Python')\n",
    "print(i_am_python.name) "
   ]
  },
  {
   "cell_type": "code",
   "execution_count": 4,
   "metadata": {},
   "outputs": [
    {
     "name": "stdout",
     "output_type": "stream",
     "text": [
      "inside the setter\n"
     ]
    }
   ],
   "source": [
    "i_am_python.name = 'Python the simpleton'"
   ]
  },
  {
   "cell_type": "code",
   "execution_count": 5,
   "metadata": {},
   "outputs": [],
   "source": [
    "class Circle():\n",
    "    def __init__(self, radius):\n",
    "        self.radius = radius\n",
    "    @property\n",
    "    def diameter(self):\n",
    "        return 2 * self.radius"
   ]
  },
  {
   "cell_type": "markdown",
   "metadata": {},
   "source": [
    "Using <b>@property</b> lets you define a property. It calls a method but acts like a attribute."
   ]
  },
  {
   "cell_type": "code",
   "execution_count": 53,
   "metadata": {},
   "outputs": [
    {
     "data": {
      "text/plain": [
       "5"
      ]
     },
     "execution_count": 53,
     "metadata": {},
     "output_type": "execute_result"
    }
   ],
   "source": [
    "c = Circle(5)\n",
    "c.radius"
   ]
  },
  {
   "cell_type": "code",
   "execution_count": 6,
   "metadata": {},
   "outputs": [
    {
     "ename": "NameError",
     "evalue": "name 'c' is not defined",
     "output_type": "error",
     "traceback": [
      "\u001b[1;31m---------------------------------------------------------------------------\u001b[0m",
      "\u001b[1;31mNameError\u001b[0m                                 Traceback (most recent call last)",
      "\u001b[1;32m<ipython-input-6-66b9b2ac3cf5>\u001b[0m in \u001b[0;36m<module>\u001b[1;34m()\u001b[0m\n\u001b[1;32m----> 1\u001b[1;33m \u001b[0mc\u001b[0m\u001b[1;33m.\u001b[0m\u001b[0mdiameter\u001b[0m\u001b[1;33m\u001b[0m\u001b[0m\n\u001b[0m",
      "\u001b[1;31mNameError\u001b[0m: name 'c' is not defined"
     ]
    }
   ],
   "source": [
    "c.diameter"
   ]
  },
  {
   "cell_type": "code",
   "execution_count": 7,
   "metadata": {},
   "outputs": [],
   "source": [
    "class Code():\n",
    "    def __init__(self,input_name):\n",
    "        self.__name=input_name\n",
    "    @property # makes it a getter\n",
    "    def name(self): \n",
    "        print('inside the getter')\n",
    "        return self.__name\n",
    "    @name.setter # makes it a setter\n",
    "    def name(self, input_name):\n",
    "        print('inside the setter')\n",
    "        self.__name = input_name"
   ]
  },
  {
   "cell_type": "markdown",
   "metadata": {},
   "source": [
    "<b>&#95;&#95;name</b> acts like a hidden attribute which cannot be accessed as <b>&#95;&#95;name</b> but should be accessed as <b>name</b>"
   ]
  },
  {
   "cell_type": "code",
   "execution_count": 8,
   "metadata": {},
   "outputs": [
    {
     "name": "stdout",
     "output_type": "stream",
     "text": [
      "inside the getter\n",
      "Python\n"
     ]
    }
   ],
   "source": [
    "i_am_python = Code('Python')\n",
    "print(i_am_python.name)"
   ]
  },
  {
   "cell_type": "code",
   "execution_count": 28,
   "metadata": {},
   "outputs": [
    {
     "ename": "AttributeError",
     "evalue": "'Code' object has no attribute '__name'",
     "output_type": "error",
     "traceback": [
      "\u001b[1;31m---------------------------------------------------------------------------\u001b[0m",
      "\u001b[1;31mAttributeError\u001b[0m                            Traceback (most recent call last)",
      "\u001b[1;32m<ipython-input-28-53f61755aa29>\u001b[0m in \u001b[0;36m<module>\u001b[1;34m()\u001b[0m\n\u001b[1;32m----> 1\u001b[1;33m \u001b[0mprint\u001b[0m\u001b[1;33m(\u001b[0m\u001b[0mi_am_python\u001b[0m\u001b[1;33m.\u001b[0m\u001b[0m__name\u001b[0m\u001b[1;33m)\u001b[0m\u001b[1;33m\u001b[0m\u001b[0m\n\u001b[0m",
      "\u001b[1;31mAttributeError\u001b[0m: 'Code' object has no attribute '__name'"
     ]
    }
   ],
   "source": [
    "print(i_am_python.__name)"
   ]
  },
  {
   "cell_type": "markdown",
   "metadata": {},
   "source": [
    "<hr><hr>\n",
    "<span style='color:green'>Archana, change the example from here on. And feel free if you want to change any other examples too.</span>\n",
    "<hr><hr>"
   ]
  },
  {
   "cell_type": "code",
   "execution_count": 11,
   "metadata": {},
   "outputs": [],
   "source": [
    "class A():\n",
    "    count = 0\n",
    "    def __init__(self):\n",
    "        A.count += 1\n",
    "    \n",
    "    def exclaim(self):\n",
    "        print(\"I'm an A!\")\n",
    "        \n",
    "    @classmethod # the method created by @classmethod keyword is a method on class itself and not on object created by it\n",
    "    \n",
    "    def kids(cls):\n",
    "        print(\"A has\", cls.count, \"little objects. \")"
   ]
  },
  {
   "cell_type": "markdown",
   "metadata": {},
   "source": [
    "A method on the class itself can be created by use of <b>@classmethod</b>"
   ]
  },
  {
   "cell_type": "code",
   "execution_count": 12,
   "metadata": {},
   "outputs": [
    {
     "name": "stdout",
     "output_type": "stream",
     "text": [
      "A has 3 little objects. \n"
     ]
    }
   ],
   "source": [
    "easy_a = A()\n",
    "breezy_a = A()\n",
    "wheezy_a = A()\n",
    "A.kids()"
   ]
  },
  {
   "cell_type": "markdown",
   "metadata": {},
   "source": [
    "<hr>"
   ]
  },
  {
   "cell_type": "markdown",
   "metadata": {},
   "source": [
    "<b>Special Methods / Class methods using operator</b>"
   ]
  },
  {
   "cell_type": "code",
   "execution_count": 13,
   "metadata": {},
   "outputs": [],
   "source": [
    "class Word():\n",
    "    def __init__(self,text):\n",
    "        self.text = text\n",
    "        \n",
    "    def equals(self,word2):\n",
    "        return self.text.lower()==word2.text.lower()"
   ]
  },
  {
   "cell_type": "markdown",
   "metadata": {},
   "source": [
    "Methods can be defined on operators for a class."
   ]
  },
  {
   "cell_type": "code",
   "execution_count": 14,
   "metadata": {},
   "outputs": [],
   "source": [
    "first = Word('ha')\n",
    "second = Word('Ha')\n",
    "third = Word('eh')"
   ]
  },
  {
   "cell_type": "code",
   "execution_count": 15,
   "metadata": {},
   "outputs": [
    {
     "data": {
      "text/plain": [
       "True"
      ]
     },
     "execution_count": 15,
     "metadata": {},
     "output_type": "execute_result"
    }
   ],
   "source": [
    "first.equals(second)"
   ]
  },
  {
   "cell_type": "code",
   "execution_count": 16,
   "metadata": {},
   "outputs": [
    {
     "data": {
      "text/plain": [
       "False"
      ]
     },
     "execution_count": 16,
     "metadata": {},
     "output_type": "execute_result"
    }
   ],
   "source": [
    "first.equals(third)"
   ]
  },
  {
   "cell_type": "code",
   "execution_count": 17,
   "metadata": {},
   "outputs": [],
   "source": [
    "class Word():\n",
    "    def __init__(self,text):\n",
    "        self.text = text\n",
    "        \n",
    "    def __eq__(self,word2): # defining method on operator '=='\n",
    "        return self.text.lower()==word2.text.lower()"
   ]
  },
  {
   "cell_type": "code",
   "execution_count": 18,
   "metadata": {},
   "outputs": [],
   "source": [
    "first = Word('ha')\n",
    "second = Word('Ha')\n",
    "third = Word('eh')"
   ]
  },
  {
   "cell_type": "code",
   "execution_count": 19,
   "metadata": {},
   "outputs": [
    {
     "data": {
      "text/plain": [
       "True"
      ]
     },
     "execution_count": 19,
     "metadata": {},
     "output_type": "execute_result"
    }
   ],
   "source": [
    "first == second # using the operator method of class"
   ]
  },
  {
   "cell_type": "code",
   "execution_count": 20,
   "metadata": {},
   "outputs": [
    {
     "data": {
      "text/plain": [
       "False"
      ]
     },
     "execution_count": 20,
     "metadata": {},
     "output_type": "execute_result"
    }
   ],
   "source": [
    "first == third"
   ]
  },
  {
   "cell_type": "markdown",
   "metadata": {},
   "source": [
    "<b>Magic methods for comparison</b>"
   ]
  },
  {
   "cell_type": "markdown",
   "metadata": {},
   "source": [
    "&#95;&#95;eq&#95;&#95;(self,other) self == other<br>\n",
    "&#95;&#95;ne&#95;&#95;(self,other) self != other<br>\n",
    "&#95;&#95;lt&#95;&#95;(self,other) self < other<br>\n",
    "&#95;&#95;gt&#95;&#95;(self,other) self > other<br>\n",
    "&#95;&#95;le&#95;&#95;(self,other) self <= other<br>\n",
    "&#95;&#95;ge&#95;&#95;(self,other) self >= other"
   ]
  },
  {
   "cell_type": "markdown",
   "metadata": {},
   "source": [
    "<b>Magic methods for math</b>"
   ]
  },
  {
   "cell_type": "markdown",
   "metadata": {},
   "source": [
    "&#95;&#95;add&#95;&#95;(self,other) self + other<br>\n",
    "&#95;&#95;sub&#95;&#95;(self,other) self - other<br>\n",
    "&#95;&#95;mul&#95;&#95;(self,other) self * other<br>\n",
    "&#95;&#95;floordiv&#95;&#95;(self,other) self // other<br>\n",
    "&#95;&#95;truediv&#95;&#95;(self,other) self / other<br>\n",
    "&#95;&#95;mod&#95;&#95;(self,other) self % other<br>\n",
    "&#95;&#95;pow&#95;&#95;(self,other) self ** other"
   ]
  },
  {
   "cell_type": "markdown",
   "metadata": {},
   "source": [
    "<b>Other, miscellaneous magic method</b>"
   ]
  },
  {
   "cell_type": "markdown",
   "metadata": {},
   "source": [
    "&#95;&#95;str&#95;&#95;(self) str(self)<br>\n",
    "&#95;&#95;repr&#95;&#95;(self) repr(self)<br>\n",
    "&#95;&#95;len&#95;&#95;(self) len(self)"
   ]
  },
  {
   "cell_type": "markdown",
   "metadata": {},
   "source": [
    "<hr>"
   ]
  },
  {
   "cell_type": "markdown",
   "metadata": {},
   "source": [
    "<b>Composition</b>\n",
    "\n",
    "using object of one or more class as element of another class"
   ]
  },
  {
   "cell_type": "code",
   "execution_count": null,
   "metadata": {},
   "outputs": [],
   "source": [
    "class Bill():\n",
    "    def __init__(self,description):\n",
    "        self.description = description\n",
    "\n",
    "class Tail():\n",
    "    def __init__(self,length):\n",
    "        self.length = length\n",
    "        \n",
    "class Duck(): \n",
    "    def __init__(self, bill, tail): # uses object of another class as element of the class\n",
    "        self.bill = bill\n",
    "        self.tail = tail\n",
    "    def about(self):\n",
    "        print('This duck has a',bill.description,'bill and a',tail.length,'tail')"
   ]
  },
  {
   "cell_type": "code",
   "execution_count": 22,
   "metadata": {},
   "outputs": [
    {
     "name": "stdout",
     "output_type": "stream",
     "text": [
      "This duck has a wide orange bill and a long tail\n"
     ]
    }
   ],
   "source": [
    "tail = Tail('long')\n",
    "bill = Bill('wide orange')\n",
    "duck = Duck(bill,tail) \n",
    "duck.about()"
   ]
  },
  {
   "cell_type": "markdown",
   "metadata": {},
   "source": [
    "<br><br>\n",
    "<center><h2>End of Book</h2></center>"
   ]
  },
  {
   "cell_type": "markdown",
   "metadata": {},
   "source": [
    "<hr>\n",
    "<h3><b>Next book :</b> Book 2. Lists, Tuples, Dictionaries and Sets</h3>\n",
    "\n",
    "<b><a href='index.html'>Back Home</a></b>\n",
    "<hr>"
   ]
  },
  {
   "cell_type": "markdown",
   "metadata": {},
   "source": [
    "Source from atcodedog git repo\n",
    "\n",
    "Find more on\n",
    "\n",
    "https://github.com/atcodedog\n",
    "\n",
    "http://www.atcodedog.com\n",
    "\n",
    "Follow us on\n",
    "\n",
    "https://twitter.com/atcodedog"
   ]
  }
 ],
 "metadata": {
  "kernelspec": {
   "display_name": "Python 3",
   "language": "python",
   "name": "python3"
  },
  "language_info": {
   "codemirror_mode": {
    "name": "ipython",
    "version": 3
   },
   "file_extension": ".py",
   "mimetype": "text/x-python",
   "name": "python",
   "nbconvert_exporter": "python",
   "pygments_lexer": "ipython3",
   "version": "3.6.4"
  }
 },
 "nbformat": 4,
 "nbformat_minor": 2
}
