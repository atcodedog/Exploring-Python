{
 "cells": [
  {
   "cell_type": "markdown",
   "metadata": {},
   "source": [
    "<h1>Book 5. Dictionaries and Sets</h1>\n",
    "<hr>"
   ]
  },
  {
   "cell_type": "markdown",
   "metadata": {},
   "source": [
    "<b>Dictionaries</b>\n",
    "\n",
    "Dictionaries are a compound type different from the sequence types we studied in the Strings, lists and tuples chapter. \n",
    "They are Python’s built-in <b>mapping type</b>. They map keys, which can be any immutable type, to values, which can be any type, just like the values of a list or tuple.\n",
    "\n",
    "Other names for dictionaries in computer science include maps, symbol tables, and <b>associative arrays</b>. The pairs of values are referred to as name-value, key-value, field-value, or <b>attribute-value pairs</b>.\n",
    "\n",
    "Know more about associative arrays : https://en.wikipedia.org/wiki/Associative_array\n",
    "\n",
    "Know more about attribute-value pairs : https://en.wikipedia.org/wiki/Attribute%E2%80%93value_pair\n",
    "\n",
    "In simple words;\n",
    "<span style='color:green'><b>Dictionaries</b> are <b>mutable</b> type. Which have sequence of <b>values</b>, with <b>key</b> associated to it.</span>"
   ]
  },
  {
   "cell_type": "markdown",
   "metadata": {},
   "source": [
    "<span style='color:green'>Lets go ahead and create some <b>Dictionaries</b></span>"
   ]
  },
  {
   "cell_type": "code",
   "execution_count": 1,
   "metadata": {},
   "outputs": [
    {
     "name": "stdout",
     "output_type": "stream",
     "text": [
      "{1: 'Monday', 2: 'Tuesday', 3: 'Wednesday', 4: 'Thrusday'}\n"
     ]
    }
   ],
   "source": [
    "# numeric keys and string values\n",
    "days_of_week = {\n",
    "    1:\"Monday\",\n",
    "    2:\"Tuesday\",\n",
    "    3:\"Wednesday\",\n",
    "    4:\"Thrusday\"\n",
    "} \n",
    "print(days_of_week)"
   ]
  },
  {
   "cell_type": "code",
   "execution_count": 2,
   "metadata": {},
   "outputs": [
    {
     "name": "stdout",
     "output_type": "stream",
     "text": [
      "{'one': 1, 'three': 3, 'two': 2, 'four': 4}\n"
     ]
    }
   ],
   "source": [
    "# string keys and numeric values\n",
    "number_word = {\n",
    "    \"one\":1,\n",
    "    \"two\":2,\n",
    "    \"three\":3,\n",
    "    \"four\":4\n",
    "}\n",
    "print(number_word )"
   ]
  },
  {
   "cell_type": "code",
   "execution_count": 3,
   "metadata": {},
   "outputs": [
    {
     "name": "stdout",
     "output_type": "stream",
     "text": [
      "{'day 1': 'Monday', 'day 3': 'Wednesday', 'day 4': 'Thrusday', 'day 2': 'Tuesday'}\n"
     ]
    }
   ],
   "source": [
    "# string keys and string values\n",
    "my_weekdays = {\n",
    "    \"day 1\":\"Monday\",\n",
    "    \"day 2\":\"Tuesday\",\n",
    "    \"day 3\":\"Wednesday\",\n",
    "    \"day 4\":\"Thrusday\"\n",
    "}\n",
    "print(my_weekdays)"
   ]
  },
  {
   "cell_type": "code",
   "execution_count": 4,
   "metadata": {},
   "outputs": [
    {
     "name": "stdout",
     "output_type": "stream",
     "text": [
      "{}\n"
     ]
    }
   ],
   "source": [
    "empty_dictionary = {}\n",
    "print(empty_dictionary)"
   ]
  },
  {
   "cell_type": "code",
   "execution_count": 5,
   "metadata": {},
   "outputs": [
    {
     "name": "stdout",
     "output_type": "stream",
     "text": [
      "{1: 'i am one', 2.005: 'I am two point zero zero five', 'float': 2.005, 'list': ['One', 2, 3.0], 'tuple': ('Four', 5, 6.0), 'int': 1, 'string': 'I am a string :)'}\n"
     ]
    }
   ],
   "source": [
    "# mix keys and mix values\n",
    "my_datatypes = {\n",
    "    \"int\":1,\n",
    "    1:\"i am one\",\n",
    "    \"float\":2.005,\n",
    "     2.005:\"I am two point zero zero five\",\n",
    "    \"string\":\"I am a string :)\",\n",
    "    \"list\":['One',2,3.0000],\n",
    "    \"tuple\":('Four',5,6.0000)\n",
    "}\n",
    "print(my_datatypes)"
   ]
  },
  {
   "cell_type": "markdown",
   "metadata": {},
   "source": [
    "<span style='color:green'>It doesn’t matter what order we write the pairs. The values in a dictionary are accessed with keys, not with indices, so ordering is unimportant.</span>\n",
    "\n",
    "Here is how we use a key to look up the corresponding value"
   ]
  },
  {
   "cell_type": "code",
   "execution_count": 8,
   "metadata": {},
   "outputs": [
    {
     "name": "stdout",
     "output_type": "stream",
     "text": [
      "I am a string :)\n"
     ]
    }
   ],
   "source": [
    "print(my_datatypes[\"string\"])"
   ]
  },
  {
   "cell_type": "markdown",
   "metadata": {},
   "source": [
    "Converting other sequence structures to <b>dictionary object</b>"
   ]
  },
  {
   "cell_type": "code",
   "execution_count": 78,
   "metadata": {},
   "outputs": [
    {
     "name": "stdout",
     "output_type": "stream",
     "text": [
      "list_after_conv : {'e': 'f', 'a': 'b', 'c': 'd'}\n"
     ]
    }
   ],
   "source": [
    "# conversion from list of lists to dictionaries\n",
    "list_conv = [['a','b'],['c','d'],['e','f']]\n",
    "list_after_conv = dict(list_conv)\n",
    "print(\"list_after_conv :\",list_after_conv)"
   ]
  },
  {
   "cell_type": "code",
   "execution_count": 79,
   "metadata": {},
   "outputs": [
    {
     "name": "stdout",
     "output_type": "stream",
     "text": [
      "list_after_conv :  {'e': 'f', 'a': 'b', 'c': 'd'}\n"
     ]
    }
   ],
   "source": [
    "# conversion from tuple of tuples to dictionaries\n",
    "tuple_conv = (('a','b'),('c','d'),('e','f'))\n",
    "tuple_after_conv = dict(tuple_conv)\n",
    "print(\"list_after_conv : \" ,tuple_after_conv )"
   ]
  },
  {
   "cell_type": "code",
   "execution_count": 80,
   "metadata": {},
   "outputs": [
    {
     "name": "stdout",
     "output_type": "stream",
     "text": [
      "list_after_conv :  {'e': 'f', 'a': 'b', 'c': 'd'}\n"
     ]
    }
   ],
   "source": [
    "# conversion from list of tuples to dictionaries\n",
    "list_tuple_conv = [('a','b'),('c','d'),('e','f')]\n",
    "list_tuple_after_conv = dict(list_tuple_conv)\n",
    "print(\"list_after_conv : \" ,list_tuple_after_conv)"
   ]
  },
  {
   "cell_type": "code",
   "execution_count": 81,
   "metadata": {},
   "outputs": [
    {
     "name": "stdout",
     "output_type": "stream",
     "text": [
      "list_after_conv : {'e': 'f', 'a': 'b', 'c': 'd'}\n"
     ]
    }
   ],
   "source": [
    "# conversion from tuple of lists to dictionaries\n",
    "tuple_list_conv = (['a','b'],['c','d'],['e','f'])\n",
    "tuple_list_after_conv =dict(tuple_list_conv)\n",
    "print(\"list_after_conv :\" ,tuple_list_after_conv)"
   ]
  },
  {
   "cell_type": "code",
   "execution_count": 18,
   "metadata": {},
   "outputs": [
    {
     "data": {
      "text/plain": [
       "{'a': 'b', 'c': 'd', 'e': 'f'}"
      ]
     },
     "execution_count": 18,
     "metadata": {},
     "output_type": "execute_result"
    }
   ],
   "source": [
    "# splitting string in a list into key and value\n",
    "los = ['ab','cd','ef']\n",
    "dict(los)"
   ]
  },
  {
   "cell_type": "code",
   "execution_count": 19,
   "metadata": {},
   "outputs": [
    {
     "data": {
      "text/plain": [
       "{'a': 'b', 'c': 'd', 'e': 'f'}"
      ]
     },
     "execution_count": 19,
     "metadata": {},
     "output_type": "execute_result"
    }
   ],
   "source": [
    "# splitting string in a tuple into key and value\n",
    "los = ('ab','cd','ef')\n",
    "dict(los)"
   ]
  },
  {
   "cell_type": "code",
   "execution_count": 20,
   "metadata": {},
   "outputs": [
    {
     "name": "stdout",
     "output_type": "stream",
     "text": [
      "Monday\n",
      "1\n",
      "Monday\n"
     ]
    }
   ],
   "source": [
    "print(days_of_week[1])\n",
    "print(number_word['one'])\n",
    "print(my_weekdays['day 1'])"
   ]
  },
  {
   "cell_type": "code",
   "execution_count": 21,
   "metadata": {},
   "outputs": [
    {
     "ename": "KeyError",
     "evalue": "1",
     "output_type": "error",
     "traceback": [
      "\u001b[1;31m---------------------------------------------------------------------------\u001b[0m",
      "\u001b[1;31mKeyError\u001b[0m                                  Traceback (most recent call last)",
      "\u001b[1;32m<ipython-input-21-3130db3dace7>\u001b[0m in \u001b[0;36m<module>\u001b[1;34m()\u001b[0m\n\u001b[1;32m----> 1\u001b[1;33m \u001b[0mprint\u001b[0m\u001b[1;33m(\u001b[0m\u001b[0mnumber_word\u001b[0m\u001b[1;33m[\u001b[0m\u001b[1;36m1\u001b[0m\u001b[1;33m]\u001b[0m\u001b[1;33m)\u001b[0m\u001b[1;33m\u001b[0m\u001b[0m\n\u001b[0m",
      "\u001b[1;31mKeyError\u001b[0m: 1"
     ]
    }
   ],
   "source": [
    "print(number_word[1])"
   ]
  },
  {
   "cell_type": "code",
   "execution_count": 24,
   "metadata": {},
   "outputs": [
    {
     "name": "stdout",
     "output_type": "stream",
     "text": [
      "I changed this\n"
     ]
    }
   ],
   "source": [
    "print(my_weekdays['day 1'])"
   ]
  },
  {
   "cell_type": "code",
   "execution_count": 25,
   "metadata": {
    "scrolled": true
   },
   "outputs": [
    {
     "name": "stdout",
     "output_type": "stream",
     "text": [
      "{'day 1': 'I changed this', 'day 3': 'Wednesday', 'day 4': 'Thrusday', 'day 2': 'Tuesday'}\n"
     ]
    }
   ],
   "source": [
    "my_weekdays['day 1']='I changed this'\n",
    "print(my_weekdays)"
   ]
  },
  {
   "cell_type": "markdown",
   "metadata": {},
   "source": [
    "Changes can be made in the similar way as seen before"
   ]
  },
  {
   "cell_type": "code",
   "execution_count": 26,
   "metadata": {},
   "outputs": [
    {
     "name": "stdout",
     "output_type": "stream",
     "text": [
      "{'day 1': 'I changed this', 'day 3': 'Wednesday', 'day 4': 'Thrusday', 'day 5': 'Friday', 'day 2': 'Tuesday'}\n"
     ]
    }
   ],
   "source": [
    "my_weekdays['day 5']='Friday'\n",
    "print(my_weekdays)"
   ]
  },
  {
   "cell_type": "markdown",
   "metadata": {},
   "source": [
    "New element can be added by setting a new key of dictonary with a value"
   ]
  },
  {
   "cell_type": "code",
   "execution_count": 27,
   "metadata": {},
   "outputs": [],
   "source": [
    "my_friday = {\n",
    "    'day 6':'Saturday'\n",
    "}"
   ]
  },
  {
   "cell_type": "code",
   "execution_count": 28,
   "metadata": {},
   "outputs": [
    {
     "name": "stdout",
     "output_type": "stream",
     "text": [
      "{'day 1': 'I changed this', 'day 3': 'Wednesday', 'day 5': 'Friday', 'day 2': 'Tuesday', 'day 4': 'Thrusday', 'day 6': 'Saturday'}\n"
     ]
    }
   ],
   "source": [
    "my_weekdays.update(my_friday)\n",
    "print(my_weekdays)"
   ]
  },
  {
   "cell_type": "markdown",
   "metadata": {},
   "source": [
    "<b> Dictionaries Operations</b>"
   ]
  },
  {
   "cell_type": "code",
   "execution_count": 29,
   "metadata": {},
   "outputs": [
    {
     "data": {
      "text/plain": [
       "{'day 1': 'I changed this',\n",
       " 'day 2': 'Tuesday',\n",
       " 'day 3': 'Wednesday',\n",
       " 'day 4': 'Thrusday',\n",
       " 'day 5': 'Friday',\n",
       " 'day 6': 'Saturday',\n",
       " 'day which was 1': 'Monday'}"
      ]
     },
     "execution_count": 29,
     "metadata": {},
     "output_type": "execute_result"
    }
   ],
   "source": [
    "my_weekdays.update({'day which was 1':'Monday'})\n",
    "my_weekdays"
   ]
  },
  {
   "cell_type": "markdown",
   "metadata": {},
   "source": [
    "New elements can be added into dictionaries by using another dictionary with new elements\n",
    "\n",
    "<b>.update()</b> is used to update a dictionary by passing new elements in another dictionary"
   ]
  },
  {
   "cell_type": "code",
   "execution_count": 31,
   "metadata": {},
   "outputs": [
    {
     "name": "stdout",
     "output_type": "stream",
     "text": [
      "{'day 3': 'Wednesday', 'day 5': 'Friday', 'day which was 1': 'Monday', 'day 2': 'Tuesday', 'day 4': 'Thrusday', 'day 6': 'Saturday'}\n"
     ]
    }
   ],
   "source": [
    "del my_weekdays['day 1']\n",
    "print(my_weekdays)"
   ]
  },
  {
   "cell_type": "markdown",
   "metadata": {},
   "source": [
    "The <b>del</b> statement removes a key-value pair from a dictionary."
   ]
  },
  {
   "cell_type": "code",
   "execution_count": 32,
   "metadata": {},
   "outputs": [
    {
     "name": "stdout",
     "output_type": "stream",
     "text": [
      "{}\n"
     ]
    }
   ],
   "source": [
    "my_weekdays.clear()\n",
    "print(my_weekdays)"
   ]
  },
  {
   "cell_type": "markdown",
   "metadata": {},
   "source": [
    "<b>.clear()</b> can be used to clear the dictionary"
   ]
  },
  {
   "cell_type": "code",
   "execution_count": 33,
   "metadata": {},
   "outputs": [
    {
     "name": "stdout",
     "output_type": "stream",
     "text": [
      "{'day 1': 'Monday', 'day 3': 'Wednesday', 'day 4': 'Thrusday', 'day 2': 'Tuesday'}\n"
     ]
    }
   ],
   "source": [
    "my_weekdays = {\n",
    "    \"day 1\":\"Monday\",\n",
    "    \"day 2\":\"Tuesday\",\n",
    "    \"day 3\":\"Wednesday\",\n",
    "    \"day 4\":\"Thrusday\"\n",
    "}\n",
    "print(my_weekdays)"
   ]
  },
  {
   "cell_type": "code",
   "execution_count": 34,
   "metadata": {},
   "outputs": [
    {
     "name": "stdout",
     "output_type": "stream",
     "text": [
      "True\n"
     ]
    }
   ],
   "source": [
    "is_present = 'day 1' in my_weekdays \n",
    "print(is_present)"
   ]
  },
  {
   "cell_type": "markdown",
   "metadata": {},
   "source": [
    "Checking whether a element with a key is present in the dictionaries.\n",
    "The <b>in</b> operator returns <b>True</b> if the key appears in the dictionary and <b>False</b> otherwise"
   ]
  },
  {
   "cell_type": "code",
   "execution_count": 35,
   "metadata": {
    "scrolled": true
   },
   "outputs": [
    {
     "name": "stdout",
     "output_type": "stream",
     "text": [
      "False\n"
     ]
    }
   ],
   "source": [
    "is_present = 'day 5' in my_weekdays\n",
    "print(is_present)"
   ]
  },
  {
   "cell_type": "code",
   "execution_count": 38,
   "metadata": {
    "scrolled": true
   },
   "outputs": [
    {
     "ename": "KeyError",
     "evalue": "'day 5'",
     "output_type": "error",
     "traceback": [
      "\u001b[1;31m---------------------------------------------------------------------------\u001b[0m",
      "\u001b[1;31mKeyError\u001b[0m                                  Traceback (most recent call last)",
      "\u001b[1;32m<ipython-input-38-02d234c29d86>\u001b[0m in \u001b[0;36m<module>\u001b[1;34m()\u001b[0m\n\u001b[1;32m----> 1\u001b[1;33m \u001b[0mmy_weekdays\u001b[0m\u001b[1;33m[\u001b[0m\u001b[1;34m'day 5'\u001b[0m\u001b[1;33m]\u001b[0m\u001b[1;33m\u001b[0m\u001b[0m\n\u001b[0m",
      "\u001b[1;31mKeyError\u001b[0m: 'day 5'"
     ]
    }
   ],
   "source": [
    "my_weekdays['day 5']"
   ]
  },
  {
   "cell_type": "markdown",
   "metadata": {},
   "source": [
    "<span style='color:red'><b>in</b> operator can be very useful, since looking up a non-existant key in a dictionary causes a runtime error!</span>"
   ]
  },
  {
   "cell_type": "code",
   "execution_count": 39,
   "metadata": {},
   "outputs": [
    {
     "name": "stdout",
     "output_type": "stream",
     "text": [
      "Monday\n"
     ]
    }
   ],
   "source": [
    "day = my_weekdays.get('day 1')\n",
    "print(day)"
   ]
  },
  {
   "cell_type": "code",
   "execution_count": 40,
   "metadata": {},
   "outputs": [
    {
     "name": "stdout",
     "output_type": "stream",
     "text": [
      "None\n"
     ]
    }
   ],
   "source": [
    "day = my_weekdays.get('day 5') \n",
    "print(day)"
   ]
  },
  {
   "cell_type": "markdown",
   "metadata": {},
   "source": [
    "<b>.get()</b> is an another way of accessing element with key.\n",
    "However, it outputs <b>None</b> when there is no entry with specified key"
   ]
  },
  {
   "cell_type": "code",
   "execution_count": 44,
   "metadata": {},
   "outputs": [
    {
     "name": "stdout",
     "output_type": "stream",
     "text": [
      "dict_keys(['day 1', 'day 3', 'day 4', 'day 2'])\n"
     ]
    }
   ],
   "source": [
    "my_keys = my_weekdays.keys() \n",
    "print(my_keys)"
   ]
  },
  {
   "cell_type": "markdown",
   "metadata": {},
   "source": [
    "<b>.keys()</b> gets keys of the dictionaries"
   ]
  },
  {
   "cell_type": "code",
   "execution_count": 49,
   "metadata": {},
   "outputs": [
    {
     "name": "stdout",
     "output_type": "stream",
     "text": [
      "['Monday', 'Wednesday', 'Thrusday', 'Tuesday']\n"
     ]
    }
   ],
   "source": [
    "print(list(my_weekdays.values()))"
   ]
  },
  {
   "cell_type": "markdown",
   "metadata": {},
   "source": [
    "<b>.values()</b> gets values of the dictionaries"
   ]
  },
  {
   "cell_type": "code",
   "execution_count": 50,
   "metadata": {},
   "outputs": [
    {
     "name": "stdout",
     "output_type": "stream",
     "text": [
      "[('day 1', 'Monday'), ('day 3', 'Wednesday'), ('day 4', 'Thrusday'), ('day 2', 'Tuesday')]\n"
     ]
    }
   ],
   "source": [
    "print(list(my_weekdays.items()))"
   ]
  },
  {
   "cell_type": "markdown",
   "metadata": {},
   "source": [
    "<b>.item()</b> displays both keys and values of the dictionaries"
   ]
  },
  {
   "cell_type": "code",
   "execution_count": 47,
   "metadata": {},
   "outputs": [
    {
     "name": "stdout",
     "output_type": "stream",
     "text": [
      "{'day 1': 'Monday', 'day 3': 'Wednesday', 'day 4': 'Thrusday', 'day 2': 'Tuesday'}\n",
      "{'day 1': 'Monday', 'day 3': 'Wednesday', 'day 4': 'Thrusday', 'day 2': 'Tuesday'}\n"
     ]
    }
   ],
   "source": [
    "my_friends_weekdays=my_weekdays.copy()\n",
    "print(my_weekdays)\n",
    "print(my_friends_weekdays)"
   ]
  },
  {
   "cell_type": "code",
   "execution_count": 48,
   "metadata": {},
   "outputs": [
    {
     "name": "stdout",
     "output_type": "stream",
     "text": [
      "{'day 1': 'Monday', 'day 3': 'Wednesday', 'day 4': 'Thrusday', 'day 2': 'Tuesday'}\n",
      "{'day 1': 'Monday', 'day 3': 'Wednesday', 'day 4': 'not free', 'day 2': 'Tuesday'}\n"
     ]
    }
   ],
   "source": [
    "my_friends_weekdays['day 4']='not free'\n",
    "print(my_weekdays)\n",
    "print(my_friends_weekdays)"
   ]
  },
  {
   "cell_type": "markdown",
   "metadata": {},
   "source": [
    "copies of dictionaries can be created by using <b>.copy()</b>"
   ]
  },
  {
   "cell_type": "code",
   "execution_count": 51,
   "metadata": {},
   "outputs": [
    {
     "data": {
      "text/plain": [
       "['day 1', 'day 2', 'day 3', 'day 4']"
      ]
     },
     "execution_count": 51,
     "metadata": {},
     "output_type": "execute_result"
    }
   ],
   "source": [
    "sorted(my_friends_weekdays)"
   ]
  },
  {
   "cell_type": "markdown",
   "metadata": {},
   "source": [
    " <b>sorted ()</b> returns a list of a dictionaries keys in sorted order"
   ]
  },
  {
   "cell_type": "markdown",
   "metadata": {},
   "source": [
    "<hr>"
   ]
  },
  {
   "cell_type": "markdown",
   "metadata": {},
   "source": [
    "<b>Sets</b>"
   ]
  },
  {
   "cell_type": "markdown",
   "metadata": {},
   "source": [
    "You might be familiar with mathematical concept of sets.\n",
    "\n",
    "A <b>set</b> is collection of distinct objects(i,e all objects are considered only once).\n",
    "\n",
    "The <b>mathematical concept of set</b> is implememented in python infrom of <b>set abstract datatype</b>.\n",
    "\n",
    "Explore more about sets: https://en.wikipedia.org/wiki/Set_(mathematics)\n",
    "\n",
    "Know more about set abstract datatypes : https://en.wikipedia.org/wiki/Set_(abstract_data_type)\n",
    "\n",
    "A <b>set</b> is a data type that is <b>mutable</b>(modifable) and has <b>no duplicate</b> elements(every element is considered only once). The elements in sets are always considered in ascending order.\n",
    "\n",
    "As with dictionaries, we use curly braces to indicate a set, but with elements instead of key-value pairs!\n",
    "\n",
    "<span style='color:green'>Lets go ahead and create some sets.</span>"
   ]
  },
  {
   "cell_type": "code",
   "execution_count": 53,
   "metadata": {},
   "outputs": [
    {
     "name": "stdout",
     "output_type": "stream",
     "text": [
      "{0, 8, 2, 4, 6}\n"
     ]
    }
   ],
   "source": [
    "even_numbers = {0,2,4,6,8}\n",
    "print(even_numbers)"
   ]
  },
  {
   "cell_type": "markdown",
   "metadata": {},
   "source": [
    "Lets create an empty set"
   ]
  },
  {
   "cell_type": "code",
   "execution_count": 54,
   "metadata": {},
   "outputs": [
    {
     "name": "stdout",
     "output_type": "stream",
     "text": [
      "set()\n"
     ]
    }
   ],
   "source": [
    "empty_set = set()#creates a empty set \n",
    "print(empty_set)"
   ]
  },
  {
   "cell_type": "markdown",
   "metadata": {},
   "source": [
    "<span style='color:red'>Note: You can only create an empty set using <b>set()</b>, if u use only <b>{ }</b> it will create an empty dictionary.</span>"
   ]
  },
  {
   "cell_type": "code",
   "execution_count": 55,
   "metadata": {},
   "outputs": [
    {
     "name": "stdout",
     "output_type": "stream",
     "text": [
      "{'l', 'e', 's', 't', 'r'}\n"
     ]
    }
   ],
   "source": [
    "converted = set('letters') #converting a string into a set\n",
    "print(converted)"
   ]
  },
  {
   "cell_type": "markdown",
   "metadata": {},
   "source": [
    "<b>set()</b> function converts other sequence datatype to set datatype."
   ]
  },
  {
   "cell_type": "code",
   "execution_count": 56,
   "metadata": {},
   "outputs": [
    {
     "name": "stdout",
     "output_type": "stream",
     "text": [
      "{'a', 'b', 'c', 'd'}\n"
     ]
    }
   ],
   "source": [
    "converted = set(('a', 'b', 'c', 'd')) #converting a tuple into a set\n",
    "print(converted)"
   ]
  },
  {
   "cell_type": "code",
   "execution_count": 57,
   "metadata": {},
   "outputs": [
    {
     "name": "stdout",
     "output_type": "stream",
     "text": [
      "{'1', '3', '2'}\n"
     ]
    }
   ],
   "source": [
    "converted = set({'1':'a','2':'b','3':'c'}) #converting a string into a set\n",
    "print(converted)"
   ]
  },
  {
   "cell_type": "code",
   "execution_count": 58,
   "metadata": {},
   "outputs": [
    {
     "name": "stdout",
     "output_type": "stream",
     "text": [
      "{0, 8, 2, 4, 6}\n",
      "{0, 2, 4, 6, 8, 10}\n"
     ]
    }
   ],
   "source": [
    "#adding an elements to the set\n",
    "print(even_numbers)\n",
    "even_numbers.add(10)\n",
    "print(even_numbers)"
   ]
  },
  {
   "cell_type": "markdown",
   "metadata": {},
   "source": [
    "elements can be added to a set by using <b>.add()</b> on the set object."
   ]
  },
  {
   "cell_type": "markdown",
   "metadata": {},
   "source": [
    "Usually <b>sets</b> are <b>mutable</b> objects. But they can be made into <b>immutable</b> objects by creating them as <b>frozen set</b>."
   ]
  },
  {
   "cell_type": "code",
   "execution_count": 61,
   "metadata": {},
   "outputs": [
    {
     "name": "stdout",
     "output_type": "stream",
     "text": [
      "frozenset({1, 3, 5, 9, 7})\n"
     ]
    }
   ],
   "source": [
    "odd_set =frozenset([1,3,5,7,9])\n",
    "print(odd_set)"
   ]
  },
  {
   "cell_type": "markdown",
   "metadata": {},
   "source": [
    "Now lets try adding an element to the set."
   ]
  },
  {
   "cell_type": "code",
   "execution_count": 62,
   "metadata": {},
   "outputs": [
    {
     "ename": "AttributeError",
     "evalue": "'frozenset' object has no attribute 'add'",
     "output_type": "error",
     "traceback": [
      "\u001b[1;31m---------------------------------------------------------------------------\u001b[0m",
      "\u001b[1;31mAttributeError\u001b[0m                            Traceback (most recent call last)",
      "\u001b[1;32m<ipython-input-62-c8369b74c4c9>\u001b[0m in \u001b[0;36m<module>\u001b[1;34m()\u001b[0m\n\u001b[1;32m----> 1\u001b[1;33m \u001b[0modd_set\u001b[0m\u001b[1;33m.\u001b[0m\u001b[0madd\u001b[0m\u001b[1;33m(\u001b[0m\u001b[1;36m11\u001b[0m\u001b[1;33m)\u001b[0m\u001b[1;33m\u001b[0m\u001b[0m\n\u001b[0m\u001b[0;32m      2\u001b[0m \u001b[0mprint\u001b[0m\u001b[1;33m(\u001b[0m\u001b[0modd_set\u001b[0m\u001b[1;33m)\u001b[0m\u001b[1;31m#this will give a error because frozen sets are unmutable\u001b[0m\u001b[1;33m\u001b[0m\u001b[0m\n",
      "\u001b[1;31mAttributeError\u001b[0m: 'frozenset' object has no attribute 'add'"
     ]
    }
   ],
   "source": [
    "odd_set.add(11)\n",
    "print(odd_set)#this will give a error because frozen sets are unmutable"
   ]
  },
  {
   "cell_type": "markdown",
   "metadata": {},
   "source": [
    "<span style='color:red'>As you can see <b>forzen set</b> is not letting you to add elements</span>\n",
    "\n",
    "Lets see how is set functionality implemented in Python.<span style='color:green'> Lets create two set for convenience.</span>"
   ]
  },
  {
   "cell_type": "code",
   "execution_count": 64,
   "metadata": {},
   "outputs": [
    {
     "name": "stdout",
     "output_type": "stream",
     "text": [
      "Set A: {1, 2, 3, 4, 5, 6}\n",
      "Set B: {3, 4, 5, 6, 7, 8}\n",
      "A union B: {1, 2, 3, 4, 5, 6, 7, 8}\n",
      "A union B: {1, 2, 3, 4, 5, 6, 7, 8}\n"
     ]
    }
   ],
   "source": [
    "A={1,2,3,4,5,6}\n",
    "B={3,4,5,6,7,8}\n",
    "print(\"Set A:\",A)\n",
    "print(\"Set B:\",B)\n",
    "my_union=A.union(B)\n",
    "print(\"A union B:\",my_union)\n",
    "another_union=A|B\n",
    "print(\"A union B:\",another_union)"
   ]
  },
  {
   "cell_type": "markdown",
   "metadata": {},
   "source": [
    "The <b>union</b> of two sets <b>A</b> and <b>B</b> is the set of all elements which are in A, in B, or in both A and B.\n",
    "\n",
    "Union of sets can be performed by using <b>.union()</b> on set object and passing another set object in it or by using notation Set 1<b>|</b> Set 2 (i,e A|B for the above example)\n",
    "\n",
    "<b>Venn Diagram representation:</b>\n",
    "\n",
    "<img src=\"https://image.ibb.co/iTGqX9/Slide1.jpg\" width=\"500\" alt=\"Slide1\" border=\"0\" />"
   ]
  },
  {
   "cell_type": "code",
   "execution_count": 65,
   "metadata": {},
   "outputs": [
    {
     "name": "stdout",
     "output_type": "stream",
     "text": [
      "A union B union C : {1, 2, 3, 4, 5, 6, 7, 8, 9, 10}\n",
      "A union B union C union D : {1, 2, 3, 4, 5, 6, 7, 8, 9, 10, 11} \n",
      "\n",
      "A union B union C : {1, 2, 3, 4, 5, 6, 7, 8, 9, 10}\n",
      "A union B union C union D : {1, 2, 3, 4, 5, 6, 7, 8, 9, 10, 11}\n"
     ]
    }
   ],
   "source": [
    "# lets try union of more sets\n",
    "C = {5, 6, 7,8,9,10}\n",
    "D = {5, 7, 8, 9,10,11}\n",
    "print(\"A union B union C :\", A.union(B,C))\n",
    "print(\"A union B union C union D :\", A.union(B,C,D),\"\\n\")\n",
    "print(\"A union B union C :\", A|B|C)\n",
    "print(\"A union B union C union D :\", A|B|C|D)"
   ]
  },
  {
   "cell_type": "markdown",
   "metadata": {},
   "source": [
    "Hence in genral union of sets can be done by either <b>Set-1.union(Set-2, Set-3,..., Set-n)</b> or <b>Set-1| Set-2|...| Set-n)</b>"
   ]
  },
  {
   "cell_type": "code",
   "execution_count": 66,
   "metadata": {},
   "outputs": [
    {
     "name": "stdout",
     "output_type": "stream",
     "text": [
      "Set A: {1, 2, 3, 4, 5, 6}\n",
      "Set B: {3, 4, 5, 6, 7, 8}\n",
      "A intersection B: {3, 4, 5, 6}\n",
      "A intersection B: {3, 4, 5, 6}\n"
     ]
    }
   ],
   "source": [
    "print(\"Set A:\",A)\n",
    "print(\"Set B:\",B)\n",
    "my_intersection = A.intersection(B)\n",
    "print(\"A intersection B:\",my_intersection)\n",
    "another_intersection=A&B\n",
    "print(\"A intersection B:\",another_intersection)"
   ]
  },
  {
   "cell_type": "markdown",
   "metadata": {},
   "source": [
    "The <b>intersection</b> of two sets <b>A</b> and <b>B</b>, is the set of elements common in both A and B.\n",
    "\n",
    "Intersection of sets can be performed by using <b>.intersection()</b> on set object and passing another set object in it or by using notation Set 1<b>&</b> Set 2 (i,e A&B for the above example).\n",
    "\n",
    "<b>Venn Diagram representation:</b>\n",
    "\n",
    "<img src=\"https://image.ibb.co/mYgeQU/Slide2.jpg\" width=\"500\" alt=\"Slide2\" border=\"0\" />"
   ]
  },
  {
   "cell_type": "code",
   "execution_count": 67,
   "metadata": {
    "scrolled": true
   },
   "outputs": [
    {
     "name": "stdout",
     "output_type": "stream",
     "text": [
      "A intersection B intersection C : {5, 6}\n",
      "A intersection B intersection C intersection D : {5} \n",
      "\n",
      "A intersection B intersection C : {5, 6}\n",
      "A intersection B intersection C intersection D : {5}\n"
     ]
    }
   ],
   "source": [
    "# lets try intersection of more sets\n",
    "print(\"A intersection B intersection C :\", A.intersection(B,C))\n",
    "print(\"A intersection B intersection C intersection D :\", A.intersection(B,C,D),\"\\n\")\n",
    "print(\"A intersection B intersection C :\", A&B&C)\n",
    "print(\"A intersection B intersection C intersection D :\", A&B&C&D)"
   ]
  },
  {
   "cell_type": "code",
   "execution_count": 68,
   "metadata": {},
   "outputs": [
    {
     "name": "stdout",
     "output_type": "stream",
     "text": [
      "Set A: {1, 2, 3, 4, 5, 6}\n",
      "Set B: {3, 4, 5, 6, 7, 8} \n",
      "\n",
      "A - B: {1, 2}\n",
      "A - B: {1, 2} \n",
      "\n",
      "B - A: {8, 7}\n",
      "B - A: {8, 7}\n"
     ]
    }
   ],
   "source": [
    "print(\"Set A:\",A)\n",
    "print(\"Set B:\",B,\"\\n\")\n",
    "my_difference = A.difference(B)\n",
    "print(\"A - B:\",my_difference)\n",
    "another_difference=A-B\n",
    "print(\"A - B:\",another_difference,\"\\n\")\n",
    "my_difference = B.difference(A)\n",
    "print(\"B - A:\",my_difference)\n",
    "another_difference=B-A\n",
    "print(\"B - A:\",another_difference)"
   ]
  },
  {
   "cell_type": "markdown",
   "metadata": {},
   "source": [
    "The <b>difference</b> of the set <b>B</b> from set <b>A</b> (i,e A - B) is the set of all element in A, which is not in B. \n",
    "\n",
    "Difference of sets can be performed by using <b>.difference()</b> on set object and passing another set object in it or by using notation Set 1<b>-</b> Set 2 (i,e A-B for the above example).\n",
    "\n",
    "<b>Venn Diagram representation:</b>\n",
    "\n",
    "<img src=\"https://image.ibb.co/dNwDkU/Slide4.jpg\" width=\"500\" alt=\"Slide4\" border=\"0\" />"
   ]
  },
  {
   "cell_type": "code",
   "execution_count": 69,
   "metadata": {},
   "outputs": [
    {
     "name": "stdout",
     "output_type": "stream",
     "text": [
      "A - B - C : {1, 2}\n",
      "A - B - C - D : {1, 2} \n",
      "\n",
      "A - B - C : {1, 2}\n",
      "A - B - C - D : {1, 2}\n"
     ]
    }
   ],
   "source": [
    "# lets try difference of more sets\n",
    "print(\"A - B - C :\", A.difference(B,C)) # elements in  A not in b and c\n",
    "print(\"A - B - C - D :\", A.difference(B,C,D),\"\\n\") # elements in  A not in b, c and d\n",
    "print(\"A - B - C :\", A-B-C) # elements in  A not in b and c\n",
    "print(\"A - B - C - D :\", A-B-C-D) # elements in  A not in b, c and d"
   ]
  },
  {
   "cell_type": "code",
   "execution_count": 70,
   "metadata": {},
   "outputs": [
    {
     "name": "stdout",
     "output_type": "stream",
     "text": [
      "Set A: {1, 2, 3, 4, 5, 6}\n",
      "Set B: {3, 4, 5, 6, 7, 8}\n",
      "A symmetric_difference B: {1, 2, 7, 8}\n"
     ]
    }
   ],
   "source": [
    "print(\"Set A:\",A)\n",
    "print(\"Set B:\",B)\n",
    "my_symmetric_difference = A.symmetric_difference(B)\n",
    "print(\"A symmetric_difference B:\",my_symmetric_difference)"
   ]
  },
  {
   "cell_type": "markdown",
   "metadata": {},
   "source": [
    "The <b>symmetric difference</b> or <b>XOR</b> of the set <b>A</b> and set <b>B</b> is the set of all element in A, in B and not in both (A and B).   \n",
    "\n",
    "Symmetric difference of sets can be performed by using <b>.symmetric_difference()</b> on set object and passing another set object in it.\n",
    "\n",
    "<b>Venn Diagram representation:</b>\n",
    "\n",
    "<img src=\"https://image.ibb.co/d5yhep/Slide3.jpg\" width=\"500\" alt=\"Slide3\" border=\"0\" />"
   ]
  },
  {
   "cell_type": "code",
   "execution_count": 71,
   "metadata": {},
   "outputs": [
    {
     "name": "stdout",
     "output_type": "stream",
     "text": [
      "Set A: {1, 2, 3, 4, 5, 6}\n",
      "Set B: {3, 4, 5, 6, 7, 8}\n",
      "A union B updated in A: {1, 2, 3, 4, 5, 6, 7, 8}\n"
     ]
    }
   ],
   "source": [
    "A = {1, 2, 3, 4, 5, 6}\n",
    "print(\"Set A:\",A)\n",
    "print(\"Set B:\",B)\n",
    "A.update(B)\n",
    "print(\"A union B updated in A:\",A)"
   ]
  },
  {
   "cell_type": "markdown",
   "metadata": {},
   "source": [
    "<b>.update()</b> performs the union of set object used and set object passed and stores in set object on which is it used.\n",
    "\n",
    "i,e perform A = A.union(B)"
   ]
  },
  {
   "cell_type": "code",
   "execution_count": 72,
   "metadata": {},
   "outputs": [
    {
     "name": "stdout",
     "output_type": "stream",
     "text": [
      "Set A: {1, 2, 3, 4, 5, 6}\n",
      "Set B: {3, 4, 5, 6, 7, 8}\n",
      "A intersection B updated in A: {3, 4, 5, 6}\n"
     ]
    }
   ],
   "source": [
    "A = {1, 2, 3, 4, 5, 6}\n",
    "print(\"Set A:\",A)\n",
    "print(\"Set B:\",B)\n",
    "A.intersection_update(B)\n",
    "print(\"A intersection B updated in A:\",A)"
   ]
  },
  {
   "cell_type": "markdown",
   "metadata": {},
   "source": [
    "<b>.intersection_update()</b> performs the intersection of set object used and set object passed and stores in set object on which is it used.\n",
    "\n",
    "i,e perform A = A.intersection_update(B)"
   ]
  },
  {
   "cell_type": "code",
   "execution_count": 73,
   "metadata": {},
   "outputs": [
    {
     "name": "stdout",
     "output_type": "stream",
     "text": [
      "Set A: {1, 2, 3, 4, 5, 6}\n",
      "Set B: {3, 4, 5, 6, 7, 8}\n",
      "A difference B updated in A: {1, 2}\n"
     ]
    }
   ],
   "source": [
    "A = {1, 2, 3, 4, 5, 6}\n",
    "print(\"Set A:\",A)\n",
    "print(\"Set B:\",B)\n",
    "A.difference_update(B)\n",
    "print(\"A difference B updated in A:\",A)"
   ]
  },
  {
   "cell_type": "markdown",
   "metadata": {},
   "source": [
    "<b>.difference_update()</b> performs the difference of set object used and set object passed and stores in set object on which is it used.\n",
    "\n",
    "i,e perform A = A.difference_update(B)"
   ]
  },
  {
   "cell_type": "code",
   "execution_count": 74,
   "metadata": {},
   "outputs": [
    {
     "name": "stdout",
     "output_type": "stream",
     "text": [
      "Set A: {1, 2, 3, 4, 5, 6}\n",
      "Set B: {3, 4, 5, 6, 7, 8}\n",
      "A symmetric difference B updated in A: {1, 2, 7, 8}\n"
     ]
    }
   ],
   "source": [
    "A = {1, 2, 3, 4, 5, 6}\n",
    "print(\"Set A:\",A)\n",
    "print(\"Set B:\",B)\n",
    "A.symmetric_difference_update(B)\n",
    "print(\"A symmetric difference B updated in A:\",A)"
   ]
  },
  {
   "cell_type": "markdown",
   "metadata": {},
   "source": [
    "<b>.symmetric_difference_update()</b> performs the symmetric difference of set object used and set object passed and stores in set object on which is it used.\n",
    "\n",
    "i,e perform A = A.symmetric_difference_update(B)\n",
    "\n",
    "Now, Lets goahead and clear the set"
   ]
  },
  {
   "cell_type": "code",
   "execution_count": 75,
   "metadata": {},
   "outputs": [
    {
     "name": "stdout",
     "output_type": "stream",
     "text": [
      "Set A: {1, 2, 7, 8}\n",
      "Set A: set()\n"
     ]
    }
   ],
   "source": [
    "print(\"Set A:\",A)\n",
    "clear_set=A.clear() \n",
    "print(\"Set A:\",A)"
   ]
  },
  {
   "cell_type": "markdown",
   "metadata": {},
   "source": [
    "<b>.clear()</b> clears the set on which it is used."
   ]
  },
  {
   "cell_type": "markdown",
   "metadata": {},
   "source": [
    "<br><br>\n",
    "<center><h2>End of Book</h2></center>"
   ]
  },
  {
   "cell_type": "markdown",
   "metadata": {},
   "source": [
    "<hr>\n",
    "<h3><b>Next book :</b> Book 2. Lists, Tuples, Dictionaries and Sets</h3>\n",
    "\n",
    "<b><a href='index.html'>Back Home</a></b>\n",
    "<hr>"
   ]
  },
  {
   "cell_type": "markdown",
   "metadata": {},
   "source": [
    "Source from atcodedog git repo\n",
    "\n",
    "Find more on\n",
    "\n",
    "https://github.com/atcodedog\n",
    "\n",
    "http://www.atcodedog.com\n",
    "\n",
    "Follow us on\n",
    "\n",
    "https://twitter.com/atcodedog"
   ]
  }
 ],
 "metadata": {
  "kernelspec": {
   "display_name": "Python 3",
   "language": "python",
   "name": "python3"
  },
  "language_info": {
   "codemirror_mode": {
    "name": "ipython",
    "version": 3
   },
   "file_extension": ".py",
   "mimetype": "text/x-python",
   "name": "python",
   "nbconvert_exporter": "python",
   "pygments_lexer": "ipython3",
   "version": "3.5.5"
  }
 },
 "nbformat": 4,
 "nbformat_minor": 2
}
