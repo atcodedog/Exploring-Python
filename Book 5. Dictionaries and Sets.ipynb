{
 "cells": [
  {
   "cell_type": "markdown",
   "metadata": {},
   "source": [
    "<h1>Book 5. Dictionaries and Sets</h1>\n",
    "<hr>"
   ]
  },
  {
   "cell_type": "markdown",
   "metadata": {},
   "source": [
    "<b>Dictionaries</b>\n",
    "\n",
    "Dictionaries are mutable type. Which have sequence of values, with key associated to it."
   ]
  },
  {
   "cell_type": "markdown",
   "metadata": {},
   "source": [
    "<span style='color:green'>Lets go ahead and create some <b>Dictionaries</b></span>"
   ]
  },
  {
   "cell_type": "code",
   "execution_count": 1,
   "metadata": {},
   "outputs": [
    {
     "name": "stdout",
     "output_type": "stream",
     "text": [
      "{1: 'Monday', 2: 'Tuesday', 3: 'Wednesday', 4: 'Thrusday'}\n"
     ]
    }
   ],
   "source": [
    "# numeric keys and string values\n",
    "days_of_week = {\n",
    "    1:\"Monday\",\n",
    "    2:\"Tuesday\",\n",
    "    3:\"Wednesday\",\n",
    "    4:\"Thrusday\"\n",
    "} \n",
    "print(days_of_week)"
   ]
  },
  {
   "cell_type": "code",
   "execution_count": 2,
   "metadata": {},
   "outputs": [
    {
     "name": "stdout",
     "output_type": "stream",
     "text": [
      "{'one': 1, 'two': 2, 'three': 3, 'four': 4}\n"
     ]
    }
   ],
   "source": [
    "# string keys and numeric values\n",
    "number_word = {\n",
    "    \"one\":1,\n",
    "    \"two\":2,\n",
    "    \"three\":3,\n",
    "    \"four\":4\n",
    "}\n",
    "print(number_word )"
   ]
  },
  {
   "cell_type": "code",
   "execution_count": 3,
   "metadata": {},
   "outputs": [
    {
     "name": "stdout",
     "output_type": "stream",
     "text": [
      "{'day 1': 'Monday', 'day 2': 'Tuesday', 'day 3': 'Wednesday', 'day 4': 'Thrusday'}\n"
     ]
    }
   ],
   "source": [
    "# string keys and string values\n",
    "my_weekdays = {\n",
    "    \"day 1\":\"Monday\",\n",
    "    \"day 2\":\"Tuesday\",\n",
    "    \"day 3\":\"Wednesday\",\n",
    "    \"day 4\":\"Thrusday\"\n",
    "}\n",
    "print(my_weekdays)"
   ]
  },
  {
   "cell_type": "code",
   "execution_count": 4,
   "metadata": {},
   "outputs": [
    {
     "name": "stdout",
     "output_type": "stream",
     "text": [
      "{}\n"
     ]
    }
   ],
   "source": [
    "empty_dictionary = {}\n",
    "print(empty_dictionary)"
   ]
  },
  {
   "cell_type": "code",
   "execution_count": 5,
   "metadata": {},
   "outputs": [
    {
     "name": "stdout",
     "output_type": "stream",
     "text": [
      "{'int': 1, 1: 'i am one', 'float': 2.005, 2.005: 'I am two point zero zero five', 'string': 'I am a string :)', 'list': ['One', 2, 3.0], 'tuple': ('Four', 5, 6.0)}\n"
     ]
    }
   ],
   "source": [
    "# mix keys and mix values\n",
    "my_datatypes = {\n",
    "    \"int\":1,\n",
    "    1:\"i am one\",\n",
    "    \"float\":2.005,\n",
    "     2.005:\"I am two point zero zero five\",\n",
    "    \"string\":\"I am a string :)\",\n",
    "    \"list\":['One',2,3.0000],\n",
    "    \"tuple\":('Four',5,6.0000)\n",
    "}\n",
    "print(my_datatypes)"
   ]
  },
  {
   "cell_type": "markdown",
   "metadata": {},
   "source": [
    "Converting other sequence structures to <b>dictionary object</b>"
   ]
  },
  {
   "cell_type": "code",
   "execution_count": 6,
   "metadata": {},
   "outputs": [
    {
     "name": "stdout",
     "output_type": "stream",
     "text": [
      "{'a': 'b', 'c': 'd', 'e': 'f'}\n"
     ]
    }
   ],
   "source": [
    "# conversion from list of lists to dictionaries\n",
    "list_conv = [['a','b'],['c','d'],['e','f']]\n",
    "list_after_conv = dict(list_conv)\n",
    "print(list_after_conv)"
   ]
  },
  {
   "cell_type": "code",
   "execution_count": 7,
   "metadata": {},
   "outputs": [
    {
     "name": "stdout",
     "output_type": "stream",
     "text": [
      "{'a': 'b', 'c': 'd', 'e': 'f'}\n"
     ]
    }
   ],
   "source": [
    "# conversion from tuple of tuples to dictionaries\n",
    "tuple_conv = (('a','b'),('c','d'),('e','f'))\n",
    "tuple_after_conv = dict(tuple_conv)\n",
    "print(tuple_after_conv )"
   ]
  },
  {
   "cell_type": "code",
   "execution_count": 8,
   "metadata": {},
   "outputs": [
    {
     "name": "stdout",
     "output_type": "stream",
     "text": [
      "{'a': 'b', 'c': 'd', 'e': 'f'}\n"
     ]
    }
   ],
   "source": [
    "# conversion from list of tuples to dictionaries\n",
    "list_tuple_conv = [('a','b'),('c','d'),('e','f')]\n",
    "list_tuple_after_conv = dict(list_tuple_conv)\n",
    "print(list_tuple_after_conv)"
   ]
  },
  {
   "cell_type": "code",
   "execution_count": 9,
   "metadata": {},
   "outputs": [
    {
     "name": "stdout",
     "output_type": "stream",
     "text": [
      "{'a': 'b', 'c': 'd', 'e': 'f'}\n"
     ]
    }
   ],
   "source": [
    "# conversion from tuple of lists to dictionaries\n",
    "tuple_list_conv = (['a','b'],['c','d'],['e','f'])\n",
    "tuple_list_after_conv =dict(tuple_list_conv)\n",
    "print(tuple_list_after_conv)"
   ]
  },
  {
   "cell_type": "code",
   "execution_count": 10,
   "metadata": {},
   "outputs": [
    {
     "data": {
      "text/plain": [
       "{'a': 'b', 'c': 'd', 'e': 'f'}"
      ]
     },
     "execution_count": 10,
     "metadata": {},
     "output_type": "execute_result"
    }
   ],
   "source": [
    "# splitting string in a list into key and value\n",
    "los = ['ab','cd','ef']\n",
    "dict(los)"
   ]
  },
  {
   "cell_type": "code",
   "execution_count": 11,
   "metadata": {},
   "outputs": [
    {
     "data": {
      "text/plain": [
       "{'a': 'b', 'c': 'd', 'e': 'f'}"
      ]
     },
     "execution_count": 11,
     "metadata": {},
     "output_type": "execute_result"
    }
   ],
   "source": [
    "# splitting string in a tuple into key and value\n",
    "los = ('ab','cd','ef')\n",
    "dict(los)"
   ]
  },
  {
   "cell_type": "code",
   "execution_count": 12,
   "metadata": {},
   "outputs": [
    {
     "name": "stdout",
     "output_type": "stream",
     "text": [
      "Monday\n",
      "1\n",
      "Monday\n"
     ]
    }
   ],
   "source": [
    "print(days_of_week[1])\n",
    "print(number_word['one'])\n",
    "print(my_weekdays['day 1'])"
   ]
  },
  {
   "cell_type": "code",
   "execution_count": 13,
   "metadata": {},
   "outputs": [
    {
     "ename": "KeyError",
     "evalue": "1",
     "output_type": "error",
     "traceback": [
      "\u001b[1;31m---------------------------------------------------------------------------\u001b[0m",
      "\u001b[1;31mKeyError\u001b[0m                                  Traceback (most recent call last)",
      "\u001b[1;32m<ipython-input-13-3130db3dace7>\u001b[0m in \u001b[0;36m<module>\u001b[1;34m()\u001b[0m\n\u001b[1;32m----> 1\u001b[1;33m \u001b[0mprint\u001b[0m\u001b[1;33m(\u001b[0m\u001b[0mnumber_word\u001b[0m\u001b[1;33m[\u001b[0m\u001b[1;36m1\u001b[0m\u001b[1;33m]\u001b[0m\u001b[1;33m)\u001b[0m\u001b[1;33m\u001b[0m\u001b[0m\n\u001b[0m",
      "\u001b[1;31mKeyError\u001b[0m: 1"
     ]
    }
   ],
   "source": [
    "print(number_word[1])"
   ]
  },
  {
   "cell_type": "markdown",
   "metadata": {},
   "source": [
    "The elements of a dictionary can be accessed only by its <b>key</b> and not by index"
   ]
  },
  {
   "cell_type": "code",
   "execution_count": 14,
   "metadata": {},
   "outputs": [
    {
     "name": "stdout",
     "output_type": "stream",
     "text": [
      "{'day 1': 'I changed this', 'day 2': 'Tuesday', 'day 3': 'Wednesday', 'day 4': 'Thrusday'}\n"
     ]
    }
   ],
   "source": [
    "my_weekdays['day 1']='I changed this'\n",
    "print(my_weekdays)"
   ]
  },
  {
   "cell_type": "markdown",
   "metadata": {},
   "source": [
    "Changes can be made in the similar way as seen before"
   ]
  },
  {
   "cell_type": "code",
   "execution_count": 15,
   "metadata": {},
   "outputs": [
    {
     "name": "stdout",
     "output_type": "stream",
     "text": [
      "{'day 1': 'I changed this', 'day 2': 'Tuesday', 'day 3': 'Wednesday', 'day 4': 'Thrusday', 'day 5': 'Friday'}\n"
     ]
    }
   ],
   "source": [
    "my_weekdays['day 5']='Friday'\n",
    "print(my_weekdays)"
   ]
  },
  {
   "cell_type": "markdown",
   "metadata": {},
   "source": [
    "New element can be added by setting a new key of dictonary with a value"
   ]
  },
  {
   "cell_type": "code",
   "execution_count": 16,
   "metadata": {},
   "outputs": [],
   "source": [
    "my_friday = {\n",
    "    'day 6':'Saturday'\n",
    "}"
   ]
  },
  {
   "cell_type": "code",
   "execution_count": 17,
   "metadata": {},
   "outputs": [
    {
     "data": {
      "text/plain": [
       "{'day 1': 'I changed this',\n",
       " 'day 2': 'Tuesday',\n",
       " 'day 3': 'Wednesday',\n",
       " 'day 4': 'Thrusday',\n",
       " 'day 5': 'Friday',\n",
       " 'day 6': 'Saturday'}"
      ]
     },
     "execution_count": 17,
     "metadata": {},
     "output_type": "execute_result"
    }
   ],
   "source": [
    "my_weekdays.update(my_friday)\n",
    "my_weekdays"
   ]
  },
  {
   "cell_type": "markdown",
   "metadata": {},
   "source": [
    "New elements can be added into dictionaries by using another dictionary with new elements\n",
    "\n",
    "<b>.update()</b> is used to update a dictionary by passing new elements in another dictionary"
   ]
  },
  {
   "cell_type": "code",
   "execution_count": 18,
   "metadata": {},
   "outputs": [
    {
     "data": {
      "text/plain": [
       "{'day 1': 'I changed this',\n",
       " 'day 2': 'Tuesday',\n",
       " 'day 3': 'Wednesday',\n",
       " 'day 4': 'Thrusday',\n",
       " 'day 5': 'Friday',\n",
       " 'day 6': 'Saturday',\n",
       " 'day which was 1': 'Monday'}"
      ]
     },
     "execution_count": 18,
     "metadata": {},
     "output_type": "execute_result"
    }
   ],
   "source": [
    "my_weekdays.update({'day which was 1':'Monday'})\n",
    "my_weekdays"
   ]
  },
  {
   "cell_type": "code",
   "execution_count": 19,
   "metadata": {},
   "outputs": [
    {
     "name": "stdout",
     "output_type": "stream",
     "text": [
      "{'day 2': 'Tuesday', 'day 3': 'Wednesday', 'day 4': 'Thrusday', 'day 5': 'Friday', 'day 6': 'Saturday', 'day which was 1': 'Monday'}\n"
     ]
    }
   ],
   "source": [
    "del my_weekdays['day 1']\n",
    "print(my_weekdays)"
   ]
  },
  {
   "cell_type": "markdown",
   "metadata": {},
   "source": [
    "Certain elements can be deleted by using <b>del</b> along with <b>dictionary element</b>"
   ]
  },
  {
   "cell_type": "code",
   "execution_count": 20,
   "metadata": {},
   "outputs": [
    {
     "name": "stdout",
     "output_type": "stream",
     "text": [
      "{}\n"
     ]
    }
   ],
   "source": [
    "my_weekdays.clear()\n",
    "print(my_weekdays)"
   ]
  },
  {
   "cell_type": "markdown",
   "metadata": {},
   "source": [
    "<b>.clear()</b> can be used to clear the dictionary"
   ]
  },
  {
   "cell_type": "code",
   "execution_count": 21,
   "metadata": {},
   "outputs": [
    {
     "name": "stdout",
     "output_type": "stream",
     "text": [
      "{'day 1': 'Monday', 'day 2': 'Tuesday', 'day 3': 'Wednesday', 'day 4': 'Thrusday'}\n"
     ]
    }
   ],
   "source": [
    "my_weekdays = {\n",
    "    \"day 1\":\"Monday\",\n",
    "    \"day 2\":\"Tuesday\",\n",
    "    \"day 3\":\"Wednesday\",\n",
    "    \"day 4\":\"Thrusday\"\n",
    "}\n",
    "print(my_weekdays)"
   ]
  },
  {
   "cell_type": "code",
   "execution_count": 22,
   "metadata": {},
   "outputs": [
    {
     "name": "stdout",
     "output_type": "stream",
     "text": [
      "True\n"
     ]
    }
   ],
   "source": [
    "is_present = 'day 1' in my_weekdays \n",
    "print(is_present)"
   ]
  },
  {
   "cell_type": "markdown",
   "metadata": {},
   "source": [
    "Checking whether a element with a key is present in the dictionaries"
   ]
  },
  {
   "cell_type": "code",
   "execution_count": 23,
   "metadata": {},
   "outputs": [
    {
     "name": "stdout",
     "output_type": "stream",
     "text": [
      "False\n"
     ]
    }
   ],
   "source": [
    "is_present = 'day 5' in my_weekdays\n",
    "print(is_present)"
   ]
  },
  {
   "cell_type": "code",
   "execution_count": 24,
   "metadata": {},
   "outputs": [
    {
     "name": "stdout",
     "output_type": "stream",
     "text": [
      "Monday\n"
     ]
    }
   ],
   "source": [
    "day = my_weekdays.get('day 1')\n",
    "print(day)"
   ]
  },
  {
   "cell_type": "markdown",
   "metadata": {},
   "source": [
    "<b>.get()</b> is an another way of accessing element with key"
   ]
  },
  {
   "cell_type": "code",
   "execution_count": 25,
   "metadata": {},
   "outputs": [
    {
     "name": "stdout",
     "output_type": "stream",
     "text": [
      "None\n"
     ]
    }
   ],
   "source": [
    "day = my_weekdays.get('day 5') \n",
    "print(day)"
   ]
  },
  {
   "cell_type": "markdown",
   "metadata": {},
   "source": [
    "But outputs nothing when there is no entry with specified key"
   ]
  },
  {
   "cell_type": "code",
   "execution_count": 26,
   "metadata": {},
   "outputs": [
    {
     "name": "stdout",
     "output_type": "stream",
     "text": [
      "dict_keys(['day 1', 'day 2', 'day 3', 'day 4'])\n"
     ]
    }
   ],
   "source": [
    "my_keys = my_weekdays.keys() \n",
    "print(my_keys)"
   ]
  },
  {
   "cell_type": "markdown",
   "metadata": {},
   "source": [
    "<b>.keys()</b> gets keys of the dictionaries"
   ]
  },
  {
   "cell_type": "code",
   "execution_count": 27,
   "metadata": {},
   "outputs": [
    {
     "data": {
      "text/plain": [
       "['Monday', 'Tuesday', 'Wednesday', 'Thrusday']"
      ]
     },
     "execution_count": 27,
     "metadata": {},
     "output_type": "execute_result"
    }
   ],
   "source": [
    "list(my_weekdays.values())"
   ]
  },
  {
   "cell_type": "markdown",
   "metadata": {},
   "source": [
    "<b>.values()</b> gets values of the dictionaries"
   ]
  },
  {
   "cell_type": "code",
   "execution_count": 28,
   "metadata": {},
   "outputs": [
    {
     "data": {
      "text/plain": [
       "[('day 1', 'Monday'),\n",
       " ('day 2', 'Tuesday'),\n",
       " ('day 3', 'Wednesday'),\n",
       " ('day 4', 'Thrusday')]"
      ]
     },
     "execution_count": 28,
     "metadata": {},
     "output_type": "execute_result"
    }
   ],
   "source": [
    "list(my_weekdays.items())"
   ]
  },
  {
   "cell_type": "markdown",
   "metadata": {},
   "source": [
    "<b>.item()</b> displays both keys and values of the dictionaries"
   ]
  },
  {
   "cell_type": "code",
   "execution_count": 29,
   "metadata": {},
   "outputs": [
    {
     "name": "stdout",
     "output_type": "stream",
     "text": [
      "{'day 1': 'Monday', 'day 2': 'Tuesday', 'day 3': 'Wednesday', 'day 4': 'Thrusday'}\n",
      "{'day 1': 'Monday', 'day 2': 'Tuesday', 'day 3': 'Wednesday', 'day 4': 'Thrusday'}\n"
     ]
    }
   ],
   "source": [
    "my_friends_weekdays=my_weekdays.copy()\n",
    "print(my_weekdays)\n",
    "print(my_friends_weekdays)"
   ]
  },
  {
   "cell_type": "code",
   "execution_count": 30,
   "metadata": {},
   "outputs": [
    {
     "name": "stdout",
     "output_type": "stream",
     "text": [
      "{'day 1': 'Monday', 'day 2': 'Tuesday', 'day 3': 'Wednesday', 'day 4': 'Thrusday'}\n",
      "{'day 1': 'Monday', 'day 2': 'Tuesday', 'day 3': 'Wednesday', 'day 4': 'not free'}\n"
     ]
    }
   ],
   "source": [
    "my_friends_weekdays['day 4']='not free'\n",
    "print(my_weekdays)\n",
    "print(my_friends_weekdays)"
   ]
  },
  {
   "cell_type": "markdown",
   "metadata": {},
   "source": [
    "copies of dictionaries can be created by using <b>.copy()</b>"
   ]
  },
  {
   "cell_type": "markdown",
   "metadata": {},
   "source": [
    "<hr>"
   ]
  },
  {
   "cell_type": "markdown",
   "metadata": {},
   "source": [
    "<b>Sets</b>"
   ]
  },
  {
   "cell_type": "markdown",
   "metadata": {},
   "source": [
    "A set is like a dictionary with its values thrown away, leaving only the keys. As with a dictionary, each key must be unique. You use a set when you only want to know that something exists, and nothing else about it. Use a dictionary if you want to attach some information to the keys as a value.\n",
    "\n",
    "<b>{}</b> represents a set object\n",
    "\n",
    "<span></span>"
   ]
  },
  {
   "cell_type": "code",
   "execution_count": 31,
   "metadata": {},
   "outputs": [
    {
     "name": "stdout",
     "output_type": "stream",
     "text": [
      "set()\n",
      "{0, 2, 4, 6, 8}\n"
     ]
    }
   ],
   "source": [
    "empty_set = set() \n",
    "print(empty_set)\n",
    "even_numbers = {0,2,4,6,8}\n",
    "print(even_numbers)"
   ]
  },
  {
   "cell_type": "code",
   "execution_count": 32,
   "metadata": {},
   "outputs": [
    {
     "data": {
      "text/plain": [
       "{'e', 'l', 'r', 's', 't'}"
      ]
     },
     "execution_count": 32,
     "metadata": {},
     "output_type": "execute_result"
    }
   ],
   "source": [
    "set('letters')"
   ]
  },
  {
   "cell_type": "code",
   "execution_count": 34,
   "metadata": {},
   "outputs": [
    {
     "data": {
      "text/plain": [
       "{'1', '2', '3'}"
      ]
     },
     "execution_count": 34,
     "metadata": {},
     "output_type": "execute_result"
    }
   ],
   "source": [
    "set({'1':'a','2':'b','3':'c'})"
   ]
  },
  {
   "cell_type": "markdown",
   "metadata": {},
   "source": [
    "https://www.geeksforgeeks.org/sets-in-python/"
   ]
  },
  {
   "cell_type": "markdown",
   "metadata": {},
   "source": [
    "<br><br>\n",
    "<center><h2>End of Book</h2></center>"
   ]
  },
  {
   "cell_type": "markdown",
   "metadata": {},
   "source": [
    "<hr>\n",
    "<h3><b>Next book :</b> Book 2. Lists, Tuples, Dictionaries and Sets</h3>\n",
    "\n",
    "<b><a href='index.html'>Back Home</a></b>\n",
    "<hr>"
   ]
  },
  {
   "cell_type": "markdown",
   "metadata": {},
   "source": [
    "Source from atcodedog git repo\n",
    "\n",
    "Find more on\n",
    "\n",
    "https://github.com/atcodedog\n",
    "\n",
    "http://www.atcodedog.com\n",
    "\n",
    "Follow us on\n",
    "\n",
    "https://twitter.com/atcodedog"
   ]
  }
 ],
 "metadata": {
  "kernelspec": {
   "display_name": "Python 3",
   "language": "python",
   "name": "python3"
  },
  "language_info": {
   "codemirror_mode": {
    "name": "ipython",
    "version": 3
   },
   "file_extension": ".py",
   "mimetype": "text/x-python",
   "name": "python",
   "nbconvert_exporter": "python",
   "pygments_lexer": "ipython3",
   "version": "3.6.4"
  }
 },
 "nbformat": 4,
 "nbformat_minor": 2
}
