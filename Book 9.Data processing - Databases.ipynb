{
 "cells": [
  {
   "cell_type": "markdown",
   "metadata": {},
   "source": [
    "<h1>Database Operations</h1><br>\n",
    "<h3>Type of SQL statements</h3>\n",
    "<ul>\n",
    "    <li><b>DDL</b> (data definition language):<br>\n",
    "    Hanles creation, deletion, constraints and permissions for tables, database and use<br><br></li>\n",
    "    <li><b>DML</b> (data manipulation language):<br>\n",
    "    <ul>\n",
    "        <li><b>C</b>reate by using SELECT</li>\n",
    "        <li><b>R</b>ead by using SELECT</li>\n",
    "        <li><b>U</b>pdate by using UPDATE</li>\n",
    "        <li><b>D</b>elete by using DELETE</li>\n",
    "    </ul></li>\n",
    "</ul>"
   ]
  },
  {
   "cell_type": "code",
   "execution_count": 2,
   "metadata": {},
   "outputs": [],
   "source": [
    "import sqlite3"
   ]
  },
  {
   "cell_type": "code",
   "execution_count": 5,
   "metadata": {},
   "outputs": [],
   "source": [
    "conn = sqlite3.connect('db_handling\\my_db.db')"
   ]
  },
  {
   "cell_type": "code",
   "execution_count": 6,
   "metadata": {},
   "outputs": [],
   "source": [
    "curs = conn.cursor()"
   ]
  },
  {
   "cell_type": "code",
   "execution_count": 7,
   "metadata": {},
   "outputs": [
    {
     "data": {
      "text/plain": [
       "<sqlite3.Cursor at 0x5460340>"
      ]
     },
     "execution_count": 7,
     "metadata": {},
     "output_type": "execute_result"
    }
   ],
   "source": [
    "curs.execute('''CREATE TABLE zoo (critter VARCHAR(20) PRIMARY KEY, count INT, damages FLOAT)''')"
   ]
  },
  {
   "cell_type": "code",
   "execution_count": 8,
   "metadata": {},
   "outputs": [
    {
     "data": {
      "text/plain": [
       "<sqlite3.Cursor at 0x5460340>"
      ]
     },
     "execution_count": 8,
     "metadata": {},
     "output_type": "execute_result"
    }
   ],
   "source": [
    "curs.execute('''INSERT INTO zoo VALUES(\"duck\", 5, 0.0)''')"
   ]
  },
  {
   "cell_type": "code",
   "execution_count": 9,
   "metadata": {},
   "outputs": [
    {
     "data": {
      "text/plain": [
       "<sqlite3.Cursor at 0x5460340>"
      ]
     },
     "execution_count": 9,
     "metadata": {},
     "output_type": "execute_result"
    }
   ],
   "source": [
    "curs.execute('''INSERT INTO zoo VALUES(\"bear\", 2, 100.0)''')"
   ]
  },
  {
   "cell_type": "code",
   "execution_count": 10,
   "metadata": {},
   "outputs": [
    {
     "data": {
      "text/plain": [
       "<sqlite3.Cursor at 0x5460340>"
      ]
     },
     "execution_count": 10,
     "metadata": {},
     "output_type": "execute_result"
    }
   ],
   "source": [
    "ins = 'INSERT INTO zoo(critter, count, damages) VALUES(?, ?, ?)' # inserting data using place holders\n",
    "curs.execute(ins, ('weasel',1,2000.0))"
   ]
  },
  {
   "cell_type": "code",
   "execution_count": 11,
   "metadata": {},
   "outputs": [
    {
     "data": {
      "text/plain": [
       "<sqlite3.Cursor at 0x5460340>"
      ]
     },
     "execution_count": 11,
     "metadata": {},
     "output_type": "execute_result"
    }
   ],
   "source": [
    "curs.execute('''SELECT * FROM zoo''')"
   ]
  },
  {
   "cell_type": "code",
   "execution_count": 12,
   "metadata": {},
   "outputs": [],
   "source": [
    "rows = curs.fetchall()"
   ]
  },
  {
   "cell_type": "code",
   "execution_count": 14,
   "metadata": {},
   "outputs": [
    {
     "name": "stdout",
     "output_type": "stream",
     "text": [
      "[('duck', 5, 0.0), ('bear', 2, 100.0), ('weasel', 1, 2000.0)]\n"
     ]
    }
   ],
   "source": [
    "print(rows)"
   ]
  },
  {
   "cell_type": "code",
   "execution_count": 16,
   "metadata": {},
   "outputs": [
    {
     "data": {
      "text/plain": [
       "[('weasel', 1, 2000.0), ('bear', 2, 100.0), ('duck', 5, 0.0)]"
      ]
     },
     "execution_count": 16,
     "metadata": {},
     "output_type": "execute_result"
    }
   ],
   "source": [
    "curs.execute('''SELECT * FROM zoo ORDER BY count''') # fetch by descending order of count\n",
    "curs.fetchall()"
   ]
  },
  {
   "cell_type": "code",
   "execution_count": 17,
   "metadata": {},
   "outputs": [
    {
     "data": {
      "text/plain": [
       "[(2000.0,)]"
      ]
     },
     "execution_count": 17,
     "metadata": {},
     "output_type": "execute_result"
    }
   ],
   "source": [
    "curs.execute('''SELECT MAX(damages) FROM zoo''')\n",
    "curs.fetchall()"
   ]
  },
  {
   "cell_type": "code",
   "execution_count": 18,
   "metadata": {},
   "outputs": [],
   "source": [
    "curs.close()"
   ]
  },
  {
   "cell_type": "code",
   "execution_count": 19,
   "metadata": {},
   "outputs": [],
   "source": [
    "conn.close() # closing the db connection"
   ]
  },
  {
   "cell_type": "markdown",
   "metadata": {},
   "source": [
    "<hr>\n",
    "<h3>Modules for other SQL flavours</h3>"
   ]
  },
  {
   "cell_type": "markdown",
   "metadata": {},
   "source": [
    "<ul>\n",
    "    <li><b>MySQL</b><br>https://dev.mysql.com/doc/connector-python/en/connector-python-example-connecting.html<br><br></li>\n",
    "    <li><b>PostgreSQL</b><br>http://initd.org/psycopg/docs/usage.html#passing-parameters-to-sql-queries</li>\n",
    "</ul>"
   ]
  },
  {
   "cell_type": "markdown",
   "metadata": {},
   "source": [
    "<hr>\n",
    "<h3>SQLAlchemy</h3><br>\n",
    "is the most popular cross-database Python library<br><br>\n",
    "Installation Documents<br>\n",
    "http://docs.sqlalchemy.org/en/latest/intro.html#installation/"
   ]
  },
  {
   "cell_type": "code",
   "execution_count": 21,
   "metadata": {},
   "outputs": [],
   "source": [
    "import sqlalchemy as sa"
   ]
  },
  {
   "cell_type": "code",
   "execution_count": 22,
   "metadata": {},
   "outputs": [],
   "source": [
    "conn = sa.create_engine('sqlite://')"
   ]
  },
  {
   "cell_type": "code",
   "execution_count": 23,
   "metadata": {},
   "outputs": [
    {
     "data": {
      "text/plain": [
       "<sqlalchemy.engine.result.ResultProxy at 0x5cde630>"
      ]
     },
     "execution_count": 23,
     "metadata": {},
     "output_type": "execute_result"
    }
   ],
   "source": [
    "conn.execute('''CREATE TABLE zoo (critter VARCHAR(20) PRIMARY KEY, count INT, damages FLOAT)''')"
   ]
  },
  {
   "cell_type": "code",
   "execution_count": 25,
   "metadata": {},
   "outputs": [
    {
     "data": {
      "text/plain": [
       "<sqlalchemy.engine.result.ResultProxy at 0x5cdd0b8>"
      ]
     },
     "execution_count": 25,
     "metadata": {},
     "output_type": "execute_result"
    }
   ],
   "source": [
    "ins = 'INSERT INTO zoo(critter, count, damages) VALUES(?, ?, ?)' # inserting data using place holders\n",
    "conn.execute(ins, ('weasel',1,2000.0))"
   ]
  },
  {
   "cell_type": "code",
   "execution_count": 26,
   "metadata": {},
   "outputs": [
    {
     "data": {
      "text/plain": [
       "<sqlalchemy.engine.result.ResultProxy at 0x5cdd128>"
      ]
     },
     "execution_count": 26,
     "metadata": {},
     "output_type": "execute_result"
    }
   ],
   "source": [
    "conn.execute(ins, (\"duck\", 5, 0.0))"
   ]
  },
  {
   "cell_type": "code",
   "execution_count": 27,
   "metadata": {},
   "outputs": [
    {
     "data": {
      "text/plain": [
       "<sqlalchemy.engine.result.ResultProxy at 0x5cdd3c8>"
      ]
     },
     "execution_count": 27,
     "metadata": {},
     "output_type": "execute_result"
    }
   ],
   "source": [
    "conn.execute(ins, (\"bear\", 2, 100.0))"
   ]
  },
  {
   "cell_type": "code",
   "execution_count": 29,
   "metadata": {},
   "outputs": [],
   "source": [
    "rows = conn.execute('''SELECT * FROM zoo''')"
   ]
  },
  {
   "cell_type": "code",
   "execution_count": 30,
   "metadata": {},
   "outputs": [
    {
     "name": "stdout",
     "output_type": "stream",
     "text": [
      "<sqlalchemy.engine.result.ResultProxy object at 0x0000000005CDD860>\n"
     ]
    }
   ],
   "source": [
    "print(rows)"
   ]
  },
  {
   "cell_type": "code",
   "execution_count": 31,
   "metadata": {},
   "outputs": [
    {
     "name": "stdout",
     "output_type": "stream",
     "text": [
      "('weasel', 1, 2000.0)\n",
      "('duck', 5, 0.0)\n",
      "('bear', 2, 100.0)\n"
     ]
    }
   ],
   "source": [
    "for row in rows:\n",
    "    print(row)"
   ]
  },
  {
   "cell_type": "markdown",
   "metadata": {},
   "source": [
    "<b>Using SQL Expression Language</b>"
   ]
  },
  {
   "cell_type": "code",
   "execution_count": 32,
   "metadata": {},
   "outputs": [],
   "source": [
    "import sqlalchemy as sa"
   ]
  },
  {
   "cell_type": "code",
   "execution_count": 33,
   "metadata": {},
   "outputs": [],
   "source": [
    "conn = sa.create_engine('sqlite://')"
   ]
  },
  {
   "cell_type": "code",
   "execution_count": 34,
   "metadata": {},
   "outputs": [],
   "source": [
    "meta = sa.MetaData()\n",
    "zoo = sa.Table('zoo',meta,\n",
    "              sa.Column('critter',sa.String, primary_key=True),\n",
    "                sa.Column('count',sa.Integer),\n",
    "               sa.Column('damages',sa.Float)\n",
    "              )\n",
    "meta.create_all(conn)"
   ]
  },
  {
   "cell_type": "code",
   "execution_count": 35,
   "metadata": {},
   "outputs": [
    {
     "data": {
      "text/plain": [
       "<sqlalchemy.engine.result.ResultProxy at 0x7019d30>"
      ]
     },
     "execution_count": 35,
     "metadata": {},
     "output_type": "execute_result"
    }
   ],
   "source": [
    "ins = 'INSERT INTO zoo(critter, count, damages) VALUES(?, ?, ?)' # inserting data using place holders\n",
    "conn.execute(ins, ('weasel',1,2000.0))"
   ]
  },
  {
   "cell_type": "code",
   "execution_count": 36,
   "metadata": {},
   "outputs": [
    {
     "data": {
      "text/plain": [
       "<sqlalchemy.engine.result.ResultProxy at 0x70196a0>"
      ]
     },
     "execution_count": 36,
     "metadata": {},
     "output_type": "execute_result"
    }
   ],
   "source": [
    "conn.execute(ins, (\"duck\", 5, 0.0))"
   ]
  },
  {
   "cell_type": "code",
   "execution_count": 37,
   "metadata": {},
   "outputs": [
    {
     "data": {
      "text/plain": [
       "<sqlalchemy.engine.result.ResultProxy at 0x7019e80>"
      ]
     },
     "execution_count": 37,
     "metadata": {},
     "output_type": "execute_result"
    }
   ],
   "source": [
    "conn.execute(ins, (\"bear\", 2, 100.0))"
   ]
  },
  {
   "cell_type": "code",
   "execution_count": 38,
   "metadata": {},
   "outputs": [],
   "source": [
    "result = conn.execute(zoo.select())"
   ]
  },
  {
   "cell_type": "code",
   "execution_count": 39,
   "metadata": {},
   "outputs": [
    {
     "name": "stdout",
     "output_type": "stream",
     "text": [
      "[('weasel', 1, 2000.0), ('duck', 5, 0.0), ('bear', 2, 100.0)]\n"
     ]
    }
   ],
   "source": [
    "rows = result.fetchall()\n",
    "print(rows)"
   ]
  },
  {
   "cell_type": "markdown",
   "metadata": {},
   "source": [
    "<hr>\n",
    "<center><h3>NoSQL</h3></center>\n",
    "<table>\n",
    "    <tr>\n",
    "        <th>Flavour</th>\n",
    "        <th>Python API</th>\n",
    "    </tr>\n",
    "    <tr>\n",
    "        <td>Cassanda</td>\n",
    "        <td>pycassa</td>\n",
    "    </tr>\n",
    "     <tr>\n",
    "        <td>CouchDB</td>\n",
    "        <td>couchdb-python</td>\n",
    "    </tr>\n",
    "     <tr>\n",
    "        <td>HBase</td>\n",
    "        <td>happybase</td>\n",
    "    </tr>\n",
    "     <tr>\n",
    "        <td>Kyoto Cabinet</td>\n",
    "        <td>kyotocabinet</td>\n",
    "    </tr>\n",
    "     <tr>\n",
    "        <td>MongoDB</td>\n",
    "        <td>mongodb</td>\n",
    "    </tr>\n",
    "     <tr>\n",
    "        <td>Riak</td>\n",
    "        <td>riak-python-client</td>\n",
    "    </tr>\n",
    "</table><br><br>"
   ]
  },
  {
   "cell_type": "markdown",
   "metadata": {},
   "source": [
    "<hr>\n",
    "<center><h3>Full-Text Databases</h3></center>\n",
    "<table>\n",
    "    <tr>\n",
    "        <th>Lucene</th>\n",
    "        <th>pylucene</th>\n",
    "    </tr>\n",
    "    <tr>\n",
    "        <td>Solr</td>\n",
    "        <td>SolPython</td>\n",
    "    </tr>\n",
    "     <tr>\n",
    "        <td>ElasticSearch</td>\n",
    "        <td>pyes</td>\n",
    "    </tr>\n",
    "     <tr>\n",
    "        <td>Sphinx</td>\n",
    "        <td>sphinxapi</td>\n",
    "    </tr>\n",
    "     <tr>\n",
    "        <td>Xapian</td>\n",
    "        <td>xappy</td>\n",
    "    </tr>\n",
    "     <tr>\n",
    "        <td>Whoosh</td>\n",
    "        <td>(written in Python, includes an API)</td>\n",
    "    </tr>\n",
    "</table>"
   ]
  },
  {
   "cell_type": "markdown",
   "metadata": {},
   "source": [
    "<br><br>\n",
    "<center><h2>End of Book</h2></center>"
   ]
  }
 ],
 "metadata": {
  "kernelspec": {
   "display_name": "Python 3",
   "language": "python",
   "name": "python3"
  },
  "language_info": {
   "codemirror_mode": {
    "name": "ipython",
    "version": 3
   },
   "file_extension": ".py",
   "mimetype": "text/x-python",
   "name": "python",
   "nbconvert_exporter": "python",
   "pygments_lexer": "ipython3",
   "version": "3.6.4"
  }
 },
 "nbformat": 4,
 "nbformat_minor": 2
}
