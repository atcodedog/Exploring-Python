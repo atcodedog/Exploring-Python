{
 "cells": [
  {
   "cell_type": "markdown",
   "metadata": {},
   "source": [
    "<h1>Book 0.5. Installation</h1><hr>"
   ]
  },
  {
   "cell_type": "markdown",
   "metadata": {},
   "source": [
    "<b>Installing Python</b>\n",
    "\n",
    "Download from official website\n",
    "\n",
    "https://www.python.org/downloads/"
   ]
  },
  {
   "cell_type": "markdown",
   "metadata": {},
   "source": [
    "Download the recent version for respective platform"
   ]
  },
  {
   "cell_type": "markdown",
   "metadata": {},
   "source": [
    "In the installation window, check <b>add python to path</b> option and click on <b>Install now</b>"
   ]
  },
  {
   "cell_type": "markdown",
   "metadata": {},
   "source": [
    "By default Python installer package installs IDLE a python editor"
   ]
  },
  {
   "cell_type": "markdown",
   "metadata": {},
   "source": [
    "Open it and type\n",
    "\n",
    "print('hello world :)')\n",
    "\n",
    "will output similar to below"
   ]
  },
  {
   "cell_type": "code",
   "execution_count": null,
   "metadata": {},
   "outputs": [],
   "source": [
    "print('hello world :)') # basic print statement"
   ]
  },
  {
   "cell_type": "markdown",
   "metadata": {},
   "source": [
    "<hr>\n",
    "You can use comments(which is a good way of leaving infromation around your code for better readability) by using below format\n",
    "\n",
    "#this is a comment"
   ]
  },
  {
   "cell_type": "code",
   "execution_count": null,
   "metadata": {},
   "outputs": [],
   "source": [
    "#this is a comment"
   ]
  },
  {
   "cell_type": "markdown",
   "metadata": {},
   "source": [
    "<hr>"
   ]
  },
  {
   "cell_type": "markdown",
   "metadata": {},
   "source": [
    "<h2>Installing Editors</h2>"
   ]
  },
  {
   "cell_type": "markdown",
   "metadata": {},
   "source": [
    "<b>Jupyter Notebook</b>"
   ]
  },
  {
   "cell_type": "markdown",
   "metadata": {},
   "source": [
    "Offical download link: http://jupyter.org/install"
   ]
  },
  {
   "cell_type": "markdown",
   "metadata": {},
   "source": [
    "Jupyter is a IDE well suited for documentation and easy interactive displayability. Jupyter blends Python + Text/HTML for creating interactive presentation of code. \n",
    "\n",
    "<span style='color:green'>Jupyter will be the IDE that will be mostly used through out this Python exploration journey.</span>"
   ]
  },
  {
   "cell_type": "markdown",
   "metadata": {},
   "source": [
    "As you can see they have mentioned 2 methods of installation"
   ]
  },
  {
   "cell_type": "markdown",
   "metadata": {},
   "source": [
    "<b>Method 1: Using Anaconda</b>"
   ]
  },
  {
   "cell_type": "markdown",
   "metadata": {},
   "source": [
    "Offical download link: https://www.anaconda.com/download/"
   ]
  },
  {
   "cell_type": "markdown",
   "metadata": {},
   "source": [
    "As you can see in the home page saying <b>Portal to Data Science</b>.\n",
    "Anaconda is a software package which contains a bunch of softwares used for data science(mostly related to Python & R). Installation of anconda will by default, install python and lot necessary packages used in python. It is highly recommended  because most of the python packages needed, will be available as built-in packages. But the drawback is software package is huge and heavy that it might take up more storage space and memory space. And you might be installing few things which you might not use."
   ]
  },
  {
   "cell_type": "markdown",
   "metadata": {},
   "source": [
    "Includes software\n",
    "<ul>\n",
    "    <li>Jupyter (Python)</li>\n",
    "    <li>Rstudio (R)</li>\n",
    "    <li>Spyder (Python)</li>\n",
    "    <li>VS Code Editor (General language code editor)</li>\n",
    "</ul>"
   ]
  },
  {
   "cell_type": "markdown",
   "metadata": {},
   "source": [
    "<b>Method 2: Using PIP</b> (requires python to be preinstalled, PIP stands for python installer)"
   ]
  },
  {
   "cell_type": "markdown",
   "metadata": {},
   "source": [
    "Installs only jupyter notebook, hence you might have to install other python packages later."
   ]
  },
  {
   "cell_type": "markdown",
   "metadata": {},
   "source": [
    "<hr>"
   ]
  },
  {
   "cell_type": "markdown",
   "metadata": {},
   "source": [
    "<b>Spyder (<u>S</u>cientific <u>PY</u>thon <u>D</u>evelopment <u>E</u>nvi<u>R</u>onment)</b>"
   ]
  },
  {
   "cell_type": "markdown",
   "metadata": {},
   "source": [
    "Offical download link: https://github.com/spyder-ide/spyder"
   ]
  },
  {
   "cell_type": "markdown",
   "metadata": {},
   "source": [
    "Has visited before best way to get Spyder is by installing Anaconda\n",
    "\n",
    "https://anaconda.org/anaconda/spyder"
   ]
  },
  {
   "cell_type": "markdown",
   "metadata": {},
   "source": [
    "Read about Spyder https://www.marsja.se/why-spyder-is-the-best-python-ide-for-science/"
   ]
  },
  {
   "cell_type": "markdown",
   "metadata": {},
   "source": [
    "Licensed By MIT"
   ]
  },
  {
   "cell_type": "markdown",
   "metadata": {},
   "source": [
    "<hr>"
   ]
  },
  {
   "cell_type": "markdown",
   "metadata": {},
   "source": [
    "<b>PyCharm</b>"
   ]
  },
  {
   "cell_type": "markdown",
   "metadata": {},
   "source": [
    "Offical download link: https://www.jetbrains.com/pycharm/"
   ]
  },
  {
   "cell_type": "markdown",
   "metadata": {},
   "source": [
    "Read about Spyder https://medium.com/@mindfiresolutions.usa/what-is-pycharm-ide-cc0735784f64"
   ]
  },
  {
   "cell_type": "markdown",
   "metadata": {},
   "source": [
    "Licensed By JetBrains"
   ]
  },
  {
   "cell_type": "markdown",
   "metadata": {},
   "source": [
    "JetBrains specialises in providing IDE for different Programming languages"
   ]
  },
  {
   "cell_type": "markdown",
   "metadata": {},
   "source": [
    "<hr>"
   ]
  },
  {
   "cell_type": "markdown",
   "metadata": {},
   "source": [
    "<b>PyCharm Vs Spyder</b>\n",
    "\n",
    "https://www.marsja.se/pycharm-vs-spyder-comparing-ides/\n",
    "    \n",
    "https://www.quora.com/What-are-the-pros-and-cons-of-Spyder-versus-PyCharm-as-Python-IDEs"
   ]
  },
  {
   "cell_type": "markdown",
   "metadata": {},
   "source": [
    "<hr>"
   ]
  },
  {
   "cell_type": "markdown",
   "metadata": {},
   "source": [
    "<b>Visual Studio Code</b>"
   ]
  },
  {
   "cell_type": "markdown",
   "metadata": {},
   "source": [
    "Offical download link: https://code.visualstudio.com/"
   ]
  },
  {
   "cell_type": "markdown",
   "metadata": {},
   "source": [
    "Visul Studio Code is not a IDE instead its a Code editor with features like <b>Code prompting and Auto code completion, Integrated terminal, Git and much more.</b> This is really helpful when you are running files over terminal(especially incase of web server applications). And its Git itegrated ability is really helpful."
   ]
  },
  {
   "cell_type": "markdown",
   "metadata": {},
   "source": [
    "Since its a code editor and not an IDE it is a really light software."
   ]
  },
  {
   "cell_type": "markdown",
   "metadata": {},
   "source": [
    "Included in Anaconda"
   ]
  },
  {
   "cell_type": "markdown",
   "metadata": {},
   "source": [
    "<span style='color:green'>Since i will using VS Code in certain places. Preferable for this exploration journey.</span>"
   ]
  },
  {
   "cell_type": "markdown",
   "metadata": {},
   "source": [
    "<hr>"
   ]
  },
  {
   "cell_type": "markdown",
   "metadata": {},
   "source": [
    "<b>Other Code Suggestable Editors</b>"
   ]
  },
  {
   "cell_type": "markdown",
   "metadata": {},
   "source": [
    "<ul>\n",
    "    <li><b>Atom :</b> https://atom.io/</li>\n",
    "    <li><b>Sublime Text :</b> https://www.sublimetext.com/</li>\n",
    "</ul> "
   ]
  },
  {
   "cell_type": "markdown",
   "metadata": {},
   "source": [
    "<hr>"
   ]
  },
  {
   "cell_type": "markdown",
   "metadata": {},
   "source": [
    "Comparission \n",
    "\n",
    "VS Code Vs Atom Vs Sublime Vs Vim \n",
    "\n",
    "https://www.freelancinggig.com/blog/2018/05/16/atom-vs-sublime-vs-visual-studio-code-vs-vim-which-is-best-text-editor/\n",
    "\n",
    "https://www.codementor.io/mattgoldspink/best-text-editor-atom-sublime-vim-visual-studio-code-du10872i7"
   ]
  },
  {
   "cell_type": "markdown",
   "metadata": {},
   "source": [
    "<hr><hr>"
   ]
  },
  {
   "cell_type": "markdown",
   "metadata": {},
   "source": [
    "<b>Ok enough of exploring the IDEs available. Lets dive more into exploring Python.</b>"
   ]
  },
  {
   "cell_type": "markdown",
   "metadata": {},
   "source": [
    "<span style='color:green' >Hope you have setup Jupyter Notebook and VS Code as suggested before</span>"
   ]
  },
  {
   "cell_type": "markdown",
   "metadata": {},
   "source": [
    "If you have installed <b>Jupyter Notebook</b> and run it. You will find a familiar environment. \n",
    "\n",
    "Yesss!!! you have been reviewing Jupyter Notebook Files from the beginning. Is'nt that exiting :)\n",
    "\n",
    "<i>.ipynb</i> are the files generated and handled by Jupyter Notebook.\n",
    "\n",
    "Let us get more familiar"
   ]
  },
  {
   "cell_type": "code",
   "execution_count": 1,
   "metadata": {},
   "outputs": [
    {
     "data": {
      "text/html": [
       "<iframe width=\"560\" height=\"315\" src=\"https://www.youtube.com/embed/jZ952vChhuI?rel=0&amp;showinfo=0\" frameborder=\"0\" allow=\"autoplay; encrypted-media\" allowfullscreen></iframe>"
      ],
      "text/plain": [
       "<IPython.core.display.HTML object>"
      ]
     },
     "execution_count": 1,
     "metadata": {},
     "output_type": "execute_result"
    }
   ],
   "source": [
    "from IPython.display import HTML # we will visit this chunk of code later\n",
    "HTML('<iframe width=\"560\" height=\"315\" src=\"https://www.youtube.com/embed/jZ952vChhuI?rel=0&amp;showinfo=0\" frameborder=\"0\" allow=\"autoplay; encrypted-media\" allowfullscreen></iframe>')"
   ]
  },
  {
   "cell_type": "markdown",
   "metadata": {},
   "source": [
    "<span style='color:red'>The video is displayed only when this file is run on local machine (sadly not rendered while in GitHub) or in HTML format (only code is displayed and not rendered in GitHub)</span>\n",
    "\n",
    "<span style='color:green'>Hence please visit the link for the video before moving forward. If video is not provided.</span>\n",
    "\n",
    "Source: https://www.youtube.com/watch?v=jZ952vChhuI"
   ]
  },
  {
   "cell_type": "markdown",
   "metadata": {},
   "source": [
    "If you installed using PIP you need to open Jupyter Notebook using cmd line. \n",
    "<br><br><br>\n",
    "If you have installed using Anaconda you can open it either from Anaconda application homepage or Anaconda cmd prompt\n",
    "\n",
    "<b>note 1:</b> Anaconda cmd prompt shared with inbuilt terminal in Linux and Mac(which is also Linux) system.\n",
    "\n",
    "<b>note 2:</b> cannot open directly from cmd prompt in windows search for Anaconda Prompt in terminal.\n",
    "<hr>"
   ]
  },
  {
   "cell_type": "markdown",
   "metadata": {},
   "source": [
    "The Video missed out one important thing which has been used alot throughout this journey"
   ]
  },
  {
   "cell_type": "markdown",
   "metadata": {},
   "source": [
    "This is the toolbar of Jupyter Notebook\n",
    "<img src=\"https://image.ibb.co/mOF55e/toolbar_code.png\" alt=\"toolbar_code\" border=\"0\">\n",
    "\n",
    "You can check highlighted section. Its dropdown down menu, we will visit options shortly.\n",
    "\n",
    "<ul>\n",
    "    <li><b>Code (default): </b>Used to execute chunks of code.</li>\n",
    "    <li><b>Markdown: </b> This block can take Text/(HTML + CSS) and create a interactive display. This is the block effectively used for writing notes.</li>\n",
    "    <li><b>Heading: </b>This lets you to convert a line to heading.</li>\n",
    "    <li><b>Raw NBConvert: </b>As the name it stands for the text in the block is left raw</li>\n",
    "</ul>\n",
    "\n",
    "Refer link to understand more: https://ipython.org/ipython-doc/3/notebook/nbformat.html"
   ]
  },
  {
   "cell_type": "markdown",
   "metadata": {},
   "source": [
    "<hr>\n",
    "Lets go ahead and write our first program\n",
    "\n",
    "Create a new Python file by selecting New -> Python3\n",
    "\n",
    "<img src=\"https://image.ibb.co/jJx4Yz/toolbar_new.png\" alt=\"toolbar_new\" border=\"0\">\n",
    "\n",
    "Change the block change it to Markdown write <b>First Program</b> Shift + Enter\n",
    "\n",
    "Markdowns is and can be effectively written down in HTML altough the notebook has a lot of markdowns written in HTML it wont be covered as part of this journey.\n",
    "\n",
    "Not to be disappointed, you still have a great power of representing notes in Rich Text Format :)\n",
    "\n",
    "Now lets jump into and write our first line of code in Python\n",
    "\n",
    "Type print('Hello world') Shift + Enter"
   ]
  },
  {
   "cell_type": "code",
   "execution_count": 1,
   "metadata": {},
   "outputs": [
    {
     "name": "stdout",
     "output_type": "stream",
     "text": [
      "Hello world\n"
     ]
    }
   ],
   "source": [
    "print('Hello world') # prints content in the brackets. It will be more clear as you proceed in the journey."
   ]
  },
  {
   "cell_type": "markdown",
   "metadata": {},
   "source": [
    "you should get something like above"
   ]
  },
  {
   "cell_type": "markdown",
   "metadata": {},
   "source": [
    "<hr>\n",
    "Now go ahead and execute the code in <b>Book 0.1. Zen of Python</b>"
   ]
  },
  {
   "cell_type": "code",
   "execution_count": 2,
   "metadata": {},
   "outputs": [
    {
     "name": "stdout",
     "output_type": "stream",
     "text": [
      "The Zen of Python, by Tim Peters\n",
      "\n",
      "Beautiful is better than ugly.\n",
      "Explicit is better than implicit.\n",
      "Simple is better than complex.\n",
      "Complex is better than complicated.\n",
      "Flat is better than nested.\n",
      "Sparse is better than dense.\n",
      "Readability counts.\n",
      "Special cases aren't special enough to break the rules.\n",
      "Although practicality beats purity.\n",
      "Errors should never pass silently.\n",
      "Unless explicitly silenced.\n",
      "In the face of ambiguity, refuse the temptation to guess.\n",
      "There should be one-- and preferably only one --obvious way to do it.\n",
      "Although that way may not be obvious at first unless you're Dutch.\n",
      "Now is better than never.\n",
      "Although never is often better than *right* now.\n",
      "If the implementation is hard to explain, it's a bad idea.\n",
      "If the implementation is easy to explain, it may be a good idea.\n",
      "Namespaces are one honking great idea -- let's do more of those!\n"
     ]
    }
   ],
   "source": [
    "import this"
   ]
  },
  {
   "cell_type": "markdown",
   "metadata": {},
   "source": [
    "<span style='color:green'>Osum !!! see that wasnt though at all :)</span>\n",
    "   \n",
    "<span style='color:green'>Now lets dive in and start coding in Python and explore its capabilites</span>\n",
    "\n",
    "Below is the code how you can embedded YouTube videos."
   ]
  },
  {
   "cell_type": "code",
   "execution_count": 2,
   "metadata": {},
   "outputs": [
    {
     "data": {
      "text/html": [
       "<iframe width=\"560\" height=\"315\" src=\"https://www.youtube.com/embed/xcJtL7QggTI?rel=0&amp;showinfo=0\" frameborder=\"0\" allow=\"autoplay; encrypted-media\" allowfullscreen></iframe>"
      ],
      "text/plain": [
       "<IPython.core.display.HTML object>"
      ]
     },
     "execution_count": 2,
     "metadata": {},
     "output_type": "execute_result"
    }
   ],
   "source": [
    "from IPython.display import HTML # import HTML module from package IPython.display\n",
    "# your HTML code goes in the bracket. iframe is got from youtube embed option.\n",
    "HTML('<iframe width=\"560\" height=\"315\" src=\"https://www.youtube.com/embed/xcJtL7QggTI?rel=0&amp;showinfo=0\" frameborder=\"0\" allow=\"autoplay; encrypted-media\" allowfullscreen></iframe>')"
   ]
  },
  {
   "cell_type": "markdown",
   "metadata": {},
   "source": [
    "<hr>\n",
    "\n",
    "Jupyter Notebook Keyboard shortcuts cheatsheet https://www.cheatography.com/weidadeyue/cheat-sheets/jupyter-notebook/"
   ]
  },
  {
   "cell_type": "markdown",
   "metadata": {},
   "source": [
    "<br><br>\n",
    "<center><h2>End of Book</h2></center>"
   ]
  },
  {
   "cell_type": "markdown",
   "metadata": {},
   "source": [
    "<hr>\n",
    "<h3><b>Next book :</b> Book 1. Data types and their built in operations</h3>\n",
    "\n",
    "<b><a href='index.html'>Back Home</a></b>\n",
    "<hr>"
   ]
  },
  {
   "cell_type": "markdown",
   "metadata": {},
   "source": [
    "Source from atcodedog git repo\n",
    "\n",
    "Find more on\n",
    "\n",
    "https://github.com/atcodedog\n",
    "\n",
    "http://www.atcodedog.com\n",
    "\n",
    "Follow us on\n",
    "\n",
    "https://twitter.com/atcodedog"
   ]
  }
 ],
 "metadata": {
  "kernelspec": {
   "display_name": "Python 3",
   "language": "python",
   "name": "python3"
  },
  "language_info": {
   "codemirror_mode": {
    "name": "ipython",
    "version": 3
   },
   "file_extension": ".py",
   "mimetype": "text/x-python",
   "name": "python",
   "nbconvert_exporter": "python",
   "pygments_lexer": "ipython3",
   "version": "3.6.4"
  }
 },
 "nbformat": 4,
 "nbformat_minor": 2
}
