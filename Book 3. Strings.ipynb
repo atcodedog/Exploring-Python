{
 "cells": [
  {
   "cell_type": "markdown",
   "metadata": {},
   "source": [
    "<h1>Book 3. Strings</h1><hr>"
   ]
  },
  {
   "cell_type": "markdown",
   "metadata": {},
   "source": [
    "String in python are surrounded by either single quotation marks, or double quotation marks.\n",
    "'hello' is the same as \"hello\"."
   ]
  },
  {
   "cell_type": "code",
   "execution_count": 1,
   "metadata": {},
   "outputs": [
    {
     "data": {
      "text/plain": [
       "'Hello python'"
      ]
     },
     "execution_count": 1,
     "metadata": {},
     "output_type": "execute_result"
    }
   ],
   "source": [
    "'Hello python'"
   ]
  },
  {
   "cell_type": "code",
   "execution_count": 2,
   "metadata": {},
   "outputs": [
    {
     "data": {
      "text/plain": [
       "\"I'm pythonista\""
      ]
     },
     "execution_count": 2,
     "metadata": {},
     "output_type": "execute_result"
    }
   ],
   "source": [
    "\"I'm pythonista\" "
   ]
  },
  {
   "cell_type": "code",
   "execution_count": 3,
   "metadata": {},
   "outputs": [
    {
     "data": {
      "text/plain": [
       "\"'Nay',said the naysayer\""
      ]
     },
     "execution_count": 3,
     "metadata": {},
     "output_type": "execute_result"
    }
   ],
   "source": [
    "\"'Nay',said the naysayer\""
   ]
  },
  {
   "cell_type": "code",
   "execution_count": 4,
   "metadata": {},
   "outputs": [
    {
     "data": {
      "text/plain": [
       "'I read the article, \"A Poor Woman’s Journey.\"'"
      ]
     },
     "execution_count": 4,
     "metadata": {},
     "output_type": "execute_result"
    }
   ],
   "source": [
    "  'I read the article, \"A Poor Woman’s Journey.\"'"
   ]
  },
  {
   "cell_type": "markdown",
   "metadata": {},
   "source": [
    "Single quotes can be used with in double quotes\n",
    "\n",
    "Double quotes can be used with in single quotes"
   ]
  },
  {
   "cell_type": "code",
   "execution_count": 5,
   "metadata": {},
   "outputs": [
    {
     "name": "stdout",
     "output_type": "stream",
     "text": [
      "That time of year thou mayst in me behold\n",
      "When yellow leaves, or none, or few, do hang \n",
      "Upon those boughs which shake against the cold,\n",
      "Bare ruin’d choirs, where late the sweet birds sang.\n",
      "In me thou seest the twilight of such day\n",
      "As after sunset fadetn in the west,\n",
      "Which by and by black night doth take away,\n",
      "Death ‘s second self, that seals up all in rest.\n",
      "In me thou seeest the glowing of such fire,\n",
      "That on the ashes of his youth doth  lie,\n",
      "As the death-bed whereon it must expire,\n",
      "Consum’d with that which it was nourish’d by.\n",
      "This thou perceiv’st which makes thy love more strong,\n",
      "To love that well which thou must leave ere long\n"
     ]
    }
   ],
   "source": [
    "poem = \"\"\"That time of year thou mayst in me behold\n",
    "... When yellow leaves, or none, or few, do hang \n",
    "... Upon those boughs which shake against the cold,\n",
    "... Bare ruin’d choirs, where late the sweet birds sang.\n",
    "... In me thou seest the twilight of such day\n",
    "... As after sunset fadetn in the west,\n",
    "... Which by and by black night doth take away,\n",
    "... Death ‘s second self, that seals up all in rest.\n",
    "... In me thou seeest the glowing of such fire,\n",
    "... That on the ashes of his youth doth  lie,\n",
    "... As the death-bed whereon it must expire,\n",
    "... Consum’d with that which it was nourish’d by.\n",
    "... This thou perceiv’st which makes thy love more strong,\n",
    "... To love that well which thou must leave ere long\"\"\"\n",
    "\n",
    "\n",
    "print(poem)"
   ]
  },
  {
   "cell_type": "markdown",
   "metadata": {},
   "source": [
    "''' ''' and \"\"\" \"\"\" 3 single quotes or double quotes can be used create multiline string"
   ]
  },
  {
   "cell_type": "markdown",
   "metadata": {},
   "source": [
    "The above lines are taken from William Shakespeare's Sonnet 73: That time of year thou mayst in me behold\n",
    "\n",
    "Explore more : https://www.poetryfoundation.org/poems/45099/sonnet-73-that-time-of-year-thou-mayst-in-me-behold"
   ]
  },
  {
   "cell_type": "code",
   "execution_count": 6,
   "metadata": {},
   "outputs": [
    {
     "ename": "SyntaxError",
     "evalue": "EOL while scanning string literal (<ipython-input-6-4e528ad9fb7d>, line 1)",
     "output_type": "error",
     "traceback": [
      "\u001b[1;36m  File \u001b[1;32m\"<ipython-input-6-4e528ad9fb7d>\"\u001b[1;36m, line \u001b[1;32m1\u001b[0m\n\u001b[1;33m    poem2 = 'Once a dream did weave a shade\u001b[0m\n\u001b[1;37m                                           ^\u001b[0m\n\u001b[1;31mSyntaxError\u001b[0m\u001b[1;31m:\u001b[0m EOL while scanning string literal\n"
     ]
    }
   ],
   "source": [
    "poem2 = 'Once a dream did weave a shade\n",
    "... O'er my angel-guarded bed,\n",
    "... That an emmet lost its way\n",
    "... Where on grass methought I lay'\n",
    "print(poem2)"
   ]
  },
  {
   "cell_type": "markdown",
   "metadata": {},
   "source": [
    "It throws EOL(End Of Line) error when used with just single quotes or double quotes"
   ]
  },
  {
   "cell_type": "code",
   "execution_count": 7,
   "metadata": {},
   "outputs": [
    {
     "data": {
      "text/plain": [
       "'There was a young lady of Norway, Who casually sat in a doorway; When the door squeezed her flat,  She exclaimed, \"What of that?\" This courageous Young Lady of Norway'"
      ]
     },
     "execution_count": 7,
     "metadata": {},
     "output_type": "execute_result"
    }
   ],
   "source": [
    "poem3 = 'There was a young lady of Norway, \\\n",
    "... Who casually sat in a doorway; \\\n",
    "... When the door squeezed her flat,  \\\n",
    "... She exclaimed, \"What of that?\" \\\n",
    "... This courageous Young Lady of Norway'\n",
    "poem3 "
   ]
  },
  {
   "cell_type": "markdown",
   "metadata": {},
   "source": [
    "<span><b>&#92;</b></span>(backslash)  is a special character, which puts multiple lines in a single line ."
   ]
  },
  {
   "cell_type": "code",
   "execution_count": 8,
   "metadata": {},
   "outputs": [
    {
     "name": "stdout",
     "output_type": "stream",
     "text": [
      "3 musketeers\n"
     ]
    }
   ],
   "source": [
    "print(3, 'musketeers') "
   ]
  },
  {
   "cell_type": "markdown",
   "metadata": {},
   "source": [
    "<b>print( )</b> functions lets you print numbers(Integer and Floating) and strings together by using <span><b>,</b></span>(comma) in between. Each element with single space in between."
   ]
  },
  {
   "cell_type": "code",
   "execution_count": 9,
   "metadata": {},
   "outputs": [
    {
     "data": {
      "text/plain": [
       "'98.6'"
      ]
     },
     "execution_count": 9,
     "metadata": {},
     "output_type": "execute_result"
    }
   ],
   "source": [
    "str(98.6)"
   ]
  },
  {
   "cell_type": "markdown",
   "metadata": {},
   "source": [
    "<b>str()</b> is the string conversion function"
   ]
  },
  {
   "cell_type": "code",
   "execution_count": 10,
   "metadata": {},
   "outputs": [
    {
     "data": {
      "text/plain": [
       "'10000.0'"
      ]
     },
     "execution_count": 10,
     "metadata": {},
     "output_type": "execute_result"
    }
   ],
   "source": [
    "str(1.0e4)"
   ]
  },
  {
   "cell_type": "code",
   "execution_count": 11,
   "metadata": {},
   "outputs": [
    {
     "data": {
      "text/plain": [
       "'True'"
      ]
     },
     "execution_count": 11,
     "metadata": {},
     "output_type": "execute_result"
    }
   ],
   "source": [
    "str(True)"
   ]
  },
  {
   "cell_type": "code",
   "execution_count": 12,
   "metadata": {},
   "outputs": [
    {
     "name": "stdout",
     "output_type": "stream",
     "text": [
      "\tabc\n",
      "a\tbc\n",
      "ab\tc\n",
      "abc\t\n",
      "ab\n",
      "c\n"
     ]
    }
   ],
   "source": [
    "print('\\tabc') \n",
    "print('a\\tbc')\n",
    "print('ab\\tc')\n",
    "print('abc\\t')\n",
    "print('ab\\nc')"
   ]
  },
  {
   "cell_type": "markdown",
   "metadata": {},
   "source": [
    "Escape sequence: \\t - tab, \\n - new line\n",
    "\n",
    "\\t lets you insert a Tab in between \n",
    "\n",
    "\\n lets you insert a New Line in between "
   ]
  },
  {
   "cell_type": "code",
   "execution_count": 13,
   "metadata": {},
   "outputs": [
    {
     "name": "stdout",
     "output_type": "stream",
     "text": [
      "\"I did nothing !\" he said. \"Not that either! or the other thing.\"\n"
     ]
    }
   ],
   "source": [
    "testimony = \"\\\"I did nothing !\\\" he said. \\\"Not that either! or the other thing.\\\"\" \n",
    "print(testimony)"
   ]
  },
  {
   "cell_type": "markdown",
   "metadata": {},
   "source": [
    "escape sequence is used with single quote, double quote and other keyword to escape its function\n",
    "\n",
    "using \\\" will not let \" to end the string. Hence nullifying the function of \"."
   ]
  },
  {
   "cell_type": "code",
   "execution_count": 14,
   "metadata": {},
   "outputs": [
    {
     "name": "stdout",
     "output_type": "stream",
     "text": [
      "Today we honor our friend, the backslash: \\.\n"
     ]
    }
   ],
   "source": [
    "speech = 'Today we honor our friend, the backslash: \\\\.'\n",
    "print(speech)"
   ]
  },
  {
   "cell_type": "markdown",
   "metadata": {},
   "source": [
    "Nullifying ' with \\'"
   ]
  },
  {
   "cell_type": "code",
   "execution_count": 15,
   "metadata": {},
   "outputs": [
    {
     "data": {
      "text/plain": [
       "'parrotparrotGreen Parrot.'"
      ]
     },
     "execution_count": 15,
     "metadata": {},
     "output_type": "execute_result"
    }
   ],
   "source": [
    "a='parrot' # + acts a operation for string concatenation but doesnt add space in between and hence sould be added manually\n",
    "b=a\n",
    "c='Green Parrot.'\n",
    "a+b+c"
   ]
  },
  {
   "cell_type": "markdown",
   "metadata": {},
   "source": [
    "Strings can be added/concatenated by using <b>+</b> operator"
   ]
  },
  {
   "cell_type": "code",
   "execution_count": 16,
   "metadata": {},
   "outputs": [
    {
     "data": {
      "text/plain": [
       "'number of musketeers: 3'"
      ]
     },
     "execution_count": 16,
     "metadata": {},
     "output_type": "execute_result"
    }
   ],
   "source": [
    "musketeers = 3\n",
    "base = ''\n",
    "base += 'number of musketeers: '\n",
    "base += str(musketeers )\n",
    "base"
   ]
  },
  {
   "cell_type": "code",
   "execution_count": 17,
   "metadata": {},
   "outputs": [
    {
     "data": {
      "text/plain": [
       "'parrot parrot Green Parrot.'"
      ]
     },
     "execution_count": 17,
     "metadata": {},
     "output_type": "execute_result"
    }
   ],
   "source": [
    "a+' '+b+' '+c"
   ]
  },
  {
   "cell_type": "code",
   "execution_count": 18,
   "metadata": {},
   "outputs": [
    {
     "name": "stdout",
     "output_type": "stream",
     "text": [
      "Hi Hi Hi Hi \n",
      "Hello Hello Hello \n",
      "Goodbye.\n"
     ]
    }
   ],
   "source": [
    "start = 'Hi ' *4 + '\\n' # * operator to duplicate a string (n) times. 'string' * (n) \n",
    "middle = 'Hello ' *3 + '\\n'\n",
    "end = 'Goodbye.'\n",
    "print(start+middle+end)"
   ]
  },
  {
   "cell_type": "markdown",
   "metadata": {},
   "source": [
    "&#42; (star) operator when used with a string will duplicate the chunk of strings n number of times.\n",
    "\n",
    "'Hi ' * 4 = 'Hi Hi Hi Hi '"
   ]
  },
  {
   "cell_type": "markdown",
   "metadata": {},
   "source": [
    "<b>Extract Character from a string</b>"
   ]
  },
  {
   "cell_type": "code",
   "execution_count": 19,
   "metadata": {},
   "outputs": [],
   "source": [
    "letters='abcdefghijklmnopqrstuvwxyz'"
   ]
  },
  {
   "cell_type": "code",
   "execution_count": 20,
   "metadata": {},
   "outputs": [
    {
     "data": {
      "text/plain": [
       "'a'"
      ]
     },
     "execution_count": 20,
     "metadata": {},
     "output_type": "execute_result"
    }
   ],
   "source": [
    "letters[0]"
   ]
  },
  {
   "cell_type": "markdown",
   "metadata": {},
   "source": [
    "The elements are accessed by using offsets position. \n",
    "\n",
    "Offset always starts from 0."
   ]
  },
  {
   "cell_type": "code",
   "execution_count": 21,
   "metadata": {},
   "outputs": [
    {
     "data": {
      "text/plain": [
       "'b'"
      ]
     },
     "execution_count": 21,
     "metadata": {},
     "output_type": "execute_result"
    }
   ],
   "source": [
    "letters[1] # 1 represnts first 2nd element"
   ]
  },
  {
   "cell_type": "code",
   "execution_count": 22,
   "metadata": {},
   "outputs": [
    {
     "data": {
      "text/plain": [
       "'z'"
      ]
     },
     "execution_count": 22,
     "metadata": {},
     "output_type": "execute_result"
    }
   ],
   "source": [
    "letters[-1]  # -1 represnts last element"
   ]
  },
  {
   "cell_type": "markdown",
   "metadata": {},
   "source": [
    "&#45; (minus) offset starts counting from the end. Starts from -1"
   ]
  },
  {
   "cell_type": "code",
   "execution_count": 23,
   "metadata": {},
   "outputs": [
    {
     "data": {
      "text/plain": [
       "'y'"
      ]
     },
     "execution_count": 23,
     "metadata": {},
     "output_type": "execute_result"
    }
   ],
   "source": [
    "letters[-2] # -2 represnts last 2nd element"
   ]
  },
  {
   "cell_type": "code",
   "execution_count": 24,
   "metadata": {},
   "outputs": [
    {
     "data": {
      "text/plain": [
       "'z'"
      ]
     },
     "execution_count": 24,
     "metadata": {},
     "output_type": "execute_result"
    }
   ],
   "source": [
    "letters[25] # 25 represnts 26 element"
   ]
  },
  {
   "cell_type": "code",
   "execution_count": 25,
   "metadata": {},
   "outputs": [
    {
     "ename": "IndexError",
     "evalue": "string index out of range",
     "output_type": "error",
     "traceback": [
      "\u001b[1;31m---------------------------------------------------------------------------\u001b[0m",
      "\u001b[1;31mIndexError\u001b[0m                                Traceback (most recent call last)",
      "\u001b[1;32m<ipython-input-25-9b1d709c8e15>\u001b[0m in \u001b[0;36m<module>\u001b[1;34m()\u001b[0m\n\u001b[1;32m----> 1\u001b[1;33m \u001b[0mletters\u001b[0m\u001b[1;33m[\u001b[0m\u001b[1;36m26\u001b[0m\u001b[1;33m]\u001b[0m \u001b[1;31m# 26 represnts 27th element which is not present\u001b[0m\u001b[1;33m\u001b[0m\u001b[0m\n\u001b[0m",
      "\u001b[1;31mIndexError\u001b[0m: string index out of range"
     ]
    }
   ],
   "source": [
    "letters[26] # 26 represnts 27th element which is not present "
   ]
  },
  {
   "cell_type": "code",
   "execution_count": null,
   "metadata": {},
   "outputs": [],
   "source": [
    "letters[0]='a' # this kind of assignemnet is not supported"
   ]
  },
  {
   "cell_type": "code",
   "execution_count": 26,
   "metadata": {},
   "outputs": [
    {
     "data": {
      "text/plain": [
       "'1bcdefghijklmnopqrstuvwxyz'"
      ]
     },
     "execution_count": 26,
     "metadata": {},
     "output_type": "execute_result"
    }
   ],
   "source": [
    "letters.replace('a','1') # assigning / replacing characters"
   ]
  },
  {
   "cell_type": "code",
   "execution_count": 27,
   "metadata": {},
   "outputs": [
    {
     "data": {
      "text/plain": [
       "'1bcdefghijklmnopqrstuvwxyz'"
      ]
     },
     "execution_count": 27,
     "metadata": {},
     "output_type": "execute_result"
    }
   ],
   "source": [
    "my_var = '1' + letters[1:] #assigning using slicing\n",
    "my_var"
   ]
  },
  {
   "cell_type": "code",
   "execution_count": 28,
   "metadata": {},
   "outputs": [
    {
     "data": {
      "text/plain": [
       "'abcdefghijklmnopqrstuvwxyz'"
      ]
     },
     "execution_count": 28,
     "metadata": {},
     "output_type": "execute_result"
    }
   ],
   "source": [
    "letters.replace('1','a') #undoing changes"
   ]
  },
  {
   "cell_type": "code",
   "execution_count": 29,
   "metadata": {},
   "outputs": [
    {
     "name": "stdout",
     "output_type": "stream",
     "text": [
      "abcdefghijklmnopqrstuvwxyz\n",
      "abcdefghijklmnopqrstuvwxy\n"
     ]
    }
   ],
   "source": [
    "print(letters[:]) # entire string\n",
    "print(letters[:-1]) # entire string except last character"
   ]
  },
  {
   "cell_type": "code",
   "execution_count": 30,
   "metadata": {},
   "outputs": [
    {
     "data": {
      "text/plain": [
       "'abcde'"
      ]
     },
     "execution_count": 30,
     "metadata": {},
     "output_type": "execute_result"
    }
   ],
   "source": [
    "letters[:5] # from begining to the (n-1)th index n position"
   ]
  },
  {
   "cell_type": "markdown",
   "metadata": {},
   "source": [
    "<b>Slicing</b>\n",
    "\n",
    "Slicing extracts part of the string.\n",
    "\n",
    "[:] extracts the entire sequence from start to end<br>\n",
    "[start:] specifies from start offset to the end<br>\n",
    "[:end] specifies from beginning to the end offset <i>minus</i> 1<br>\n",
    "[start:end] indicates from the start offset to the end offset <i>minus</i> 1<br>\n",
    "[start:end:step] extracts from start offset to end offeset <i>minus</i> 1, skipping characters by step<br>"
   ]
  },
  {
   "cell_type": "code",
   "execution_count": 31,
   "metadata": {},
   "outputs": [
    {
     "name": "stdout",
     "output_type": "stream",
     "text": [
      "fghijklmnopqrstuvwxyz\n",
      "klmnopqrstuvwxyz\n"
     ]
    }
   ],
   "source": [
    "print(letters[5:]) # from offeset 5, position (5+1)\n",
    "print(letters[10:]) # from offeset 10, position (10+1)"
   ]
  },
  {
   "cell_type": "code",
   "execution_count": 32,
   "metadata": {},
   "outputs": [
    {
     "data": {
      "text/plain": [
       "'fghij'"
      ]
     },
     "execution_count": 32,
     "metadata": {},
     "output_type": "execute_result"
    }
   ],
   "source": [
    "letters[5:10] # from offset 5 to offset (10-1), position (5+1) to position (10)"
   ]
  },
  {
   "cell_type": "code",
   "execution_count": 33,
   "metadata": {},
   "outputs": [
    {
     "data": {
      "text/plain": [
       "'xyz'"
      ]
     },
     "execution_count": 33,
     "metadata": {},
     "output_type": "execute_result"
    }
   ],
   "source": [
    "letters[-3:] # last 3 characters"
   ]
  },
  {
   "cell_type": "code",
   "execution_count": 34,
   "metadata": {},
   "outputs": [
    {
     "data": {
      "text/plain": [
       "'stuvwx'"
      ]
     },
     "execution_count": 34,
     "metadata": {},
     "output_type": "execute_result"
    }
   ],
   "source": [
    "letters[18:-2] # from 18th offset to before last 2nd offset"
   ]
  },
  {
   "cell_type": "code",
   "execution_count": 35,
   "metadata": {},
   "outputs": [
    {
     "data": {
      "text/plain": [
       "'uvwx'"
      ]
     },
     "execution_count": 35,
     "metadata": {},
     "output_type": "execute_result"
    }
   ],
   "source": [
    "letters[-6:-2] # from last 6th offset to last 2nd offset"
   ]
  },
  {
   "cell_type": "code",
   "execution_count": 36,
   "metadata": {},
   "outputs": [
    {
     "data": {
      "text/plain": [
       "'ahov'"
      ]
     },
     "execution_count": 36,
     "metadata": {},
     "output_type": "execute_result"
    }
   ],
   "source": [
    "letters[::7] # characters start to end, in step of 7 characters. Format 0th, 7th, 14th... offset"
   ]
  },
  {
   "cell_type": "code",
   "execution_count": 37,
   "metadata": {},
   "outputs": [
    {
     "data": {
      "text/plain": [
       "'ehknqt'"
      ]
     },
     "execution_count": 37,
     "metadata": {},
     "output_type": "execute_result"
    }
   ],
   "source": [
    "letters[4:20:3] # characters starts from 4th offset to 20-1 offset, position (4+1) to position 20 ,with step of 3. Format 4th, 7th, 10th... offset"
   ]
  },
  {
   "cell_type": "code",
   "execution_count": 38,
   "metadata": {},
   "outputs": [
    {
     "data": {
      "text/plain": [
       "'tx'"
      ]
     },
     "execution_count": 38,
     "metadata": {},
     "output_type": "execute_result"
    }
   ],
   "source": [
    "letters[19::4] # characters starts from 19th offset to end, with step of 4"
   ]
  },
  {
   "cell_type": "code",
   "execution_count": 39,
   "metadata": {},
   "outputs": [
    {
     "data": {
      "text/plain": [
       "'afkpu'"
      ]
     },
     "execution_count": 39,
     "metadata": {},
     "output_type": "execute_result"
    }
   ],
   "source": [
    "letters[:21:5] # characters starts from beginning offset to 21-1 offset, with step of 5"
   ]
  },
  {
   "cell_type": "code",
   "execution_count": 40,
   "metadata": {},
   "outputs": [
    {
     "name": "stdout",
     "output_type": "stream",
     "text": [
      "zyxwvutsrqponmlkjihgfedcba\n",
      "zyxwvutsrqponmlkjihgfedcba\n"
     ]
    }
   ],
   "source": [
    "print(letters[-1::-1]) # characters in reverse direction\n",
    "print(letters[::-1])"
   ]
  },
  {
   "cell_type": "code",
   "execution_count": 41,
   "metadata": {},
   "outputs": [
    {
     "data": {
      "text/plain": [
       "'abcdefghijklmnopqrstuvwxyz'"
      ]
     },
     "execution_count": 41,
     "metadata": {},
     "output_type": "execute_result"
    }
   ],
   "source": [
    "letters[-50:] # from 50 before the end to the end"
   ]
  },
  {
   "cell_type": "code",
   "execution_count": 42,
   "metadata": {},
   "outputs": [
    {
     "data": {
      "text/plain": [
       "''"
      ]
     },
     "execution_count": 42,
     "metadata": {},
     "output_type": "execute_result"
    }
   ],
   "source": [
    "letters[-51:-50] # from 51 before the end to 50 before the end"
   ]
  },
  {
   "cell_type": "code",
   "execution_count": 43,
   "metadata": {},
   "outputs": [
    {
     "data": {
      "text/plain": [
       "'abcdefghijklmnopqrstuvwxyz'"
      ]
     },
     "execution_count": 43,
     "metadata": {},
     "output_type": "execute_result"
    }
   ],
   "source": [
    "letters[:70] # from the start to 69 after the start"
   ]
  },
  {
   "cell_type": "code",
   "execution_count": 44,
   "metadata": {},
   "outputs": [
    {
     "data": {
      "text/plain": [
       "''"
      ]
     },
     "execution_count": 44,
     "metadata": {},
     "output_type": "execute_result"
    }
   ],
   "source": [
    "letters[70:72] # from 70 after the start to (70-2)"
   ]
  },
  {
   "cell_type": "code",
   "execution_count": 45,
   "metadata": {},
   "outputs": [
    {
     "data": {
      "text/plain": [
       "''"
      ]
     },
     "execution_count": 45,
     "metadata": {},
     "output_type": "execute_result"
    }
   ],
   "source": [
    "letters[70:71] # from 70 after the start to (70-1)"
   ]
  },
  {
   "cell_type": "code",
   "execution_count": 46,
   "metadata": {},
   "outputs": [
    {
     "data": {
      "text/plain": [
       "26"
      ]
     },
     "execution_count": 46,
     "metadata": {},
     "output_type": "execute_result"
    }
   ],
   "source": [
    "len(letters) # length of string 'letters'"
   ]
  },
  {
   "cell_type": "code",
   "execution_count": 47,
   "metadata": {},
   "outputs": [
    {
     "data": {
      "text/plain": [
       "0"
      ]
     },
     "execution_count": 47,
     "metadata": {},
     "output_type": "execute_result"
    }
   ],
   "source": [
    "empty= '' #empty string\n",
    "len(empty)"
   ]
  },
  {
   "cell_type": "code",
   "execution_count": 48,
   "metadata": {},
   "outputs": [
    {
     "data": {
      "text/plain": [
       "['wake early', 'do exercise', 'drink more water', 'eat salads', '']"
      ]
     },
     "execution_count": 48,
     "metadata": {},
     "output_type": "execute_result"
    }
   ],
   "source": [
    "todos = 'wake early,do exercise,drink more water,eat salads,'\n",
    "todos.split(',') # split is used to split strings into a list with character specified in the bracket"
   ]
  },
  {
   "cell_type": "code",
   "execution_count": 49,
   "metadata": {},
   "outputs": [
    {
     "data": {
      "text/plain": [
       "['wake', 'early,do', 'exercise,drink', 'more', 'water,eat', 'salads,']"
      ]
     },
     "execution_count": 49,
     "metadata": {},
     "output_type": "execute_result"
    }
   ],
   "source": [
    "todos.split(' ')"
   ]
  },
  {
   "cell_type": "code",
   "execution_count": 50,
   "metadata": {},
   "outputs": [
    {
     "data": {
      "text/plain": [
       "'Iron Man,Captain America,Hulk,Thor,Black widow,Hawkeye'"
      ]
     },
     "execution_count": 50,
     "metadata": {},
     "output_type": "execute_result"
    }
   ],
   "source": [
    "avengers = ['Iron Man','Captain America','Hulk','Thor','Black widow','Hawkeye']\n",
    "','.join(avengers) # join elements in a list with character specified between quotes"
   ]
  },
  {
   "cell_type": "markdown",
   "metadata": {},
   "source": [
    "The reference is from a Marvel movie series <b>Avengers</b>\n",
    "\n",
    "Marvel : https://en.wikipedia.org/wiki/Marvel_Comics<br>\n",
    "Avengers : https://en.wikipedia.org/wiki/The_Avengers_%282012_film%29"
   ]
  },
  {
   "cell_type": "code",
   "execution_count": 51,
   "metadata": {},
   "outputs": [
    {
     "data": {
      "text/plain": [
       "'Iron Man Captain America Hulk Thor Black widow Hawkeye'"
      ]
     },
     "execution_count": 51,
     "metadata": {},
     "output_type": "execute_result"
    }
   ],
   "source": [
    "' '.join(avengers)"
   ]
  },
  {
   "cell_type": "code",
   "execution_count": 52,
   "metadata": {},
   "outputs": [
    {
     "name": "stdout",
     "output_type": "stream",
     "text": [
      "abcdefghijklmnopqrstuvwxyz\n"
     ]
    }
   ],
   "source": [
    "print(letters) # just revisting List object of var letters"
   ]
  },
  {
   "cell_type": "code",
   "execution_count": 53,
   "metadata": {},
   "outputs": [
    {
     "name": "stdout",
     "output_type": "stream",
     "text": [
      "True\n",
      "False\n"
     ]
    }
   ],
   "source": [
    "print(letters.startswith('a')) # returns true if the string starts with character specified\n",
    "print(letters.startswith('b'))"
   ]
  },
  {
   "cell_type": "code",
   "execution_count": 54,
   "metadata": {},
   "outputs": [
    {
     "name": "stdout",
     "output_type": "stream",
     "text": [
      "True\n",
      "False\n"
     ]
    }
   ],
   "source": [
    "print(letters.endswith('z')) # returns true if the string ends with character specified\n",
    "print(letters.endswith('b'))"
   ]
  },
  {
   "cell_type": "code",
   "execution_count": 55,
   "metadata": {},
   "outputs": [
    {
     "name": "stdout",
     "output_type": "stream",
     "text": [
      "abcdefghijklmnopqrstuvwxyzzyxwvutsrqponmlkjihgfedcba\n"
     ]
    }
   ],
   "source": [
    "letters_palindrome = letters + letters[-1::-1]\n",
    "\n",
    "# letters + letters reverse\n",
    "print(letters_palindrome )"
   ]
  },
  {
   "cell_type": "code",
   "execution_count": 56,
   "metadata": {},
   "outputs": [
    {
     "data": {
      "text/plain": [
       "2"
      ]
     },
     "execution_count": 56,
     "metadata": {},
     "output_type": "execute_result"
    }
   ],
   "source": [
    "letters_palindrome.find('c') # finds first occurance, returns offset"
   ]
  },
  {
   "cell_type": "code",
   "execution_count": 57,
   "metadata": {},
   "outputs": [
    {
     "data": {
      "text/plain": [
       "49"
      ]
     },
     "execution_count": 57,
     "metadata": {},
     "output_type": "execute_result"
    }
   ],
   "source": [
    "letters_palindrome.rfind('c') # finds first occurance from last, returns offset"
   ]
  },
  {
   "cell_type": "code",
   "execution_count": 58,
   "metadata": {},
   "outputs": [
    {
     "data": {
      "text/plain": [
       "2"
      ]
     },
     "execution_count": 58,
     "metadata": {},
     "output_type": "execute_result"
    }
   ],
   "source": [
    "letters_palindrome.count('c') # counts the occurance of characters specified "
   ]
  },
  {
   "cell_type": "code",
   "execution_count": 59,
   "metadata": {},
   "outputs": [
    {
     "data": {
      "text/plain": [
       "True"
      ]
     },
     "execution_count": 59,
     "metadata": {},
     "output_type": "execute_result"
    }
   ],
   "source": [
    "letters_palindrome.isalnum() # checks whether all the character in the string is either letters or numbers"
   ]
  },
  {
   "cell_type": "code",
   "execution_count": 60,
   "metadata": {},
   "outputs": [
    {
     "data": {
      "text/plain": [
       "False"
      ]
     },
     "execution_count": 60,
     "metadata": {},
     "output_type": "execute_result"
    }
   ],
   "source": [
    "model_no='No-47'\n",
    "model_no.isalnum()"
   ]
  },
  {
   "cell_type": "markdown",
   "metadata": {},
   "source": [
    "isalnum() checks whether the string is numeric\n",
    "\n",
    "'No-47' is no alphanumeric becuase it has -"
   ]
  },
  {
   "cell_type": "code",
   "execution_count": 61,
   "metadata": {},
   "outputs": [
    {
     "data": {
      "text/plain": [
       "'My favorite language for maintainability is Python '"
      ]
     },
     "execution_count": 61,
     "metadata": {},
     "output_type": "execute_result"
    }
   ],
   "source": [
    "setup = 'My favorite language for maintainability is Python ...'\n",
    "setup.strip('.') # remove specified character in a string "
   ]
  },
  {
   "cell_type": "code",
   "execution_count": 62,
   "metadata": {},
   "outputs": [
    {
     "data": {
      "text/plain": [
       "'My favorite language for maintainability is python ...'"
      ]
     },
     "execution_count": 62,
     "metadata": {},
     "output_type": "execute_result"
    }
   ],
   "source": [
    "setup.capitalize() # capitalize the first word"
   ]
  },
  {
   "cell_type": "code",
   "execution_count": 63,
   "metadata": {},
   "outputs": [
    {
     "data": {
      "text/plain": [
       "'My Favorite Language For Maintainability Is Python ...'"
      ]
     },
     "execution_count": 63,
     "metadata": {},
     "output_type": "execute_result"
    }
   ],
   "source": [
    "setup.title() # capitalize all the words"
   ]
  },
  {
   "cell_type": "code",
   "execution_count": 64,
   "metadata": {},
   "outputs": [
    {
     "data": {
      "text/plain": [
       "'MY FAVORITE LANGUAGE FOR MAINTAINABILITY IS PYTHON ...'"
      ]
     },
     "execution_count": 64,
     "metadata": {},
     "output_type": "execute_result"
    }
   ],
   "source": [
    "setup.upper() # convert all characters to uppercase"
   ]
  },
  {
   "cell_type": "code",
   "execution_count": 65,
   "metadata": {},
   "outputs": [
    {
     "data": {
      "text/plain": [
       "'my favorite language for maintainability is python ...'"
      ]
     },
     "execution_count": 65,
     "metadata": {},
     "output_type": "execute_result"
    }
   ],
   "source": [
    "setup.lower() # convert all characters to lowercase"
   ]
  },
  {
   "cell_type": "code",
   "execution_count": 66,
   "metadata": {},
   "outputs": [
    {
     "name": "stdout",
     "output_type": "stream",
     "text": [
      "ATCODEDOGfORPYTHONISTA\n"
     ]
    }
   ],
   "source": [
    "strin = \"atcodedogForpythonista\"\n",
    "print(strin.swapcase()) # swap upper and lower case"
   ]
  },
  {
   "cell_type": "code",
   "execution_count": 67,
   "metadata": {},
   "outputs": [
    {
     "data": {
      "text/plain": [
       "'    atcodedogForpythonista    '"
      ]
     },
     "execution_count": 67,
     "metadata": {},
     "output_type": "execute_result"
    }
   ],
   "source": [
    "strin.center(30) # center justify within 30 spaces"
   ]
  },
  {
   "cell_type": "code",
   "execution_count": 68,
   "metadata": {},
   "outputs": [
    {
     "data": {
      "text/plain": [
       "'HHHHHHHHHHHHHHatcodedogForpythonistaHHHHHHHHHHHHHH'"
      ]
     },
     "execution_count": 68,
     "metadata": {},
     "output_type": "execute_result"
    }
   ],
   "source": [
    "strin.center(50, 'H')"
   ]
  },
  {
   "cell_type": "markdown",
   "metadata": {},
   "source": [
    "<b>center()</b> returns centered in a string of length width"
   ]
  },
  {
   "cell_type": "code",
   "execution_count": 69,
   "metadata": {
    "scrolled": false
   },
   "outputs": [
    {
     "data": {
      "text/plain": [
       "'atcodedogForpythonista        '"
      ]
     },
     "execution_count": 69,
     "metadata": {},
     "output_type": "execute_result"
    }
   ],
   "source": [
    "strin.ljust(30) # left justify within 30 spaces"
   ]
  },
  {
   "cell_type": "code",
   "execution_count": 70,
   "metadata": {},
   "outputs": [
    {
     "data": {
      "text/plain": [
       "'atcodedogForpythonista1111111111111111111111111111'"
      ]
     },
     "execution_count": 70,
     "metadata": {},
     "output_type": "execute_result"
    }
   ],
   "source": [
    "strin.ljust(50, '1')"
   ]
  },
  {
   "cell_type": "markdown",
   "metadata": {},
   "source": [
    "<b>ljust()</b> returns the string left justified in a string of length width. Padding is done using the specified fillchar (default is a space). The original string is returned if width is less than len(s)."
   ]
  },
  {
   "cell_type": "code",
   "execution_count": 71,
   "metadata": {
    "scrolled": true
   },
   "outputs": [
    {
     "data": {
      "text/plain": [
       "'        atcodedogForpythonista'"
      ]
     },
     "execution_count": 71,
     "metadata": {},
     "output_type": "execute_result"
    }
   ],
   "source": [
    "strin.rjust(30) # right justify within 30 spaces"
   ]
  },
  {
   "cell_type": "code",
   "execution_count": 72,
   "metadata": {},
   "outputs": [
    {
     "data": {
      "text/plain": [
       "'0000000000000000000000000000atcodedogForpythonista'"
      ]
     },
     "execution_count": 72,
     "metadata": {},
     "output_type": "execute_result"
    }
   ],
   "source": [
    "strin.rjust(50, '0')"
   ]
  },
  {
   "cell_type": "markdown",
   "metadata": {},
   "source": [
    "<b>rjust()</b> returns the string right justified in a string of length width. Padding is done using the specified fillchar (default is a space). The original string is returned if width is less than len(s)\n",
    " \n",
    " <b>fillchar</b>  is the filler character, default is a space.\n",
    " <b>width</b>  is the string length in total after padding."
   ]
  },
  {
   "cell_type": "code",
   "execution_count": 73,
   "metadata": {},
   "outputs": [
    {
     "name": "stdout",
     "output_type": "stream",
     "text": [
      "My favorite language for maintainability is Python ...\n",
      "My dearest language for maintainability is Python ...\n"
     ]
    }
   ],
   "source": [
    "print(setup)\n",
    "print(setup.replace('favorite','dearest')) # retuns a string with the characters replaced with specified characters"
   ]
  },
  {
   "cell_type": "markdown",
   "metadata": {},
   "source": [
    "A string is returned where 'favorite' is replaced with 'dearest'"
   ]
  },
  {
   "cell_type": "code",
   "execution_count": 74,
   "metadata": {},
   "outputs": [
    {
     "data": {
      "text/plain": [
       "'go back to Mississippi, go back to Alabama, go back to South Carolina, \\n go back to Georgia, go back to Louisiana, go back to the slums and\\n ghettos of our northern cities, knowing that somehow this situation can\\n and will be changed.'"
      ]
     },
     "execution_count": 74,
     "metadata": {},
     "output_type": "execute_result"
    }
   ],
   "source": [
    "anaphora=\"\"\"go back to Mississippi, go back to Alabama, go back to South Carolina, \n",
    " go back to Georgia, go back to Louisiana, go back to the slums and\n",
    " ghettos of our northern cities, knowing that somehow this situation can\n",
    " and will be changed.\"\"\"\n",
    "anaphora"
   ]
  },
  {
   "cell_type": "code",
   "execution_count": 75,
   "metadata": {},
   "outputs": [
    {
     "data": {
      "text/plain": [
       "6"
      ]
     },
     "execution_count": 75,
     "metadata": {},
     "output_type": "execute_result"
    }
   ],
   "source": [
    "anaphora.count('go')"
   ]
  },
  {
   "cell_type": "code",
   "execution_count": 76,
   "metadata": {},
   "outputs": [
    {
     "name": "stdout",
     "output_type": "stream",
     "text": [
      "come back to Mississippi, come back to Alabama, come back to South Carolina, \n",
      " come back to Georgia, come back to Louisiana, come back to the slums and\n",
      " ghettos of our northern cities, knowing that somehow this situation can\n",
      " and will be changed.\n"
     ]
    }
   ],
   "source": [
    "anaphora_replace = anaphora.replace('go ', 'come ') # be careful to metion spaces/ or characters with it when specfing single character \n",
    "print(anaphora_replace)"
   ]
  },
  {
   "cell_type": "code",
   "execution_count": 77,
   "metadata": {},
   "outputs": [
    {
     "data": {
      "text/plain": [
       "0"
      ]
     },
     "execution_count": 77,
     "metadata": {},
     "output_type": "execute_result"
    }
   ],
   "source": [
    "anaphora_replace.count('go')"
   ]
  },
  {
   "cell_type": "code",
   "execution_count": 78,
   "metadata": {},
   "outputs": [
    {
     "data": {
      "text/plain": [
       "6"
      ]
     },
     "execution_count": 78,
     "metadata": {},
     "output_type": "execute_result"
    }
   ],
   "source": [
    "anaphora_replace.count('come')"
   ]
  },
  {
   "cell_type": "markdown",
   "metadata": {},
   "source": [
    "count of 'go ' is zero and count of 'come ' has changed to 6 because 'go ' has been replaced by 'come '"
   ]
  },
  {
   "cell_type": "code",
   "execution_count": 79,
   "metadata": {},
   "outputs": [
    {
     "name": "stdout",
     "output_type": "stream",
     "text": [
      "go  back to Mississippi, go  back to Alabama, go  back to South Carolina, \n",
      " go  back to Georgia, go  back to Louisiana, come back to the slums and\n",
      " ghettos of our northern cities, knowing that somehow this situation can\n",
      " and will be changed.\n"
     ]
    }
   ],
   "source": [
    "anaphora_changed = anaphora_replace.replace('come','go ',5) # 5 is used to replace only 5 occurance of 'come ' with 'go '\n",
    "print(anaphora_changed)"
   ]
  },
  {
   "cell_type": "code",
   "execution_count": 80,
   "metadata": {},
   "outputs": [
    {
     "data": {
      "text/plain": [
       "5"
      ]
     },
     "execution_count": 80,
     "metadata": {},
     "output_type": "execute_result"
    }
   ],
   "source": [
    "anaphora_changed.count('go')"
   ]
  },
  {
   "cell_type": "code",
   "execution_count": 81,
   "metadata": {},
   "outputs": [
    {
     "data": {
      "text/plain": [
       "1"
      ]
     },
     "execution_count": 81,
     "metadata": {},
     "output_type": "execute_result"
    }
   ],
   "source": [
    "anaphora_changed.count('come')"
   ]
  },
  {
   "cell_type": "markdown",
   "metadata": {},
   "source": [
    "<span style='color:green'>As expected only 5 occurance of  'come ' has changed to go and one occurance of 'come ' is still left behind</span>"
   ]
  },
  {
   "cell_type": "code",
   "execution_count": 82,
   "metadata": {},
   "outputs": [
    {
     "name": "stdout",
     "output_type": "stream",
     "text": [
      "atcodedog, An upcoming platform for pythonista. Make sure to check it out\n"
     ]
    }
   ],
   "source": [
    "print (\"{}, An upcoming platform for {}. Make sure to check it out\"\n",
    "                        .format(\"atcodedog\",\"pythonista\"))"
   ]
  },
  {
   "cell_type": "markdown",
   "metadata": {},
   "source": [
    "<b>string.format()</b> is one of the string formatting methods in Python, which allows multiple substitutions and value formatting. This method lets us concatenate elements within a string through positional formatting\n",
    "\n",
    "Formatters work by putting in one or more replacement fields and placeholders defined by a pair of curly braces {} into a string and calling the str.format(). The value we wish to put into the placeholders and concatenate with the string is passed as parameters into the format function.\n",
    "\n",
    "As you can see in the above example, brackets in string \"<b>{}</b>, A upcoming platform for <b>{}</b>. Make sure to check it out\" is replaced by <b>\"atcodedog\"</b> and <b>\"pythonista\"</b>"
   ]
  },
  {
   "cell_type": "code",
   "execution_count": 83,
   "metadata": {},
   "outputs": [
    {
     "name": "stdout",
     "output_type": "stream",
     "text": [
      "atcodedog, An upcoming platform for pythonista. Make sure to check it out\n"
     ]
    }
   ],
   "source": [
    "print (\"{1}, An upcoming platform for {0}. Make sure to check it out\"\n",
    "                        .format(\"pythonista\",\"atcodedog\"))"
   ]
  },
  {
   "cell_type": "markdown",
   "metadata": {},
   "source": [
    "It can also be substituted by passing offset position of arguments passed."
   ]
  },
  {
   "cell_type": "code",
   "execution_count": 84,
   "metadata": {},
   "outputs": [
    {
     "name": "stdout",
     "output_type": "stream",
     "text": [
      "I converted your int 5 to float 5.000000\n"
     ]
    }
   ],
   "source": [
    "print(\"I converted your int {0} to float {0:f}\".format(5))"
   ]
  },
  {
   "cell_type": "markdown",
   "metadata": {},
   "source": [
    "You can convert your data between numeric formats while printing by mentioning the format\n",
    "\n",
    "<b>:d</b> converts it to type <b>int</b><br><b>:f</b> converts it to type <b>float</b>"
   ]
  },
  {
   "cell_type": "code",
   "execution_count": 85,
   "metadata": {},
   "outputs": [
    {
     "name": "stdout",
     "output_type": "stream",
     "text": [
      "5 / 3 = 1.666667 \n",
      "After rounding it to two digits after decimal 1.67\n"
     ]
    }
   ],
   "source": [
    "print(\"{0} / {1} = {2:f} \\nAfter rounding it to two digits after decimal {2:.2f}\".format(5,3,5/3))"
   ]
  },
  {
   "cell_type": "markdown",
   "metadata": {},
   "source": [
    "Float can be rounded of to lesser number of digits after decimal by using <b>.nf</b>\n",
    "\n",
    "Where n is the number of digits you want to round it off to. <b>.2f</b> rounds it off to two digits after decimal."
   ]
  },
  {
   "cell_type": "code",
   "execution_count": 86,
   "metadata": {},
   "outputs": [
    {
     "name": "stdout",
     "output_type": "stream",
     "text": [
      "I am the pythonista               !!!\n"
     ]
    }
   ],
   "source": [
    "print (\"I am{0:30}!!!\".format(\" the pythonista\"))"
   ]
  },
  {
   "cell_type": "markdown",
   "metadata": {},
   "source": [
    "You can add padding to a string. By specifying total space it should take(len(str)+padding). By default it always aligned to <b>left</b>."
   ]
  },
  {
   "cell_type": "code",
   "execution_count": 87,
   "metadata": {},
   "outputs": [
    {
     "name": "stdout",
     "output_type": "stream",
     "text": [
      "I am                the pythonista!!!\n",
      "I am the pythonista               !!!\n",
      "I am        the pythonista        !!!\n"
     ]
    }
   ],
   "source": [
    "print (\"I am{0:>30}!!!\".format(\" the pythonista\"))\n",
    "print (\"I am{0:<30}!!!\".format(\" the pythonista\"))\n",
    "print (\"I am{0:^30}!!!\".format(\" the pythonista\"))"
   ]
  },
  {
   "cell_type": "markdown",
   "metadata": {},
   "source": [
    "You can also mention the alignment by use of notations below\n",
    "\n",
    "<b>&#62;</b> right<br>\n",
    "<b>&#60;</b> left<br>\n",
    "<b>&#94;</b> center<br>"
   ]
  },
  {
   "cell_type": "code",
   "execution_count": 88,
   "metadata": {},
   "outputs": [
    {
     "name": "stdout",
     "output_type": "stream",
     "text": [
      "I am_______________ the pythonista!!!\n",
      "I am the pythonista_______________!!!\n",
      "I am_______ the pythonista________!!!\n",
      "I am*************** the pythonista!!!\n",
      "I am the pythonista***************!!!\n",
      "I am******* the pythonista********!!!\n"
     ]
    }
   ],
   "source": [
    "print (\"I am{0:_>30}!!!\".format(\" the pythonista\"))\n",
    "print (\"I am{0:_<30}!!!\".format(\" the pythonista\"))\n",
    "print (\"I am{0:_^30}!!!\".format(\" the pythonista\"))\n",
    "print (\"I am{0:*>30}!!!\".format(\" the pythonista\"))\n",
    "print (\"I am{0:*<30}!!!\".format(\" the pythonista\"))\n",
    "print (\"I am{0:*^30}!!!\".format(\" the pythonista\"))"
   ]
  },
  {
   "cell_type": "markdown",
   "metadata": {},
   "source": [
    "You can also fill blank spaces with character you want.\n",
    "\n",
    "Exlpore more on Formatter in print : https://pyformat.info/"
   ]
  },
  {
   "cell_type": "code",
   "execution_count": 89,
   "metadata": {},
   "outputs": [
    {
     "name": "stdout",
     "output_type": "stream",
     "text": [
      "I ended myself with a newline character by default. Whatever comes next will always be in next line\n",
      "I ended myself with exclaimatory mark!I ended myself with smile:)"
     ]
    }
   ],
   "source": [
    "print('I ended myself with a newline character by default. Whatever comes next will always be in next line')\n",
    "print('I ended myself with exclaimatory mark',end='!')\n",
    "print('I ended myself with smile',end=':)')"
   ]
  },
  {
   "cell_type": "markdown",
   "metadata": {},
   "source": [
    "<b>print()</b> in python is by default ended with '\\n' (new line character). But you can also mention what should the print statement ended with."
   ]
  },
  {
   "cell_type": "markdown",
   "metadata": {},
   "source": [
    "Next, Let's see how to work with <b>Regular Expressions</b> on strings.\n",
    "\n",
    "What is Regular Expression ? Regular Expressions is basically setting up template to scan strings and find a specific pattern.\n",
    "\n",
    "Check Regular Expression on wiki : https://en.wikipedia.org/wiki/Regular_expression"
   ]
  },
  {
   "cell_type": "code",
   "execution_count": 90,
   "metadata": {},
   "outputs": [],
   "source": [
    "import re"
   ]
  },
  {
   "cell_type": "markdown",
   "metadata": {},
   "source": [
    "Package <b>re</b> should be imported in the above format to use regular expressions.\n"
   ]
  },
  {
   "cell_type": "code",
   "execution_count": 91,
   "metadata": {},
   "outputs": [
    {
     "name": "stdout",
     "output_type": "stream",
     "text": [
      "<_sre.SRE_Match object; span=(0, 3), match='You'>\n",
      "None\n",
      "None\n"
     ]
    }
   ],
   "source": [
    "did_i_find_you = re.match('You','Young Frankenstien') \n",
    "did_i_find_frank = re.match('Frank','Young Frankenstien') \n",
    "did_i_find_me = re.match('Me','Young Frankenstien') \n",
    "print(did_i_find_you)\n",
    "print(did_i_find_frank)\n",
    "print(did_i_find_me)"
   ]
  },
  {
   "cell_type": "markdown",
   "metadata": {},
   "source": [
    "If the pattern is found it will return a value. If the pattern is not found it returns none. The current pattern check whether <b>You</b>, <b>Frank</b>  and <b>Me</b>.\n",
    "\n",
    "The above matching can also be done by passing the pattern and string (that needs to be scanned) as variables."
   ]
  },
  {
   "cell_type": "code",
   "execution_count": 92,
   "metadata": {},
   "outputs": [
    {
     "name": "stdout",
     "output_type": "stream",
     "text": [
      "<_sre.SRE_Match object; span=(0, 3), match='You'>\n"
     ]
    }
   ],
   "source": [
    "my_pattern = re.compile('You')\n",
    "my_string = 'Young Frankenstein'\n",
    "did_i_find_you = my_pattern.match(my_string)\n",
    "print(did_i_find_you)"
   ]
  },
  {
   "cell_type": "code",
   "execution_count": 93,
   "metadata": {},
   "outputs": [
    {
     "name": "stdout",
     "output_type": "stream",
     "text": [
      "<_sre.SRE_Match object; span=(0, 3), match='You'>\n",
      "None\n"
     ]
    }
   ],
   "source": [
    "did_i_find_you_at_beginning = re.match('^You','Young Frankenstien') \n",
    "print(did_i_find_you_at_beginning)\n",
    "did_i_find_frank_at_beginning = re.match('^Frank','Young Frankenstien') \n",
    "print(did_i_find_frank_at_beginning)"
   ]
  },
  {
   "cell_type": "markdown",
   "metadata": {},
   "source": [
    "Adding <b>^</b> at beginning of the pattern. Will search whether the pattern appeared at the beginning or not."
   ]
  },
  {
   "cell_type": "code",
   "execution_count": 94,
   "metadata": {},
   "outputs": [
    {
     "name": "stdout",
     "output_type": "stream",
     "text": [
      "<_sre.SRE_Match object; span=(0, 3), match='You'>\n"
     ]
    }
   ],
   "source": [
    "did_i_find_ou_after_one_character_at_beginning = re.match('.ou','Young Frankenstien') \n",
    "print(did_i_find_you_at_beginning)"
   ]
  },
  {
   "cell_type": "markdown",
   "metadata": {},
   "source": [
    "<b>.</b>  means match any single character.<br>\n",
    "<b>&#95;ou</b> (i.e fill any letter in the dash).  "
   ]
  },
  {
   "cell_type": "code",
   "execution_count": 95,
   "metadata": {},
   "outputs": [
    {
     "name": "stdout",
     "output_type": "stream",
     "text": [
      "<_sre.SRE_Match object; span=(0, 11), match='Young Frank'>\n"
     ]
    }
   ],
   "source": [
    "did_i_find_frank_anywhere = re.match('.*Frank','Young Frankenstien') \n",
    "print(did_i_find_frank_anywhere)"
   ]
  },
  {
   "cell_type": "markdown",
   "metadata": {},
   "source": [
    "Together <b>.*</b> means match any number of charcters (even zero).<br>\n",
    "<b>Frank</b> is the phrase that we wanted to match, somewhere."
   ]
  },
  {
   "cell_type": "code",
   "execution_count": 96,
   "metadata": {},
   "outputs": [
    {
     "ename": "NameError",
     "evalue": "name 'find_n' is not defined",
     "output_type": "error",
     "traceback": [
      "\u001b[1;31m---------------------------------------------------------------------------\u001b[0m",
      "\u001b[1;31mNameError\u001b[0m                                 Traceback (most recent call last)",
      "\u001b[1;32m<ipython-input-96-c8c39fb534c8>\u001b[0m in \u001b[0;36m<module>\u001b[1;34m()\u001b[0m\n\u001b[0;32m      1\u001b[0m \u001b[0mfind_only_n\u001b[0m \u001b[1;33m=\u001b[0m \u001b[0mre\u001b[0m\u001b[1;33m.\u001b[0m\u001b[0mfindall\u001b[0m\u001b[1;33m(\u001b[0m\u001b[1;34m'n'\u001b[0m\u001b[1;33m,\u001b[0m\u001b[1;34m'Young Frankenstien'\u001b[0m\u001b[1;33m)\u001b[0m\u001b[1;33m\u001b[0m\u001b[0m\n\u001b[1;32m----> 2\u001b[1;33m \u001b[0mprint\u001b[0m\u001b[1;33m(\u001b[0m\u001b[0mfind_n\u001b[0m\u001b[1;33m)\u001b[0m\u001b[1;33m\u001b[0m\u001b[0m\n\u001b[0m",
      "\u001b[1;31mNameError\u001b[0m: name 'find_n' is not defined"
     ]
    }
   ],
   "source": [
    "find_only_n = re.findall('n','Young Frankenstien')\n",
    "print(find_n)"
   ]
  },
  {
   "cell_type": "markdown",
   "metadata": {},
   "source": [
    "<b>findall(</b>pattern, string<b>)</b>\n",
    "\n",
    "Return all non-overlapping matches of pattern in string, as a list of strings. The string is scanned left-to-right, and matches are returned in the order found."
   ]
  },
  {
   "cell_type": "code",
   "execution_count": 97,
   "metadata": {},
   "outputs": [
    {
     "name": "stdout",
     "output_type": "stream",
     "text": [
      "['ng', 'nk', 'ns']\n"
     ]
    }
   ],
   "source": [
    "find_only_n_and_another_letter = re.findall('n.','Young Frankenstien')\n",
    "print(find_only_n_and_another_letter)"
   ]
  },
  {
   "cell_type": "markdown",
   "metadata": {},
   "source": [
    "Adding a spot for character with use of <b>.</b>"
   ]
  },
  {
   "cell_type": "code",
   "execution_count": 98,
   "metadata": {},
   "outputs": [
    {
     "name": "stdout",
     "output_type": "stream",
     "text": [
      "['ng', 'nk', 'ns', 'n']\n"
     ]
    }
   ],
   "source": [
    "find_only_n_and_another_letter = re.findall('n.?','Young Frankenstien')\n",
    "print(find_only_n_and_another_letter)"
   ]
  },
  {
   "cell_type": "markdown",
   "metadata": {},
   "source": [
    "Adding a spot for optional character with use of <b>.?</b>"
   ]
  },
  {
   "cell_type": "markdown",
   "metadata": {},
   "source": [
    "Optional character <b>.</b> can be conditioned to a specific kind of character. Bellow are the formats\n",
    "\n",
    "\\d : a single digit<br>\n",
    "\\D : a single non-digit<br>\n",
    "\\w : an alphanumeric character<br>\n",
    "\\W : a non-alphanumeric character<br>\n",
    "\\s : a whitespace character<br>\n",
    "\\S : a non-whitespace character<br>\n",
    "\\b : a word boundary (between a \\w and a  \\W, in either order)<br>\n",
    "\\B : a non-word boundary"
   ]
  },
  {
   "cell_type": "markdown",
   "metadata": {},
   "source": [
    "There is no limit for exploring stuffs, so wanna explore more about <b>(re)Regular expression operations</b> ? :https://docs.python.org/3/library/re.html"
   ]
  },
  {
   "cell_type": "markdown",
   "metadata": {},
   "source": [
    "<hr>\n",
    "Before we end let's cover one more important thing which is used  alot.\n",
    "\n",
    "Lets cover how to take user's input"
   ]
  },
  {
   "cell_type": "code",
   "execution_count": 99,
   "metadata": {},
   "outputs": [
    {
     "name": "stdout",
     "output_type": "stream",
     "text": [
      "What's you name : \n",
      "Hi  \n"
     ]
    }
   ],
   "source": [
    "my_name = input(\"What's you name : \")\n",
    "print('Hi ',my_name)"
   ]
  },
  {
   "cell_type": "markdown",
   "metadata": {},
   "source": [
    "The string entered in the brackets is the sentence which is displayed when asking for input\n",
    "\n",
    "<span style='color:red'>Note : the input is always got as type <b>strings</b></span>\n",
    "\n",
    "<span style='color:green'>Note : input needs to converted to other required type before usage</span>"
   ]
  },
  {
   "cell_type": "code",
   "execution_count": 1,
   "metadata": {},
   "outputs": [
    {
     "name": "stdout",
     "output_type": "stream",
     "text": [
      "What's the first number ? (Int only) : 5\n",
      "What's the second number ? (Int only) : 6\n",
      "the sum is  11\n"
     ]
    }
   ],
   "source": [
    "no_1 = int(input(\"What's the first number ? (Int only) : \"))\n",
    "no_2 = int(input(\"What's the second number ? (Int only) : \"))\n",
    "sum_of = no_1 + no_2\n",
    "print(\"the sum is \",sum_of)"
   ]
  },
  {
   "cell_type": "markdown",
   "metadata": {},
   "source": [
    "Similarly for other datatypes"
   ]
  },
  {
   "cell_type": "markdown",
   "metadata": {},
   "source": [
    "Find more on <b>input()</b> in offical python docs : https://docs.python.org/3/library/functions.html#input"
   ]
  },
  {
   "cell_type": "markdown",
   "metadata": {},
   "source": [
    "<br><br>\n",
    "<center><h2>End of Book</h2></center>"
   ]
  },
  {
   "cell_type": "markdown",
   "metadata": {},
   "source": [
    "<hr>\n",
    "<h3><b>Next book :</b> Book 2. Lists, Tuples, Dictionaries and Sets</h3>\n",
    "\n",
    "<b><a href='index.html'>Back Home</a></b>\n",
    "<hr>"
   ]
  },
  {
   "cell_type": "markdown",
   "metadata": {},
   "source": [
    "Source from atcodedog git repo\n",
    "\n",
    "Find more on\n",
    "\n",
    "https://github.com/atcodedog\n",
    "\n",
    "http://www.atcodedog.com\n",
    "\n",
    "Follow us on\n",
    "\n",
    "https://twitter.com/atcodedog"
   ]
  }
 ],
 "metadata": {
  "kernelspec": {
   "display_name": "Python 3",
   "language": "python",
   "name": "python3"
  },
  "language_info": {
   "codemirror_mode": {
    "name": "ipython",
    "version": 3
   },
   "file_extension": ".py",
   "mimetype": "text/x-python",
   "name": "python",
   "nbconvert_exporter": "python",
   "pygments_lexer": "ipython3",
   "version": "3.5.5"
  }
 },
 "nbformat": 4,
 "nbformat_minor": 2
}
