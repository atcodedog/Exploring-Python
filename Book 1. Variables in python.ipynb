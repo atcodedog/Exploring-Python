{
 "cells": [
  {
   "cell_type": "markdown",
   "metadata": {},
   "source": [
    "<h1>Book 1. Variables in python</h1><hr>"
   ]
  },
  {
   "cell_type": "markdown",
   "metadata": {},
   "source": [
    "<b>Python is a dynamic language. Variables are just names</b> (like label/sticky notes)<b>. Assignment does not copy a value to an object, it just attaches a name to the object that contains the data</b> (like putting label/sticky notes on a box).\n",
    "\n",
    "<span style='color:red'>It is more tricky then it sounds!!</span>\n",
    "\n",
    "<span style='color:green'>But hang on you will get a better understanding as we explore!</span>"
   ]
  },
  {
   "cell_type": "markdown",
   "metadata": {},
   "source": [
    "Before jumping into exploring the concept through Code. Glance this image and have this image in mind.\n",
    "\n",
    "<img src=\"https://image.ibb.co/gQKX3z/Python_data_types1.jpg\" width='500' alt=\"Python_data_types1\" border=\"0\">"
   ]
  },
  {
   "cell_type": "markdown",
   "metadata": {},
   "source": [
    "<b>Immutable</b> means doesnt accept modifications and <b>mutable</b> means accepts modifications."
   ]
  },
  {
   "cell_type": "markdown",
   "metadata": {},
   "source": [
    "<b>Creating variables</b>\n",
    "\n",
    "Python has no command for declaring a variable, variable is created at the moment when you first assign a value to it!"
   ]
  },
  {
   "cell_type": "code",
   "execution_count": 1,
   "metadata": {},
   "outputs": [
    {
     "name": "stdout",
     "output_type": "stream",
     "text": [
      "5\n",
      "Python\n"
     ]
    }
   ],
   "source": [
    "x = 5\n",
    "y = \"Python\"\n",
    "print(x)\n",
    "print(y)"
   ]
  },
  {
   "cell_type": "markdown",
   "metadata": {},
   "source": [
    "<b> variables name</b>"
   ]
  },
  {
   "cell_type": "markdown",
   "metadata": {},
   "source": [
    "* A variable name must start with a letter or the underscore character\n",
    "* A variable name cannot start with a number\n",
    "* A variable name can only contain alpha-numeric characters and underscores (A-z, 0-9, and _ )\n",
    "* Variable names are case-sensitive (age, Age and AGE are three different variables)"
   ]
  },
  {
   "cell_type": "markdown",
   "metadata": {},
   "source": [
    "<span style='color:red'>Remember that variables are case-sensitive!</span>"
   ]
  },
  {
   "cell_type": "markdown",
   "metadata": {},
   "source": [
    "<b>Output variables</b>\n",
    "\n",
    "The Python <b>print</b> statement is often used to output variables."
   ]
  },
  {
   "cell_type": "markdown",
   "metadata": {},
   "source": [
    "The <b>print()</b> is a function that outputs to your console window whatever you say you want to print out."
   ]
  },
  {
   "cell_type": "code",
   "execution_count": 10,
   "metadata": {},
   "outputs": [
    {
     "name": "stdout",
     "output_type": "stream",
     "text": [
      "Python is awesome\n"
     ]
    }
   ],
   "source": [
    "x = \"awesome\"\n",
    "print(\"Python is \" + x) #To combine both text and a variable, Python uses the + character"
   ]
  },
  {
   "cell_type": "code",
   "execution_count": 11,
   "metadata": {},
   "outputs": [
    {
     "name": "stdout",
     "output_type": "stream",
     "text": [
      "Python is awesome\n"
     ]
    }
   ],
   "source": [
    "x = \"Python is \"\n",
    "y = \"awesome\"\n",
    "z =  x + y #You can also use the + character to add a variable to another variable\n",
    "print(z)"
   ]
  },
  {
   "cell_type": "code",
   "execution_count": 12,
   "metadata": {
    "scrolled": true
   },
   "outputs": [
    {
     "ename": "TypeError",
     "evalue": "unsupported operand type(s) for +: 'int' and 'str'",
     "output_type": "error",
     "traceback": [
      "\u001b[1;31m---------------------------------------------------------------------------\u001b[0m",
      "\u001b[1;31mTypeError\u001b[0m                                 Traceback (most recent call last)",
      "\u001b[1;32m<ipython-input-12-00c66e4310ff>\u001b[0m in \u001b[0;36m<module>\u001b[1;34m()\u001b[0m\n\u001b[0;32m      1\u001b[0m \u001b[0mx\u001b[0m \u001b[1;33m=\u001b[0m \u001b[1;36m5\u001b[0m\u001b[1;33m\u001b[0m\u001b[0m\n\u001b[0;32m      2\u001b[0m \u001b[0my\u001b[0m \u001b[1;33m=\u001b[0m \u001b[1;34m\"John\"\u001b[0m\u001b[1;33m\u001b[0m\u001b[0m\n\u001b[1;32m----> 3\u001b[1;33m \u001b[0mprint\u001b[0m\u001b[1;33m(\u001b[0m\u001b[0mx\u001b[0m \u001b[1;33m+\u001b[0m \u001b[0my\u001b[0m\u001b[1;33m)\u001b[0m\u001b[1;33m\u001b[0m\u001b[0m\n\u001b[0m",
      "\u001b[1;31mTypeError\u001b[0m: unsupported operand type(s) for +: 'int' and 'str'"
     ]
    }
   ],
   "source": [
    "x = 5\n",
    "y = \"John\"\n",
    "print(x + y) "
   ]
  },
  {
   "cell_type": "markdown",
   "metadata": {},
   "source": [
    "<span style='color:red'>If we try to combine a string and a number, Python will give us an error</span>"
   ]
  },
  {
   "cell_type": "code",
   "execution_count": 3,
   "metadata": {
    "scrolled": true
   },
   "outputs": [
    {
     "name": "stdout",
     "output_type": "stream",
     "text": [
      "1\n",
      "Python\n",
      "1946579600\n",
      "6069864\n"
     ]
    }
   ],
   "source": [
    "a = 1 #  'a'is of type int\n",
    "x = \"Python\" # 'x' is now of type str\n",
    "print(a) # print the var 'a' i,e should print '1'\n",
    "print(x) # print the var 'x' i,e should print 'Python'\n",
    "print(id(a)) # print object ID of a\n",
    "print(id(x)) # print object ID of x"
   ]
  },
  {
   "cell_type": "markdown",
   "metadata": {},
   "source": [
    "<span style='color:green'>Variables do not need to be declared with any particular type and can even change type after they have been set.</span>"
   ]
  },
  {
   "cell_type": "markdown",
   "metadata": {},
   "source": [
    "No confusions here, seems simple.\n",
    "\n",
    "Explore id() function: https://www.geeksforgeeks.org/id-function-python/"
   ]
  },
  {
   "cell_type": "markdown",
   "metadata": {},
   "source": [
    "In simple terms,id() is a built-in function in Python, which returns the identity of an object. The identity is a unique integer for that object during its lifetime. This is also the address of the object in memory!"
   ]
  },
  {
   "cell_type": "markdown",
   "metadata": {},
   "source": [
    "Lets create another variable"
   ]
  },
  {
   "cell_type": "code",
   "execution_count": 2,
   "metadata": {},
   "outputs": [
    {
     "name": "stdout",
     "output_type": "stream",
     "text": [
      "2\n",
      "498036224\n"
     ]
    }
   ],
   "source": [
    "b = 2 # creating a var 'b' of type Number\n",
    "print(b) # print the var 'b' i,e should print '2'\n",
    "print(id(b)) # print object ID of b"
   ]
  },
  {
   "cell_type": "code",
   "execution_count": 3,
   "metadata": {},
   "outputs": [
    {
     "name": "stdout",
     "output_type": "stream",
     "text": [
      "1 2\n"
     ]
    }
   ],
   "source": [
    "print(a,b) # printing both var 'a' and 'b'"
   ]
  },
  {
   "cell_type": "code",
   "execution_count": 4,
   "metadata": {},
   "outputs": [
    {
     "name": "stdout",
     "output_type": "stream",
     "text": [
      "1\n",
      "498036192\n"
     ]
    }
   ],
   "source": [
    "b = 1 # setting var 'b' to 1\n",
    "print(b) # print the var 'b' i,e should print '1'\n",
    "print(id(b)) # print object ID of b"
   ]
  },
  {
   "cell_type": "markdown",
   "metadata": {},
   "source": [
    "Generally we would have expected the <b>id</b> to be same as before. But it has changed!\n",
    "\n",
    "So what exactly is happening...!!! getting confused? don't worry,guys!\n",
    "\n",
    "Lets try more senarios"
   ]
  },
  {
   "cell_type": "code",
   "execution_count": 5,
   "metadata": {},
   "outputs": [
    {
     "name": "stdout",
     "output_type": "stream",
     "text": [
      "3\n",
      "498036256\n"
     ]
    }
   ],
   "source": [
    "b = 3 # setting var 'b' to 3\n",
    "print(b) # print the var 'b' i,e should print '3'\n",
    "print(id(b)) # print object ID of b"
   ]
  },
  {
   "cell_type": "markdown",
   "metadata": {},
   "source": [
    " \n",
    "This is clear"
   ]
  },
  {
   "cell_type": "code",
   "execution_count": 6,
   "metadata": {},
   "outputs": [
    {
     "name": "stdout",
     "output_type": "stream",
     "text": [
      "1\n",
      "498036192\n"
     ]
    }
   ],
   "source": [
    "b = 1 # setting var 'b' to 1\n",
    "print(b) # print the var 'b' i,e should print '1'\n",
    "print(id(b)) # print object ID of b"
   ]
  },
  {
   "cell_type": "code",
   "execution_count": 7,
   "metadata": {},
   "outputs": [
    {
     "name": "stdout",
     "output_type": "stream",
     "text": [
      "498036192 498036192\n"
     ]
    }
   ],
   "source": [
    "print(id(a),id(b)) # printing object ids of 'a' and 'b'"
   ]
  },
  {
   "cell_type": "markdown",
   "metadata": {},
   "source": [
    "Hmm..., We didnt equate <b>var a</b> to <b>var b</b> but why are both having same id?"
   ]
  },
  {
   "cell_type": "markdown",
   "metadata": {},
   "source": [
    "<b>Python Variable Concept explained : </b>Remember this statement above.\n",
    "\n",
    "<b>Python is a dynamic language. Variables are just names</b> (like label/sticky notes)<b>. Assignment does not copy a value into an object, it just attaches a name to the object that contains the data</b> (like putting label/sticky notes on a box).\n",
    "\n",
    "Lets see how exactly it implies in Python.\n",
    "\n",
    "When we execute <b>a = 1</b> it isnt creating <b>object 'a'</b> instead its creating <b>object '1'</b> and attaching the <b>label 'a'</b> on it.\n",
    "And <b>id</b> assignment is purely random dependent on system/run time.\n",
    "\n",
    "I guess this clarifies why <b>var b</b> is having id of <b>var 'a'</b> when <b>b = 1</b> .Its because 'b' is just a label which is attached to object '1' and 'a' is also attached to object '1'. Hence both are displaying id of object '1'."
   ]
  },
  {
   "cell_type": "markdown",
   "metadata": {},
   "source": [
    "<span style='color:green'>Glad!!! that cleared out few things :)</span>\n",
    "\n",
    "<hr>\n",
    "\n",
    "<b>Now lets tackle another senario and get our variable basics strong</b>"
   ]
  },
  {
   "cell_type": "code",
   "execution_count": 8,
   "metadata": {},
   "outputs": [
    {
     "name": "stdout",
     "output_type": "stream",
     "text": [
      "[1, 2, 3]\n",
      "58796424\n"
     ]
    }
   ],
   "source": [
    "a = [1,2,3] # this is a python list it will covered later\n",
    "print(a) # print the var 'a' i,e should print '[1,2,3]'\n",
    "print(id(a)) # print object ID of a"
   ]
  },
  {
   "cell_type": "markdown",
   "metadata": {},
   "source": [
    "<span style='color:green'>We got output as expected</span>"
   ]
  },
  {
   "cell_type": "code",
   "execution_count": 9,
   "metadata": {},
   "outputs": [
    {
     "name": "stdout",
     "output_type": "stream",
     "text": [
      "[1, 2, 3]\n",
      "92659656\n"
     ]
    }
   ],
   "source": [
    "b = [1,2,3] # another var 'b'\n",
    "print(b) # print the var 'b' i,e should print '[1,2,3]'\n",
    "print(id(b)) # print object ID of b"
   ]
  },
  {
   "cell_type": "markdown",
   "metadata": {},
   "source": [
    "<span style='color:red'>Hmm... Strange why isnt both <b>id</b>s same when they both have the same value</span>"
   ]
  },
  {
   "cell_type": "code",
   "execution_count": 10,
   "metadata": {},
   "outputs": [
    {
     "name": "stdout",
     "output_type": "stream",
     "text": [
      "[1, 2, 3]\n",
      "92659656\n",
      "[1, 2, 3]\n",
      "92659656\n"
     ]
    }
   ],
   "source": [
    "a=b\n",
    "print(a) # print the var 'a' i,e should print '[1,2,3]'\n",
    "print(id(a)) # print object ID of a\n",
    "print(b) # print the var 'b' i,e should print '[1,2,3]'\n",
    "print(id(b)) # print object ID of b"
   ]
  },
  {
   "cell_type": "markdown",
   "metadata": {},
   "source": [
    "<span style='color:green'>Ok, Explainable. Since 'a' was equated to 'b both can have same Id</span>"
   ]
  },
  {
   "cell_type": "code",
   "execution_count": 11,
   "metadata": {},
   "outputs": [
    {
     "name": "stdout",
     "output_type": "stream",
     "text": [
      "[5, 2, 3]\n",
      "92659656\n",
      "[5, 2, 3]\n",
      "92659656\n"
     ]
    }
   ],
   "source": [
    "b[0]=5 # changing a value in var 'b'\n",
    "print(a) # print the var 'a' i,e should print '[1,2,3]'\n",
    "print(id(a)) # print object ID of a\n",
    "print(b) # print the var 'b' i,e should print '[5,2,3]'\n",
    "print(id(b)) # print object ID of b"
   ]
  },
  {
   "cell_type": "markdown",
   "metadata": {},
   "source": [
    "<span style='color:red'>What is happening, why is var 'a' getting changed when var 'b' is changed?! :( </span>\n",
    "\n",
    "Lets try again lets change in var 'a'"
   ]
  },
  {
   "cell_type": "code",
   "execution_count": 12,
   "metadata": {},
   "outputs": [
    {
     "name": "stdout",
     "output_type": "stream",
     "text": [
      "[5, 2, 7]\n",
      "92659656\n",
      "[5, 2, 7]\n",
      "92659656\n"
     ]
    }
   ],
   "source": [
    "a[2]=7 # changing a value in var 'b'\n",
    "print(a) # print the var 'a' i,e should print '[5,2,7]'\n",
    "print(id(a)) # print object ID of a\n",
    "print(b) # print the var 'b' i,e should print '[5,2,3]'\n",
    "print(id(b)) # print object ID of b"
   ]
  },
  {
   "cell_type": "markdown",
   "metadata": {},
   "source": [
    "<span style='color:red'>Why is var 'b' getting changed when var 'a' is changed?! :( </span>\n",
    "\n",
    "<span style='color:red'>Trust me if you had explored this as a issue later. You would have completely paniced!!!</span>"
   ]
  },
  {
   "cell_type": "markdown",
   "metadata": {},
   "source": [
    "Remember the below image which we visted above and I had asked you to glance it and keep it mind.\n",
    "\n",
    "<img src=\"https://image.ibb.co/gQKX3z/Python_data_types1.jpg\" width='500' alt=\"Python_data_types1\" border=\"0\">"
   ]
  },
  {
   "cell_type": "markdown",
   "metadata": {},
   "source": [
    "Ok now lets find out what exactly is happening\n",
    "\n",
    "<b>Python Variable Immutable and Mutable Concept explained : </b>\n",
    "\n",
    "As seen in the image Numbers, Strings and Tuples are immutable(i.e not changable) and Lists, Dictionaries and Sets are mutable(i.e modifyable).\n",
    "\n",
    "Now what does that mean..."
   ]
  },
  {
   "cell_type": "code",
   "execution_count": 13,
   "metadata": {},
   "outputs": [
    {
     "name": "stdout",
     "output_type": "stream",
     "text": [
      "1\n",
      "498036192\n"
     ]
    }
   ],
   "source": [
    "a = 1 # when var 'a' is created with datatype Number, value '1'\n",
    "print(a) \n",
    "print(id(a))"
   ]
  },
  {
   "cell_type": "markdown",
   "metadata": {},
   "source": [
    "Object '1' is created and labled as 'a'. That's clear."
   ]
  },
  {
   "cell_type": "code",
   "execution_count": 14,
   "metadata": {},
   "outputs": [
    {
     "name": "stdout",
     "output_type": "stream",
     "text": [
      "1\n",
      "498036192\n"
     ]
    }
   ],
   "source": [
    "b = 1 # testing with different var name\n",
    "print(b)\n",
    "print(id(b))"
   ]
  },
  {
   "cell_type": "markdown",
   "metadata": {},
   "source": [
    "Ok, Explainable. Both var 'a' and var 'b' are both pointing to object '1'\n",
    "\n",
    "<span style='color:green'>Whats happening here is object '1' is created and since its immutable object '1' will always have the same id and same value(i.e 1).</span>\n",
    "\n",
    "For immutable objects, this is less important, because the contents can never change. Even if two immutable objects have different <b>id</b>s, they are essentially identical if they have identical contents."
   ]
  },
  {
   "cell_type": "code",
   "execution_count": 15,
   "metadata": {},
   "outputs": [
    {
     "name": "stdout",
     "output_type": "stream",
     "text": [
      "[1, 2, 3] 92896008\n",
      "[1, 2, 3] 92894920\n"
     ]
    }
   ],
   "source": [
    "c = [1,2,3]\n",
    "d = [1,2,3]\n",
    "print(c,id(c))\n",
    "print(d,id(d))"
   ]
  },
  {
   "cell_type": "markdown",
   "metadata": {},
   "source": [
    "<div style='color:green'>\n",
    "Ok, List works in a different way. When var 'c' of type List is created, it creates a object List '[ ]' and not object '[1,2,3]'. \n",
    "The List itself is an object and elements inside the list are always mutable/changable. Hence a same list object is not refered even though when elements are same. \n",
    "Hence var 'c' and var 'd' are creating different list objects.\n",
    "</div>\n",
    "\n",
    "Now clear out something else too."
   ]
  },
  {
   "cell_type": "code",
   "execution_count": 16,
   "metadata": {},
   "outputs": [
    {
     "name": "stdout",
     "output_type": "stream",
     "text": [
      "[1, 2, 5] 92896008\n",
      "[1, 2, 3] 92894920\n"
     ]
    }
   ],
   "source": [
    "c [2] = 5 # 3rd element of the list, accessing elements of the list will be covered later\n",
    "print(c,id(c))\n",
    "print(d,id(d))"
   ]
  },
  {
   "cell_type": "markdown",
   "metadata": {},
   "source": [
    "No confusions there"
   ]
  },
  {
   "cell_type": "code",
   "execution_count": 17,
   "metadata": {},
   "outputs": [
    {
     "name": "stdout",
     "output_type": "stream",
     "text": [
      "[1, 2, 3] 92894920\n",
      "[1, 2, 3] 92894920\n"
     ]
    }
   ],
   "source": [
    "c = d\n",
    "print(c,id(c))\n",
    "print(d,id(d))"
   ]
  },
  {
   "cell_type": "markdown",
   "metadata": {},
   "source": [
    "Equating var 'd' to var 'c' will put label of var 'c' on list object which was pointed by var 'd'\n",
    "Hence both have the same id and elements"
   ]
  },
  {
   "cell_type": "code",
   "execution_count": 18,
   "metadata": {},
   "outputs": [
    {
     "name": "stdout",
     "output_type": "stream",
     "text": [
      "[1, 2, 5] 92894920\n",
      "[1, 2, 5] 92894920\n"
     ]
    }
   ],
   "source": [
    "c[2]=5\n",
    "print(c,id(c))\n",
    "print(d,id(d))"
   ]
  },
  {
   "cell_type": "code",
   "execution_count": 19,
   "metadata": {},
   "outputs": [
    {
     "name": "stdout",
     "output_type": "stream",
     "text": [
      "[8, 2, 5] 92894920\n",
      "[8, 2, 5] 92894920\n"
     ]
    }
   ],
   "source": [
    "d[0]=8\n",
    "print(c,id(c))\n",
    "print(d,id(d))"
   ]
  },
  {
   "cell_type": "markdown",
   "metadata": {},
   "source": [
    "Since var 'c' and var 'd' are pointing to the same list object. Modification in either var 'c' or var 'd' is going to reflect on both of them.\n",
    "\n",
    "<span style='color:red'>Hmmm... Now the problem is since List is mutable we cannot change an element in var 'c' without getting it reflected in var 'd'. Its really a sticky situation :(</span>\n",
    "\n",
    "Equating var 'd' to var 'c' is not creating a copy(i.e 2 copies c and d) instead its pointing to the same object and its acting like a mirror.\n",
    "\n",
    "But we were expecting a copy instead.\n",
    "\n",
    "<span style='color:green'>Remember equating var 'd' to var 'c' doesnt have any significance(i.e of no use). When a var 'd' is already pointing to a Object List. There is no significance in having another var 'c'  pointing to the same List object.</span>\n",
    "\n",
    "Its true that the var concept of python works bit different compared to C/C++ and other similar languages. \n",
    "(i.e equating c =  d in C would create a copy then pointing to the same concept)\n",
    "\n",
    "<b>Hence please do remember this concept of python. Or else there is a high chance your code will break, if you treat python like other languages.</b>\n",
    "\n",
    "Creating copy of List object will be covered later when visiting Lists data type."
   ]
  },
  {
   "cell_type": "markdown",
   "metadata": {},
   "source": [
    "<span style='color:green'>We are done tackling the tough part. If you have reached here you have done a really awesome job!! Cheers to you :)</span>\n",
    "\n",
    "With proper basics it will a lot smoother from now on :)\n",
    "\n",
    "Now let dive into the concept of data types in Python"
   ]
  },
  {
   "cell_type": "markdown",
   "metadata": {},
   "source": [
    "<hr/>"
   ]
  },
  {
   "cell_type": "markdown",
   "metadata": {},
   "source": [
    "<b>Different data types in python and their built-in functions</b>"
   ]
  },
  {
   "cell_type": "code",
   "execution_count": 20,
   "metadata": {},
   "outputs": [
    {
     "name": "stdout",
     "output_type": "stream",
     "text": [
      "True <class 'bool'>\n",
      "<class 'bool'>\n",
      "58 <class 'int'>\n",
      "<class 'int'>\n",
      "99.9 <class 'float'>\n",
      "<class 'float'>\n",
      "abc <class 'str'>\n",
      "<class 'str'>\n"
     ]
    }
   ],
   "source": [
    "a= True #Label 'a' is assigned to Bool type, contains only true or false\n",
    "print(a,type(a))\n",
    "print(type(True))\n",
    "# number is split into 2 data types in python namely Interger and Floating\n",
    "a= 58 #Label 'a' is assigned to Integer type, Integer ignores decimal\n",
    "print(a,type(a))\n",
    "print(type(58))\n",
    "a= 99.9 #Label 'a' is assigned to Floating type, Float always inculdes decimals\n",
    "print(a,type(a))\n",
    "print(type(99.9))\n",
    "a= 'abc' #Label 'a' is assigned to String type\n",
    "print(a,type(a))\n",
    "print(type('abc'))"
   ]
  },
  {
   "cell_type": "markdown",
   "metadata": {},
   "source": [
    "* Every value in Python has a datatype. Since everything is an object in Python programming, data types are actually classes and variables are instance (object) of these classes.\n",
    "\n",
    "* Objects based on their class/type have specific behaviour associated with them."
   ]
  },
  {
   "cell_type": "markdown",
   "metadata": {},
   "source": [
    "<b>type(object)</b> is a function to know which class a variable or a value belongs"
   ]
  },
  {
   "cell_type": "code",
   "execution_count": 21,
   "metadata": {},
   "outputs": [
    {
     "data": {
      "text/plain": [
       "True"
      ]
     },
     "execution_count": 21,
     "metadata": {},
     "output_type": "execute_result"
    }
   ],
   "source": [
    "a=isinstance(6,int) #returns true because 6 is of type int\n",
    "a"
   ]
  },
  {
   "cell_type": "markdown",
   "metadata": {},
   "source": [
    "<b>isinstance(object, classinfo)</b> this is a function which returns true if the object argument is an instance of classinfo argument"
   ]
  },
  {
   "cell_type": "code",
   "execution_count": 22,
   "metadata": {},
   "outputs": [
    {
     "data": {
      "text/plain": [
       "False"
      ]
     },
     "execution_count": 22,
     "metadata": {},
     "output_type": "execute_result"
    }
   ],
   "source": [
    "isinstance(6,str) #returns false because 6 isnt of type str"
   ]
  },
  {
   "cell_type": "code",
   "execution_count": 23,
   "metadata": {},
   "outputs": [
    {
     "data": {
      "text/plain": [
       "True"
      ]
     },
     "execution_count": 23,
     "metadata": {},
     "output_type": "execute_result"
    }
   ],
   "source": [
    "isinstance('6',(int,float,bytes,str)) "
   ]
  },
  {
   "cell_type": "markdown",
   "metadata": {},
   "source": [
    "Types can also be passed in brackets \n",
    "\n",
    "In the above case it is checking whether '6' is either an int or float or byte or str\n",
    "\n",
    "Since '6' is of type str it returns true"
   ]
  },
  {
   "cell_type": "code",
   "execution_count": 24,
   "metadata": {},
   "outputs": [
    {
     "data": {
      "text/plain": [
       "False"
      ]
     },
     "execution_count": 24,
     "metadata": {},
     "output_type": "execute_result"
    }
   ],
   "source": [
    "isinstance('6',(int,float,bytes)) #returns false because '6' is none of type mentioned ,however its of type str"
   ]
  },
  {
   "cell_type": "markdown",
   "metadata": {},
   "source": [
    "<br><br>\n",
    "<center><h2>End of Book</h2></center>"
   ]
  },
  {
   "cell_type": "markdown",
   "metadata": {},
   "source": [
    "<hr>\n",
    "<h3><b>Next book :</b> Book 2. Lists, Tuples, Dictionaries and Sets</h3>\n",
    "\n",
    "<b><a href='index.html'>Back Home</a></b>\n",
    "<hr>"
   ]
  },
  {
   "cell_type": "markdown",
   "metadata": {},
   "source": [
    "Source from atcodedog git repo\n",
    "\n",
    "Find more on\n",
    "\n",
    "https://github.com/atcodedog\n",
    "\n",
    "http://www.atcodedog.com\n",
    "\n",
    "Follow us on\n",
    "\n",
    "https://twitter.com/atcodedog"
   ]
  }
 ],
 "metadata": {
  "kernelspec": {
   "display_name": "Python 3",
   "language": "python",
   "name": "python3"
  },
  "language_info": {
   "codemirror_mode": {
    "name": "ipython",
    "version": 3
   },
   "file_extension": ".py",
   "mimetype": "text/x-python",
   "name": "python",
   "nbconvert_exporter": "python",
   "pygments_lexer": "ipython3",
   "version": "3.5.5"
  }
 },
 "nbformat": 4,
 "nbformat_minor": 2
}
