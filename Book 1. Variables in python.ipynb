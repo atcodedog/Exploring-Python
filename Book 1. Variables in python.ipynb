{
 "cells": [
  {
   "cell_type": "markdown",
   "metadata": {},
   "source": [
    "<h1>Book 1. Variables in python</h1><hr>"
   ]
  },
  {
   "cell_type": "markdown",
   "metadata": {},
   "source": [
    "<b>Python is a dynamic language. Variables are just names</b> (like label/sticky notes)<b>. Assignment does not copy a value to an object, it just attaches a name to the object that contains the data</b> (like putting label/sticky notes on a box).\n",
    "\n",
    "<span style='color:red'>It is more tricky then it sounds!!</span>\n",
    "\n",
    "<span style='color:green'>But hang on you will get a better understanding as we explore!</span>"
   ]
  },
  {
   "cell_type": "markdown",
   "metadata": {},
   "source": [
    "Before jumping into exploring the concept through Code. Glance this image and have this image in mind.\n",
    "\n",
    "<img src=\"https://image.ibb.co/gQKX3z/Python_data_types1.jpg\" width='500' alt=\"Python_data_types1\" border=\"0\">"
   ]
  },
  {
   "cell_type": "markdown",
   "metadata": {},
   "source": [
    "<b>Immutable</b> means doesnt accept modifications and <b>mutable</b> means accepts modifications."
   ]
  },
  {
   "cell_type": "markdown",
   "metadata": {},
   "source": [
    "<b>Creating variables</b>\n",
    "\n",
    "Python has no command for declaring a variable, variable is created at the moment when you first assign a value to it!\n",
    "\n",
    "<span style='color:green'>Variables do not need to be declared with any particular type and type be changed even after they have been set.</span>\n",
    "\n",
    "Lets just get few prerequisite before digging into \"how variable works in python\"."
   ]
  },
  {
   "cell_type": "code",
   "execution_count": 1,
   "metadata": {},
   "outputs": [
    {
     "name": "stdout",
     "output_type": "stream",
     "text": [
      "5\n",
      "Python\n"
     ]
    }
   ],
   "source": [
    "x = 5\n",
    "y = \"Python\"\n",
    "print(x)\n",
    "print(y)"
   ]
  },
  {
   "cell_type": "markdown",
   "metadata": {},
   "source": [
    "<b> variables name</b>"
   ]
  },
  {
   "cell_type": "markdown",
   "metadata": {},
   "source": [
    "* A variable name must start with a letter or the underscore character\n",
    "* A variable name cannot start with a number\n",
    "* A variable name can only contain alpha-numeric characters and underscores (A-z, 0-9, and _ )\n",
    "* Variable names are case-sensitive (age, Age and AGE are three different variables)"
   ]
  },
  {
   "cell_type": "markdown",
   "metadata": {},
   "source": [
    "<span style='color:red'>Remember that variables are case-sensitive!</span>"
   ]
  },
  {
   "cell_type": "markdown",
   "metadata": {},
   "source": [
    "<b>Outputing variables</b>\n",
    "\n",
    "<b>print</b> statement is often used either to print string in it or to output variables.\n",
    "\n",
    "Now lets try and print out a string "
   ]
  },
  {
   "cell_type": "code",
   "execution_count": 2,
   "metadata": {},
   "outputs": [
    {
     "name": "stdout",
     "output_type": "stream",
     "text": [
      "Hello Python, i am atcodedog\n"
     ]
    }
   ],
   "source": [
    "print(\"Hello Python, i am atcodedog\")"
   ]
  },
  {
   "cell_type": "markdown",
   "metadata": {},
   "source": [
    "That worked out well, lets try and print out a string and some variables"
   ]
  },
  {
   "cell_type": "code",
   "execution_count": 3,
   "metadata": {},
   "outputs": [
    {
     "name": "stdout",
     "output_type": "stream",
     "text": [
      "Python is  awesome ,and the number is 2\n"
     ]
    }
   ],
   "source": [
    "x = \"awesome\"\n",
    "y = \"2\"\n",
    "print(\"Python is \",x,\",and the number is\",y) #To combine both text and a variable, Python uses the + character"
   ]
  },
  {
   "cell_type": "markdown",
   "metadata": {},
   "source": [
    "<span style='color:green'>Awesome we were able to do it :)</span>\n",
    "\n",
    "Lets get a hang of one more concept."
   ]
  },
  {
   "cell_type": "code",
   "execution_count": 4,
   "metadata": {
    "scrolled": true
   },
   "outputs": [
    {
     "name": "stdout",
     "output_type": "stream",
     "text": [
      "value of a: 1\n",
      "value of x: Python\n",
      "id of a: 4462525440\n",
      "id of x: 4464752544\n"
     ]
    }
   ],
   "source": [
    "a = 1 #  'a'is of type int\n",
    "x = \"Python\" # 'x' is now of type str\n",
    "print(\"value of a:\",a) # print the var 'a' i,e should print '1'\n",
    "print(\"value of x:\",x) # print the var 'x' i,e should print 'Python'\n",
    "print(\"id of a:\",id(a)) # print object ID of a\n",
    "print(\"id of x:\",id(x)) # print object ID of x"
   ]
  },
  {
   "cell_type": "markdown",
   "metadata": {},
   "source": [
    "<b>id()</b> is a function which returns the identity of an object. \n",
    "\n",
    "The identity is an unique integer for that object during its lifetime. This is also the address of the object in memory."
   ]
  },
  {
   "cell_type": "markdown",
   "metadata": {},
   "source": [
    "<hr>"
   ]
  },
  {
   "cell_type": "markdown",
   "metadata": {},
   "source": [
    "<span style='color:green'>We have covered <b>variable naming convention</b>, <b>print()</b> and <b>id()</b>. Great, we have got everything that we required to explore :)</span>\n",
    "\n",
    "Now lets start digging into \"Variable concept in python\".\n",
    "\n",
    "Lets create a variable"
   ]
  },
  {
   "cell_type": "code",
   "execution_count": 5,
   "metadata": {},
   "outputs": [
    {
     "name": "stdout",
     "output_type": "stream",
     "text": [
      "value of a: 1\n",
      "id of a: 4462525440\n"
     ]
    }
   ],
   "source": [
    "a = 1 # creating a var 'a' of type Number\n",
    "print(\"value of a:\",a) # print the var 'a' i,e should print '1'\n",
    "print(\"id of a:\",id(a)) # print object ID of a"
   ]
  },
  {
   "cell_type": "markdown",
   "metadata": {},
   "source": [
    "No confusions here\n",
    "\n",
    "Lets create another variable"
   ]
  },
  {
   "cell_type": "code",
   "execution_count": 6,
   "metadata": {},
   "outputs": [
    {
     "name": "stdout",
     "output_type": "stream",
     "text": [
      "value of b: 2\n",
      "id of b: 4462525472\n"
     ]
    }
   ],
   "source": [
    "b = 2 # creating a var 'b' of type Number\n",
    "print(\"value of b:\",b) # print the var 'b' i,e should print '2'\n",
    "print(\"id of b:\",id(b)) # print object ID of b"
   ]
  },
  {
   "cell_type": "markdown",
   "metadata": {},
   "source": [
    "This is also clear"
   ]
  },
  {
   "cell_type": "code",
   "execution_count": 7,
   "metadata": {},
   "outputs": [
    {
     "name": "stdout",
     "output_type": "stream",
     "text": [
      "1 2\n"
     ]
    }
   ],
   "source": [
    "print(a,b) # printing both var 'a' and 'b'"
   ]
  },
  {
   "cell_type": "code",
   "execution_count": 8,
   "metadata": {},
   "outputs": [
    {
     "name": "stdout",
     "output_type": "stream",
     "text": [
      "value of b: 1\n",
      "id of b: 4462525440\n"
     ]
    }
   ],
   "source": [
    "b = 1 # setting var 'b' to 1\n",
    "print(\"value of b:\",b) # print the var 'b' i,e should print '1'\n",
    "print(\"id of b:\",id(b))  # print object ID of b"
   ]
  },
  {
   "cell_type": "markdown",
   "metadata": {},
   "source": [
    "Hmm... Generally we would have expected the <b>id</b> of variable <b>b</b> to be same as before. But it has changed to <b>id</b> of variable <b>a</b>.\n",
    "\n",
    "So what exactly is happening...!!! getting confused? don't worry guys!\n",
    "\n",
    "Lets try more senarios before unraveling whats happeing."
   ]
  },
  {
   "cell_type": "code",
   "execution_count": 9,
   "metadata": {},
   "outputs": [
    {
     "name": "stdout",
     "output_type": "stream",
     "text": [
      "value of b: 3\n",
      "id of b: 4462525504\n"
     ]
    }
   ],
   "source": [
    "b = 3 # setting var 'b' to 3\n",
    "print(\"value of b:\",b) # print the var 'b' i,e should print '3'\n",
    "print(\"id of b:\",id(b))  # print object ID of b"
   ]
  },
  {
   "cell_type": "markdown",
   "metadata": {},
   "source": [
    " \n",
    "This is clear"
   ]
  },
  {
   "cell_type": "code",
   "execution_count": 10,
   "metadata": {},
   "outputs": [
    {
     "name": "stdout",
     "output_type": "stream",
     "text": [
      "value of b: 1\n",
      "id of b: 4462525440\n"
     ]
    }
   ],
   "source": [
    "b = 1 # setting var 'b' to 1\n",
    "print(\"value of b:\",b) # print the var 'b' i,e should print '1'\n",
    "print(\"id of b:\",id(b))  # print object ID of b"
   ]
  },
  {
   "cell_type": "code",
   "execution_count": 11,
   "metadata": {},
   "outputs": [
    {
     "name": "stdout",
     "output_type": "stream",
     "text": [
      "id of a: 4462525440 \n",
      "id of b: 4462525440\n"
     ]
    }
   ],
   "source": [
    "print(\"id of a:\",id(a),\"\\nid of b:\",id(b)) # printing object ids of 'a' and 'b'"
   ]
  },
  {
   "cell_type": "markdown",
   "metadata": {},
   "source": [
    "Hmm... We didnt equate <b>var a</b> to <b>var b</b> but why are both having same id?"
   ]
  },
  {
   "cell_type": "markdown",
   "metadata": {},
   "source": [
    "<b>Python Variable Concept explained : </b>Do you remember this statement below. Yes we had stated it above.\n",
    "\n",
    "<b>Python is a dynamic language. Variables are just names</b> (like label/sticky notes)<b>. Assignment does not copy a value into an object, it just attaches a name to the object that contains the data</b> (like putting label/sticky notes on a box).\n",
    "\n",
    "Lets see how exactly it is implied in Python.\n",
    "\n",
    "When we execute <b>a = 1</b> it isnt creating <b>object 'a'</b> instead its creating <b>object '1'</b> and attaching the <b>label 'a'</b> on it. Hence <b>id</b> returned by <b>id()</b> function is the <b>id</b> of <b>object 1</b>.\n",
    "\n",
    "See the below execution to get more hang of it."
   ]
  },
  {
   "cell_type": "code",
   "execution_count": 12,
   "metadata": {},
   "outputs": [
    {
     "name": "stdout",
     "output_type": "stream",
     "text": [
      "id of object '1' 4462525440\n"
     ]
    }
   ],
   "source": [
    "print(\"id of object '1'\" ,id(1))"
   ]
  },
  {
   "cell_type": "markdown",
   "metadata": {},
   "source": [
    "And <b>id</b> assignment is purely random dependent on system/run time.\n",
    "\n",
    "I guess this clarifies why variable <b>'b'</b> is having id of variable <b>'a'</b> when <b>b = 1</b> .Its because <b>'b'</b> is just a label which is attached to object <b>'1'</b> and <b>'a'</b> is also attached to object <b>'1'</b>. Hence both are displaying same id of object <b>'1'</b>."
   ]
  },
  {
   "cell_type": "markdown",
   "metadata": {},
   "source": [
    "<span style='color:green'>Glad!!! that cleared out few things :)</span>"
   ]
  },
  {
   "cell_type": "markdown",
   "metadata": {},
   "source": [
    "<b>Now lets tackle another senario and get our variable basics strong</b>"
   ]
  },
  {
   "cell_type": "code",
   "execution_count": 13,
   "metadata": {},
   "outputs": [
    {
     "name": "stdout",
     "output_type": "stream",
     "text": [
      "value of a: [1, 2, 3]\n",
      "id of a: 4500848456\n"
     ]
    }
   ],
   "source": [
    "a = [1,2,3] # this is a python list it will covered later\n",
    "print(\"value of a:\",a) # print the var 'a' i,e should print '[1,2,3]'\n",
    "print(\"id of a:\",id(a)) # print object ID of a"
   ]
  },
  {
   "cell_type": "markdown",
   "metadata": {},
   "source": [
    "<span style='color:green'>We got output as expected</span>"
   ]
  },
  {
   "cell_type": "code",
   "execution_count": 14,
   "metadata": {},
   "outputs": [
    {
     "name": "stdout",
     "output_type": "stream",
     "text": [
      "value of b: [1, 2, 3]\n",
      "id of b: 4500848008\n"
     ]
    }
   ],
   "source": [
    "b = [1,2,3] # another var 'b'\n",
    "print(\"value of b:\",b) # print the var 'b' i,e should print '[1,2,3]'\n",
    "print(\"id of b:\",id(b)) # print object ID of b"
   ]
  },
  {
   "cell_type": "markdown",
   "metadata": {},
   "source": [
    "<span style='color:red'>Hmm... Strange why isnt both <b>id</b>s same when they both have the same values</span>"
   ]
  },
  {
   "cell_type": "code",
   "execution_count": 15,
   "metadata": {},
   "outputs": [
    {
     "name": "stdout",
     "output_type": "stream",
     "text": [
      "value of a: [1, 2, 3]\n",
      "id of a: 4500848008\n",
      "value of b: [1, 2, 3]\n",
      "id of b: 4500848008\n"
     ]
    }
   ],
   "source": [
    "a=b\n",
    "print(\"value of a:\",a) # print the var 'a' i,e should print '[1,2,3]'\n",
    "print(\"id of a:\",id(a)) # print object ID of a\n",
    "print(\"value of b:\",b) # print the var 'b' i,e should print '[1,2,3]'\n",
    "print(\"id of b:\",id(b)) # print object ID of b"
   ]
  },
  {
   "cell_type": "markdown",
   "metadata": {},
   "source": [
    "<span style='color:green'>Ok, Explainable. Since 'a' was equated to 'b both can have same Id</span>"
   ]
  },
  {
   "cell_type": "code",
   "execution_count": 16,
   "metadata": {},
   "outputs": [
    {
     "name": "stdout",
     "output_type": "stream",
     "text": [
      "value of a: [5, 2, 3]\n",
      "id of a: 4500848008\n",
      "value of b: [5, 2, 3]\n",
      "id of b: 4500848008\n"
     ]
    }
   ],
   "source": [
    "b[0]=5 # changing a value in var 'b'\n",
    "print(\"value of a:\",a) # print the var 'a' i,e should print '[1,2,3]'\n",
    "print(\"id of a:\",id(a)) # print object ID of a\n",
    "print(\"value of b:\",b) # print the var 'b' i,e should print '[5,2,3]'\n",
    "print(\"id of b:\",id(b)) # print object ID of b"
   ]
  },
  {
   "cell_type": "markdown",
   "metadata": {},
   "source": [
    "<span style='color:red'>What is happening, why is var 'a' getting changed when var 'b' is changed?! :( </span>\n",
    "\n",
    "Lets try again lets change a value in var 'a'"
   ]
  },
  {
   "cell_type": "code",
   "execution_count": 17,
   "metadata": {},
   "outputs": [
    {
     "name": "stdout",
     "output_type": "stream",
     "text": [
      "value of a: [5, 2, 7]\n",
      "id of a: 4500848008\n",
      "value of b: [5, 2, 7]\n",
      "id of b: 4500848008\n"
     ]
    }
   ],
   "source": [
    "a[2]=7 # changing a value in var 'a'\n",
    "print(\"value of a:\",a) # print the var 'a' i,e should print '[5,2,7]'\n",
    "print(\"id of a:\",id(a)) # print object ID of a\n",
    "print(\"value of b:\",b) # print the var 'b' i,e should print '[5,2,3]'\n",
    "print(\"id of b:\",id(b)) # print object ID of b"
   ]
  },
  {
   "cell_type": "markdown",
   "metadata": {},
   "source": [
    "<span style='color:red'>Why is var 'b' getting changed when var 'a' is changed?! :( </span>\n",
    "\n",
    "<span style='color:red'>Trust me if you had explored this as a issue later. You would have completely paniced!!!</span>"
   ]
  },
  {
   "cell_type": "markdown",
   "metadata": {},
   "source": [
    "Remember the below image which we visted above and I had asked you to glance it and keep it mind.\n",
    "\n",
    "<img src=\"https://image.ibb.co/gQKX3z/Python_data_types1.jpg\" width='500' alt=\"Python_data_types1\" border=\"0\">"
   ]
  },
  {
   "cell_type": "markdown",
   "metadata": {},
   "source": [
    "Ok now lets find out what exactly is happening\n",
    "\n",
    "<b>Python's Immutable and Mutable Variable Concept explained : </b>\n",
    "\n",
    "As seen in the image; Numbers, Strings and Tuples are immutable(i.e not changable) and Lists, Dictionaries and Sets are mutable(i.e modifyable).\n",
    "\n",
    "Now what does that mean..."
   ]
  },
  {
   "cell_type": "code",
   "execution_count": 18,
   "metadata": {},
   "outputs": [
    {
     "name": "stdout",
     "output_type": "stream",
     "text": [
      "value of a: 1\n",
      "id of b: 4462525440\n"
     ]
    }
   ],
   "source": [
    "a = 1 # when var 'a' is created with datatype Number, value '1'\n",
    "print(\"value of a:\",a) \n",
    "print(\"id of b:\",id(a))"
   ]
  },
  {
   "cell_type": "markdown",
   "metadata": {},
   "source": [
    "Object '1' is created and labled as 'a'. That's clear."
   ]
  },
  {
   "cell_type": "code",
   "execution_count": 19,
   "metadata": {},
   "outputs": [
    {
     "name": "stdout",
     "output_type": "stream",
     "text": [
      "value of b: 1\n",
      "id of b: 4462525440\n"
     ]
    }
   ],
   "source": [
    "b = 1 # testing with different var name\n",
    "print(\"value of b:\",b)\n",
    "print(\"id of b:\",id(b))"
   ]
  },
  {
   "cell_type": "markdown",
   "metadata": {},
   "source": [
    "Ok, Explainable. var <b>'a'</b> and var <b>'b'</b> are both pointing to object <b>'1'</b>\n",
    "\n",
    "<span style='color:green'>Whats happening here is object <b>'1'</b> is created and since its immutable object <b>'1'</b> will always have the same id and same value(i.e 1).</span>"
   ]
  },
  {
   "cell_type": "code",
   "execution_count": 20,
   "metadata": {},
   "outputs": [
    {
     "name": "stdout",
     "output_type": "stream",
     "text": [
      "value of c: [1, 2, 3] id of c: 4500847432\n",
      "value of d: [1, 2, 3] id of d: 4500846344\n"
     ]
    }
   ],
   "source": [
    "c = [1,2,3]\n",
    "d = [1,2,3]\n",
    "print(\"value of c:\",c,\"id of c:\",id(c))\n",
    "print(\"value of d:\",d,\"id of d:\",id(d))"
   ]
  },
  {
   "cell_type": "markdown",
   "metadata": {},
   "source": [
    "<div style='color:green'>\n",
    "    Ok, List works in a different way. When var <b>'c'</b> of type List is created, it creates an object List <b>'[ ]'</b> and not object <b>'[1,2,3]'</b>. \n",
    "The List itself is an object and elements inside the list are always mutable/changable. Hence a same list object is not refered even though when elements are same. \n",
    "Hence var 'c' and var 'd' are creating different list objects.\n",
    "</div>\n",
    "\n",
    "Now clear out something else too."
   ]
  },
  {
   "cell_type": "code",
   "execution_count": 21,
   "metadata": {},
   "outputs": [
    {
     "name": "stdout",
     "output_type": "stream",
     "text": [
      "value of c: [1, 2, 5] id of c: 4500847432\n",
      "value of d: [1, 2, 3] id of d: 4500846344\n"
     ]
    }
   ],
   "source": [
    "c [2] = 5 # chaging a value in c\n",
    "print(\"value of c:\",c,\"id of c:\",id(c))\n",
    "print(\"value of d:\",d,\"id of d:\",id(d))"
   ]
  },
  {
   "cell_type": "markdown",
   "metadata": {},
   "source": [
    "No confusions there"
   ]
  },
  {
   "cell_type": "code",
   "execution_count": 22,
   "metadata": {},
   "outputs": [
    {
     "name": "stdout",
     "output_type": "stream",
     "text": [
      "value of c: [1, 2, 3] id of c: 4500846344\n",
      "value of d: [1, 2, 3] id of d: 4500846344\n"
     ]
    }
   ],
   "source": [
    "c = d\n",
    "print(\"value of c:\",c,\"id of c:\",id(c))\n",
    "print(\"value of d:\",d,\"id of d:\",id(d))"
   ]
  },
  {
   "cell_type": "markdown",
   "metadata": {},
   "source": [
    "Equating var 'd' to var 'c' will put label of var 'c' on list object which was pointed by var 'd'.\n",
    "Hence both have the same id and elements"
   ]
  },
  {
   "cell_type": "code",
   "execution_count": 23,
   "metadata": {},
   "outputs": [
    {
     "name": "stdout",
     "output_type": "stream",
     "text": [
      "value of c: [1, 2, 5] id of c: 4500846344\n",
      "value of d: [1, 2, 5] id of d: 4500846344\n"
     ]
    }
   ],
   "source": [
    "c[2]=5 # chaging a value in c\n",
    "print(\"value of c:\",c,\"id of c:\",id(c))\n",
    "print(\"value of d:\",d,\"id of d:\",id(d))"
   ]
  },
  {
   "cell_type": "code",
   "execution_count": 24,
   "metadata": {},
   "outputs": [
    {
     "name": "stdout",
     "output_type": "stream",
     "text": [
      "value of c: [8, 2, 5] id of c: 4500846344\n",
      "value of d: [8, 2, 5] id of d: 4500846344\n"
     ]
    }
   ],
   "source": [
    "d[0]=8 # chaging a value in d\n",
    "print(\"value of c:\",c,\"id of c:\",id(c))\n",
    "print(\"value of d:\",d,\"id of d:\",id(d))"
   ]
  },
  {
   "cell_type": "markdown",
   "metadata": {},
   "source": [
    "Since var <b>'c'</b> and var <b>'d'</b> are pointing to the same list object. Modification in either var <b>'c'</b> or var <b>'d'</b> is going to reflect on both of them.\n",
    "\n",
    "<span style='color:red'>Hmmm... Now the problem is since List is mutable we cannot change an element in var <b>'c'</b> without getting it reflected in var <b>'d'</b>. Its really a sticky situation :(</span>\n",
    "\n",
    "Equating var <b>'d'</b> to var <b>'c'</b> is not creating a copy(i.e 2 copies c and d) instead its pointing to the same object and its acting like a mirror.\n",
    "\n",
    "But we were expecting a copy instead.\n",
    "\n",
    "<span style='color:green'>Remember equating var <b>'d'</b> to var <b>'c'</b> doesnt have any significance(i.e of no use). When a var <b>'d'</b> is already pointing to a Object List. There is no significance in having another var <b>'c'</b>  pointing to the same List object.</span>\n",
    "\n",
    "Its true that the var concept of python works bit different compared to C/C++ and other similar languages. \n",
    "(i.e equating c =  d in C would create a copy then pointing to the same concept)\n",
    "\n",
    "<b>Hence please do remember this concept of python. Or else there is a high chance your code will break, if you treat python like other languages.</b>\n",
    "\n",
    "Creating copy of List object will be covered later when visiting Lists data type."
   ]
  },
  {
   "cell_type": "markdown",
   "metadata": {},
   "source": [
    "<span style='color:green'>We are done tackling the tough part. If you have reached here you have done a really awesome job!! Cheers to you :)</span>\n",
    "\n",
    "With proper basics it will a lot smoother from now on :)\n",
    "\n",
    "Now let dive into the concept of data types in Python"
   ]
  },
  {
   "cell_type": "markdown",
   "metadata": {},
   "source": [
    "<hr/>"
   ]
  },
  {
   "cell_type": "markdown",
   "metadata": {},
   "source": [
    "<b>Some handy basic functions</b>"
   ]
  },
  {
   "cell_type": "code",
   "execution_count": 25,
   "metadata": {},
   "outputs": [
    {
     "name": "stdout",
     "output_type": "stream",
     "text": [
      "True <class 'bool'>\n",
      "<class 'bool'>\n",
      "58 <class 'int'>\n",
      "<class 'int'>\n",
      "99.9 <class 'float'>\n",
      "<class 'float'>\n",
      "abc <class 'str'>\n",
      "<class 'str'>\n"
     ]
    }
   ],
   "source": [
    "a= True #Label 'a' is assigned to Bool type, contains only true or false\n",
    "print(a,type(a))\n",
    "print(type(True))\n",
    "# number is split into 2 data types in python namely Interger and Floating\n",
    "a= 58 #Label 'a' is assigned to Integer type, Integer ignores decimal\n",
    "print(a,type(a))\n",
    "print(type(58))\n",
    "a= 99.9 #Label 'a' is assigned to Floating type, Float always inculdes decimals\n",
    "print(a,type(a))\n",
    "print(type(99.9))\n",
    "a= 'abc' #Label 'a' is assigned to String type\n",
    "print(a,type(a))\n",
    "print(type('abc'))"
   ]
  },
  {
   "cell_type": "markdown",
   "metadata": {},
   "source": [
    "* Every value in Python has a datatype. Since everything is an object in Python programming, data types are actually classes and variables are instance (object) of these classes.\n",
    "\n",
    "* Objects based on their class/type have specific behaviour associated with them."
   ]
  },
  {
   "cell_type": "markdown",
   "metadata": {},
   "source": [
    "<b>type(object)</b> is a function to know which class a variable or a value belongs"
   ]
  },
  {
   "cell_type": "code",
   "execution_count": 26,
   "metadata": {},
   "outputs": [
    {
     "name": "stdout",
     "output_type": "stream",
     "text": [
      "True\n"
     ]
    }
   ],
   "source": [
    "a=isinstance(6,int) #returns true because 6 is of type int\n",
    "print(a)"
   ]
  },
  {
   "cell_type": "markdown",
   "metadata": {},
   "source": [
    "<b>isinstance(object, classinfo)</b> this is a function which returns true if the object argument is an instance of classinfo argument"
   ]
  },
  {
   "cell_type": "code",
   "execution_count": 27,
   "metadata": {},
   "outputs": [
    {
     "data": {
      "text/plain": [
       "False"
      ]
     },
     "execution_count": 27,
     "metadata": {},
     "output_type": "execute_result"
    }
   ],
   "source": [
    "isinstance(6,str) #returns false because 6 isnt of type str"
   ]
  },
  {
   "cell_type": "code",
   "execution_count": 28,
   "metadata": {},
   "outputs": [
    {
     "name": "stdout",
     "output_type": "stream",
     "text": [
      "True\n",
      "True\n",
      "True\n",
      "True\n"
     ]
    }
   ],
   "source": [
    "a=isinstance(True,bool) #returns true because 6 is of type int\n",
    "print(a)\n",
    "a=isinstance(6,int) #returns true because 6 is of type int\n",
    "print(a)\n",
    "a=isinstance(6.005,float) #returns true because 6 is of type int\n",
    "print(a)\n",
    "a=isinstance(\"Hello there\",str) #returns true because 6 is of type int\n",
    "print(a)"
   ]
  },
  {
   "cell_type": "code",
   "execution_count": 29,
   "metadata": {},
   "outputs": [
    {
     "data": {
      "text/plain": [
       "True"
      ]
     },
     "execution_count": 29,
     "metadata": {},
     "output_type": "execute_result"
    }
   ],
   "source": [
    "isinstance('6',(int,float,bytes,str)) "
   ]
  },
  {
   "cell_type": "markdown",
   "metadata": {},
   "source": [
    "Types can also be passed in brackets \n",
    "\n",
    "In the above case it is checking whether <b>'6'</b> is either an int or float or byte or str\n",
    "\n",
    "Since <b>'6'</b> is of type str it returns <b>true</b>"
   ]
  },
  {
   "cell_type": "code",
   "execution_count": 30,
   "metadata": {},
   "outputs": [
    {
     "data": {
      "text/plain": [
       "False"
      ]
     },
     "execution_count": 30,
     "metadata": {},
     "output_type": "execute_result"
    }
   ],
   "source": [
    "isinstance('6',(int,float,bytes)) #returns false because '6' is none of type mentioned ,however its of type str"
   ]
  },
  {
   "cell_type": "markdown",
   "metadata": {},
   "source": [
    "<br><br>\n",
    "<center><h2>End of Book</h2></center>"
   ]
  },
  {
   "cell_type": "markdown",
   "metadata": {},
   "source": [
    "<hr>\n",
    "<h3><b>Next book :</b> Book 2. Lists, Tuples, Dictionaries and Sets</h3>\n",
    "\n",
    "<b><a href='index.html'>Back Home</a></b>\n",
    "<hr>"
   ]
  },
  {
   "cell_type": "markdown",
   "metadata": {},
   "source": [
    "Source from atcodedog git repo\n",
    "\n",
    "Find more on\n",
    "\n",
    "https://github.com/atcodedog\n",
    "\n",
    "http://www.atcodedog.com\n",
    "\n",
    "Follow us on\n",
    "\n",
    "https://twitter.com/atcodedog"
   ]
  }
 ],
 "metadata": {
  "kernelspec": {
   "display_name": "Python 3",
   "language": "python",
   "name": "python3"
  },
  "language_info": {
   "codemirror_mode": {
    "name": "ipython",
    "version": 3
   },
   "file_extension": ".py",
   "mimetype": "text/x-python",
   "name": "python",
   "nbconvert_exporter": "python",
   "pygments_lexer": "ipython3",
   "version": "3.7.0"
  }
 },
 "nbformat": 4,
 "nbformat_minor": 2
}
