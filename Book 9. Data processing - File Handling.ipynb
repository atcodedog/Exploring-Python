{
 "cells": [
  {
   "cell_type": "markdown",
   "metadata": {},
   "source": [
    "<h1>Book 9. Data processing - File Handling</h1><hr>"
   ]
  },
  {
   "cell_type": "markdown",
   "metadata": {},
   "source": [
    "Huge amount of data is gets generated Day-by-Day. And handling them is a really tideous task.\n",
    "\n",
    "And files are one of the mostlty used type of data. And python by default provides functionality to process text files and image files.\n",
    "\n",
    "Lets go ahead and work on a file.\n",
    "\n",
    "For cleaner systematic house keeping. We will be creating a folder where books are present(refer below image). I am naming mine <b>file_handling</b> you are free to name yours by your choice. But please do use underscore(&#95;) in place of space, to reduce execution errors.\n",
    "\n",
    "<img src=\"https://image.ibb.co/cgkqQU/file-directory.png\" alt=\"file-directory\" border=\"0\">\n",
    "\n",
    "<span style='color:red'>Note: If you are using the same folder. Clear the folder before using it.</span>\n",
    "\n",
    "<span style='color:green'>Lets create a text file using python</span>"
   ]
  },
  {
   "cell_type": "code",
   "execution_count": 2,
   "metadata": {},
   "outputs": [
    {
     "name": "stdout",
     "output_type": "stream",
     "text": [
      "<_io.TextIOWrapper name='file_handling/poem.txt' mode='wt' encoding='utf-8'>\n"
     ]
    }
   ],
   "source": [
    "my_poem = open('file_handling/poem.txt', 'wt', encoding=\"utf-8\") # setting encoding to 'utf-8' (unicode and standard format)\n",
    "print(my_poem)"
   ]
  },
  {
   "cell_type": "markdown",
   "metadata": {},
   "source": [
    "<b>my_poem</b> is a var object of type <b>file</b>. File <b>poem.txt</b> is created in the folder <b>file_handling</b> with <b>wt</b> (write text) mode and with encoding <b>\"utf-8\"</b>"
   ]
  },
  {
   "cell_type": "markdown",
   "metadata": {},
   "source": [
    "<div style='background-color:WhiteSmoke;padding:15px'>\n",
    "<b><u>Format</u></b>\n",
    "<br><br>\n",
    "    fileobj_variable = <b>open(</b> file_path<b> \\ </b>filename, mode, encoding(optional) <b>)</b>\n",
    "</div>"
   ]
  },
  {
   "cell_type": "markdown",
   "metadata": {},
   "source": [
    "<b>Modes(First letter)</b><br>\n",
    "<b>r</b> means read<br>\n",
    "<b>w</b>  means write. If the file doesnt exist, it's created. If the file does exist, it's overwritten<br>\n",
    "<b>a</b>  means append (write after the end) if the file exists.<br>\n",
    "<b>x</b>  means write, but only if the file does not already exist<br><br>\n",
    "<b>Modes(Second letter)</b><br>\n",
    "<b>t</b>  (or nothing) means text<br>\n",
    "<b>b</b>  means binary, using in image files<br><br><br>\n",
    "\n",
    "<b>+</b>  Opens a file for updating (reading and writing.)\n",
    "\n",
    "<b>Encoding</b>(character encoding), what is character encoding?<br>\n",
    "\n",
    "Encoding is a code for representing English characters as numbers, with each letter assigned a number from 0 to 127. Most modern character-encoding schemes are based on ASCII, though they support many additional characters. It is a single byte encoding only using the bottom 7 bits.<br><br>\n",
    "\n",
    "For reading and writing text data different text-encoding schemes are used such as ASCII (American Standard Code for Information Interchange), UTF-8 (Unicode Transformation Format), UTF-16.\n",
    "\n",
    "Since we have a file open. Lets go and write something in the file using Python Code."
   ]
  },
  {
   "cell_type": "code",
   "execution_count": 3,
   "metadata": {},
   "outputs": [
    {
     "name": "stdout",
     "output_type": "stream",
     "text": [
      "There is something about a Martini, \n",
      "A tingle remarkably pleasant;\n",
      "A yellow, a mellow Martini;\n",
      "I wish I had one at present.\n"
     ]
    }
   ],
   "source": [
    "poem ='''There is something about a Martini, \n",
    "A tingle remarkably pleasant;\n",
    "A yellow, a mellow Martini;\n",
    "I wish I had one at present.'''\n",
    "print(poem) # lets write this poem in the file"
   ]
  },
  {
   "cell_type": "code",
   "execution_count": 4,
   "metadata": {},
   "outputs": [
    {
     "data": {
      "text/plain": [
       "123"
      ]
     },
     "execution_count": 4,
     "metadata": {},
     "output_type": "execute_result"
    }
   ],
   "source": [
    "my_poem.write(poem)"
   ]
  },
  {
   "cell_type": "markdown",
   "metadata": {},
   "source": [
    "Content can be writen into a file by using <b>.write()</b> on the file object"
   ]
  },
  {
   "cell_type": "markdown",
   "metadata": {},
   "source": [
    "<div style='background-color:WhiteSmoke;padding:15px'>\n",
    "<b><u>Format</u></b>\n",
    "<br><br>\n",
    "    file_object<b>.write(</b>content_to_be_written<b>)</b>\n",
    "</div>"
   ]
  },
  {
   "cell_type": "markdown",
   "metadata": {},
   "source": [
    "Lets add another stanza and write to the file."
   ]
  },
  {
   "cell_type": "code",
   "execution_count": 5,
   "metadata": {},
   "outputs": [
    {
     "name": "stdout",
     "output_type": "stream",
     "text": [
      " \n",
      "\n",
      "There is something about a Martini,\n",
      "Ere the dining and dancing begin,\n",
      "And to tell you the truth,\n",
      "It is not the vermouth--\n",
      "I think that perhaps it's the gin\n"
     ]
    }
   ],
   "source": [
    "poem_2nd_stanza =''' \n",
    "\n",
    "There is something about a Martini,\n",
    "Ere the dining and dancing begin,\n",
    "And to tell you the truth,\n",
    "It is not the vermouth--\n",
    "I think that perhaps it's the gin'''\n",
    "print(poem_2nd_stanza)"
   ]
  },
  {
   "cell_type": "code",
   "execution_count": 6,
   "metadata": {},
   "outputs": [],
   "source": [
    "print(poem_2nd_stanza, file=my_poem)"
   ]
  },
  {
   "cell_type": "markdown",
   "metadata": {},
   "source": [
    "Content can also be written into a file by <b>print</b> and metioning file object as the destination"
   ]
  },
  {
   "cell_type": "markdown",
   "metadata": {},
   "source": [
    "<div style='background-color:WhiteSmoke;padding:15px'>\n",
    "<b><u>Format</u></b>\n",
    "<br><br>\n",
    "    <b>print(</b>content_to_be_written, <b>file</b>=file_object<b>)</b>\n",
    "</div>"
   ]
  },
  {
   "cell_type": "markdown",
   "metadata": {},
   "source": [
    "<span style='color:red'>Note: <b>w</b> overwrites the files, if the file exists. Hence if you close the file and perform write operation it will overwrite file instead of adding the vonten</span>\n",
    "\n",
    "Now lets close the file"
   ]
  },
  {
   "cell_type": "code",
   "execution_count": 7,
   "metadata": {},
   "outputs": [],
   "source": [
    "my_poem.close()"
   ]
  },
  {
   "cell_type": "markdown",
   "metadata": {},
   "source": [
    "file can closed by using <b>.close()</b> on the file object\n",
    "\n",
    "<span style='color:red'>The content is not reflected in the file until you close the file. Always remember to close the file after performing operations on them</span>\n",
    "\n",
    "<span style='color:green'>You can navigate to file and find your content in the file :)</span>\n",
    "\n",
    "Now lets read the file through Python Code"
   ]
  },
  {
   "cell_type": "code",
   "execution_count": 8,
   "metadata": {},
   "outputs": [],
   "source": [
    "saved_poem = open('file_handling/poem.txt', 'rt', encoding=\"utf-8\") # file open with read permission\n",
    "poem_file_content = saved_poem.read() # read everything at once\n",
    "saved_poem.close()"
   ]
  },
  {
   "cell_type": "markdown",
   "metadata": {},
   "source": [
    "Content of a file by using <b>.read()</b> on the file object"
   ]
  },
  {
   "cell_type": "markdown",
   "metadata": {},
   "source": [
    "<div style='background-color:WhiteSmoke;padding:15px'>\n",
    "<b><u>Format</u></b>\n",
    "<br><br>\n",
    "target_var_where_content_will_be_saved = fle_object<b>.read()</b>\n",
    "</div>"
   ]
  },
  {
   "cell_type": "markdown",
   "metadata": {},
   "source": [
    "now lets print the content of the file stored in var <b>poem_file_content</b>"
   ]
  },
  {
   "cell_type": "code",
   "execution_count": 9,
   "metadata": {},
   "outputs": [
    {
     "name": "stdout",
     "output_type": "stream",
     "text": [
      "There is something about a Martini, \n",
      "A tingle remarkably pleasant;\n",
      "A yellow, a mellow Martini;\n",
      "I wish I had one at present. \n",
      "\n",
      "There is something about a Martini,\n",
      "Ere the dining and dancing begin,\n",
      "And to tell you the truth,\n",
      "It is not the vermouth--\n",
      "I think that perhaps it's the gin\n",
      "\n"
     ]
    }
   ],
   "source": [
    "print(poem_file_content)"
   ]
  },
  {
   "cell_type": "markdown",
   "metadata": {},
   "source": [
    "Now lets use <b>a</b>(append) mode to add content to the file without overwriting it"
   ]
  },
  {
   "cell_type": "code",
   "execution_count": 10,
   "metadata": {},
   "outputs": [
    {
     "name": "stdout",
     "output_type": "stream",
     "text": [
      "<_io.TextIOWrapper name='file_handling/poem.txt' mode='at' encoding='utf-8'>\n"
     ]
    }
   ],
   "source": [
    "my_poem = open('file_handling/poem.txt', 'at', encoding=\"utf-8\") \n",
    "print(my_poem)"
   ]
  },
  {
   "cell_type": "code",
   "execution_count": 11,
   "metadata": {},
   "outputs": [
    {
     "name": "stdout",
     "output_type": "stream",
     "text": [
      "\n",
      "\n",
      "\t\t\t\t\t-by me\n"
     ]
    }
   ],
   "source": [
    "poem_author =\"\\n\\n\"+\"\\t\\t\\t\\t\\t-by me\"\n",
    "print(poem_author)\n",
    "my_poem.write(poem_author)\n",
    "my_poem.close()"
   ]
  },
  {
   "cell_type": "markdown",
   "metadata": {},
   "source": [
    "Now lets read the file to check the changes"
   ]
  },
  {
   "cell_type": "code",
   "execution_count": 12,
   "metadata": {},
   "outputs": [
    {
     "name": "stdout",
     "output_type": "stream",
     "text": [
      "There is something about a Martini, \n",
      "A tingle remarkably pleasant;\n",
      "A yellow, a mellow Martini;\n",
      "I wish I had one at present. \n",
      "\n",
      "There is something about a Martini,\n",
      "Ere the dining and dancing begin,\n",
      "And to tell you the truth,\n",
      "It is not the vermouth--\n",
      "I think that perhaps it's the gin\n",
      "\n",
      "\n",
      "\t\t\t\t\t-by me\n"
     ]
    }
   ],
   "source": [
    "saved_poem = open('file_handling/poem.txt', 'rt', encoding=\"utf-8\") # file open with read permission\n",
    "poem_file_content = saved_poem.read() # read everything at once\n",
    "saved_poem.close()\n",
    "print(poem_file_content)"
   ]
  },
  {
   "cell_type": "markdown",
   "metadata": {},
   "source": [
    "<span style='color:green'>The file is working as expected</span>\n",
    "\n",
    "We saw <b>r</b>(read), <b>w</b>(write) and <b>a</b>(append) mode. So when is <b>x</b> useful. <b>x</b> doesnt get executed if the file already exists it executes only if file doesnt pre-exist.<br>The use of it is it can write into only new file and cannot overwrite a pre-existing file.\n",
    "\n",
    "Lets create a new file."
   ]
  },
  {
   "cell_type": "code",
   "execution_count": 13,
   "metadata": {},
   "outputs": [
    {
     "ename": "FileExistsError",
     "evalue": "[Errno 17] File exists: 'file_handling/poem_x.txt'",
     "output_type": "error",
     "traceback": [
      "\u001b[1;31m---------------------------------------------------------------------------\u001b[0m",
      "\u001b[1;31mFileExistsError\u001b[0m                           Traceback (most recent call last)",
      "\u001b[1;32m<ipython-input-13-cb92304eb5b6>\u001b[0m in \u001b[0;36m<module>\u001b[1;34m()\u001b[0m\n\u001b[1;32m----> 1\u001b[1;33m \u001b[0mmy_poem\u001b[0m \u001b[1;33m=\u001b[0m \u001b[0mopen\u001b[0m\u001b[1;33m(\u001b[0m\u001b[1;34m'file_handling/poem_x.txt'\u001b[0m\u001b[1;33m,\u001b[0m \u001b[1;34m'xt'\u001b[0m\u001b[1;33m,\u001b[0m \u001b[0mencoding\u001b[0m\u001b[1;33m=\u001b[0m\u001b[1;34m\"utf-8\"\u001b[0m\u001b[1;33m)\u001b[0m\u001b[1;33m\u001b[0m\u001b[0m\n\u001b[0m\u001b[0;32m      2\u001b[0m \u001b[0mmy_poem\u001b[0m\u001b[1;33m.\u001b[0m\u001b[0mwrite\u001b[0m\u001b[1;33m(\u001b[0m\u001b[0mpoem\u001b[0m\u001b[1;33m)\u001b[0m\u001b[1;33m\u001b[0m\u001b[0m\n\u001b[0;32m      3\u001b[0m \u001b[0mmy_poem\u001b[0m\u001b[1;33m.\u001b[0m\u001b[0mclose\u001b[0m\u001b[1;33m(\u001b[0m\u001b[1;33m)\u001b[0m\u001b[1;33m\u001b[0m\u001b[0m\n",
      "\u001b[1;31mFileExistsError\u001b[0m: [Errno 17] File exists: 'file_handling/poem_x.txt'"
     ]
    }
   ],
   "source": [
    "my_poem = open('file_handling/poem_x.txt', 'xt', encoding=\"utf-8\")\n",
    "my_poem.write(poem)\n",
    "my_poem.close()"
   ]
  },
  {
   "cell_type": "markdown",
   "metadata": {},
   "source": [
    "Now lets read the file"
   ]
  },
  {
   "cell_type": "code",
   "execution_count": 14,
   "metadata": {},
   "outputs": [
    {
     "name": "stdout",
     "output_type": "stream",
     "text": [
      "There is something about a Martini, \n",
      "A tingle remarkably pleasant;\n",
      "A yellow, a mellow Martini;\n",
      "I wish I had one at present.\n"
     ]
    }
   ],
   "source": [
    "saved_poem = open('file_handling/poem_x.txt', 'rt', encoding=\"utf-8\") # file open with read permission\n",
    "poem_file_content = saved_poem.read() # read everything at once\n",
    "saved_poem.close()\n",
    "print(poem_file_content)"
   ]
  },
  {
   "cell_type": "markdown",
   "metadata": {},
   "source": [
    "Now, lets see what happens if we try to open an existing file "
   ]
  },
  {
   "cell_type": "code",
   "execution_count": 15,
   "metadata": {},
   "outputs": [
    {
     "ename": "FileExistsError",
     "evalue": "[Errno 17] File exists: 'file_handling/poem.txt'",
     "output_type": "error",
     "traceback": [
      "\u001b[1;31m---------------------------------------------------------------------------\u001b[0m",
      "\u001b[1;31mFileExistsError\u001b[0m                           Traceback (most recent call last)",
      "\u001b[1;32m<ipython-input-15-9cba45588738>\u001b[0m in \u001b[0;36m<module>\u001b[1;34m()\u001b[0m\n\u001b[1;32m----> 1\u001b[1;33m \u001b[0mmy_poem\u001b[0m \u001b[1;33m=\u001b[0m \u001b[0mopen\u001b[0m\u001b[1;33m(\u001b[0m\u001b[1;34m'file_handling/poem.txt'\u001b[0m\u001b[1;33m,\u001b[0m \u001b[1;34m'xt'\u001b[0m\u001b[1;33m,\u001b[0m \u001b[0mencoding\u001b[0m\u001b[1;33m=\u001b[0m\u001b[1;34m\"utf-8\"\u001b[0m\u001b[1;33m)\u001b[0m\u001b[1;33m\u001b[0m\u001b[0m\n\u001b[0m\u001b[0;32m      2\u001b[0m \u001b[0mmy_poem\u001b[0m\u001b[1;33m.\u001b[0m\u001b[0mwrite\u001b[0m\u001b[1;33m(\u001b[0m\u001b[0mpoem\u001b[0m\u001b[1;33m)\u001b[0m\u001b[1;33m\u001b[0m\u001b[0m\n\u001b[0;32m      3\u001b[0m \u001b[0mmy_poem\u001b[0m\u001b[1;33m.\u001b[0m\u001b[0mclose\u001b[0m\u001b[1;33m(\u001b[0m\u001b[1;33m)\u001b[0m\u001b[1;33m\u001b[0m\u001b[0m\n",
      "\u001b[1;31mFileExistsError\u001b[0m: [Errno 17] File exists: 'file_handling/poem.txt'"
     ]
    }
   ],
   "source": [
    "my_poem = open('file_handling/poem.txt', 'xt', encoding=\"utf-8\")\n",
    "my_poem.write(poem)\n",
    "my_poem.close()"
   ]
  },
  {
   "cell_type": "markdown",
   "metadata": {},
   "source": [
    "Since the file already exists, its throwing error and interuppting the kernel.\n",
    "\n",
    "To prevent kernel from getting interrupted the statement is wrapped up in <b>try</b> and <b>except</b> block. Like below"
   ]
  },
  {
   "cell_type": "code",
   "execution_count": 16,
   "metadata": {},
   "outputs": [
    {
     "name": "stdout",
     "output_type": "stream",
     "text": [
      "poem already exists!\n"
     ]
    }
   ],
   "source": [
    "try:\n",
    "    my_poem = open('file_handling/poem.txt', 'xt', encoding=\"utf-8\")\n",
    "    my_poem.write('Lalalala laa la laaa')\n",
    "    my_poem.close()\n",
    "    print('Your file is created')\n",
    "except FileExistsError:\n",
    "    print('poem already exists!')"
   ]
  },
  {
   "cell_type": "markdown",
   "metadata": {},
   "source": [
    "Lets rename the file to different name and try it"
   ]
  },
  {
   "cell_type": "code",
   "execution_count": 17,
   "metadata": {},
   "outputs": [
    {
     "name": "stdout",
     "output_type": "stream",
     "text": [
      "poem already exists!\n"
     ]
    }
   ],
   "source": [
    "try:\n",
    "    my_poem = open('file_handling/another_poem.txt', 'xt', encoding=\"utf-8\")\n",
    "    my_poem.write('Lalalala laa la laaa')\n",
    "    my_poem.close()\n",
    "    print('Your file is created')\n",
    "except FileExistsError:\n",
    "    print('poem already exists!')"
   ]
  },
  {
   "cell_type": "markdown",
   "metadata": {},
   "source": [
    "Lets read the file"
   ]
  },
  {
   "cell_type": "code",
   "execution_count": 18,
   "metadata": {},
   "outputs": [
    {
     "name": "stdout",
     "output_type": "stream",
     "text": [
      "Lalalala laa la laaa\n"
     ]
    }
   ],
   "source": [
    "saved_poem = open('file_handling/another_poem.txt', 'rt', encoding=\"utf-8\") # file open with read permission\n",
    "poem_file_content = saved_poem.read() # read everything at once\n",
    "saved_poem.close()\n",
    "print(poem_file_content)"
   ]
  },
  {
   "cell_type": "markdown",
   "metadata": {},
   "source": [
    "<span style='color:green'>Great we were able to create a file as expected :) </span>\n",
    "\n",
    "Lets see how we can write to a file in chunks(small parts)"
   ]
  },
  {
   "cell_type": "code",
   "execution_count": 19,
   "metadata": {},
   "outputs": [
    {
     "name": "stdout",
     "output_type": "stream",
     "text": [
      "Poem length 123 \n",
      "\n",
      "There is something about a Martini, \n",
      "A tingle remarkably pleasant;\n",
      "A yellow, a mellow Martini;\n",
      "I wish I had one at present.\n"
     ]
    }
   ],
   "source": [
    "my_poem = open('file_handling/poem_chunk.txt', 'wt', encoding=\"utf-8\")\n",
    "size = len(poem) # length of the poem\n",
    "offset = 0 # offset always starts from 0\n",
    "chunk = 10 # number of characters you want to write each time\n",
    "while True:\n",
    "    if offset > size: # break when offset value is not present\n",
    "        break\n",
    "    my_poem.write(poem[offset:offset+chunk]) # writing chunks of string poem each time\n",
    "    offset += chunk\n",
    "my_poem.close()\n",
    "print(\"Poem length\",len(poem),\"\\n\")\n",
    "print(poem)"
   ]
  },
  {
   "cell_type": "code",
   "execution_count": 20,
   "metadata": {},
   "outputs": [
    {
     "name": "stdout",
     "output_type": "stream",
     "text": [
      "Poem length 123 \n",
      "\n",
      "There is something about a Martini, \n",
      "A tingle remarkably pleasant;\n",
      "A yellow, a mellow Martini;\n",
      "I wish I had one at present.\n"
     ]
    }
   ],
   "source": [
    "poem_content = \"\"\n",
    "saved_poem = open('file_handling/poem_chunk.txt', 'rt', encoding=\"utf-8\")\n",
    "chunk = 10 # number of characters you want to read each time\n",
    "while True:\n",
    "    fragment = saved_poem.read(chunk) # reads a chunk of poem each time\n",
    "    if not fragment:\n",
    "        break\n",
    "    poem_content +=fragment\n",
    "saved_poem.close()\n",
    "print(\"Poem length\",len(poem_content ),\"\\n\")\n",
    "print(poem_content )"
   ]
  },
  {
   "cell_type": "code",
   "execution_count": 21,
   "metadata": {},
   "outputs": [],
   "source": [
    "saved_poem = open('file_handling/poem.txt', 'rt', encoding=\"utf-8\")"
   ]
  },
  {
   "cell_type": "code",
   "execution_count": 22,
   "metadata": {},
   "outputs": [
    {
     "name": "stdout",
     "output_type": "stream",
     "text": [
      "There is something about a Martini, \n",
      "A tingle rema\n"
     ]
    }
   ],
   "source": [
    "fragment = saved_poem.read(50)\n",
    "print(fragment)"
   ]
  },
  {
   "cell_type": "markdown",
   "metadata": {},
   "source": [
    "using <b>.read(</b><i>n</i><b>)</b> will read chunk of n-characters from the file. And iterates to the next chunk "
   ]
  },
  {
   "cell_type": "code",
   "execution_count": 23,
   "metadata": {},
   "outputs": [
    {
     "name": "stdout",
     "output_type": "stream",
     "text": [
      "rkably pleasant;\n",
      "A yellow, a mellow Martini;\n",
      "I wis\n"
     ]
    }
   ],
   "source": [
    "fragment = saved_poem.read(50)\n",
    "print(fragment)"
   ]
  },
  {
   "cell_type": "code",
   "execution_count": 24,
   "metadata": {},
   "outputs": [
    {
     "name": "stdout",
     "output_type": "stream",
     "text": [
      "h I had one at present. \n",
      "\n",
      "There is something about\n"
     ]
    }
   ],
   "source": [
    "fragment = saved_poem.read(50)\n",
    "print(fragment)"
   ]
  },
  {
   "cell_type": "code",
   "execution_count": 25,
   "metadata": {},
   "outputs": [
    {
     "name": "stdout",
     "output_type": "stream",
     "text": [
      " a Martini,\n",
      "Ere the dining and dancing begin,\n",
      "And \n"
     ]
    }
   ],
   "source": [
    "fragment = saved_poem.read(50)\n",
    "print(fragment)"
   ]
  },
  {
   "cell_type": "code",
   "execution_count": 99,
   "metadata": {},
   "outputs": [],
   "source": [
    "saved_poem.close()"
   ]
  },
  {
   "cell_type": "code",
   "execution_count": 102,
   "metadata": {},
   "outputs": [
    {
     "data": {
      "text/plain": [
       "295"
      ]
     },
     "execution_count": 102,
     "metadata": {},
     "output_type": "execute_result"
    }
   ],
   "source": [
    "my_poem = open('file_handling/poem.txt', 'rt', encoding=\"utf-8\")\n",
    "poem_content = ''\n",
    "while True:\n",
    "    line = my_poem.readline() # reads a line of data and iterate to next line\n",
    "    if not line:\n",
    "        break\n",
    "    poem_content  += line\n",
    "my_poem.close()\n",
    "len(poem_content)"
   ]
  },
  {
   "cell_type": "markdown",
   "metadata": {},
   "source": [
    "<b>.readline()</b> reads each line at a time from the file"
   ]
  },
  {
   "cell_type": "code",
   "execution_count": 107,
   "metadata": {},
   "outputs": [],
   "source": [
    "my_poem = open('file_handling/poem.txt', 'rt', encoding=\"utf-8\")"
   ]
  },
  {
   "cell_type": "code",
   "execution_count": 108,
   "metadata": {},
   "outputs": [
    {
     "name": "stdout",
     "output_type": "stream",
     "text": [
      "There is something about a Martini, \n",
      "\n"
     ]
    }
   ],
   "source": [
    "print(my_poem.readline())"
   ]
  },
  {
   "cell_type": "markdown",
   "metadata": {},
   "source": [
    "even <b>.readline()</b> iterated each time its called"
   ]
  },
  {
   "cell_type": "code",
   "execution_count": 109,
   "metadata": {},
   "outputs": [
    {
     "name": "stdout",
     "output_type": "stream",
     "text": [
      "A tingle remarkably pleasant;\n",
      "\n"
     ]
    }
   ],
   "source": [
    "print(my_poem.readline())"
   ]
  },
  {
   "cell_type": "code",
   "execution_count": 110,
   "metadata": {},
   "outputs": [
    {
     "name": "stdout",
     "output_type": "stream",
     "text": [
      "A yellow, a mellow Martini;\n",
      "\n"
     ]
    }
   ],
   "source": [
    "print(my_poem.readline())"
   ]
  },
  {
   "cell_type": "code",
   "execution_count": 111,
   "metadata": {},
   "outputs": [
    {
     "name": "stdout",
     "output_type": "stream",
     "text": [
      "I wish I had one at present. \n",
      "\n"
     ]
    }
   ],
   "source": [
    "print(my_poem.readline())"
   ]
  },
  {
   "cell_type": "code",
   "execution_count": 112,
   "metadata": {},
   "outputs": [],
   "source": [
    "my_poem.close()"
   ]
  },
  {
   "cell_type": "code",
   "execution_count": 113,
   "metadata": {},
   "outputs": [
    {
     "data": {
      "text/plain": [
       "295"
      ]
     },
     "execution_count": 113,
     "metadata": {},
     "output_type": "execute_result"
    }
   ],
   "source": [
    "poem_content = ''\n",
    "my_poem = open('file_handling/poem.txt', 'rt', encoding=\"utf-8\")\n",
    "for line in my_poem: # iterating each line by using iteration block\n",
    "    poem_content += line\n",
    "my_poem.close()\n",
    "len(poem_content)"
   ]
  },
  {
   "cell_type": "code",
   "execution_count": 119,
   "metadata": {},
   "outputs": [],
   "source": [
    "with open('file_handling/third_poem.txt', 'wt') as my_poem:\n",
    "    my_poem.write(poem)"
   ]
  },
  {
   "cell_type": "markdown",
   "metadata": {},
   "source": [
    "Use of <b>with</b> automatically closes the file once the execution of it's block is completed"
   ]
  },
  {
   "cell_type": "markdown",
   "metadata": {},
   "source": [
    "<div style='background-color:WhiteSmoke;padding:15px'>\n",
    "<b><u>Parent block</u></b>\n",
    "<br><br>\n",
    "    <b>with</b> open(<i>file_name</i>, <i>mode</i>) <b>as</b> file_object <b>:</b>\n",
    "    <div style='background-color:lightgrey;padding:15px;'>\n",
    "    <b><u>Child block</u></b>\n",
    "    <br><br>\n",
    "    block that gets executed when the file is open. The file is closed once the block is executed.\n",
    "    </div>\n",
    "    <br>\n",
    "    Since the block is out of <b>child block</b>, the file is closed.\n",
    "</div>"
   ]
  },
  {
   "cell_type": "code",
   "execution_count": 136,
   "metadata": {},
   "outputs": [],
   "source": [
    "my_poem = open('file_handling/poem.txt', 'rt')"
   ]
  },
  {
   "cell_type": "code",
   "execution_count": 137,
   "metadata": {},
   "outputs": [
    {
     "data": {
      "text/plain": [
       "0"
      ]
     },
     "execution_count": 137,
     "metadata": {},
     "output_type": "execute_result"
    }
   ],
   "source": [
    "my_poem.tell() "
   ]
  },
  {
   "cell_type": "markdown",
   "metadata": {},
   "source": [
    "<b>.tell()</b> gives the offset position of the cursor "
   ]
  },
  {
   "cell_type": "code",
   "execution_count": 138,
   "metadata": {},
   "outputs": [
    {
     "data": {
      "text/plain": [
       "200"
      ]
     },
     "execution_count": 138,
     "metadata": {},
     "output_type": "execute_result"
    }
   ],
   "source": [
    "my_poem.seek(200) "
   ]
  },
  {
   "cell_type": "markdown",
   "metadata": {},
   "source": [
    "<b>.seek(</b>offset_address<b>)</b> moves the cursor to the specified offset"
   ]
  },
  {
   "cell_type": "code",
   "execution_count": 139,
   "metadata": {},
   "outputs": [
    {
     "data": {
      "text/plain": [
       "200"
      ]
     },
     "execution_count": 139,
     "metadata": {},
     "output_type": "execute_result"
    }
   ],
   "source": [
    "my_poem.tell() # the cursor has moved"
   ]
  },
  {
   "cell_type": "code",
   "execution_count": 140,
   "metadata": {},
   "outputs": [
    {
     "data": {
      "text/plain": [
       "101"
      ]
     },
     "execution_count": 140,
     "metadata": {},
     "output_type": "execute_result"
    }
   ],
   "source": [
    "len(my_poem.read()) # length of character after 200 offset"
   ]
  },
  {
   "cell_type": "code",
   "execution_count": 141,
   "metadata": {},
   "outputs": [],
   "source": [
    "my_poem.close()"
   ]
  },
  {
   "cell_type": "markdown",
   "metadata": {},
   "source": [
    "<hr>\n",
    "Handling <b>csv</b> file<br><br>\n",
    "Link to documentation of <b>import csv</b> package<br>\n",
    "https://docs.python.org/3.4/library/csv.html#module-csv<br><br>\n",
    "Although <b>import csv</b> is an inbuilt module <b>pandas</b> is more preferable for <b>csv</b> and <b>exel</b> file operations<br><br>\n",
    "https://pandas.pydata.org/<br><br>\n",
    "https://pandas.pydata.org/pandas-docs/stable/generated/pandas.read_csv.html"
   ]
  },
  {
   "cell_type": "markdown",
   "metadata": {},
   "source": [
    "<hr>\n",
    "Handling <b>xml</b> file<br><br>\n",
    "Link to documentation of <b>import xml.etree.elementtree.html</b> package<br>\n",
    "https://docs.python.org/2/library/xml.etree.elementtree.html"
   ]
  },
  {
   "cell_type": "markdown",
   "metadata": {},
   "source": [
    "<hr>\n",
    "<b>JSON</b> is one of the very common data type\n",
    "<br><br>\n",
    "Handling <b>json</b> file<br><br>\n",
    "Link to documentation of <b>import json</b> package<br>\n",
    "https://docs.python.org/2/library/json.html"
   ]
  },
  {
   "cell_type": "markdown",
   "metadata": {},
   "source": [
    "<hr>\n",
    "Handling <b>spreadsheets/exel</b> file<br><br>\n",
    "Needs <b>pandas</b> to handle it cannot be handled by any inbuilt packages<br><br> \n",
    "https://pandas.pydata.org/pandas-docs/version/0.23/generated/pandas.read_excel.html"
   ]
  },
  {
   "cell_type": "markdown",
   "metadata": {},
   "source": [
    "<br><br>\n",
    "<center><h2>End of Book</h2></center>"
   ]
  },
  {
   "cell_type": "markdown",
   "metadata": {},
   "source": [
    "<hr>\n",
    "<h3><b>Next book :</b> Book 0.1. Zen of Python</h3>\n",
    "\n",
    "https://github.com/atcodedog \n",
    "\n",
    "<b><a href='index.html'>Back Home</a></b>\n",
    "<hr>"
   ]
  },
  {
   "cell_type": "markdown",
   "metadata": {},
   "source": [
    "Source from atcodedog git repo\n",
    "\n",
    "Find more on\n",
    "\n",
    "https://github.com/atcodedog\n",
    "\n",
    "http://www.atcodedog.com\n",
    "\n",
    "Follow us on\n",
    "\n",
    "https://twitter.com/atcodedog"
   ]
  }
 ],
 "metadata": {
  "kernelspec": {
   "display_name": "Python 3",
   "language": "python",
   "name": "python3"
  },
  "language_info": {
   "codemirror_mode": {
    "name": "ipython",
    "version": 3
   },
   "file_extension": ".py",
   "mimetype": "text/x-python",
   "name": "python",
   "nbconvert_exporter": "python",
   "pygments_lexer": "ipython3",
   "version": "3.6.4"
  }
 },
 "nbformat": 4,
 "nbformat_minor": 2
}
